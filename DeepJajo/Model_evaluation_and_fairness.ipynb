{
 "cells": [
  {
   "cell_type": "code",
   "execution_count": 16,
   "metadata": {},
   "outputs": [],
   "source": [
    "import pandas as pd \n",
    "import numpy as np\n",
    "import xgboost as xgb\n",
    "from sklearn.model_selection import train_test_split, cross_val_score\n",
    "from sklearn.preprocessing import StandardScaler, OneHotEncoder\n",
    "from sklearn.impute import SimpleImputer\n",
    "from sklearn.pipeline import Pipeline\n",
    "from sklearn.compose import ColumnTransformer\n",
    "from sklearn.metrics import precision_recall_curve, auc, confusion_matrix, classification_report, recall_score, roc_auc_score, precision_score \n",
    "import dalex as dx"
   ]
  },
  {
   "cell_type": "markdown",
   "metadata": {},
   "source": [
    "# The netherlands - model exploration"
   ]
  },
  {
   "cell_type": "code",
   "execution_count": 17,
   "metadata": {},
   "outputs": [],
   "source": [
    "netherlands = pd.read_excel('data/42256_2020_253_MOESM1_ESM.xlsx')"
   ]
  },
  {
   "cell_type": "code",
   "execution_count": 18,
   "metadata": {},
   "outputs": [],
   "source": [
    "df = netherlands[[\"Age\", \"Gender\", \"LD\", \"CRP\", \"Percentage lymphocytes\", \"Survival/death\"]]\n",
    "df = df.assign(death = np.where(df[\"Survival/death\"] == 'Alive', 0, 1))\n",
    "df = df[[\"Age\", \"Gender\", \"LD\", \"CRP\", \"Percentage lymphocytes\", \"death\"]]\n",
    "X = df.drop(\"death\", axis = 1)\n",
    "y_netherlands = df.death\n",
    "\n",
    "x_train, x_test, y_train, y_test = train_test_split(X,\n",
    "                                                    y_netherlands,\n",
    "                                                    test_size=0.2,\n",
    "                                                    random_state=1)"
   ]
  },
  {
   "cell_type": "code",
   "execution_count": 19,
   "metadata": {},
   "outputs": [],
   "source": [
    "model = xgb.XGBClassifier(\n",
    "            max_depth=4,\n",
    "            learning_rate=0.2,\n",
    "            reg_lambda=1,\n",
    "            n_estimators=150,\n",
    "            subsample=0.9,\n",
    "            colsample_bytree=0.9,\n",
    "            eval_metric = 'aucpr')"
   ]
  },
  {
   "cell_type": "code",
   "execution_count": 20,
   "metadata": {},
   "outputs": [
    {
     "name": "stderr",
     "output_type": "stream",
     "text": [
      "/home/hania/anaconda3/lib/python3.8/site-packages/xgboost/sklearn.py:888: UserWarning:\n",
      "\n",
      "The use of label encoder in XGBClassifier is deprecated and will be removed in a future release. To remove this warning, do the following: 1) Pass option use_label_encoder=False when constructing XGBClassifier object; and 2) Encode your labels (y) as integers starting with 0, i.e. 0, 1, 2, ..., [num_class - 1].\n",
      "\n"
     ]
    },
    {
     "data": {
      "text/plain": [
       "Pipeline(steps=[('preprocessor',\n",
       "                 ColumnTransformer(transformers=[('num',\n",
       "                                                  Pipeline(steps=[('scaler',\n",
       "                                                                   StandardScaler())]),\n",
       "                                                  ['Age', 'LD', 'CRP',\n",
       "                                                   'Percentage lymphocytes']),\n",
       "                                                 ('cat',\n",
       "                                                  Pipeline(steps=[('onehot',\n",
       "                                                                   OneHotEncoder(handle_unknown='ignore'))]),\n",
       "                                                  ['Gender'])])),\n",
       "                ('classifier',\n",
       "                 XGBClassifier(base_score=0.5, booster='gbtree',\n",
       "                               colsample_bylevel=1, colsample_bynode=1,...\n",
       "                               gamma=0, gpu_id=-1, importance_type='gain',\n",
       "                               interaction_constraints='', learning_rate=0.2,\n",
       "                               max_delta_step=0, max_depth=4,\n",
       "                               min_child_weight=1, missing=nan,\n",
       "                               monotone_constraints='()', n_estimators=150,\n",
       "                               n_jobs=8, num_parallel_tree=1, random_state=0,\n",
       "                               reg_alpha=0, reg_lambda=1, scale_pos_weight=1,\n",
       "                               subsample=0.9, tree_method='exact',\n",
       "                               validate_parameters=1, verbosity=None))])"
      ]
     },
     "execution_count": 20,
     "metadata": {},
     "output_type": "execute_result"
    }
   ],
   "source": [
    "numerical_features = ['Age', 'LD', 'CRP', 'Percentage lymphocytes']\n",
    "numerical_transformer = Pipeline(\n",
    "    steps=[\n",
    "        #('imputer', SimpleImputer(strategy='median')),\n",
    "        ('scaler', StandardScaler())\n",
    "    ]\n",
    ")\n",
    "\n",
    "categorical_features = ['Gender']\n",
    "categorical_transformer = Pipeline(\n",
    "    steps=[\n",
    "        #('imputer', SimpleImputer(strategy='constant', fill_value='missing')),\n",
    "        ('onehot', OneHotEncoder(handle_unknown='ignore'))\n",
    "    ]\n",
    ")\n",
    "\n",
    "preprocessor = ColumnTransformer(\n",
    "    transformers=[\n",
    "        ('num', numerical_transformer, numerical_features),\n",
    "        ('cat', categorical_transformer, categorical_features)\n",
    "    ]\n",
    ")\n",
    "\n",
    "clf = Pipeline(steps=[('preprocessor', preprocessor),\n",
    "                      ('classifier', model)])\n",
    "\n",
    "clf.fit(x_train, y_train)"
   ]
  },
  {
   "cell_type": "code",
   "execution_count": 21,
   "metadata": {},
   "outputs": [
    {
     "name": "stdout",
     "output_type": "stream",
     "text": [
      "Preparation of a new explainer is initiated\n",
      "\n",
      "  -> data              : 61 rows 5 cols\n",
      "  -> target variable   : Parameter 'y' was a pandas.Series. Converted to a numpy.ndarray.\n",
      "  -> target variable   : 61 values\n",
      "  -> model_class       : xgboost.sklearn.XGBClassifier (default)\n",
      "  -> label             : Not specified, model's class short name will be used. (default)\n",
      "  -> predict function  : <function yhat_proba_default at 0x7f49a6fed160> will be used (default)\n",
      "  -> predict function  : Accepts only pandas.DataFrame, numpy.ndarray causes problems.\n",
      "  -> predicted values  : min = 0.000108, mean = 0.215, max = 0.975\n",
      "  -> model type        : classification will be used (default)\n",
      "  -> residual function : difference between y and yhat (default)\n",
      "  -> residuals         : min = -0.971, mean = -0.0346, max = 0.999\n",
      "  -> model_info        : package sklearn\n",
      "\n",
      "A new explainer has been created!\n"
     ]
    },
    {
     "data": {
      "text/html": [
       "<div>\n",
       "<style scoped>\n",
       "    .dataframe tbody tr th:only-of-type {\n",
       "        vertical-align: middle;\n",
       "    }\n",
       "\n",
       "    .dataframe tbody tr th {\n",
       "        vertical-align: top;\n",
       "    }\n",
       "\n",
       "    .dataframe thead th {\n",
       "        text-align: right;\n",
       "    }\n",
       "</style>\n",
       "<table border=\"1\" class=\"dataframe\">\n",
       "  <thead>\n",
       "    <tr style=\"text-align: right;\">\n",
       "      <th></th>\n",
       "      <th>recall</th>\n",
       "      <th>precision</th>\n",
       "      <th>f1</th>\n",
       "      <th>accuracy</th>\n",
       "      <th>auc</th>\n",
       "    </tr>\n",
       "  </thead>\n",
       "  <tbody>\n",
       "    <tr>\n",
       "      <th>XGBClassifier</th>\n",
       "      <td>0.545455</td>\n",
       "      <td>0.461538</td>\n",
       "      <td>0.5</td>\n",
       "      <td>0.803279</td>\n",
       "      <td>0.792727</td>\n",
       "    </tr>\n",
       "  </tbody>\n",
       "</table>\n",
       "</div>"
      ],
      "text/plain": [
       "<dalex.model_explanations._model_performance.object.ModelPerformance at 0x7f49a5fab7c0>"
      ]
     },
     "execution_count": 21,
     "metadata": {},
     "output_type": "execute_result"
    }
   ],
   "source": [
    "y_pred = clf.predict(x_test)\n",
    "exp = dx.Explainer(clf, x_test, y_test)\n",
    "exp.model_performance()"
   ]
  },
  {
   "cell_type": "code",
   "execution_count": 22,
   "metadata": {},
   "outputs": [
    {
     "data": {
      "application/vnd.plotly.v1+json": {
       "config": {
        "displaylogo": false,
        "modeBarButtonsToRemove": [
         "sendDataToCloud",
         "lasso2d",
         "autoScale2d",
         "select2d",
         "zoom2d",
         "pan2d",
         "zoomIn2d",
         "zoomOut2d",
         "resetScale2d",
         "toggleSpikelines",
         "hoverCompareCartesian",
         "hoverClosestCartesian"
        ],
        "plotlyServerURL": "https://plot.ly",
        "staticPlot": false,
        "toImageButtonOptions": {
         "height": null,
         "width": null
        }
       },
       "data": [
        {
         "base": 0.20727272727272728,
         "hoverinfo": "text",
         "hoverlabel": {
          "bgcolor": "rgba(0,0,0,0.8)"
         },
         "hovertext": [
          "Model: XGBClassifier loss after<br>variable: Age is permuted: 0.315<br>Drop-out loss change: +0.108",
          "Model: XGBClassifier loss after<br>variable: LD is permuted: 0.283<br>Drop-out loss change: +0.076",
          "Model: XGBClassifier loss after<br>variable: Gender is permuted: 0.214<br>Drop-out loss change: +0.006",
          "Model: XGBClassifier loss after<br>variable: Percentage lymphocytes is permuted: 0.213<br>Drop-out loss change: +0.006",
          "Model: XGBClassifier loss after<br>variable: CRP is permuted: 0.209<br>Drop-out loss change: +0.001"
         ],
         "marker": {
          "color": "#46bac2"
         },
         "orientation": "h",
         "showlegend": false,
         "text": [
          "+0.108",
          "+0.076",
          "+0.006",
          "+0.006",
          "+0.001"
         ],
         "textposition": "outside",
         "type": "bar",
         "x": [
          0.10799999999999998,
          0.07581818181818178,
          0.006363636363636294,
          0.005636363636363606,
          0.001272727272727231
         ],
         "xaxis": "x",
         "y": [
          "Age",
          "LD",
          "Gender",
          "Percentage lymphocytes",
          "CRP"
         ],
         "yaxis": "y"
        }
       ],
       "layout": {
        "annotations": [
         {
          "font": {
           "size": 16
          },
          "showarrow": false,
          "text": "XGBClassifier",
          "x": 0.5,
          "xanchor": "center",
          "xref": "paper",
          "y": 1,
          "yanchor": "bottom",
          "yref": "paper"
         },
         {
          "font": {
           "size": 16
          },
          "showarrow": false,
          "text": "drop-out loss",
          "x": 0.5,
          "xanchor": "center",
          "xref": "paper",
          "y": 0,
          "yanchor": "top",
          "yref": "paper",
          "yshift": -30
         }
        ],
        "font": {
         "color": "#371ea3"
        },
        "height": 283,
        "margin": {
         "b": 71,
         "r": 30,
         "t": 78
        },
        "shapes": [
         {
          "line": {
           "color": "#371ea3",
           "dash": "dot",
           "width": 1.5
          },
          "type": "line",
          "x0": 0.20727272727272728,
          "x1": 0.20727272727272728,
          "xref": "x",
          "y0": -1,
          "y1": 5,
          "yref": "y"
         }
        ],
        "template": {
         "data": {
          "scatter": [
           {
            "type": "scatter"
           }
          ]
         }
        },
        "title": {
         "text": "Variable Importance",
         "x": 0.15
        },
        "xaxis": {
         "anchor": "y",
         "automargin": true,
         "domain": [
          0,
          1
         ],
         "fixedrange": true,
         "gridwidth": 2,
         "range": [
          0.19107272727272728,
          0.33147272727272725
         ],
         "tickcolor": "white",
         "ticklen": 3,
         "ticks": "outside",
         "type": "linear",
         "zeroline": false
        },
        "yaxis": {
         "anchor": "x",
         "automargin": true,
         "autorange": "reversed",
         "domain": [
          0,
          1
         ],
         "fixedrange": true,
         "gridwidth": 2,
         "tickcolor": "white",
         "ticklen": 10,
         "ticks": "outside",
         "type": "category"
        }
       }
      },
      "text/html": [
       "<div>                            <div id=\"a4f6516f-d140-401a-955e-35b939155142\" class=\"plotly-graph-div\" style=\"height:283.0px; width:100%;\"></div>            <script type=\"text/javascript\">                require([\"plotly\"], function(Plotly) {                    window.PLOTLYENV=window.PLOTLYENV || {};                                    if (document.getElementById(\"a4f6516f-d140-401a-955e-35b939155142\")) {                    Plotly.newPlot(                        \"a4f6516f-d140-401a-955e-35b939155142\",                        [{\"base\": 0.20727272727272728, \"hoverinfo\": \"text\", \"hoverlabel\": {\"bgcolor\": \"rgba(0,0,0,0.8)\"}, \"hovertext\": [\"Model: XGBClassifier loss after<br>variable: Age is permuted: 0.315<br>Drop-out loss change: +0.108\", \"Model: XGBClassifier loss after<br>variable: LD is permuted: 0.283<br>Drop-out loss change: +0.076\", \"Model: XGBClassifier loss after<br>variable: Gender is permuted: 0.214<br>Drop-out loss change: +0.006\", \"Model: XGBClassifier loss after<br>variable: Percentage lymphocytes is permuted: 0.213<br>Drop-out loss change: +0.006\", \"Model: XGBClassifier loss after<br>variable: CRP is permuted: 0.209<br>Drop-out loss change: +0.001\"], \"marker\": {\"color\": \"#46bac2\"}, \"orientation\": \"h\", \"showlegend\": false, \"text\": [\"+0.108\", \"+0.076\", \"+0.006\", \"+0.006\", \"+0.001\"], \"textposition\": \"outside\", \"type\": \"bar\", \"x\": [0.10799999999999998, 0.07581818181818178, 0.006363636363636294, 0.005636363636363606, 0.001272727272727231], \"xaxis\": \"x\", \"y\": [\"Age\", \"LD\", \"Gender\", \"Percentage lymphocytes\", \"CRP\"], \"yaxis\": \"y\"}],                        {\"annotations\": [{\"font\": {\"size\": 16}, \"showarrow\": false, \"text\": \"XGBClassifier\", \"x\": 0.5, \"xanchor\": \"center\", \"xref\": \"paper\", \"y\": 1.0, \"yanchor\": \"bottom\", \"yref\": \"paper\"}, {\"font\": {\"size\": 16}, \"showarrow\": false, \"text\": \"drop-out loss\", \"x\": 0.5, \"xanchor\": \"center\", \"xref\": \"paper\", \"y\": 0, \"yanchor\": \"top\", \"yref\": \"paper\", \"yshift\": -30}], \"font\": {\"color\": \"#371ea3\"}, \"height\": 283.0, \"margin\": {\"b\": 71, \"r\": 30, \"t\": 78}, \"shapes\": [{\"line\": {\"color\": \"#371ea3\", \"dash\": \"dot\", \"width\": 1.5}, \"type\": \"line\", \"x0\": 0.20727272727272728, \"x1\": 0.20727272727272728, \"xref\": \"x\", \"y0\": -1, \"y1\": 5, \"yref\": \"y\"}], \"template\": {\"data\": {\"scatter\": [{\"type\": \"scatter\"}]}}, \"title\": {\"text\": \"Variable Importance\", \"x\": 0.15}, \"xaxis\": {\"anchor\": \"y\", \"automargin\": true, \"domain\": [0.0, 1.0], \"fixedrange\": true, \"gridwidth\": 2, \"range\": [0.19107272727272728, 0.33147272727272725], \"tickcolor\": \"white\", \"ticklen\": 3, \"ticks\": \"outside\", \"type\": \"linear\", \"zeroline\": false}, \"yaxis\": {\"anchor\": \"x\", \"automargin\": true, \"autorange\": \"reversed\", \"domain\": [0.0, 1.0], \"fixedrange\": true, \"gridwidth\": 2, \"tickcolor\": \"white\", \"ticklen\": 10, \"ticks\": \"outside\", \"type\": \"category\"}},                        {\"displaylogo\": false, \"staticPlot\": false, \"toImageButtonOptions\": {\"height\": null, \"width\": null}, \"modeBarButtonsToRemove\": [\"sendDataToCloud\", \"lasso2d\", \"autoScale2d\", \"select2d\", \"zoom2d\", \"pan2d\", \"zoomIn2d\", \"zoomOut2d\", \"resetScale2d\", \"toggleSpikelines\", \"hoverCompareCartesian\", \"hoverClosestCartesian\"], \"responsive\": true}                    ).then(function(){\n",
       "                            \n",
       "var gd = document.getElementById('a4f6516f-d140-401a-955e-35b939155142');\n",
       "var x = new MutationObserver(function (mutations, observer) {{\n",
       "        var display = window.getComputedStyle(gd).display;\n",
       "        if (!display || display === 'none') {{\n",
       "            console.log([gd, 'removed!']);\n",
       "            Plotly.purge(gd);\n",
       "            observer.disconnect();\n",
       "        }}\n",
       "}});\n",
       "\n",
       "// Listen for the removal of the full notebook cells\n",
       "var notebookContainer = gd.closest('#notebook-container');\n",
       "if (notebookContainer) {{\n",
       "    x.observe(notebookContainer, {childList: true});\n",
       "}}\n",
       "\n",
       "// Listen for the clearing of the current output cell\n",
       "var outputEl = gd.closest('.output');\n",
       "if (outputEl) {{\n",
       "    x.observe(outputEl, {childList: true});\n",
       "}}\n",
       "\n",
       "                        })                };                });            </script>        </div>"
      ]
     },
     "metadata": {},
     "output_type": "display_data"
    }
   ],
   "source": [
    "exp.model_parts().plot()"
   ]
  },
  {
   "cell_type": "code",
   "execution_count": 23,
   "metadata": {},
   "outputs": [
    {
     "name": "stderr",
     "output_type": "stream",
     "text": [
      "Calculating ceteris paribus: 100%|██████████| 5/5 [00:00<00:00, 37.56it/s]\n"
     ]
    },
    {
     "data": {
      "application/vnd.plotly.v1+json": {
       "config": {
        "displaylogo": false,
        "modeBarButtonsToRemove": [
         "sendDataToCloud",
         "lasso2d",
         "autoScale2d",
         "select2d",
         "zoom2d",
         "pan2d",
         "zoomIn2d",
         "zoomOut2d",
         "resetScale2d",
         "toggleSpikelines",
         "hoverCompareCartesian",
         "hoverClosestCartesian"
        ],
        "plotlyServerURL": "https://plot.ly",
        "staticPlot": false,
        "toImageButtonOptions": {
         "height": null,
         "width": null
        }
       },
       "data": [
        {
         "customdata": [
          [
           0.21495762467384338,
           "pdp",
           "Age"
          ],
          [
           0.21495762467384338,
           "pdp",
           "Age"
          ],
          [
           0.21495762467384338,
           "pdp",
           "Age"
          ],
          [
           0.21495762467384338,
           "pdp",
           "Age"
          ],
          [
           0.21495762467384338,
           "pdp",
           "Age"
          ],
          [
           0.21495762467384338,
           "pdp",
           "Age"
          ],
          [
           0.21495762467384338,
           "pdp",
           "Age"
          ],
          [
           0.21495762467384338,
           "pdp",
           "Age"
          ],
          [
           0.21495762467384338,
           "pdp",
           "Age"
          ],
          [
           0.21495762467384338,
           "pdp",
           "Age"
          ],
          [
           0.21495762467384338,
           "pdp",
           "Age"
          ],
          [
           0.21495762467384338,
           "pdp",
           "Age"
          ],
          [
           0.21495762467384338,
           "pdp",
           "Age"
          ],
          [
           0.21495762467384338,
           "pdp",
           "Age"
          ],
          [
           0.21495762467384338,
           "pdp",
           "Age"
          ],
          [
           0.21495762467384338,
           "pdp",
           "Age"
          ],
          [
           0.21495762467384338,
           "pdp",
           "Age"
          ],
          [
           0.21495762467384338,
           "pdp",
           "Age"
          ],
          [
           0.21495762467384338,
           "pdp",
           "Age"
          ],
          [
           0.21495762467384338,
           "pdp",
           "Age"
          ],
          [
           0.21495762467384338,
           "pdp",
           "Age"
          ],
          [
           0.21495762467384338,
           "pdp",
           "Age"
          ],
          [
           0.21495762467384338,
           "pdp",
           "Age"
          ],
          [
           0.21495762467384338,
           "pdp",
           "Age"
          ],
          [
           0.21495762467384338,
           "pdp",
           "Age"
          ],
          [
           0.21495762467384338,
           "pdp",
           "Age"
          ],
          [
           0.21495762467384338,
           "pdp",
           "Age"
          ],
          [
           0.21495762467384338,
           "pdp",
           "Age"
          ],
          [
           0.21495762467384338,
           "pdp",
           "Age"
          ],
          [
           0.21495762467384338,
           "pdp",
           "Age"
          ],
          [
           0.21495762467384338,
           "pdp",
           "Age"
          ],
          [
           0.21495762467384338,
           "pdp",
           "Age"
          ],
          [
           0.21495762467384338,
           "pdp",
           "Age"
          ],
          [
           0.21495762467384338,
           "pdp",
           "Age"
          ],
          [
           0.21495762467384338,
           "pdp",
           "Age"
          ],
          [
           0.21495762467384338,
           "pdp",
           "Age"
          ],
          [
           0.21495762467384338,
           "pdp",
           "Age"
          ],
          [
           0.21495762467384338,
           "pdp",
           "Age"
          ],
          [
           0.21495762467384338,
           "pdp",
           "Age"
          ],
          [
           0.21495762467384338,
           "pdp",
           "Age"
          ],
          [
           0.21495762467384338,
           "pdp",
           "Age"
          ],
          [
           0.21495762467384338,
           "pdp",
           "Age"
          ],
          [
           0.21495762467384338,
           "pdp",
           "Age"
          ],
          [
           0.21495762467384338,
           "pdp",
           "Age"
          ],
          [
           0.21495762467384338,
           "pdp",
           "Age"
          ],
          [
           0.21495762467384338,
           "pdp",
           "Age"
          ],
          [
           0.21495762467384338,
           "pdp",
           "Age"
          ],
          [
           0.21495762467384338,
           "pdp",
           "Age"
          ],
          [
           0.21495762467384338,
           "pdp",
           "Age"
          ],
          [
           0.21495762467384338,
           "pdp",
           "Age"
          ],
          [
           0.21495762467384338,
           "pdp",
           "Age"
          ],
          [
           0.21495762467384338,
           "pdp",
           "Age"
          ],
          [
           0.21495762467384338,
           "pdp",
           "Age"
          ],
          [
           0.21495762467384338,
           "pdp",
           "Age"
          ],
          [
           0.21495762467384338,
           "pdp",
           "Age"
          ],
          [
           0.21495762467384338,
           "pdp",
           "Age"
          ],
          [
           0.21495762467384338,
           "pdp",
           "Age"
          ],
          [
           0.21495762467384338,
           "pdp",
           "Age"
          ],
          [
           0.21495762467384338,
           "pdp",
           "Age"
          ],
          [
           0.21495762467384338,
           "pdp",
           "Age"
          ],
          [
           0.21495762467384338,
           "pdp",
           "Age"
          ],
          [
           0.21495762467384338,
           "pdp",
           "Age"
          ],
          [
           0.21495762467384338,
           "pdp",
           "Age"
          ],
          [
           0.21495762467384338,
           "pdp",
           "Age"
          ],
          [
           0.21495762467384338,
           "pdp",
           "Age"
          ],
          [
           0.21495762467384338,
           "pdp",
           "Age"
          ],
          [
           0.21495762467384338,
           "pdp",
           "Age"
          ],
          [
           0.21495762467384338,
           "pdp",
           "Age"
          ],
          [
           0.21495762467384338,
           "pdp",
           "Age"
          ],
          [
           0.21495762467384338,
           "pdp",
           "Age"
          ],
          [
           0.21495762467384338,
           "pdp",
           "Age"
          ],
          [
           0.21495762467384338,
           "pdp",
           "Age"
          ],
          [
           0.21495762467384338,
           "pdp",
           "Age"
          ],
          [
           0.21495762467384338,
           "pdp",
           "Age"
          ],
          [
           0.21495762467384338,
           "pdp",
           "Age"
          ],
          [
           0.21495762467384338,
           "pdp",
           "Age"
          ],
          [
           0.21495762467384338,
           "pdp",
           "Age"
          ],
          [
           0.21495762467384338,
           "pdp",
           "Age"
          ],
          [
           0.21495762467384338,
           "pdp",
           "Age"
          ],
          [
           0.21495762467384338,
           "pdp",
           "Age"
          ],
          [
           0.21495762467384338,
           "pdp",
           "Age"
          ],
          [
           0.21495762467384338,
           "pdp",
           "Age"
          ],
          [
           0.21495762467384338,
           "pdp",
           "Age"
          ],
          [
           0.21495762467384338,
           "pdp",
           "Age"
          ],
          [
           0.21495762467384338,
           "pdp",
           "Age"
          ],
          [
           0.21495762467384338,
           "pdp",
           "Age"
          ],
          [
           0.21495762467384338,
           "pdp",
           "Age"
          ],
          [
           0.21495762467384338,
           "pdp",
           "Age"
          ],
          [
           0.21495762467384338,
           "pdp",
           "Age"
          ],
          [
           0.21495762467384338,
           "pdp",
           "Age"
          ],
          [
           0.21495762467384338,
           "pdp",
           "Age"
          ],
          [
           0.21495762467384338,
           "pdp",
           "Age"
          ],
          [
           0.21495762467384338,
           "pdp",
           "Age"
          ],
          [
           0.21495762467384338,
           "pdp",
           "Age"
          ],
          [
           0.21495762467384338,
           "pdp",
           "Age"
          ],
          [
           0.21495762467384338,
           "pdp",
           "Age"
          ],
          [
           0.21495762467384338,
           "pdp",
           "Age"
          ],
          [
           0.21495762467384338,
           "pdp",
           "Age"
          ],
          [
           0.21495762467384338,
           "pdp",
           "Age"
          ],
          [
           0.21495762467384338,
           "pdp",
           "Age"
          ],
          [
           0.21495762467384338,
           "pdp",
           "Age"
          ]
         ],
         "hovertemplate": "<b>%{hovertext}</b><br><br>prediction=%{y:.3f}<br>mean_prediction=%{customdata[0]:.3f}<extra></extra>",
         "hovertext": [
          "pdp",
          "pdp",
          "pdp",
          "pdp",
          "pdp",
          "pdp",
          "pdp",
          "pdp",
          "pdp",
          "pdp",
          "pdp",
          "pdp",
          "pdp",
          "pdp",
          "pdp",
          "pdp",
          "pdp",
          "pdp",
          "pdp",
          "pdp",
          "pdp",
          "pdp",
          "pdp",
          "pdp",
          "pdp",
          "pdp",
          "pdp",
          "pdp",
          "pdp",
          "pdp",
          "pdp",
          "pdp",
          "pdp",
          "pdp",
          "pdp",
          "pdp",
          "pdp",
          "pdp",
          "pdp",
          "pdp",
          "pdp",
          "pdp",
          "pdp",
          "pdp",
          "pdp",
          "pdp",
          "pdp",
          "pdp",
          "pdp",
          "pdp",
          "pdp",
          "pdp",
          "pdp",
          "pdp",
          "pdp",
          "pdp",
          "pdp",
          "pdp",
          "pdp",
          "pdp",
          "pdp",
          "pdp",
          "pdp",
          "pdp",
          "pdp",
          "pdp",
          "pdp",
          "pdp",
          "pdp",
          "pdp",
          "pdp",
          "pdp",
          "pdp",
          "pdp",
          "pdp",
          "pdp",
          "pdp",
          "pdp",
          "pdp",
          "pdp",
          "pdp",
          "pdp",
          "pdp",
          "pdp",
          "pdp",
          "pdp",
          "pdp",
          "pdp",
          "pdp",
          "pdp",
          "pdp",
          "pdp",
          "pdp",
          "pdp",
          "pdp",
          "pdp",
          "pdp",
          "pdp",
          "pdp",
          "pdp",
          "pdp"
         ],
         "legendgroup": "pdp",
         "line": {
          "color": "#46bac2",
          "dash": "solid",
          "width": 2
         },
         "mode": "lines",
         "name": "pdp",
         "opacity": 1,
         "orientation": "v",
         "showlegend": true,
         "type": "scatter",
         "x": [
          19,
          19.7,
          20.4,
          21.1,
          21.8,
          22.5,
          23.2,
          23.9,
          24.6,
          25.3,
          26,
          26.7,
          27.4,
          28.1,
          28.799999999999997,
          29.5,
          30.2,
          30.9,
          31.6,
          32.3,
          33,
          33.7,
          34.4,
          35.099999999999994,
          35.8,
          36.5,
          37.2,
          37.9,
          38.599999999999994,
          39.3,
          40,
          40.7,
          41.4,
          42.099999999999994,
          42.8,
          43.5,
          44.2,
          44.9,
          45.599999999999994,
          46.3,
          47,
          47.7,
          48.4,
          49.099999999999994,
          49.8,
          50.5,
          51.199999999999996,
          51.9,
          52.599999999999994,
          53.3,
          54,
          54.699999999999996,
          55.4,
          56.099999999999994,
          56.8,
          57.5,
          58.199999999999996,
          58.9,
          59.599999999999994,
          60.3,
          61,
          61.699999999999996,
          62.4,
          63.099999999999994,
          63.8,
          64.5,
          65.19999999999999,
          65.9,
          66.6,
          67.3,
          68,
          68.69999999999999,
          69.4,
          70.1,
          70.8,
          71.5,
          72.19999999999999,
          72.9,
          73.6,
          74.3,
          75,
          75.69999999999999,
          76.4,
          77.1,
          77.8,
          78.5,
          79.19999999999999,
          79.9,
          80.6,
          81.3,
          82,
          82.69999999999999,
          83.39999999999999,
          84.1,
          84.8,
          85.5,
          86.19999999999999,
          86.89999999999999,
          87.6,
          88.3,
          89
         ],
         "xaxis": "x3",
         "y": [
          0.029438920319080353,
          0.029438920319080353,
          0.029438920319080353,
          0.029438920319080353,
          0.029438920319080353,
          0.029438920319080353,
          0.029438920319080353,
          0.029438920319080353,
          0.029438920319080353,
          0.029438920319080353,
          0.029438920319080353,
          0.029438920319080353,
          0.029438920319080353,
          0.029438920319080353,
          0.029438920319080353,
          0.029438920319080353,
          0.029438920319080353,
          0.029438920319080353,
          0.029438920319080353,
          0.029438920319080353,
          0.029438920319080353,
          0.029438920319080353,
          0.029438920319080353,
          0.029438920319080353,
          0.029438920319080353,
          0.029438920319080353,
          0.029438920319080353,
          0.029438920319080353,
          0.029438920319080353,
          0.029438920319080353,
          0.029438920319080353,
          0.029438920319080353,
          0.029438920319080353,
          0.029438920319080353,
          0.029438920319080353,
          0.029438920319080353,
          0.029438920319080353,
          0.029438920319080353,
          0.03768381103873253,
          0.03768381103873253,
          0.03768381103873253,
          0.03768381103873253,
          0.03768381103873253,
          0.03768381103873253,
          0.041561879217624664,
          0.041561879217624664,
          0.041561879217624664,
          0.041561879217624664,
          0.041561879217624664,
          0.041561879217624664,
          0.041561879217624664,
          0.041561879217624664,
          0.041561879217624664,
          0.041561879217624664,
          0.041561879217624664,
          0.07459645718336105,
          0.07459645718336105,
          0.07234843075275421,
          0.07234843075275421,
          0.07234843075275421,
          0.07234843075275421,
          0.07234843075275421,
          0.07380195707082748,
          0.21311050653457642,
          0.14186891913414001,
          0.13856156170368195,
          0.1505621373653412,
          0.21683381497859955,
          0.22994451224803925,
          0.22994451224803925,
          0.2568981945514679,
          0.27434244751930237,
          0.27434244751930237,
          0.23351646959781647,
          0.23351646959781647,
          0.2717708945274353,
          0.2717708945274353,
          0.2810461223125458,
          0.28508126735687256,
          0.28297364711761475,
          0.2828163802623749,
          0.31405109167099,
          0.31405109167099,
          0.33147376775741577,
          0.3316008746623993,
          0.3156341314315796,
          0.3156341314315796,
          0.3156341314315796,
          0.2615501284599304,
          0.2615501284599304,
          0.18311022222042084,
          0.18311022222042084,
          0.18311022222042084,
          0.19115419685840607,
          0.19115419685840607,
          0.2020304948091507,
          0.2020304948091507,
          0.4107753336429596,
          0.41865435242652893,
          0.41865435242652893,
          0.41865435242652893
         ],
         "yaxis": "y3"
        },
        {
         "customdata": [
          [
           0.21495762467384338,
           "pdp",
           "LD"
          ],
          [
           0.21495762467384338,
           "pdp",
           "LD"
          ],
          [
           0.21495762467384338,
           "pdp",
           "LD"
          ],
          [
           0.21495762467384338,
           "pdp",
           "LD"
          ],
          [
           0.21495762467384338,
           "pdp",
           "LD"
          ],
          [
           0.21495762467384338,
           "pdp",
           "LD"
          ],
          [
           0.21495762467384338,
           "pdp",
           "LD"
          ],
          [
           0.21495762467384338,
           "pdp",
           "LD"
          ],
          [
           0.21495762467384338,
           "pdp",
           "LD"
          ],
          [
           0.21495762467384338,
           "pdp",
           "LD"
          ],
          [
           0.21495762467384338,
           "pdp",
           "LD"
          ],
          [
           0.21495762467384338,
           "pdp",
           "LD"
          ],
          [
           0.21495762467384338,
           "pdp",
           "LD"
          ],
          [
           0.21495762467384338,
           "pdp",
           "LD"
          ],
          [
           0.21495762467384338,
           "pdp",
           "LD"
          ],
          [
           0.21495762467384338,
           "pdp",
           "LD"
          ],
          [
           0.21495762467384338,
           "pdp",
           "LD"
          ],
          [
           0.21495762467384338,
           "pdp",
           "LD"
          ],
          [
           0.21495762467384338,
           "pdp",
           "LD"
          ],
          [
           0.21495762467384338,
           "pdp",
           "LD"
          ],
          [
           0.21495762467384338,
           "pdp",
           "LD"
          ],
          [
           0.21495762467384338,
           "pdp",
           "LD"
          ],
          [
           0.21495762467384338,
           "pdp",
           "LD"
          ],
          [
           0.21495762467384338,
           "pdp",
           "LD"
          ],
          [
           0.21495762467384338,
           "pdp",
           "LD"
          ],
          [
           0.21495762467384338,
           "pdp",
           "LD"
          ],
          [
           0.21495762467384338,
           "pdp",
           "LD"
          ],
          [
           0.21495762467384338,
           "pdp",
           "LD"
          ],
          [
           0.21495762467384338,
           "pdp",
           "LD"
          ],
          [
           0.21495762467384338,
           "pdp",
           "LD"
          ],
          [
           0.21495762467384338,
           "pdp",
           "LD"
          ],
          [
           0.21495762467384338,
           "pdp",
           "LD"
          ],
          [
           0.21495762467384338,
           "pdp",
           "LD"
          ],
          [
           0.21495762467384338,
           "pdp",
           "LD"
          ],
          [
           0.21495762467384338,
           "pdp",
           "LD"
          ],
          [
           0.21495762467384338,
           "pdp",
           "LD"
          ],
          [
           0.21495762467384338,
           "pdp",
           "LD"
          ],
          [
           0.21495762467384338,
           "pdp",
           "LD"
          ],
          [
           0.21495762467384338,
           "pdp",
           "LD"
          ],
          [
           0.21495762467384338,
           "pdp",
           "LD"
          ],
          [
           0.21495762467384338,
           "pdp",
           "LD"
          ],
          [
           0.21495762467384338,
           "pdp",
           "LD"
          ],
          [
           0.21495762467384338,
           "pdp",
           "LD"
          ],
          [
           0.21495762467384338,
           "pdp",
           "LD"
          ],
          [
           0.21495762467384338,
           "pdp",
           "LD"
          ],
          [
           0.21495762467384338,
           "pdp",
           "LD"
          ],
          [
           0.21495762467384338,
           "pdp",
           "LD"
          ],
          [
           0.21495762467384338,
           "pdp",
           "LD"
          ],
          [
           0.21495762467384338,
           "pdp",
           "LD"
          ],
          [
           0.21495762467384338,
           "pdp",
           "LD"
          ],
          [
           0.21495762467384338,
           "pdp",
           "LD"
          ],
          [
           0.21495762467384338,
           "pdp",
           "LD"
          ],
          [
           0.21495762467384338,
           "pdp",
           "LD"
          ],
          [
           0.21495762467384338,
           "pdp",
           "LD"
          ],
          [
           0.21495762467384338,
           "pdp",
           "LD"
          ],
          [
           0.21495762467384338,
           "pdp",
           "LD"
          ],
          [
           0.21495762467384338,
           "pdp",
           "LD"
          ],
          [
           0.21495762467384338,
           "pdp",
           "LD"
          ],
          [
           0.21495762467384338,
           "pdp",
           "LD"
          ],
          [
           0.21495762467384338,
           "pdp",
           "LD"
          ],
          [
           0.21495762467384338,
           "pdp",
           "LD"
          ],
          [
           0.21495762467384338,
           "pdp",
           "LD"
          ],
          [
           0.21495762467384338,
           "pdp",
           "LD"
          ],
          [
           0.21495762467384338,
           "pdp",
           "LD"
          ],
          [
           0.21495762467384338,
           "pdp",
           "LD"
          ],
          [
           0.21495762467384338,
           "pdp",
           "LD"
          ],
          [
           0.21495762467384338,
           "pdp",
           "LD"
          ],
          [
           0.21495762467384338,
           "pdp",
           "LD"
          ],
          [
           0.21495762467384338,
           "pdp",
           "LD"
          ],
          [
           0.21495762467384338,
           "pdp",
           "LD"
          ],
          [
           0.21495762467384338,
           "pdp",
           "LD"
          ],
          [
           0.21495762467384338,
           "pdp",
           "LD"
          ],
          [
           0.21495762467384338,
           "pdp",
           "LD"
          ],
          [
           0.21495762467384338,
           "pdp",
           "LD"
          ],
          [
           0.21495762467384338,
           "pdp",
           "LD"
          ],
          [
           0.21495762467384338,
           "pdp",
           "LD"
          ],
          [
           0.21495762467384338,
           "pdp",
           "LD"
          ],
          [
           0.21495762467384338,
           "pdp",
           "LD"
          ],
          [
           0.21495762467384338,
           "pdp",
           "LD"
          ],
          [
           0.21495762467384338,
           "pdp",
           "LD"
          ],
          [
           0.21495762467384338,
           "pdp",
           "LD"
          ],
          [
           0.21495762467384338,
           "pdp",
           "LD"
          ],
          [
           0.21495762467384338,
           "pdp",
           "LD"
          ],
          [
           0.21495762467384338,
           "pdp",
           "LD"
          ],
          [
           0.21495762467384338,
           "pdp",
           "LD"
          ],
          [
           0.21495762467384338,
           "pdp",
           "LD"
          ],
          [
           0.21495762467384338,
           "pdp",
           "LD"
          ],
          [
           0.21495762467384338,
           "pdp",
           "LD"
          ],
          [
           0.21495762467384338,
           "pdp",
           "LD"
          ],
          [
           0.21495762467384338,
           "pdp",
           "LD"
          ],
          [
           0.21495762467384338,
           "pdp",
           "LD"
          ],
          [
           0.21495762467384338,
           "pdp",
           "LD"
          ],
          [
           0.21495762467384338,
           "pdp",
           "LD"
          ],
          [
           0.21495762467384338,
           "pdp",
           "LD"
          ],
          [
           0.21495762467384338,
           "pdp",
           "LD"
          ],
          [
           0.21495762467384338,
           "pdp",
           "LD"
          ],
          [
           0.21495762467384338,
           "pdp",
           "LD"
          ],
          [
           0.21495762467384338,
           "pdp",
           "LD"
          ],
          [
           0.21495762467384338,
           "pdp",
           "LD"
          ],
          [
           0.21495762467384338,
           "pdp",
           "LD"
          ],
          [
           0.21495762467384338,
           "pdp",
           "LD"
          ]
         ],
         "hovertemplate": "<b>%{hovertext}</b><br><br>prediction=%{y:.3f}<br>mean_prediction=%{customdata[0]:.3f}<extra></extra>",
         "hovertext": [
          "pdp",
          "pdp",
          "pdp",
          "pdp",
          "pdp",
          "pdp",
          "pdp",
          "pdp",
          "pdp",
          "pdp",
          "pdp",
          "pdp",
          "pdp",
          "pdp",
          "pdp",
          "pdp",
          "pdp",
          "pdp",
          "pdp",
          "pdp",
          "pdp",
          "pdp",
          "pdp",
          "pdp",
          "pdp",
          "pdp",
          "pdp",
          "pdp",
          "pdp",
          "pdp",
          "pdp",
          "pdp",
          "pdp",
          "pdp",
          "pdp",
          "pdp",
          "pdp",
          "pdp",
          "pdp",
          "pdp",
          "pdp",
          "pdp",
          "pdp",
          "pdp",
          "pdp",
          "pdp",
          "pdp",
          "pdp",
          "pdp",
          "pdp",
          "pdp",
          "pdp",
          "pdp",
          "pdp",
          "pdp",
          "pdp",
          "pdp",
          "pdp",
          "pdp",
          "pdp",
          "pdp",
          "pdp",
          "pdp",
          "pdp",
          "pdp",
          "pdp",
          "pdp",
          "pdp",
          "pdp",
          "pdp",
          "pdp",
          "pdp",
          "pdp",
          "pdp",
          "pdp",
          "pdp",
          "pdp",
          "pdp",
          "pdp",
          "pdp",
          "pdp",
          "pdp",
          "pdp",
          "pdp",
          "pdp",
          "pdp",
          "pdp",
          "pdp",
          "pdp",
          "pdp",
          "pdp",
          "pdp",
          "pdp",
          "pdp",
          "pdp",
          "pdp",
          "pdp",
          "pdp",
          "pdp",
          "pdp",
          "pdp"
         ],
         "legendgroup": "pdp",
         "line": {
          "color": "#46bac2",
          "dash": "solid",
          "width": 2
         },
         "mode": "lines",
         "name": "pdp",
         "opacity": 1,
         "orientation": "v",
         "showlegend": false,
         "type": "scatter",
         "x": [
          151,
          163.65,
          176.3,
          188.95,
          201.6,
          214.25,
          226.9,
          239.55,
          252.2,
          264.85,
          277.5,
          290.15,
          302.8,
          315.45000000000005,
          328.1,
          340.75,
          353.4,
          366.05,
          378.70000000000005,
          391.35,
          404,
          416.65000000000003,
          429.3,
          441.95,
          454.6,
          467.25,
          479.90000000000003,
          492.55,
          505.2,
          517.85,
          530.5,
          543.1500000000001,
          555.8,
          568.45,
          581.1,
          593.75,
          606.4000000000001,
          619.05,
          631.7,
          644.35,
          657,
          669.65,
          682.3000000000001,
          694.95,
          707.6,
          720.25,
          732.9,
          745.5500000000001,
          758.2,
          770.85,
          783.5,
          796.15,
          808.8000000000001,
          821.45,
          834.1,
          846.75,
          859.4,
          872.0500000000001,
          884.7,
          897.35,
          910,
          922.65,
          935.3000000000001,
          947.95,
          960.6,
          973.25,
          985.9,
          998.5500000000001,
          1011.2,
          1023.85,
          1036.5,
          1049.15,
          1061.8000000000002,
          1074.45,
          1087.1,
          1099.75,
          1112.4,
          1125.0500000000002,
          1137.7,
          1150.35,
          1163,
          1175.65,
          1188.3,
          1200.95,
          1213.6000000000001,
          1226.25,
          1238.9,
          1251.55,
          1264.2,
          1276.8500000000001,
          1289.5,
          1302.15,
          1314.8,
          1327.45,
          1340.1000000000001,
          1352.75,
          1365.4,
          1378.05,
          1390.7,
          1403.3500000000001,
          1416
         ],
         "xaxis": "x4",
         "y": [
          0.07677603513002396,
          0.07677603513002396,
          0.07677603513002396,
          0.07677603513002396,
          0.07677603513002396,
          0.07677603513002396,
          0.06636621803045273,
          0.06636621803045273,
          0.06636621803045273,
          0.06636621803045273,
          0.07138165086507797,
          0.29290562868118286,
          0.13930575549602509,
          0.1562945544719696,
          0.11395268887281418,
          0.11395268887281418,
          0.130610853433609,
          0.28330233693122864,
          0.28761759400367737,
          0.25635507702827454,
          0.22978579998016357,
          0.27111145853996277,
          0.28323620557785034,
          0.2850676476955414,
          0.28875696659088135,
          0.2995014190673828,
          0.2835044860839844,
          0.27859053015708923,
          0.27859053015708923,
          0.27859053015708923,
          0.28124532103538513,
          0.45732954144477844,
          0.531049907207489,
          0.29030680656433105,
          0.289301335811615,
          0.289301335811615,
          0.24457411468029022,
          0.23497696220874786,
          0.23748281598091125,
          0.22150225937366486,
          0.22366468608379364,
          0.29532375931739807,
          0.29532375931739807,
          0.28523045778274536,
          0.35042399168014526,
          0.36719390749931335,
          0.41107138991355896,
          0.4002145230770111,
          0.4002145230770111,
          0.3593897521495819,
          0.3593897521495819,
          0.3593897521495819,
          0.3593897521495819,
          0.3593897521495819,
          0.3593897521495819,
          0.3593897521495819,
          0.3593897521495819,
          0.3593897521495819,
          0.3593897521495819,
          0.3593897521495819,
          0.3593897521495819,
          0.3593897521495819,
          0.3593897521495819,
          0.3593897521495819,
          0.3593897521495819,
          0.3593897521495819,
          0.3593897521495819,
          0.3593897521495819,
          0.3593897521495819,
          0.3593897521495819,
          0.3593897521495819,
          0.3593897521495819,
          0.3593897521495819,
          0.3593897521495819,
          0.3593897521495819,
          0.3593897521495819,
          0.3593897521495819,
          0.3593897521495819,
          0.3593897521495819,
          0.3593897521495819,
          0.3593897521495819,
          0.3593897521495819,
          0.3593897521495819,
          0.3593897521495819,
          0.3593897521495819,
          0.3593897521495819,
          0.3593897521495819,
          0.3593897521495819,
          0.3593897521495819,
          0.3593897521495819,
          0.3593897521495819,
          0.3593897521495819,
          0.3593897521495819,
          0.3593897521495819,
          0.3593897521495819,
          0.3593897521495819,
          0.3593897521495819,
          0.3593897521495819,
          0.3593897521495819,
          0.3593897521495819,
          0.3593897521495819
         ],
         "yaxis": "y4"
        },
        {
         "customdata": [
          [
           0.21495762467384338,
           "pdp",
           "CRP"
          ],
          [
           0.21495762467384338,
           "pdp",
           "CRP"
          ],
          [
           0.21495762467384338,
           "pdp",
           "CRP"
          ],
          [
           0.21495762467384338,
           "pdp",
           "CRP"
          ],
          [
           0.21495762467384338,
           "pdp",
           "CRP"
          ],
          [
           0.21495762467384338,
           "pdp",
           "CRP"
          ],
          [
           0.21495762467384338,
           "pdp",
           "CRP"
          ],
          [
           0.21495762467384338,
           "pdp",
           "CRP"
          ],
          [
           0.21495762467384338,
           "pdp",
           "CRP"
          ],
          [
           0.21495762467384338,
           "pdp",
           "CRP"
          ],
          [
           0.21495762467384338,
           "pdp",
           "CRP"
          ],
          [
           0.21495762467384338,
           "pdp",
           "CRP"
          ],
          [
           0.21495762467384338,
           "pdp",
           "CRP"
          ],
          [
           0.21495762467384338,
           "pdp",
           "CRP"
          ],
          [
           0.21495762467384338,
           "pdp",
           "CRP"
          ],
          [
           0.21495762467384338,
           "pdp",
           "CRP"
          ],
          [
           0.21495762467384338,
           "pdp",
           "CRP"
          ],
          [
           0.21495762467384338,
           "pdp",
           "CRP"
          ],
          [
           0.21495762467384338,
           "pdp",
           "CRP"
          ],
          [
           0.21495762467384338,
           "pdp",
           "CRP"
          ],
          [
           0.21495762467384338,
           "pdp",
           "CRP"
          ],
          [
           0.21495762467384338,
           "pdp",
           "CRP"
          ],
          [
           0.21495762467384338,
           "pdp",
           "CRP"
          ],
          [
           0.21495762467384338,
           "pdp",
           "CRP"
          ],
          [
           0.21495762467384338,
           "pdp",
           "CRP"
          ],
          [
           0.21495762467384338,
           "pdp",
           "CRP"
          ],
          [
           0.21495762467384338,
           "pdp",
           "CRP"
          ],
          [
           0.21495762467384338,
           "pdp",
           "CRP"
          ],
          [
           0.21495762467384338,
           "pdp",
           "CRP"
          ],
          [
           0.21495762467384338,
           "pdp",
           "CRP"
          ],
          [
           0.21495762467384338,
           "pdp",
           "CRP"
          ],
          [
           0.21495762467384338,
           "pdp",
           "CRP"
          ],
          [
           0.21495762467384338,
           "pdp",
           "CRP"
          ],
          [
           0.21495762467384338,
           "pdp",
           "CRP"
          ],
          [
           0.21495762467384338,
           "pdp",
           "CRP"
          ],
          [
           0.21495762467384338,
           "pdp",
           "CRP"
          ],
          [
           0.21495762467384338,
           "pdp",
           "CRP"
          ],
          [
           0.21495762467384338,
           "pdp",
           "CRP"
          ],
          [
           0.21495762467384338,
           "pdp",
           "CRP"
          ],
          [
           0.21495762467384338,
           "pdp",
           "CRP"
          ],
          [
           0.21495762467384338,
           "pdp",
           "CRP"
          ],
          [
           0.21495762467384338,
           "pdp",
           "CRP"
          ],
          [
           0.21495762467384338,
           "pdp",
           "CRP"
          ],
          [
           0.21495762467384338,
           "pdp",
           "CRP"
          ],
          [
           0.21495762467384338,
           "pdp",
           "CRP"
          ],
          [
           0.21495762467384338,
           "pdp",
           "CRP"
          ],
          [
           0.21495762467384338,
           "pdp",
           "CRP"
          ],
          [
           0.21495762467384338,
           "pdp",
           "CRP"
          ],
          [
           0.21495762467384338,
           "pdp",
           "CRP"
          ],
          [
           0.21495762467384338,
           "pdp",
           "CRP"
          ],
          [
           0.21495762467384338,
           "pdp",
           "CRP"
          ],
          [
           0.21495762467384338,
           "pdp",
           "CRP"
          ],
          [
           0.21495762467384338,
           "pdp",
           "CRP"
          ],
          [
           0.21495762467384338,
           "pdp",
           "CRP"
          ],
          [
           0.21495762467384338,
           "pdp",
           "CRP"
          ],
          [
           0.21495762467384338,
           "pdp",
           "CRP"
          ],
          [
           0.21495762467384338,
           "pdp",
           "CRP"
          ],
          [
           0.21495762467384338,
           "pdp",
           "CRP"
          ],
          [
           0.21495762467384338,
           "pdp",
           "CRP"
          ],
          [
           0.21495762467384338,
           "pdp",
           "CRP"
          ],
          [
           0.21495762467384338,
           "pdp",
           "CRP"
          ],
          [
           0.21495762467384338,
           "pdp",
           "CRP"
          ],
          [
           0.21495762467384338,
           "pdp",
           "CRP"
          ],
          [
           0.21495762467384338,
           "pdp",
           "CRP"
          ],
          [
           0.21495762467384338,
           "pdp",
           "CRP"
          ],
          [
           0.21495762467384338,
           "pdp",
           "CRP"
          ],
          [
           0.21495762467384338,
           "pdp",
           "CRP"
          ],
          [
           0.21495762467384338,
           "pdp",
           "CRP"
          ],
          [
           0.21495762467384338,
           "pdp",
           "CRP"
          ],
          [
           0.21495762467384338,
           "pdp",
           "CRP"
          ],
          [
           0.21495762467384338,
           "pdp",
           "CRP"
          ],
          [
           0.21495762467384338,
           "pdp",
           "CRP"
          ],
          [
           0.21495762467384338,
           "pdp",
           "CRP"
          ],
          [
           0.21495762467384338,
           "pdp",
           "CRP"
          ],
          [
           0.21495762467384338,
           "pdp",
           "CRP"
          ],
          [
           0.21495762467384338,
           "pdp",
           "CRP"
          ],
          [
           0.21495762467384338,
           "pdp",
           "CRP"
          ],
          [
           0.21495762467384338,
           "pdp",
           "CRP"
          ],
          [
           0.21495762467384338,
           "pdp",
           "CRP"
          ],
          [
           0.21495762467384338,
           "pdp",
           "CRP"
          ],
          [
           0.21495762467384338,
           "pdp",
           "CRP"
          ],
          [
           0.21495762467384338,
           "pdp",
           "CRP"
          ],
          [
           0.21495762467384338,
           "pdp",
           "CRP"
          ],
          [
           0.21495762467384338,
           "pdp",
           "CRP"
          ],
          [
           0.21495762467384338,
           "pdp",
           "CRP"
          ],
          [
           0.21495762467384338,
           "pdp",
           "CRP"
          ],
          [
           0.21495762467384338,
           "pdp",
           "CRP"
          ],
          [
           0.21495762467384338,
           "pdp",
           "CRP"
          ],
          [
           0.21495762467384338,
           "pdp",
           "CRP"
          ],
          [
           0.21495762467384338,
           "pdp",
           "CRP"
          ],
          [
           0.21495762467384338,
           "pdp",
           "CRP"
          ],
          [
           0.21495762467384338,
           "pdp",
           "CRP"
          ],
          [
           0.21495762467384338,
           "pdp",
           "CRP"
          ],
          [
           0.21495762467384338,
           "pdp",
           "CRP"
          ],
          [
           0.21495762467384338,
           "pdp",
           "CRP"
          ],
          [
           0.21495762467384338,
           "pdp",
           "CRP"
          ],
          [
           0.21495762467384338,
           "pdp",
           "CRP"
          ],
          [
           0.21495762467384338,
           "pdp",
           "CRP"
          ],
          [
           0.21495762467384338,
           "pdp",
           "CRP"
          ],
          [
           0.21495762467384338,
           "pdp",
           "CRP"
          ],
          [
           0.21495762467384338,
           "pdp",
           "CRP"
          ]
         ],
         "hovertemplate": "<b>%{hovertext}</b><br><br>prediction=%{y:.3f}<br>mean_prediction=%{customdata[0]:.3f}<extra></extra>",
         "hovertext": [
          "pdp",
          "pdp",
          "pdp",
          "pdp",
          "pdp",
          "pdp",
          "pdp",
          "pdp",
          "pdp",
          "pdp",
          "pdp",
          "pdp",
          "pdp",
          "pdp",
          "pdp",
          "pdp",
          "pdp",
          "pdp",
          "pdp",
          "pdp",
          "pdp",
          "pdp",
          "pdp",
          "pdp",
          "pdp",
          "pdp",
          "pdp",
          "pdp",
          "pdp",
          "pdp",
          "pdp",
          "pdp",
          "pdp",
          "pdp",
          "pdp",
          "pdp",
          "pdp",
          "pdp",
          "pdp",
          "pdp",
          "pdp",
          "pdp",
          "pdp",
          "pdp",
          "pdp",
          "pdp",
          "pdp",
          "pdp",
          "pdp",
          "pdp",
          "pdp",
          "pdp",
          "pdp",
          "pdp",
          "pdp",
          "pdp",
          "pdp",
          "pdp",
          "pdp",
          "pdp",
          "pdp",
          "pdp",
          "pdp",
          "pdp",
          "pdp",
          "pdp",
          "pdp",
          "pdp",
          "pdp",
          "pdp",
          "pdp",
          "pdp",
          "pdp",
          "pdp",
          "pdp",
          "pdp",
          "pdp",
          "pdp",
          "pdp",
          "pdp",
          "pdp",
          "pdp",
          "pdp",
          "pdp",
          "pdp",
          "pdp",
          "pdp",
          "pdp",
          "pdp",
          "pdp",
          "pdp",
          "pdp",
          "pdp",
          "pdp",
          "pdp",
          "pdp",
          "pdp",
          "pdp",
          "pdp",
          "pdp",
          "pdp"
         ],
         "legendgroup": "pdp",
         "line": {
          "color": "#46bac2",
          "dash": "solid",
          "width": 2
         },
         "mode": "lines",
         "name": "pdp",
         "opacity": 1,
         "orientation": "v",
         "showlegend": false,
         "type": "scatter",
         "x": [
          2,
          5.42,
          8.84,
          12.26,
          15.68,
          19.1,
          22.52,
          25.939999999999998,
          29.36,
          32.78,
          36.2,
          39.62,
          43.04,
          46.46,
          49.879999999999995,
          53.3,
          56.72,
          60.14,
          63.56,
          66.98,
          70.4,
          73.82,
          77.24,
          80.66,
          84.08,
          87.5,
          90.92,
          94.34,
          97.75999999999999,
          101.17999999999999,
          104.6,
          108.02,
          111.44,
          114.86,
          118.28,
          121.7,
          125.12,
          128.54,
          131.96,
          135.38,
          138.8,
          142.22,
          145.64,
          149.06,
          152.48,
          155.9,
          159.32,
          162.74,
          166.16,
          169.57999999999998,
          173,
          176.42,
          179.84,
          183.26,
          186.68,
          190.1,
          193.51999999999998,
          196.94,
          200.35999999999999,
          203.78,
          207.2,
          210.62,
          214.04,
          217.46,
          220.88,
          224.29999999999998,
          227.72,
          231.14,
          234.56,
          237.98,
          241.4,
          244.82,
          248.24,
          251.66,
          255.07999999999998,
          258.5,
          261.92,
          265.34,
          268.76,
          272.18,
          275.6,
          279.02,
          282.44,
          285.86,
          289.28,
          292.7,
          296.12,
          299.54,
          302.96,
          306.38,
          309.8,
          313.21999999999997,
          316.64,
          320.06,
          323.48,
          326.9,
          330.32,
          333.74,
          337.15999999999997,
          340.58,
          344
         ],
         "xaxis": "x",
         "y": [
          0.2668357193470001,
          0.2668357193470001,
          0.2668357193470001,
          0.2668357193470001,
          0.2646064758300781,
          0.2646064758300781,
          0.2646064758300781,
          0.2646064758300781,
          0.2774507403373718,
          0.20556367933750153,
          0.17558519542217255,
          0.1768503040075302,
          0.1805102378129959,
          0.2387998253107071,
          0.25858259201049805,
          0.24813920259475708,
          0.21077948808670044,
          0.2096097320318222,
          0.2096097320318222,
          0.20769789814949036,
          0.1941649615764618,
          0.1962851732969284,
          0.1962851732969284,
          0.1394951492547989,
          0.1394951492547989,
          0.1394951492547989,
          0.1394951492547989,
          0.14984861016273499,
          0.14541293680667877,
          0.16107924282550812,
          0.2769327759742737,
          0.27422547340393066,
          0.27422547340393066,
          0.165229931473732,
          0.16664226353168488,
          0.16664226353168488,
          0.1796143352985382,
          0.2005908340215683,
          0.2005908340215683,
          0.2005908340215683,
          0.17180731892585754,
          0.16862852871418,
          0.1666020303964615,
          0.1666020303964615,
          0.1666020303964615,
          0.21163825690746307,
          0.21163825690746307,
          0.21163825690746307,
          0.21163825690746307,
          0.21163825690746307,
          0.21163825690746307,
          0.21163825690746307,
          0.21163825690746307,
          0.22788505256175995,
          0.25096285343170166,
          0.25096285343170166,
          0.25096285343170166,
          0.25096285343170166,
          0.25096285343170166,
          0.25474512577056885,
          0.2590968608856201,
          0.24022206664085388,
          0.24022206664085388,
          0.24022206664085388,
          0.24022206664085388,
          0.24022206664085388,
          0.23189817368984222,
          0.23189817368984222,
          0.23189817368984222,
          0.23189817368984222,
          0.23189817368984222,
          0.23189817368984222,
          0.23189817368984222,
          0.23189817368984222,
          0.23189817368984222,
          0.24295322597026825,
          0.2483135610818863,
          0.2483135610818863,
          0.2483135610818863,
          0.2483135610818863,
          0.2483135610818863,
          0.2483135610818863,
          0.3130594789981842,
          0.3130594789981842,
          0.3130594789981842,
          0.30868402123451233,
          0.30868402123451233,
          0.30868402123451233,
          0.30868402123451233,
          0.30868402123451233,
          0.30868402123451233,
          0.30868402123451233,
          0.30868402123451233,
          0.30868402123451233,
          0.30868402123451233,
          0.30868402123451233,
          0.30868402123451233,
          0.30868402123451233,
          0.30868402123451233,
          0.30868402123451233,
          0.30868402123451233
         ],
         "yaxis": "y"
        },
        {
         "customdata": [
          [
           0.21495762467384338,
           "pdp",
           "Percentage lymphocytes"
          ],
          [
           0.21495762467384338,
           "pdp",
           "Percentage lymphocytes"
          ],
          [
           0.21495762467384338,
           "pdp",
           "Percentage lymphocytes"
          ],
          [
           0.21495762467384338,
           "pdp",
           "Percentage lymphocytes"
          ],
          [
           0.21495762467384338,
           "pdp",
           "Percentage lymphocytes"
          ],
          [
           0.21495762467384338,
           "pdp",
           "Percentage lymphocytes"
          ],
          [
           0.21495762467384338,
           "pdp",
           "Percentage lymphocytes"
          ],
          [
           0.21495762467384338,
           "pdp",
           "Percentage lymphocytes"
          ],
          [
           0.21495762467384338,
           "pdp",
           "Percentage lymphocytes"
          ],
          [
           0.21495762467384338,
           "pdp",
           "Percentage lymphocytes"
          ],
          [
           0.21495762467384338,
           "pdp",
           "Percentage lymphocytes"
          ],
          [
           0.21495762467384338,
           "pdp",
           "Percentage lymphocytes"
          ],
          [
           0.21495762467384338,
           "pdp",
           "Percentage lymphocytes"
          ],
          [
           0.21495762467384338,
           "pdp",
           "Percentage lymphocytes"
          ],
          [
           0.21495762467384338,
           "pdp",
           "Percentage lymphocytes"
          ],
          [
           0.21495762467384338,
           "pdp",
           "Percentage lymphocytes"
          ],
          [
           0.21495762467384338,
           "pdp",
           "Percentage lymphocytes"
          ],
          [
           0.21495762467384338,
           "pdp",
           "Percentage lymphocytes"
          ],
          [
           0.21495762467384338,
           "pdp",
           "Percentage lymphocytes"
          ],
          [
           0.21495762467384338,
           "pdp",
           "Percentage lymphocytes"
          ],
          [
           0.21495762467384338,
           "pdp",
           "Percentage lymphocytes"
          ],
          [
           0.21495762467384338,
           "pdp",
           "Percentage lymphocytes"
          ],
          [
           0.21495762467384338,
           "pdp",
           "Percentage lymphocytes"
          ],
          [
           0.21495762467384338,
           "pdp",
           "Percentage lymphocytes"
          ],
          [
           0.21495762467384338,
           "pdp",
           "Percentage lymphocytes"
          ],
          [
           0.21495762467384338,
           "pdp",
           "Percentage lymphocytes"
          ],
          [
           0.21495762467384338,
           "pdp",
           "Percentage lymphocytes"
          ],
          [
           0.21495762467384338,
           "pdp",
           "Percentage lymphocytes"
          ],
          [
           0.21495762467384338,
           "pdp",
           "Percentage lymphocytes"
          ],
          [
           0.21495762467384338,
           "pdp",
           "Percentage lymphocytes"
          ],
          [
           0.21495762467384338,
           "pdp",
           "Percentage lymphocytes"
          ],
          [
           0.21495762467384338,
           "pdp",
           "Percentage lymphocytes"
          ],
          [
           0.21495762467384338,
           "pdp",
           "Percentage lymphocytes"
          ],
          [
           0.21495762467384338,
           "pdp",
           "Percentage lymphocytes"
          ],
          [
           0.21495762467384338,
           "pdp",
           "Percentage lymphocytes"
          ],
          [
           0.21495762467384338,
           "pdp",
           "Percentage lymphocytes"
          ],
          [
           0.21495762467384338,
           "pdp",
           "Percentage lymphocytes"
          ],
          [
           0.21495762467384338,
           "pdp",
           "Percentage lymphocytes"
          ],
          [
           0.21495762467384338,
           "pdp",
           "Percentage lymphocytes"
          ],
          [
           0.21495762467384338,
           "pdp",
           "Percentage lymphocytes"
          ],
          [
           0.21495762467384338,
           "pdp",
           "Percentage lymphocytes"
          ],
          [
           0.21495762467384338,
           "pdp",
           "Percentage lymphocytes"
          ],
          [
           0.21495762467384338,
           "pdp",
           "Percentage lymphocytes"
          ],
          [
           0.21495762467384338,
           "pdp",
           "Percentage lymphocytes"
          ],
          [
           0.21495762467384338,
           "pdp",
           "Percentage lymphocytes"
          ],
          [
           0.21495762467384338,
           "pdp",
           "Percentage lymphocytes"
          ],
          [
           0.21495762467384338,
           "pdp",
           "Percentage lymphocytes"
          ],
          [
           0.21495762467384338,
           "pdp",
           "Percentage lymphocytes"
          ],
          [
           0.21495762467384338,
           "pdp",
           "Percentage lymphocytes"
          ],
          [
           0.21495762467384338,
           "pdp",
           "Percentage lymphocytes"
          ],
          [
           0.21495762467384338,
           "pdp",
           "Percentage lymphocytes"
          ],
          [
           0.21495762467384338,
           "pdp",
           "Percentage lymphocytes"
          ],
          [
           0.21495762467384338,
           "pdp",
           "Percentage lymphocytes"
          ],
          [
           0.21495762467384338,
           "pdp",
           "Percentage lymphocytes"
          ],
          [
           0.21495762467384338,
           "pdp",
           "Percentage lymphocytes"
          ],
          [
           0.21495762467384338,
           "pdp",
           "Percentage lymphocytes"
          ],
          [
           0.21495762467384338,
           "pdp",
           "Percentage lymphocytes"
          ],
          [
           0.21495762467384338,
           "pdp",
           "Percentage lymphocytes"
          ],
          [
           0.21495762467384338,
           "pdp",
           "Percentage lymphocytes"
          ],
          [
           0.21495762467384338,
           "pdp",
           "Percentage lymphocytes"
          ],
          [
           0.21495762467384338,
           "pdp",
           "Percentage lymphocytes"
          ],
          [
           0.21495762467384338,
           "pdp",
           "Percentage lymphocytes"
          ],
          [
           0.21495762467384338,
           "pdp",
           "Percentage lymphocytes"
          ],
          [
           0.21495762467384338,
           "pdp",
           "Percentage lymphocytes"
          ],
          [
           0.21495762467384338,
           "pdp",
           "Percentage lymphocytes"
          ],
          [
           0.21495762467384338,
           "pdp",
           "Percentage lymphocytes"
          ],
          [
           0.21495762467384338,
           "pdp",
           "Percentage lymphocytes"
          ],
          [
           0.21495762467384338,
           "pdp",
           "Percentage lymphocytes"
          ],
          [
           0.21495762467384338,
           "pdp",
           "Percentage lymphocytes"
          ],
          [
           0.21495762467384338,
           "pdp",
           "Percentage lymphocytes"
          ],
          [
           0.21495762467384338,
           "pdp",
           "Percentage lymphocytes"
          ],
          [
           0.21495762467384338,
           "pdp",
           "Percentage lymphocytes"
          ],
          [
           0.21495762467384338,
           "pdp",
           "Percentage lymphocytes"
          ],
          [
           0.21495762467384338,
           "pdp",
           "Percentage lymphocytes"
          ],
          [
           0.21495762467384338,
           "pdp",
           "Percentage lymphocytes"
          ],
          [
           0.21495762467384338,
           "pdp",
           "Percentage lymphocytes"
          ],
          [
           0.21495762467384338,
           "pdp",
           "Percentage lymphocytes"
          ],
          [
           0.21495762467384338,
           "pdp",
           "Percentage lymphocytes"
          ],
          [
           0.21495762467384338,
           "pdp",
           "Percentage lymphocytes"
          ],
          [
           0.21495762467384338,
           "pdp",
           "Percentage lymphocytes"
          ],
          [
           0.21495762467384338,
           "pdp",
           "Percentage lymphocytes"
          ],
          [
           0.21495762467384338,
           "pdp",
           "Percentage lymphocytes"
          ],
          [
           0.21495762467384338,
           "pdp",
           "Percentage lymphocytes"
          ],
          [
           0.21495762467384338,
           "pdp",
           "Percentage lymphocytes"
          ],
          [
           0.21495762467384338,
           "pdp",
           "Percentage lymphocytes"
          ],
          [
           0.21495762467384338,
           "pdp",
           "Percentage lymphocytes"
          ],
          [
           0.21495762467384338,
           "pdp",
           "Percentage lymphocytes"
          ],
          [
           0.21495762467384338,
           "pdp",
           "Percentage lymphocytes"
          ],
          [
           0.21495762467384338,
           "pdp",
           "Percentage lymphocytes"
          ],
          [
           0.21495762467384338,
           "pdp",
           "Percentage lymphocytes"
          ],
          [
           0.21495762467384338,
           "pdp",
           "Percentage lymphocytes"
          ],
          [
           0.21495762467384338,
           "pdp",
           "Percentage lymphocytes"
          ],
          [
           0.21495762467384338,
           "pdp",
           "Percentage lymphocytes"
          ],
          [
           0.21495762467384338,
           "pdp",
           "Percentage lymphocytes"
          ],
          [
           0.21495762467384338,
           "pdp",
           "Percentage lymphocytes"
          ],
          [
           0.21495762467384338,
           "pdp",
           "Percentage lymphocytes"
          ],
          [
           0.21495762467384338,
           "pdp",
           "Percentage lymphocytes"
          ],
          [
           0.21495762467384338,
           "pdp",
           "Percentage lymphocytes"
          ],
          [
           0.21495762467384338,
           "pdp",
           "Percentage lymphocytes"
          ],
          [
           0.21495762467384338,
           "pdp",
           "Percentage lymphocytes"
          ],
          [
           0.21495762467384338,
           "pdp",
           "Percentage lymphocytes"
          ]
         ],
         "hovertemplate": "<b>%{hovertext}</b><br><br>prediction=%{y:.3f}<br>mean_prediction=%{customdata[0]:.3f}<extra></extra>",
         "hovertext": [
          "pdp",
          "pdp",
          "pdp",
          "pdp",
          "pdp",
          "pdp",
          "pdp",
          "pdp",
          "pdp",
          "pdp",
          "pdp",
          "pdp",
          "pdp",
          "pdp",
          "pdp",
          "pdp",
          "pdp",
          "pdp",
          "pdp",
          "pdp",
          "pdp",
          "pdp",
          "pdp",
          "pdp",
          "pdp",
          "pdp",
          "pdp",
          "pdp",
          "pdp",
          "pdp",
          "pdp",
          "pdp",
          "pdp",
          "pdp",
          "pdp",
          "pdp",
          "pdp",
          "pdp",
          "pdp",
          "pdp",
          "pdp",
          "pdp",
          "pdp",
          "pdp",
          "pdp",
          "pdp",
          "pdp",
          "pdp",
          "pdp",
          "pdp",
          "pdp",
          "pdp",
          "pdp",
          "pdp",
          "pdp",
          "pdp",
          "pdp",
          "pdp",
          "pdp",
          "pdp",
          "pdp",
          "pdp",
          "pdp",
          "pdp",
          "pdp",
          "pdp",
          "pdp",
          "pdp",
          "pdp",
          "pdp",
          "pdp",
          "pdp",
          "pdp",
          "pdp",
          "pdp",
          "pdp",
          "pdp",
          "pdp",
          "pdp",
          "pdp",
          "pdp",
          "pdp",
          "pdp",
          "pdp",
          "pdp",
          "pdp",
          "pdp",
          "pdp",
          "pdp",
          "pdp",
          "pdp",
          "pdp",
          "pdp",
          "pdp",
          "pdp",
          "pdp",
          "pdp",
          "pdp",
          "pdp",
          "pdp",
          "pdp"
         ],
         "legendgroup": "pdp",
         "line": {
          "color": "#46bac2",
          "dash": "solid",
          "width": 2
         },
         "mode": "lines",
         "name": "pdp",
         "opacity": 1,
         "orientation": "v",
         "showlegend": false,
         "type": "scatter",
         "x": [
          2.6923076923076925,
          3.6128964016601524,
          4.533485111012612,
          5.454073820365073,
          6.374662529717533,
          7.295251239069993,
          8.215839948422452,
          9.136428657774912,
          10.057017367127372,
          10.977606076479834,
          11.898194785832292,
          12.818783495184753,
          13.739372204537212,
          14.659960913889673,
          15.580549623242131,
          16.501138332594593,
          17.42172704194705,
          18.342315751299513,
          19.262904460651974,
          20.183493170004432,
          21.104081879356894,
          22.024670588709352,
          22.945259298061814,
          23.86584800741427,
          24.786436716766733,
          25.70702542611919,
          26.627614135471653,
          27.54820284482411,
          28.468791554176573,
          29.38938026352903,
          30.309968972881492,
          31.23055768223395,
          32.15114639158641,
          33.071735100938874,
          33.99232381029133,
          34.91291251964379,
          35.833501228996255,
          36.75408993834871,
          37.67467864770117,
          38.59526735705363,
          39.515856066406094,
          40.43644477575855,
          41.35703348511101,
          42.27762219446347,
          43.198210903815934,
          44.11879961316839,
          45.03938832252085,
          45.95997703187331,
          46.88056574122577,
          47.80115445057823,
          48.72174315993069,
          49.642331869283154,
          50.56292057863561,
          51.48350928798807,
          52.40409799734053,
          53.324686706692994,
          54.24527541604545,
          55.16586412539791,
          56.08645283475037,
          57.00704154410283,
          57.92763025345529,
          58.84821896280775,
          59.76880767216021,
          60.68939638151267,
          61.60998509086513,
          62.53057380021759,
          63.451162509570054,
          64.37175121892251,
          65.29233992827497,
          66.21292863762743,
          67.13351734697989,
          68.05410605633234,
          68.97469476568482,
          69.89528347503727,
          70.81587218438973,
          71.73646089374219,
          72.65704960309465,
          73.5776383124471,
          74.49822702179956,
          75.41881573115202,
          76.3394044405045,
          77.25999314985695,
          78.18058185920941,
          79.10117056856187,
          80.02175927791433,
          80.94234798726679,
          81.86293669661924,
          82.78352540597172,
          83.70411411532417,
          84.62470282467663,
          85.54529153402909,
          86.46588024338155,
          87.386468952734,
          88.30705766208646,
          89.22764637143892,
          90.1482350807914,
          91.06882379014385,
          91.98941249949631,
          92.91000120884877,
          93.83058991820123,
          94.75117862755368
         ],
         "xaxis": "x2",
         "y": [
          0.3267904222011566,
          0.16377383470535278,
          0.12261738628149033,
          0.1317506581544876,
          0.03347446396946907,
          0.03277401626110077,
          0.10452992469072342,
          0.2526213228702545,
          0.2862018942832947,
          0.256229966878891,
          0.2876773178577423,
          0.2890619933605194,
          0.29194220900535583,
          0.28941336274147034,
          0.3559079170227051,
          0.34210190176963806,
          0.3297506272792816,
          0.33146414160728455,
          0.37613141536712646,
          0.2540671229362488,
          0.2464110255241394,
          0.2464110255241394,
          0.30706843733787537,
          0.30706843733787537,
          0.3132566213607788,
          0.3132566213607788,
          0.31895968317985535,
          0.31895968317985535,
          0.31895968317985535,
          0.31895968317985535,
          0.31895968317985535,
          0.31895968317985535,
          0.31895968317985535,
          0.31895968317985535,
          0.31895968317985535,
          0.31895968317985535,
          0.31895968317985535,
          0.31895968317985535,
          0.31895968317985535,
          0.31895968317985535,
          0.31895968317985535,
          0.31895968317985535,
          0.31895968317985535,
          0.31895968317985535,
          0.31895968317985535,
          0.31895968317985535,
          0.31895968317985535,
          0.31895968317985535,
          0.31895968317985535,
          0.31895968317985535,
          0.31895968317985535,
          0.31895968317985535,
          0.31895968317985535,
          0.31895968317985535,
          0.31895968317985535,
          0.31895968317985535,
          0.31895968317985535,
          0.31895968317985535,
          0.31895968317985535,
          0.31895968317985535,
          0.31895968317985535,
          0.31895968317985535,
          0.31895968317985535,
          0.31895968317985535,
          0.31895968317985535,
          0.31895968317985535,
          0.31895968317985535,
          0.31895968317985535,
          0.31895968317985535,
          0.31895968317985535,
          0.31895968317985535,
          0.31895968317985535,
          0.31895968317985535,
          0.31895968317985535,
          0.31895968317985535,
          0.31895968317985535,
          0.31895968317985535,
          0.31895968317985535,
          0.31895968317985535,
          0.31895968317985535,
          0.31895968317985535,
          0.31895968317985535,
          0.31895968317985535,
          0.31895968317985535,
          0.31895968317985535,
          0.31895968317985535,
          0.31895968317985535,
          0.31895968317985535,
          0.31895968317985535,
          0.31895968317985535,
          0.31895968317985535,
          0.31895968317985535,
          0.31895968317985535,
          0.31895968317985535,
          0.31895968317985535,
          0.31895968317985535,
          0.31895968317985535,
          0.31895968317985535,
          0.31895968317985535,
          0.31895968317985535,
          0.31895968317985535
         ],
         "yaxis": "y2"
        }
       ],
       "layout": {
        "annotations": [
         {
          "font": {
           "size": 13
          },
          "showarrow": false,
          "text": "CRP",
          "x": 0.2375,
          "xanchor": "center",
          "xref": "paper",
          "y": 0.425,
          "yanchor": "bottom",
          "yref": "paper"
         },
         {
          "font": {
           "size": 13
          },
          "showarrow": false,
          "text": "Percentage lymphocytes",
          "x": 0.7625,
          "xanchor": "center",
          "xref": "paper",
          "y": 0.425,
          "yanchor": "bottom",
          "yref": "paper"
         },
         {
          "font": {
           "size": 13
          },
          "showarrow": false,
          "text": "Age",
          "x": 0.2375,
          "xanchor": "center",
          "xref": "paper",
          "y": 1,
          "yanchor": "bottom",
          "yref": "paper"
         },
         {
          "font": {
           "size": 13
          },
          "showarrow": false,
          "text": "LD",
          "x": 0.7625,
          "xanchor": "center",
          "xref": "paper",
          "y": 1,
          "yanchor": "bottom",
          "yref": "paper"
         },
         {
          "font": {
           "size": 13
          },
          "showarrow": false,
          "text": "prediction",
          "textangle": -90,
          "x": -0.07,
          "xref": "paper",
          "y": 0.5,
          "yref": "paper"
         }
        ],
        "font": {
         "color": "#371ea3"
        },
        "height": 829,
        "hovermode": "x unified",
        "legend": {
         "font": {
          "size": 11
         },
         "itemsizing": "constant",
         "orientation": "h",
         "title": {
          "font": {
           "size": 12
          },
          "text": "label"
         },
         "tracegroupgap": 0,
         "x": 1,
         "xanchor": "right",
         "y": 1.0361881785283473,
         "yanchor": "bottom"
        },
        "margin": {
         "b": 71,
         "r": 30,
         "t": 78
        },
        "template": {
         "data": {
          "scatter": [
           {
            "type": "scatter"
           }
          ]
         }
        },
        "title": {
         "font": {
          "size": 16
         },
         "text": "Aggregated Profiles",
         "x": 0.15
        },
        "xaxis": {
         "anchor": "y",
         "automargin": true,
         "domain": [
          0,
          0.475
         ],
         "fixedrange": true,
         "gridwidth": 2,
         "showticklabels": true,
         "tickcolor": "white",
         "ticklen": 3,
         "ticks": "outside",
         "title": {
          "text": ""
         },
         "type": "linear",
         "zeroline": false
        },
        "xaxis2": {
         "anchor": "y2",
         "automargin": true,
         "domain": [
          0.525,
          1
         ],
         "fixedrange": true,
         "gridwidth": 2,
         "showticklabels": true,
         "tickcolor": "white",
         "ticklen": 3,
         "ticks": "outside",
         "title": {
          "text": ""
         },
         "type": "linear",
         "zeroline": false
        },
        "xaxis3": {
         "anchor": "y3",
         "automargin": true,
         "domain": [
          0,
          0.475
         ],
         "fixedrange": true,
         "gridwidth": 2,
         "showticklabels": true,
         "tickcolor": "white",
         "ticklen": 3,
         "ticks": "outside",
         "title": {
          "text": ""
         },
         "type": "linear",
         "zeroline": false
        },
        "xaxis4": {
         "anchor": "y4",
         "automargin": true,
         "domain": [
          0.525,
          1
         ],
         "fixedrange": true,
         "gridwidth": 2,
         "showticklabels": true,
         "tickcolor": "white",
         "ticklen": 3,
         "ticks": "outside",
         "title": {
          "text": ""
         },
         "type": "linear",
         "zeroline": false
        },
        "yaxis": {
         "anchor": "x",
         "automargin": true,
         "domain": [
          0,
          0.425
         ],
         "fixedrange": true,
         "gridwidth": 2,
         "range": [
          -0.02072217911481858,
          0.5812110066413879
         ],
         "tickcolor": "white",
         "ticklen": 3,
         "ticks": "outside",
         "title": {
          "text": ""
         },
         "type": "linear",
         "zeroline": false
        },
        "yaxis2": {
         "anchor": "x2",
         "automargin": true,
         "domain": [
          0,
          0.425
         ],
         "fixedrange": true,
         "gridwidth": 2,
         "matches": "y",
         "range": [
          -0.02072217911481858,
          0.5812110066413879
         ],
         "showticklabels": false,
         "tickcolor": "white",
         "ticklen": 3,
         "ticks": "outside",
         "title": {
          "text": ""
         },
         "type": "linear",
         "zeroline": false
        },
        "yaxis3": {
         "anchor": "x3",
         "automargin": true,
         "domain": [
          0.575,
          1
         ],
         "fixedrange": true,
         "gridwidth": 2,
         "matches": "y",
         "range": [
          -0.02072217911481858,
          0.5812110066413879
         ],
         "tickcolor": "white",
         "ticklen": 3,
         "ticks": "outside",
         "title": {
          "text": ""
         },
         "type": "linear",
         "zeroline": false
        },
        "yaxis4": {
         "anchor": "x4",
         "automargin": true,
         "domain": [
          0.575,
          1
         ],
         "fixedrange": true,
         "gridwidth": 2,
         "matches": "y",
         "range": [
          -0.02072217911481858,
          0.5812110066413879
         ],
         "showticklabels": false,
         "tickcolor": "white",
         "ticklen": 3,
         "ticks": "outside",
         "title": {
          "text": ""
         },
         "type": "linear",
         "zeroline": false
        }
       }
      },
      "text/html": [
       "<div>                            <div id=\"448d3c38-b60f-498b-abd5-83d31e9e2ac1\" class=\"plotly-graph-div\" style=\"height:829px; width:100%;\"></div>            <script type=\"text/javascript\">                require([\"plotly\"], function(Plotly) {                    window.PLOTLYENV=window.PLOTLYENV || {};                                    if (document.getElementById(\"448d3c38-b60f-498b-abd5-83d31e9e2ac1\")) {                    Plotly.newPlot(                        \"448d3c38-b60f-498b-abd5-83d31e9e2ac1\",                        [{\"customdata\": [[0.21495762467384338, \"pdp\", \"Age\"], [0.21495762467384338, \"pdp\", \"Age\"], [0.21495762467384338, \"pdp\", \"Age\"], [0.21495762467384338, \"pdp\", \"Age\"], [0.21495762467384338, \"pdp\", \"Age\"], [0.21495762467384338, \"pdp\", \"Age\"], [0.21495762467384338, \"pdp\", \"Age\"], [0.21495762467384338, \"pdp\", \"Age\"], [0.21495762467384338, \"pdp\", \"Age\"], [0.21495762467384338, \"pdp\", \"Age\"], [0.21495762467384338, \"pdp\", \"Age\"], [0.21495762467384338, \"pdp\", \"Age\"], [0.21495762467384338, \"pdp\", \"Age\"], [0.21495762467384338, \"pdp\", \"Age\"], [0.21495762467384338, \"pdp\", \"Age\"], [0.21495762467384338, \"pdp\", \"Age\"], [0.21495762467384338, \"pdp\", \"Age\"], [0.21495762467384338, \"pdp\", \"Age\"], [0.21495762467384338, \"pdp\", \"Age\"], [0.21495762467384338, \"pdp\", \"Age\"], [0.21495762467384338, \"pdp\", \"Age\"], [0.21495762467384338, \"pdp\", \"Age\"], [0.21495762467384338, \"pdp\", \"Age\"], [0.21495762467384338, \"pdp\", \"Age\"], [0.21495762467384338, \"pdp\", \"Age\"], [0.21495762467384338, \"pdp\", \"Age\"], [0.21495762467384338, \"pdp\", \"Age\"], [0.21495762467384338, \"pdp\", \"Age\"], [0.21495762467384338, \"pdp\", \"Age\"], [0.21495762467384338, \"pdp\", \"Age\"], [0.21495762467384338, \"pdp\", \"Age\"], [0.21495762467384338, \"pdp\", \"Age\"], [0.21495762467384338, \"pdp\", \"Age\"], [0.21495762467384338, \"pdp\", \"Age\"], [0.21495762467384338, \"pdp\", \"Age\"], [0.21495762467384338, \"pdp\", \"Age\"], [0.21495762467384338, \"pdp\", \"Age\"], [0.21495762467384338, \"pdp\", \"Age\"], [0.21495762467384338, \"pdp\", \"Age\"], [0.21495762467384338, \"pdp\", \"Age\"], [0.21495762467384338, \"pdp\", \"Age\"], [0.21495762467384338, \"pdp\", \"Age\"], [0.21495762467384338, \"pdp\", \"Age\"], [0.21495762467384338, \"pdp\", \"Age\"], [0.21495762467384338, \"pdp\", \"Age\"], [0.21495762467384338, \"pdp\", \"Age\"], [0.21495762467384338, \"pdp\", \"Age\"], [0.21495762467384338, \"pdp\", \"Age\"], [0.21495762467384338, \"pdp\", \"Age\"], [0.21495762467384338, \"pdp\", \"Age\"], [0.21495762467384338, \"pdp\", \"Age\"], [0.21495762467384338, \"pdp\", \"Age\"], [0.21495762467384338, \"pdp\", \"Age\"], [0.21495762467384338, \"pdp\", \"Age\"], [0.21495762467384338, \"pdp\", \"Age\"], [0.21495762467384338, \"pdp\", \"Age\"], [0.21495762467384338, \"pdp\", \"Age\"], [0.21495762467384338, \"pdp\", \"Age\"], [0.21495762467384338, \"pdp\", \"Age\"], [0.21495762467384338, \"pdp\", \"Age\"], [0.21495762467384338, \"pdp\", \"Age\"], [0.21495762467384338, \"pdp\", \"Age\"], [0.21495762467384338, \"pdp\", \"Age\"], [0.21495762467384338, \"pdp\", \"Age\"], [0.21495762467384338, \"pdp\", \"Age\"], [0.21495762467384338, \"pdp\", \"Age\"], [0.21495762467384338, \"pdp\", \"Age\"], [0.21495762467384338, \"pdp\", \"Age\"], [0.21495762467384338, \"pdp\", \"Age\"], [0.21495762467384338, \"pdp\", \"Age\"], [0.21495762467384338, \"pdp\", \"Age\"], [0.21495762467384338, \"pdp\", \"Age\"], [0.21495762467384338, \"pdp\", \"Age\"], [0.21495762467384338, \"pdp\", \"Age\"], [0.21495762467384338, \"pdp\", \"Age\"], [0.21495762467384338, \"pdp\", \"Age\"], [0.21495762467384338, \"pdp\", \"Age\"], [0.21495762467384338, \"pdp\", \"Age\"], [0.21495762467384338, \"pdp\", \"Age\"], [0.21495762467384338, \"pdp\", \"Age\"], [0.21495762467384338, \"pdp\", \"Age\"], [0.21495762467384338, \"pdp\", \"Age\"], [0.21495762467384338, \"pdp\", \"Age\"], [0.21495762467384338, \"pdp\", \"Age\"], [0.21495762467384338, \"pdp\", \"Age\"], [0.21495762467384338, \"pdp\", \"Age\"], [0.21495762467384338, \"pdp\", \"Age\"], [0.21495762467384338, \"pdp\", \"Age\"], [0.21495762467384338, \"pdp\", \"Age\"], [0.21495762467384338, \"pdp\", \"Age\"], [0.21495762467384338, \"pdp\", \"Age\"], [0.21495762467384338, \"pdp\", \"Age\"], [0.21495762467384338, \"pdp\", \"Age\"], [0.21495762467384338, \"pdp\", \"Age\"], [0.21495762467384338, \"pdp\", \"Age\"], [0.21495762467384338, \"pdp\", \"Age\"], [0.21495762467384338, \"pdp\", \"Age\"], [0.21495762467384338, \"pdp\", \"Age\"], [0.21495762467384338, \"pdp\", \"Age\"], [0.21495762467384338, \"pdp\", \"Age\"], [0.21495762467384338, \"pdp\", \"Age\"]], \"hovertemplate\": \"<b>%{hovertext}</b><br><br>prediction=%{y:.3f}<br>mean_prediction=%{customdata[0]:.3f}<extra></extra>\", \"hovertext\": [\"pdp\", \"pdp\", \"pdp\", \"pdp\", \"pdp\", \"pdp\", \"pdp\", \"pdp\", \"pdp\", \"pdp\", \"pdp\", \"pdp\", \"pdp\", \"pdp\", \"pdp\", \"pdp\", \"pdp\", \"pdp\", \"pdp\", \"pdp\", \"pdp\", \"pdp\", \"pdp\", \"pdp\", \"pdp\", \"pdp\", \"pdp\", \"pdp\", \"pdp\", \"pdp\", \"pdp\", \"pdp\", \"pdp\", \"pdp\", \"pdp\", \"pdp\", \"pdp\", \"pdp\", \"pdp\", \"pdp\", \"pdp\", \"pdp\", \"pdp\", \"pdp\", \"pdp\", \"pdp\", \"pdp\", \"pdp\", \"pdp\", \"pdp\", \"pdp\", \"pdp\", \"pdp\", \"pdp\", \"pdp\", \"pdp\", \"pdp\", \"pdp\", \"pdp\", \"pdp\", \"pdp\", \"pdp\", \"pdp\", \"pdp\", \"pdp\", \"pdp\", \"pdp\", \"pdp\", \"pdp\", \"pdp\", \"pdp\", \"pdp\", \"pdp\", \"pdp\", \"pdp\", \"pdp\", \"pdp\", \"pdp\", \"pdp\", \"pdp\", \"pdp\", \"pdp\", \"pdp\", \"pdp\", \"pdp\", \"pdp\", \"pdp\", \"pdp\", \"pdp\", \"pdp\", \"pdp\", \"pdp\", \"pdp\", \"pdp\", \"pdp\", \"pdp\", \"pdp\", \"pdp\", \"pdp\", \"pdp\", \"pdp\"], \"legendgroup\": \"pdp\", \"line\": {\"color\": \"#46bac2\", \"dash\": \"solid\", \"width\": 2}, \"mode\": \"lines\", \"name\": \"pdp\", \"opacity\": 1, \"orientation\": \"v\", \"showlegend\": true, \"type\": \"scatter\", \"x\": [19.0, 19.7, 20.4, 21.1, 21.8, 22.5, 23.2, 23.9, 24.6, 25.3, 26.0, 26.7, 27.4, 28.1, 28.799999999999997, 29.5, 30.2, 30.9, 31.6, 32.3, 33.0, 33.7, 34.4, 35.099999999999994, 35.8, 36.5, 37.2, 37.9, 38.599999999999994, 39.3, 40.0, 40.7, 41.4, 42.099999999999994, 42.8, 43.5, 44.2, 44.9, 45.599999999999994, 46.3, 47.0, 47.7, 48.4, 49.099999999999994, 49.8, 50.5, 51.199999999999996, 51.9, 52.599999999999994, 53.3, 54.0, 54.699999999999996, 55.4, 56.099999999999994, 56.8, 57.5, 58.199999999999996, 58.9, 59.599999999999994, 60.3, 61.0, 61.699999999999996, 62.4, 63.099999999999994, 63.8, 64.5, 65.19999999999999, 65.9, 66.6, 67.3, 68.0, 68.69999999999999, 69.4, 70.1, 70.8, 71.5, 72.19999999999999, 72.9, 73.6, 74.3, 75.0, 75.69999999999999, 76.4, 77.1, 77.8, 78.5, 79.19999999999999, 79.9, 80.6, 81.3, 82.0, 82.69999999999999, 83.39999999999999, 84.1, 84.8, 85.5, 86.19999999999999, 86.89999999999999, 87.6, 88.3, 89.0], \"xaxis\": \"x3\", \"y\": [0.029438920319080353, 0.029438920319080353, 0.029438920319080353, 0.029438920319080353, 0.029438920319080353, 0.029438920319080353, 0.029438920319080353, 0.029438920319080353, 0.029438920319080353, 0.029438920319080353, 0.029438920319080353, 0.029438920319080353, 0.029438920319080353, 0.029438920319080353, 0.029438920319080353, 0.029438920319080353, 0.029438920319080353, 0.029438920319080353, 0.029438920319080353, 0.029438920319080353, 0.029438920319080353, 0.029438920319080353, 0.029438920319080353, 0.029438920319080353, 0.029438920319080353, 0.029438920319080353, 0.029438920319080353, 0.029438920319080353, 0.029438920319080353, 0.029438920319080353, 0.029438920319080353, 0.029438920319080353, 0.029438920319080353, 0.029438920319080353, 0.029438920319080353, 0.029438920319080353, 0.029438920319080353, 0.029438920319080353, 0.03768381103873253, 0.03768381103873253, 0.03768381103873253, 0.03768381103873253, 0.03768381103873253, 0.03768381103873253, 0.041561879217624664, 0.041561879217624664, 0.041561879217624664, 0.041561879217624664, 0.041561879217624664, 0.041561879217624664, 0.041561879217624664, 0.041561879217624664, 0.041561879217624664, 0.041561879217624664, 0.041561879217624664, 0.07459645718336105, 0.07459645718336105, 0.07234843075275421, 0.07234843075275421, 0.07234843075275421, 0.07234843075275421, 0.07234843075275421, 0.07380195707082748, 0.21311050653457642, 0.14186891913414001, 0.13856156170368195, 0.1505621373653412, 0.21683381497859955, 0.22994451224803925, 0.22994451224803925, 0.2568981945514679, 0.27434244751930237, 0.27434244751930237, 0.23351646959781647, 0.23351646959781647, 0.2717708945274353, 0.2717708945274353, 0.2810461223125458, 0.28508126735687256, 0.28297364711761475, 0.2828163802623749, 0.31405109167099, 0.31405109167099, 0.33147376775741577, 0.3316008746623993, 0.3156341314315796, 0.3156341314315796, 0.3156341314315796, 0.2615501284599304, 0.2615501284599304, 0.18311022222042084, 0.18311022222042084, 0.18311022222042084, 0.19115419685840607, 0.19115419685840607, 0.2020304948091507, 0.2020304948091507, 0.4107753336429596, 0.41865435242652893, 0.41865435242652893, 0.41865435242652893], \"yaxis\": \"y3\"}, {\"customdata\": [[0.21495762467384338, \"pdp\", \"LD\"], [0.21495762467384338, \"pdp\", \"LD\"], [0.21495762467384338, \"pdp\", \"LD\"], [0.21495762467384338, \"pdp\", \"LD\"], [0.21495762467384338, \"pdp\", \"LD\"], [0.21495762467384338, \"pdp\", \"LD\"], [0.21495762467384338, \"pdp\", \"LD\"], [0.21495762467384338, \"pdp\", \"LD\"], [0.21495762467384338, \"pdp\", \"LD\"], [0.21495762467384338, \"pdp\", \"LD\"], [0.21495762467384338, \"pdp\", \"LD\"], [0.21495762467384338, \"pdp\", \"LD\"], [0.21495762467384338, \"pdp\", \"LD\"], [0.21495762467384338, \"pdp\", \"LD\"], [0.21495762467384338, \"pdp\", \"LD\"], [0.21495762467384338, \"pdp\", \"LD\"], [0.21495762467384338, \"pdp\", \"LD\"], [0.21495762467384338, \"pdp\", \"LD\"], [0.21495762467384338, \"pdp\", \"LD\"], [0.21495762467384338, \"pdp\", \"LD\"], [0.21495762467384338, \"pdp\", \"LD\"], [0.21495762467384338, \"pdp\", \"LD\"], [0.21495762467384338, \"pdp\", \"LD\"], [0.21495762467384338, \"pdp\", \"LD\"], [0.21495762467384338, \"pdp\", \"LD\"], [0.21495762467384338, \"pdp\", \"LD\"], [0.21495762467384338, \"pdp\", \"LD\"], [0.21495762467384338, \"pdp\", \"LD\"], [0.21495762467384338, \"pdp\", \"LD\"], [0.21495762467384338, \"pdp\", \"LD\"], [0.21495762467384338, \"pdp\", \"LD\"], [0.21495762467384338, \"pdp\", \"LD\"], [0.21495762467384338, \"pdp\", \"LD\"], [0.21495762467384338, \"pdp\", \"LD\"], [0.21495762467384338, \"pdp\", \"LD\"], [0.21495762467384338, \"pdp\", \"LD\"], [0.21495762467384338, \"pdp\", \"LD\"], [0.21495762467384338, \"pdp\", \"LD\"], [0.21495762467384338, \"pdp\", \"LD\"], [0.21495762467384338, \"pdp\", \"LD\"], [0.21495762467384338, \"pdp\", \"LD\"], [0.21495762467384338, \"pdp\", \"LD\"], [0.21495762467384338, \"pdp\", \"LD\"], [0.21495762467384338, \"pdp\", \"LD\"], [0.21495762467384338, \"pdp\", \"LD\"], [0.21495762467384338, \"pdp\", \"LD\"], [0.21495762467384338, \"pdp\", \"LD\"], [0.21495762467384338, \"pdp\", \"LD\"], [0.21495762467384338, \"pdp\", \"LD\"], [0.21495762467384338, \"pdp\", \"LD\"], [0.21495762467384338, \"pdp\", \"LD\"], [0.21495762467384338, \"pdp\", \"LD\"], [0.21495762467384338, \"pdp\", \"LD\"], [0.21495762467384338, \"pdp\", \"LD\"], [0.21495762467384338, \"pdp\", \"LD\"], [0.21495762467384338, \"pdp\", \"LD\"], [0.21495762467384338, \"pdp\", \"LD\"], [0.21495762467384338, \"pdp\", \"LD\"], [0.21495762467384338, \"pdp\", \"LD\"], [0.21495762467384338, \"pdp\", \"LD\"], [0.21495762467384338, \"pdp\", \"LD\"], [0.21495762467384338, \"pdp\", \"LD\"], [0.21495762467384338, \"pdp\", \"LD\"], [0.21495762467384338, \"pdp\", \"LD\"], [0.21495762467384338, \"pdp\", \"LD\"], [0.21495762467384338, \"pdp\", \"LD\"], [0.21495762467384338, \"pdp\", \"LD\"], [0.21495762467384338, \"pdp\", \"LD\"], [0.21495762467384338, \"pdp\", \"LD\"], [0.21495762467384338, \"pdp\", \"LD\"], [0.21495762467384338, \"pdp\", \"LD\"], [0.21495762467384338, \"pdp\", \"LD\"], [0.21495762467384338, \"pdp\", \"LD\"], [0.21495762467384338, \"pdp\", \"LD\"], [0.21495762467384338, \"pdp\", \"LD\"], [0.21495762467384338, \"pdp\", \"LD\"], [0.21495762467384338, \"pdp\", \"LD\"], [0.21495762467384338, \"pdp\", \"LD\"], [0.21495762467384338, \"pdp\", \"LD\"], [0.21495762467384338, \"pdp\", \"LD\"], [0.21495762467384338, \"pdp\", \"LD\"], [0.21495762467384338, \"pdp\", \"LD\"], [0.21495762467384338, \"pdp\", \"LD\"], [0.21495762467384338, \"pdp\", \"LD\"], [0.21495762467384338, \"pdp\", \"LD\"], [0.21495762467384338, \"pdp\", \"LD\"], [0.21495762467384338, \"pdp\", \"LD\"], [0.21495762467384338, \"pdp\", \"LD\"], [0.21495762467384338, \"pdp\", \"LD\"], [0.21495762467384338, \"pdp\", \"LD\"], [0.21495762467384338, \"pdp\", \"LD\"], [0.21495762467384338, \"pdp\", \"LD\"], [0.21495762467384338, \"pdp\", \"LD\"], [0.21495762467384338, \"pdp\", \"LD\"], [0.21495762467384338, \"pdp\", \"LD\"], [0.21495762467384338, \"pdp\", \"LD\"], [0.21495762467384338, \"pdp\", \"LD\"], [0.21495762467384338, \"pdp\", \"LD\"], [0.21495762467384338, \"pdp\", \"LD\"], [0.21495762467384338, \"pdp\", \"LD\"], [0.21495762467384338, \"pdp\", \"LD\"]], \"hovertemplate\": \"<b>%{hovertext}</b><br><br>prediction=%{y:.3f}<br>mean_prediction=%{customdata[0]:.3f}<extra></extra>\", \"hovertext\": [\"pdp\", \"pdp\", \"pdp\", \"pdp\", \"pdp\", \"pdp\", \"pdp\", \"pdp\", \"pdp\", \"pdp\", \"pdp\", \"pdp\", \"pdp\", \"pdp\", \"pdp\", \"pdp\", \"pdp\", \"pdp\", \"pdp\", \"pdp\", \"pdp\", \"pdp\", \"pdp\", \"pdp\", \"pdp\", \"pdp\", \"pdp\", \"pdp\", \"pdp\", \"pdp\", \"pdp\", \"pdp\", \"pdp\", \"pdp\", \"pdp\", \"pdp\", \"pdp\", \"pdp\", \"pdp\", \"pdp\", \"pdp\", \"pdp\", \"pdp\", \"pdp\", \"pdp\", \"pdp\", \"pdp\", \"pdp\", \"pdp\", \"pdp\", \"pdp\", \"pdp\", \"pdp\", \"pdp\", \"pdp\", \"pdp\", \"pdp\", \"pdp\", \"pdp\", \"pdp\", \"pdp\", \"pdp\", \"pdp\", \"pdp\", \"pdp\", \"pdp\", \"pdp\", \"pdp\", \"pdp\", \"pdp\", \"pdp\", \"pdp\", \"pdp\", \"pdp\", \"pdp\", \"pdp\", \"pdp\", \"pdp\", \"pdp\", \"pdp\", \"pdp\", \"pdp\", \"pdp\", \"pdp\", \"pdp\", \"pdp\", \"pdp\", \"pdp\", \"pdp\", \"pdp\", \"pdp\", \"pdp\", \"pdp\", \"pdp\", \"pdp\", \"pdp\", \"pdp\", \"pdp\", \"pdp\", \"pdp\", \"pdp\"], \"legendgroup\": \"pdp\", \"line\": {\"color\": \"#46bac2\", \"dash\": \"solid\", \"width\": 2}, \"mode\": \"lines\", \"name\": \"pdp\", \"opacity\": 1, \"orientation\": \"v\", \"showlegend\": false, \"type\": \"scatter\", \"x\": [151.0, 163.65, 176.3, 188.95, 201.6, 214.25, 226.9, 239.55, 252.2, 264.85, 277.5, 290.15, 302.8, 315.45000000000005, 328.1, 340.75, 353.4, 366.05, 378.70000000000005, 391.35, 404.0, 416.65000000000003, 429.3, 441.95, 454.6, 467.25, 479.90000000000003, 492.55, 505.2, 517.85, 530.5, 543.1500000000001, 555.8, 568.45, 581.1, 593.75, 606.4000000000001, 619.05, 631.7, 644.35, 657.0, 669.65, 682.3000000000001, 694.95, 707.6, 720.25, 732.9, 745.5500000000001, 758.2, 770.85, 783.5, 796.15, 808.8000000000001, 821.45, 834.1, 846.75, 859.4, 872.0500000000001, 884.7, 897.35, 910.0, 922.65, 935.3000000000001, 947.95, 960.6, 973.25, 985.9, 998.5500000000001, 1011.2, 1023.85, 1036.5, 1049.15, 1061.8000000000002, 1074.45, 1087.1, 1099.75, 1112.4, 1125.0500000000002, 1137.7, 1150.35, 1163.0, 1175.65, 1188.3, 1200.95, 1213.6000000000001, 1226.25, 1238.9, 1251.55, 1264.2, 1276.8500000000001, 1289.5, 1302.15, 1314.8, 1327.45, 1340.1000000000001, 1352.75, 1365.4, 1378.05, 1390.7, 1403.3500000000001, 1416.0], \"xaxis\": \"x4\", \"y\": [0.07677603513002396, 0.07677603513002396, 0.07677603513002396, 0.07677603513002396, 0.07677603513002396, 0.07677603513002396, 0.06636621803045273, 0.06636621803045273, 0.06636621803045273, 0.06636621803045273, 0.07138165086507797, 0.29290562868118286, 0.13930575549602509, 0.1562945544719696, 0.11395268887281418, 0.11395268887281418, 0.130610853433609, 0.28330233693122864, 0.28761759400367737, 0.25635507702827454, 0.22978579998016357, 0.27111145853996277, 0.28323620557785034, 0.2850676476955414, 0.28875696659088135, 0.2995014190673828, 0.2835044860839844, 0.27859053015708923, 0.27859053015708923, 0.27859053015708923, 0.28124532103538513, 0.45732954144477844, 0.531049907207489, 0.29030680656433105, 0.289301335811615, 0.289301335811615, 0.24457411468029022, 0.23497696220874786, 0.23748281598091125, 0.22150225937366486, 0.22366468608379364, 0.29532375931739807, 0.29532375931739807, 0.28523045778274536, 0.35042399168014526, 0.36719390749931335, 0.41107138991355896, 0.4002145230770111, 0.4002145230770111, 0.3593897521495819, 0.3593897521495819, 0.3593897521495819, 0.3593897521495819, 0.3593897521495819, 0.3593897521495819, 0.3593897521495819, 0.3593897521495819, 0.3593897521495819, 0.3593897521495819, 0.3593897521495819, 0.3593897521495819, 0.3593897521495819, 0.3593897521495819, 0.3593897521495819, 0.3593897521495819, 0.3593897521495819, 0.3593897521495819, 0.3593897521495819, 0.3593897521495819, 0.3593897521495819, 0.3593897521495819, 0.3593897521495819, 0.3593897521495819, 0.3593897521495819, 0.3593897521495819, 0.3593897521495819, 0.3593897521495819, 0.3593897521495819, 0.3593897521495819, 0.3593897521495819, 0.3593897521495819, 0.3593897521495819, 0.3593897521495819, 0.3593897521495819, 0.3593897521495819, 0.3593897521495819, 0.3593897521495819, 0.3593897521495819, 0.3593897521495819, 0.3593897521495819, 0.3593897521495819, 0.3593897521495819, 0.3593897521495819, 0.3593897521495819, 0.3593897521495819, 0.3593897521495819, 0.3593897521495819, 0.3593897521495819, 0.3593897521495819, 0.3593897521495819, 0.3593897521495819], \"yaxis\": \"y4\"}, {\"customdata\": [[0.21495762467384338, \"pdp\", \"CRP\"], [0.21495762467384338, \"pdp\", \"CRP\"], [0.21495762467384338, \"pdp\", \"CRP\"], [0.21495762467384338, \"pdp\", \"CRP\"], [0.21495762467384338, \"pdp\", \"CRP\"], [0.21495762467384338, \"pdp\", \"CRP\"], [0.21495762467384338, \"pdp\", \"CRP\"], [0.21495762467384338, \"pdp\", \"CRP\"], [0.21495762467384338, \"pdp\", \"CRP\"], [0.21495762467384338, \"pdp\", \"CRP\"], [0.21495762467384338, \"pdp\", \"CRP\"], [0.21495762467384338, \"pdp\", \"CRP\"], [0.21495762467384338, \"pdp\", \"CRP\"], [0.21495762467384338, \"pdp\", \"CRP\"], [0.21495762467384338, \"pdp\", \"CRP\"], [0.21495762467384338, \"pdp\", \"CRP\"], [0.21495762467384338, \"pdp\", \"CRP\"], [0.21495762467384338, \"pdp\", \"CRP\"], [0.21495762467384338, \"pdp\", \"CRP\"], [0.21495762467384338, \"pdp\", \"CRP\"], [0.21495762467384338, \"pdp\", \"CRP\"], [0.21495762467384338, \"pdp\", \"CRP\"], [0.21495762467384338, \"pdp\", \"CRP\"], [0.21495762467384338, \"pdp\", \"CRP\"], [0.21495762467384338, \"pdp\", \"CRP\"], [0.21495762467384338, \"pdp\", \"CRP\"], [0.21495762467384338, \"pdp\", \"CRP\"], [0.21495762467384338, \"pdp\", \"CRP\"], [0.21495762467384338, \"pdp\", \"CRP\"], [0.21495762467384338, \"pdp\", \"CRP\"], [0.21495762467384338, \"pdp\", \"CRP\"], [0.21495762467384338, \"pdp\", \"CRP\"], [0.21495762467384338, \"pdp\", \"CRP\"], [0.21495762467384338, \"pdp\", \"CRP\"], [0.21495762467384338, \"pdp\", \"CRP\"], [0.21495762467384338, \"pdp\", \"CRP\"], [0.21495762467384338, \"pdp\", \"CRP\"], [0.21495762467384338, \"pdp\", \"CRP\"], [0.21495762467384338, \"pdp\", \"CRP\"], [0.21495762467384338, \"pdp\", \"CRP\"], [0.21495762467384338, \"pdp\", \"CRP\"], [0.21495762467384338, \"pdp\", \"CRP\"], [0.21495762467384338, \"pdp\", \"CRP\"], [0.21495762467384338, \"pdp\", \"CRP\"], [0.21495762467384338, \"pdp\", \"CRP\"], [0.21495762467384338, \"pdp\", \"CRP\"], [0.21495762467384338, \"pdp\", \"CRP\"], [0.21495762467384338, \"pdp\", \"CRP\"], [0.21495762467384338, \"pdp\", \"CRP\"], [0.21495762467384338, \"pdp\", \"CRP\"], [0.21495762467384338, \"pdp\", \"CRP\"], [0.21495762467384338, \"pdp\", \"CRP\"], [0.21495762467384338, \"pdp\", \"CRP\"], [0.21495762467384338, \"pdp\", \"CRP\"], [0.21495762467384338, \"pdp\", \"CRP\"], [0.21495762467384338, \"pdp\", \"CRP\"], [0.21495762467384338, \"pdp\", \"CRP\"], [0.21495762467384338, \"pdp\", \"CRP\"], [0.21495762467384338, \"pdp\", \"CRP\"], [0.21495762467384338, \"pdp\", \"CRP\"], [0.21495762467384338, \"pdp\", \"CRP\"], [0.21495762467384338, \"pdp\", \"CRP\"], [0.21495762467384338, \"pdp\", \"CRP\"], [0.21495762467384338, \"pdp\", \"CRP\"], [0.21495762467384338, \"pdp\", \"CRP\"], [0.21495762467384338, \"pdp\", \"CRP\"], [0.21495762467384338, \"pdp\", \"CRP\"], [0.21495762467384338, \"pdp\", \"CRP\"], [0.21495762467384338, \"pdp\", \"CRP\"], [0.21495762467384338, \"pdp\", \"CRP\"], [0.21495762467384338, \"pdp\", \"CRP\"], [0.21495762467384338, \"pdp\", \"CRP\"], [0.21495762467384338, \"pdp\", \"CRP\"], [0.21495762467384338, \"pdp\", \"CRP\"], [0.21495762467384338, \"pdp\", \"CRP\"], [0.21495762467384338, \"pdp\", \"CRP\"], [0.21495762467384338, \"pdp\", \"CRP\"], [0.21495762467384338, \"pdp\", \"CRP\"], [0.21495762467384338, \"pdp\", \"CRP\"], [0.21495762467384338, \"pdp\", \"CRP\"], [0.21495762467384338, \"pdp\", \"CRP\"], [0.21495762467384338, \"pdp\", \"CRP\"], [0.21495762467384338, \"pdp\", \"CRP\"], [0.21495762467384338, \"pdp\", \"CRP\"], [0.21495762467384338, \"pdp\", \"CRP\"], [0.21495762467384338, \"pdp\", \"CRP\"], [0.21495762467384338, \"pdp\", \"CRP\"], [0.21495762467384338, \"pdp\", \"CRP\"], [0.21495762467384338, \"pdp\", \"CRP\"], [0.21495762467384338, \"pdp\", \"CRP\"], [0.21495762467384338, \"pdp\", \"CRP\"], [0.21495762467384338, \"pdp\", \"CRP\"], [0.21495762467384338, \"pdp\", \"CRP\"], [0.21495762467384338, \"pdp\", \"CRP\"], [0.21495762467384338, \"pdp\", \"CRP\"], [0.21495762467384338, \"pdp\", \"CRP\"], [0.21495762467384338, \"pdp\", \"CRP\"], [0.21495762467384338, \"pdp\", \"CRP\"], [0.21495762467384338, \"pdp\", \"CRP\"], [0.21495762467384338, \"pdp\", \"CRP\"], [0.21495762467384338, \"pdp\", \"CRP\"]], \"hovertemplate\": \"<b>%{hovertext}</b><br><br>prediction=%{y:.3f}<br>mean_prediction=%{customdata[0]:.3f}<extra></extra>\", \"hovertext\": [\"pdp\", \"pdp\", \"pdp\", \"pdp\", \"pdp\", \"pdp\", \"pdp\", \"pdp\", \"pdp\", \"pdp\", \"pdp\", \"pdp\", \"pdp\", \"pdp\", \"pdp\", \"pdp\", \"pdp\", \"pdp\", \"pdp\", \"pdp\", \"pdp\", \"pdp\", \"pdp\", \"pdp\", \"pdp\", \"pdp\", \"pdp\", \"pdp\", \"pdp\", \"pdp\", \"pdp\", \"pdp\", \"pdp\", \"pdp\", \"pdp\", \"pdp\", \"pdp\", \"pdp\", \"pdp\", \"pdp\", \"pdp\", \"pdp\", \"pdp\", \"pdp\", \"pdp\", \"pdp\", \"pdp\", \"pdp\", \"pdp\", \"pdp\", \"pdp\", \"pdp\", \"pdp\", \"pdp\", \"pdp\", \"pdp\", \"pdp\", \"pdp\", \"pdp\", \"pdp\", \"pdp\", \"pdp\", \"pdp\", \"pdp\", \"pdp\", \"pdp\", \"pdp\", \"pdp\", \"pdp\", \"pdp\", \"pdp\", \"pdp\", \"pdp\", \"pdp\", \"pdp\", \"pdp\", \"pdp\", \"pdp\", \"pdp\", \"pdp\", \"pdp\", \"pdp\", \"pdp\", \"pdp\", \"pdp\", \"pdp\", \"pdp\", \"pdp\", \"pdp\", \"pdp\", \"pdp\", \"pdp\", \"pdp\", \"pdp\", \"pdp\", \"pdp\", \"pdp\", \"pdp\", \"pdp\", \"pdp\", \"pdp\"], \"legendgroup\": \"pdp\", \"line\": {\"color\": \"#46bac2\", \"dash\": \"solid\", \"width\": 2}, \"mode\": \"lines\", \"name\": \"pdp\", \"opacity\": 1, \"orientation\": \"v\", \"showlegend\": false, \"type\": \"scatter\", \"x\": [2.0, 5.42, 8.84, 12.26, 15.68, 19.1, 22.52, 25.939999999999998, 29.36, 32.78, 36.2, 39.62, 43.04, 46.46, 49.879999999999995, 53.3, 56.72, 60.14, 63.56, 66.98, 70.4, 73.82, 77.24, 80.66, 84.08, 87.5, 90.92, 94.34, 97.75999999999999, 101.17999999999999, 104.6, 108.02, 111.44, 114.86, 118.28, 121.7, 125.12, 128.54, 131.96, 135.38, 138.8, 142.22, 145.64, 149.06, 152.48, 155.9, 159.32, 162.74, 166.16, 169.57999999999998, 173.0, 176.42, 179.84, 183.26, 186.68, 190.1, 193.51999999999998, 196.94, 200.35999999999999, 203.78, 207.2, 210.62, 214.04, 217.46, 220.88, 224.29999999999998, 227.72, 231.14, 234.56, 237.98, 241.4, 244.82, 248.24, 251.66, 255.07999999999998, 258.5, 261.92, 265.34, 268.76, 272.18, 275.6, 279.02, 282.44, 285.86, 289.28, 292.7, 296.12, 299.54, 302.96, 306.38, 309.8, 313.21999999999997, 316.64, 320.06, 323.48, 326.9, 330.32, 333.74, 337.15999999999997, 340.58, 344.0], \"xaxis\": \"x\", \"y\": [0.2668357193470001, 0.2668357193470001, 0.2668357193470001, 0.2668357193470001, 0.2646064758300781, 0.2646064758300781, 0.2646064758300781, 0.2646064758300781, 0.2774507403373718, 0.20556367933750153, 0.17558519542217255, 0.1768503040075302, 0.1805102378129959, 0.2387998253107071, 0.25858259201049805, 0.24813920259475708, 0.21077948808670044, 0.2096097320318222, 0.2096097320318222, 0.20769789814949036, 0.1941649615764618, 0.1962851732969284, 0.1962851732969284, 0.1394951492547989, 0.1394951492547989, 0.1394951492547989, 0.1394951492547989, 0.14984861016273499, 0.14541293680667877, 0.16107924282550812, 0.2769327759742737, 0.27422547340393066, 0.27422547340393066, 0.165229931473732, 0.16664226353168488, 0.16664226353168488, 0.1796143352985382, 0.2005908340215683, 0.2005908340215683, 0.2005908340215683, 0.17180731892585754, 0.16862852871418, 0.1666020303964615, 0.1666020303964615, 0.1666020303964615, 0.21163825690746307, 0.21163825690746307, 0.21163825690746307, 0.21163825690746307, 0.21163825690746307, 0.21163825690746307, 0.21163825690746307, 0.21163825690746307, 0.22788505256175995, 0.25096285343170166, 0.25096285343170166, 0.25096285343170166, 0.25096285343170166, 0.25096285343170166, 0.25474512577056885, 0.2590968608856201, 0.24022206664085388, 0.24022206664085388, 0.24022206664085388, 0.24022206664085388, 0.24022206664085388, 0.23189817368984222, 0.23189817368984222, 0.23189817368984222, 0.23189817368984222, 0.23189817368984222, 0.23189817368984222, 0.23189817368984222, 0.23189817368984222, 0.23189817368984222, 0.24295322597026825, 0.2483135610818863, 0.2483135610818863, 0.2483135610818863, 0.2483135610818863, 0.2483135610818863, 0.2483135610818863, 0.3130594789981842, 0.3130594789981842, 0.3130594789981842, 0.30868402123451233, 0.30868402123451233, 0.30868402123451233, 0.30868402123451233, 0.30868402123451233, 0.30868402123451233, 0.30868402123451233, 0.30868402123451233, 0.30868402123451233, 0.30868402123451233, 0.30868402123451233, 0.30868402123451233, 0.30868402123451233, 0.30868402123451233, 0.30868402123451233, 0.30868402123451233], \"yaxis\": \"y\"}, {\"customdata\": [[0.21495762467384338, \"pdp\", \"Percentage lymphocytes\"], [0.21495762467384338, \"pdp\", \"Percentage lymphocytes\"], [0.21495762467384338, \"pdp\", \"Percentage lymphocytes\"], [0.21495762467384338, \"pdp\", \"Percentage lymphocytes\"], [0.21495762467384338, \"pdp\", \"Percentage lymphocytes\"], [0.21495762467384338, \"pdp\", \"Percentage lymphocytes\"], [0.21495762467384338, \"pdp\", \"Percentage lymphocytes\"], [0.21495762467384338, \"pdp\", \"Percentage lymphocytes\"], [0.21495762467384338, \"pdp\", \"Percentage lymphocytes\"], [0.21495762467384338, \"pdp\", \"Percentage lymphocytes\"], [0.21495762467384338, \"pdp\", \"Percentage lymphocytes\"], [0.21495762467384338, \"pdp\", \"Percentage lymphocytes\"], [0.21495762467384338, \"pdp\", \"Percentage lymphocytes\"], [0.21495762467384338, \"pdp\", \"Percentage lymphocytes\"], [0.21495762467384338, \"pdp\", \"Percentage lymphocytes\"], [0.21495762467384338, \"pdp\", \"Percentage lymphocytes\"], [0.21495762467384338, \"pdp\", \"Percentage lymphocytes\"], [0.21495762467384338, \"pdp\", \"Percentage lymphocytes\"], [0.21495762467384338, \"pdp\", \"Percentage lymphocytes\"], [0.21495762467384338, \"pdp\", \"Percentage lymphocytes\"], [0.21495762467384338, \"pdp\", \"Percentage lymphocytes\"], [0.21495762467384338, \"pdp\", \"Percentage lymphocytes\"], [0.21495762467384338, \"pdp\", \"Percentage lymphocytes\"], [0.21495762467384338, \"pdp\", \"Percentage lymphocytes\"], [0.21495762467384338, \"pdp\", \"Percentage lymphocytes\"], [0.21495762467384338, \"pdp\", \"Percentage lymphocytes\"], [0.21495762467384338, \"pdp\", \"Percentage lymphocytes\"], [0.21495762467384338, \"pdp\", \"Percentage lymphocytes\"], [0.21495762467384338, \"pdp\", \"Percentage lymphocytes\"], [0.21495762467384338, \"pdp\", \"Percentage lymphocytes\"], [0.21495762467384338, \"pdp\", \"Percentage lymphocytes\"], [0.21495762467384338, \"pdp\", \"Percentage lymphocytes\"], [0.21495762467384338, \"pdp\", \"Percentage lymphocytes\"], [0.21495762467384338, \"pdp\", \"Percentage lymphocytes\"], [0.21495762467384338, \"pdp\", \"Percentage lymphocytes\"], [0.21495762467384338, \"pdp\", \"Percentage lymphocytes\"], [0.21495762467384338, \"pdp\", \"Percentage lymphocytes\"], [0.21495762467384338, \"pdp\", \"Percentage lymphocytes\"], [0.21495762467384338, \"pdp\", \"Percentage lymphocytes\"], [0.21495762467384338, \"pdp\", \"Percentage lymphocytes\"], [0.21495762467384338, \"pdp\", \"Percentage lymphocytes\"], [0.21495762467384338, \"pdp\", \"Percentage lymphocytes\"], [0.21495762467384338, \"pdp\", \"Percentage lymphocytes\"], [0.21495762467384338, \"pdp\", \"Percentage lymphocytes\"], [0.21495762467384338, \"pdp\", \"Percentage lymphocytes\"], [0.21495762467384338, \"pdp\", \"Percentage lymphocytes\"], [0.21495762467384338, \"pdp\", \"Percentage lymphocytes\"], [0.21495762467384338, \"pdp\", \"Percentage lymphocytes\"], [0.21495762467384338, \"pdp\", \"Percentage lymphocytes\"], [0.21495762467384338, \"pdp\", \"Percentage lymphocytes\"], [0.21495762467384338, \"pdp\", \"Percentage lymphocytes\"], [0.21495762467384338, \"pdp\", \"Percentage lymphocytes\"], [0.21495762467384338, \"pdp\", \"Percentage lymphocytes\"], [0.21495762467384338, \"pdp\", \"Percentage lymphocytes\"], [0.21495762467384338, \"pdp\", \"Percentage lymphocytes\"], [0.21495762467384338, \"pdp\", \"Percentage lymphocytes\"], [0.21495762467384338, \"pdp\", \"Percentage lymphocytes\"], [0.21495762467384338, \"pdp\", \"Percentage lymphocytes\"], [0.21495762467384338, \"pdp\", \"Percentage lymphocytes\"], [0.21495762467384338, \"pdp\", \"Percentage lymphocytes\"], [0.21495762467384338, \"pdp\", \"Percentage lymphocytes\"], [0.21495762467384338, \"pdp\", \"Percentage lymphocytes\"], [0.21495762467384338, \"pdp\", \"Percentage lymphocytes\"], [0.21495762467384338, \"pdp\", \"Percentage lymphocytes\"], [0.21495762467384338, \"pdp\", \"Percentage lymphocytes\"], [0.21495762467384338, \"pdp\", \"Percentage lymphocytes\"], [0.21495762467384338, \"pdp\", \"Percentage lymphocytes\"], [0.21495762467384338, \"pdp\", \"Percentage lymphocytes\"], [0.21495762467384338, \"pdp\", \"Percentage lymphocytes\"], [0.21495762467384338, \"pdp\", \"Percentage lymphocytes\"], [0.21495762467384338, \"pdp\", \"Percentage lymphocytes\"], [0.21495762467384338, \"pdp\", \"Percentage lymphocytes\"], [0.21495762467384338, \"pdp\", \"Percentage lymphocytes\"], [0.21495762467384338, \"pdp\", \"Percentage lymphocytes\"], [0.21495762467384338, \"pdp\", \"Percentage lymphocytes\"], [0.21495762467384338, \"pdp\", \"Percentage lymphocytes\"], [0.21495762467384338, \"pdp\", \"Percentage lymphocytes\"], [0.21495762467384338, \"pdp\", \"Percentage lymphocytes\"], [0.21495762467384338, \"pdp\", \"Percentage lymphocytes\"], [0.21495762467384338, \"pdp\", \"Percentage lymphocytes\"], [0.21495762467384338, \"pdp\", \"Percentage lymphocytes\"], [0.21495762467384338, \"pdp\", \"Percentage lymphocytes\"], [0.21495762467384338, \"pdp\", \"Percentage lymphocytes\"], [0.21495762467384338, \"pdp\", \"Percentage lymphocytes\"], [0.21495762467384338, \"pdp\", \"Percentage lymphocytes\"], [0.21495762467384338, \"pdp\", \"Percentage lymphocytes\"], [0.21495762467384338, \"pdp\", \"Percentage lymphocytes\"], [0.21495762467384338, \"pdp\", \"Percentage lymphocytes\"], [0.21495762467384338, \"pdp\", \"Percentage lymphocytes\"], [0.21495762467384338, \"pdp\", \"Percentage lymphocytes\"], [0.21495762467384338, \"pdp\", \"Percentage lymphocytes\"], [0.21495762467384338, \"pdp\", \"Percentage lymphocytes\"], [0.21495762467384338, \"pdp\", \"Percentage lymphocytes\"], [0.21495762467384338, \"pdp\", \"Percentage lymphocytes\"], [0.21495762467384338, \"pdp\", \"Percentage lymphocytes\"], [0.21495762467384338, \"pdp\", \"Percentage lymphocytes\"], [0.21495762467384338, \"pdp\", \"Percentage lymphocytes\"], [0.21495762467384338, \"pdp\", \"Percentage lymphocytes\"], [0.21495762467384338, \"pdp\", \"Percentage lymphocytes\"], [0.21495762467384338, \"pdp\", \"Percentage lymphocytes\"], [0.21495762467384338, \"pdp\", \"Percentage lymphocytes\"]], \"hovertemplate\": \"<b>%{hovertext}</b><br><br>prediction=%{y:.3f}<br>mean_prediction=%{customdata[0]:.3f}<extra></extra>\", \"hovertext\": [\"pdp\", \"pdp\", \"pdp\", \"pdp\", \"pdp\", \"pdp\", \"pdp\", \"pdp\", \"pdp\", \"pdp\", \"pdp\", \"pdp\", \"pdp\", \"pdp\", \"pdp\", \"pdp\", \"pdp\", \"pdp\", \"pdp\", \"pdp\", \"pdp\", \"pdp\", \"pdp\", \"pdp\", \"pdp\", \"pdp\", \"pdp\", \"pdp\", \"pdp\", \"pdp\", \"pdp\", \"pdp\", \"pdp\", \"pdp\", \"pdp\", \"pdp\", \"pdp\", \"pdp\", \"pdp\", \"pdp\", \"pdp\", \"pdp\", \"pdp\", \"pdp\", \"pdp\", \"pdp\", \"pdp\", \"pdp\", \"pdp\", \"pdp\", \"pdp\", \"pdp\", \"pdp\", \"pdp\", \"pdp\", \"pdp\", \"pdp\", \"pdp\", \"pdp\", \"pdp\", \"pdp\", \"pdp\", \"pdp\", \"pdp\", \"pdp\", \"pdp\", \"pdp\", \"pdp\", \"pdp\", \"pdp\", \"pdp\", \"pdp\", \"pdp\", \"pdp\", \"pdp\", \"pdp\", \"pdp\", \"pdp\", \"pdp\", \"pdp\", \"pdp\", \"pdp\", \"pdp\", \"pdp\", \"pdp\", \"pdp\", \"pdp\", \"pdp\", \"pdp\", \"pdp\", \"pdp\", \"pdp\", \"pdp\", \"pdp\", \"pdp\", \"pdp\", \"pdp\", \"pdp\", \"pdp\", \"pdp\", \"pdp\"], \"legendgroup\": \"pdp\", \"line\": {\"color\": \"#46bac2\", \"dash\": \"solid\", \"width\": 2}, \"mode\": \"lines\", \"name\": \"pdp\", \"opacity\": 1, \"orientation\": \"v\", \"showlegend\": false, \"type\": \"scatter\", \"x\": [2.6923076923076925, 3.6128964016601524, 4.533485111012612, 5.454073820365073, 6.374662529717533, 7.295251239069993, 8.215839948422452, 9.136428657774912, 10.057017367127372, 10.977606076479834, 11.898194785832292, 12.818783495184753, 13.739372204537212, 14.659960913889673, 15.580549623242131, 16.501138332594593, 17.42172704194705, 18.342315751299513, 19.262904460651974, 20.183493170004432, 21.104081879356894, 22.024670588709352, 22.945259298061814, 23.86584800741427, 24.786436716766733, 25.70702542611919, 26.627614135471653, 27.54820284482411, 28.468791554176573, 29.38938026352903, 30.309968972881492, 31.23055768223395, 32.15114639158641, 33.071735100938874, 33.99232381029133, 34.91291251964379, 35.833501228996255, 36.75408993834871, 37.67467864770117, 38.59526735705363, 39.515856066406094, 40.43644477575855, 41.35703348511101, 42.27762219446347, 43.198210903815934, 44.11879961316839, 45.03938832252085, 45.95997703187331, 46.88056574122577, 47.80115445057823, 48.72174315993069, 49.642331869283154, 50.56292057863561, 51.48350928798807, 52.40409799734053, 53.324686706692994, 54.24527541604545, 55.16586412539791, 56.08645283475037, 57.00704154410283, 57.92763025345529, 58.84821896280775, 59.76880767216021, 60.68939638151267, 61.60998509086513, 62.53057380021759, 63.451162509570054, 64.37175121892251, 65.29233992827497, 66.21292863762743, 67.13351734697989, 68.05410605633234, 68.97469476568482, 69.89528347503727, 70.81587218438973, 71.73646089374219, 72.65704960309465, 73.5776383124471, 74.49822702179956, 75.41881573115202, 76.3394044405045, 77.25999314985695, 78.18058185920941, 79.10117056856187, 80.02175927791433, 80.94234798726679, 81.86293669661924, 82.78352540597172, 83.70411411532417, 84.62470282467663, 85.54529153402909, 86.46588024338155, 87.386468952734, 88.30705766208646, 89.22764637143892, 90.1482350807914, 91.06882379014385, 91.98941249949631, 92.91000120884877, 93.83058991820123, 94.75117862755368], \"xaxis\": \"x2\", \"y\": [0.3267904222011566, 0.16377383470535278, 0.12261738628149033, 0.1317506581544876, 0.03347446396946907, 0.03277401626110077, 0.10452992469072342, 0.2526213228702545, 0.2862018942832947, 0.256229966878891, 0.2876773178577423, 0.2890619933605194, 0.29194220900535583, 0.28941336274147034, 0.3559079170227051, 0.34210190176963806, 0.3297506272792816, 0.33146414160728455, 0.37613141536712646, 0.2540671229362488, 0.2464110255241394, 0.2464110255241394, 0.30706843733787537, 0.30706843733787537, 0.3132566213607788, 0.3132566213607788, 0.31895968317985535, 0.31895968317985535, 0.31895968317985535, 0.31895968317985535, 0.31895968317985535, 0.31895968317985535, 0.31895968317985535, 0.31895968317985535, 0.31895968317985535, 0.31895968317985535, 0.31895968317985535, 0.31895968317985535, 0.31895968317985535, 0.31895968317985535, 0.31895968317985535, 0.31895968317985535, 0.31895968317985535, 0.31895968317985535, 0.31895968317985535, 0.31895968317985535, 0.31895968317985535, 0.31895968317985535, 0.31895968317985535, 0.31895968317985535, 0.31895968317985535, 0.31895968317985535, 0.31895968317985535, 0.31895968317985535, 0.31895968317985535, 0.31895968317985535, 0.31895968317985535, 0.31895968317985535, 0.31895968317985535, 0.31895968317985535, 0.31895968317985535, 0.31895968317985535, 0.31895968317985535, 0.31895968317985535, 0.31895968317985535, 0.31895968317985535, 0.31895968317985535, 0.31895968317985535, 0.31895968317985535, 0.31895968317985535, 0.31895968317985535, 0.31895968317985535, 0.31895968317985535, 0.31895968317985535, 0.31895968317985535, 0.31895968317985535, 0.31895968317985535, 0.31895968317985535, 0.31895968317985535, 0.31895968317985535, 0.31895968317985535, 0.31895968317985535, 0.31895968317985535, 0.31895968317985535, 0.31895968317985535, 0.31895968317985535, 0.31895968317985535, 0.31895968317985535, 0.31895968317985535, 0.31895968317985535, 0.31895968317985535, 0.31895968317985535, 0.31895968317985535, 0.31895968317985535, 0.31895968317985535, 0.31895968317985535, 0.31895968317985535, 0.31895968317985535, 0.31895968317985535, 0.31895968317985535, 0.31895968317985535], \"yaxis\": \"y2\"}],                        {\"annotations\": [{\"font\": {\"size\": 13}, \"showarrow\": false, \"text\": \"CRP\", \"x\": 0.2375, \"xanchor\": \"center\", \"xref\": \"paper\", \"y\": 0.425, \"yanchor\": \"bottom\", \"yref\": \"paper\"}, {\"font\": {\"size\": 13}, \"showarrow\": false, \"text\": \"Percentage lymphocytes\", \"x\": 0.7625, \"xanchor\": \"center\", \"xref\": \"paper\", \"y\": 0.425, \"yanchor\": \"bottom\", \"yref\": \"paper\"}, {\"font\": {\"size\": 13}, \"showarrow\": false, \"text\": \"Age\", \"x\": 0.2375, \"xanchor\": \"center\", \"xref\": \"paper\", \"y\": 1.0, \"yanchor\": \"bottom\", \"yref\": \"paper\"}, {\"font\": {\"size\": 13}, \"showarrow\": false, \"text\": \"LD\", \"x\": 0.7625, \"xanchor\": \"center\", \"xref\": \"paper\", \"y\": 1.0, \"yanchor\": \"bottom\", \"yref\": \"paper\"}, {\"font\": {\"size\": 13}, \"showarrow\": false, \"text\": \"prediction\", \"textangle\": -90, \"x\": -0.07, \"xref\": \"paper\", \"y\": 0.5, \"yref\": \"paper\"}], \"font\": {\"color\": \"#371ea3\"}, \"height\": 829, \"hovermode\": \"x unified\", \"legend\": {\"font\": {\"size\": 11}, \"itemsizing\": \"constant\", \"orientation\": \"h\", \"title\": {\"font\": {\"size\": 12}, \"text\": \"label\"}, \"tracegroupgap\": 0, \"x\": 1, \"xanchor\": \"right\", \"y\": 1.0361881785283473, \"yanchor\": \"bottom\"}, \"margin\": {\"b\": 71, \"r\": 30, \"t\": 78}, \"template\": {\"data\": {\"scatter\": [{\"type\": \"scatter\"}]}}, \"title\": {\"font\": {\"size\": 16}, \"text\": \"Aggregated Profiles\", \"x\": 0.15}, \"xaxis\": {\"anchor\": \"y\", \"automargin\": true, \"domain\": [0.0, 0.475], \"fixedrange\": true, \"gridwidth\": 2, \"showticklabels\": true, \"tickcolor\": \"white\", \"ticklen\": 3, \"ticks\": \"outside\", \"title\": {\"text\": \"\"}, \"type\": \"linear\", \"zeroline\": false}, \"xaxis2\": {\"anchor\": \"y2\", \"automargin\": true, \"domain\": [0.525, 1.0], \"fixedrange\": true, \"gridwidth\": 2, \"showticklabels\": true, \"tickcolor\": \"white\", \"ticklen\": 3, \"ticks\": \"outside\", \"title\": {\"text\": \"\"}, \"type\": \"linear\", \"zeroline\": false}, \"xaxis3\": {\"anchor\": \"y3\", \"automargin\": true, \"domain\": [0.0, 0.475], \"fixedrange\": true, \"gridwidth\": 2, \"showticklabels\": true, \"tickcolor\": \"white\", \"ticklen\": 3, \"ticks\": \"outside\", \"title\": {\"text\": \"\"}, \"type\": \"linear\", \"zeroline\": false}, \"xaxis4\": {\"anchor\": \"y4\", \"automargin\": true, \"domain\": [0.525, 1.0], \"fixedrange\": true, \"gridwidth\": 2, \"showticklabels\": true, \"tickcolor\": \"white\", \"ticklen\": 3, \"ticks\": \"outside\", \"title\": {\"text\": \"\"}, \"type\": \"linear\", \"zeroline\": false}, \"yaxis\": {\"anchor\": \"x\", \"automargin\": true, \"domain\": [0.0, 0.425], \"fixedrange\": true, \"gridwidth\": 2, \"range\": [-0.02072217911481858, 0.5812110066413879], \"tickcolor\": \"white\", \"ticklen\": 3, \"ticks\": \"outside\", \"title\": {\"text\": \"\"}, \"type\": \"linear\", \"zeroline\": false}, \"yaxis2\": {\"anchor\": \"x2\", \"automargin\": true, \"domain\": [0.0, 0.425], \"fixedrange\": true, \"gridwidth\": 2, \"matches\": \"y\", \"range\": [-0.02072217911481858, 0.5812110066413879], \"showticklabels\": false, \"tickcolor\": \"white\", \"ticklen\": 3, \"ticks\": \"outside\", \"title\": {\"text\": \"\"}, \"type\": \"linear\", \"zeroline\": false}, \"yaxis3\": {\"anchor\": \"x3\", \"automargin\": true, \"domain\": [0.575, 1.0], \"fixedrange\": true, \"gridwidth\": 2, \"matches\": \"y\", \"range\": [-0.02072217911481858, 0.5812110066413879], \"tickcolor\": \"white\", \"ticklen\": 3, \"ticks\": \"outside\", \"title\": {\"text\": \"\"}, \"type\": \"linear\", \"zeroline\": false}, \"yaxis4\": {\"anchor\": \"x4\", \"automargin\": true, \"domain\": [0.575, 1.0], \"fixedrange\": true, \"gridwidth\": 2, \"matches\": \"y\", \"range\": [-0.02072217911481858, 0.5812110066413879], \"showticklabels\": false, \"tickcolor\": \"white\", \"ticklen\": 3, \"ticks\": \"outside\", \"title\": {\"text\": \"\"}, \"type\": \"linear\", \"zeroline\": false}},                        {\"displaylogo\": false, \"staticPlot\": false, \"toImageButtonOptions\": {\"height\": null, \"width\": null}, \"modeBarButtonsToRemove\": [\"sendDataToCloud\", \"lasso2d\", \"autoScale2d\", \"select2d\", \"zoom2d\", \"pan2d\", \"zoomIn2d\", \"zoomOut2d\", \"resetScale2d\", \"toggleSpikelines\", \"hoverCompareCartesian\", \"hoverClosestCartesian\"], \"responsive\": true}                    ).then(function(){\n",
       "                            \n",
       "var gd = document.getElementById('448d3c38-b60f-498b-abd5-83d31e9e2ac1');\n",
       "var x = new MutationObserver(function (mutations, observer) {{\n",
       "        var display = window.getComputedStyle(gd).display;\n",
       "        if (!display || display === 'none') {{\n",
       "            console.log([gd, 'removed!']);\n",
       "            Plotly.purge(gd);\n",
       "            observer.disconnect();\n",
       "        }}\n",
       "}});\n",
       "\n",
       "// Listen for the removal of the full notebook cells\n",
       "var notebookContainer = gd.closest('#notebook-container');\n",
       "if (notebookContainer) {{\n",
       "    x.observe(notebookContainer, {childList: true});\n",
       "}}\n",
       "\n",
       "// Listen for the clearing of the current output cell\n",
       "var outputEl = gd.closest('.output');\n",
       "if (outputEl) {{\n",
       "    x.observe(outputEl, {childList: true});\n",
       "}}\n",
       "\n",
       "                        })                };                });            </script>        </div>"
      ]
     },
     "metadata": {},
     "output_type": "display_data"
    }
   ],
   "source": [
    "pdp_num = exp.model_profile(type = 'partial', label=\"pdp\").plot()"
   ]
  },
  {
   "cell_type": "markdown",
   "metadata": {},
   "source": [
    "# Should we even test the blood? "
   ]
  },
  {
   "cell_type": "code",
   "execution_count": 24,
   "metadata": {},
   "outputs": [],
   "source": [
    "numerical_features = ['Age']\n",
    "numerical_transformer = Pipeline(\n",
    "    steps=[('scaler', StandardScaler())])\n",
    "\n",
    "categorical_features = ['Gender']\n",
    "categorical_transformer = Pipeline(\n",
    "    steps=[('onehot', OneHotEncoder(handle_unknown='ignore'))])\n",
    "\n",
    "preprocessor = ColumnTransformer(\n",
    "    transformers=[\n",
    "        ('num', numerical_transformer, numerical_features),\n",
    "        ('cat', categorical_transformer, categorical_features)])\n",
    "\n",
    "clf_1 = Pipeline(steps=[('preprocessor', preprocessor),\n",
    "                      ('classifier', model)])\n",
    "\n",
    "numerical_features = ['LD', 'CRP', 'Percentage lymphocytes']\n",
    "numerical_transformer = Pipeline(\n",
    "    steps=[\n",
    "        #('imputer', SimpleImputer(strategy='median')),\n",
    "        ('scaler', StandardScaler())\n",
    "    ]\n",
    ")\n",
    "\n",
    "preprocessor = ColumnTransformer(\n",
    "    transformers=[\n",
    "        ('num', numerical_transformer, numerical_features),]\n",
    ")\n",
    "\n",
    "clf_2 = Pipeline(steps=[('preprocessor', preprocessor),\n",
    "                      ('classifier', model)])\n"
   ]
  },
  {
   "cell_type": "code",
   "execution_count": 25,
   "metadata": {},
   "outputs": [
    {
     "name": "stderr",
     "output_type": "stream",
     "text": [
      "/home/hania/anaconda3/lib/python3.8/site-packages/xgboost/sklearn.py:888: UserWarning:\n",
      "\n",
      "The use of label encoder in XGBClassifier is deprecated and will be removed in a future release. To remove this warning, do the following: 1) Pass option use_label_encoder=False when constructing XGBClassifier object; and 2) Encode your labels (y) as integers starting with 0, i.e. 0, 1, 2, ..., [num_class - 1].\n",
      "\n",
      "/home/hania/anaconda3/lib/python3.8/site-packages/xgboost/sklearn.py:888: UserWarning:\n",
      "\n",
      "The use of label encoder in XGBClassifier is deprecated and will be removed in a future release. To remove this warning, do the following: 1) Pass option use_label_encoder=False when constructing XGBClassifier object; and 2) Encode your labels (y) as integers starting with 0, i.e. 0, 1, 2, ..., [num_class - 1].\n",
      "\n"
     ]
    }
   ],
   "source": [
    "age_sex = clf_1.fit(X[['Age','Gender']], y_netherlands)\n",
    "blood = clf_2.fit(X[['LD', 'CRP', 'Percentage lymphocytes']], y_netherlands)"
   ]
  },
  {
   "cell_type": "markdown",
   "metadata": {},
   "source": [
    "### Precision for age&sex"
   ]
  },
  {
   "cell_type": "code",
   "execution_count": 26,
   "metadata": {},
   "outputs": [
    {
     "name": "stderr",
     "output_type": "stream",
     "text": [
      "/home/hania/anaconda3/lib/python3.8/site-packages/xgboost/sklearn.py:888: UserWarning:\n",
      "\n",
      "The use of label encoder in XGBClassifier is deprecated and will be removed in a future release. To remove this warning, do the following: 1) Pass option use_label_encoder=False when constructing XGBClassifier object; and 2) Encode your labels (y) as integers starting with 0, i.e. 0, 1, 2, ..., [num_class - 1].\n",
      "\n",
      "/home/hania/anaconda3/lib/python3.8/site-packages/xgboost/sklearn.py:888: UserWarning:\n",
      "\n",
      "The use of label encoder in XGBClassifier is deprecated and will be removed in a future release. To remove this warning, do the following: 1) Pass option use_label_encoder=False when constructing XGBClassifier object; and 2) Encode your labels (y) as integers starting with 0, i.e. 0, 1, 2, ..., [num_class - 1].\n",
      "\n",
      "/home/hania/anaconda3/lib/python3.8/site-packages/xgboost/sklearn.py:888: UserWarning:\n",
      "\n",
      "The use of label encoder in XGBClassifier is deprecated and will be removed in a future release. To remove this warning, do the following: 1) Pass option use_label_encoder=False when constructing XGBClassifier object; and 2) Encode your labels (y) as integers starting with 0, i.e. 0, 1, 2, ..., [num_class - 1].\n",
      "\n"
     ]
    },
    {
     "data": {
      "text/plain": [
       "0.40165631469979296"
      ]
     },
     "execution_count": 26,
     "metadata": {},
     "output_type": "execute_result"
    }
   ],
   "source": [
    "cross_val_score(age_sex, X[['Age','Gender']], y_netherlands, cv=3, scoring='precision').mean()"
   ]
  },
  {
   "cell_type": "markdown",
   "metadata": {},
   "source": [
    "### Precision for blood test"
   ]
  },
  {
   "cell_type": "code",
   "execution_count": 27,
   "metadata": {},
   "outputs": [
    {
     "name": "stderr",
     "output_type": "stream",
     "text": [
      "/home/hania/anaconda3/lib/python3.8/site-packages/xgboost/sklearn.py:888: UserWarning:\n",
      "\n",
      "The use of label encoder in XGBClassifier is deprecated and will be removed in a future release. To remove this warning, do the following: 1) Pass option use_label_encoder=False when constructing XGBClassifier object; and 2) Encode your labels (y) as integers starting with 0, i.e. 0, 1, 2, ..., [num_class - 1].\n",
      "\n",
      "/home/hania/anaconda3/lib/python3.8/site-packages/xgboost/sklearn.py:888: UserWarning:\n",
      "\n",
      "The use of label encoder in XGBClassifier is deprecated and will be removed in a future release. To remove this warning, do the following: 1) Pass option use_label_encoder=False when constructing XGBClassifier object; and 2) Encode your labels (y) as integers starting with 0, i.e. 0, 1, 2, ..., [num_class - 1].\n",
      "\n",
      "/home/hania/anaconda3/lib/python3.8/site-packages/xgboost/sklearn.py:888: UserWarning:\n",
      "\n",
      "The use of label encoder in XGBClassifier is deprecated and will be removed in a future release. To remove this warning, do the following: 1) Pass option use_label_encoder=False when constructing XGBClassifier object; and 2) Encode your labels (y) as integers starting with 0, i.e. 0, 1, 2, ..., [num_class - 1].\n",
      "\n"
     ]
    },
    {
     "data": {
      "text/plain": [
       "0.26666666666666666"
      ]
     },
     "execution_count": 27,
     "metadata": {},
     "output_type": "execute_result"
    }
   ],
   "source": [
    "cross_val_score(blood, X[['LD', 'CRP', 'Percentage lymphocytes']], y_netherlands, cv = 3, scoring='precision').mean()"
   ]
  },
  {
   "cell_type": "markdown",
   "metadata": {},
   "source": [
    "# How does it look in china?"
   ]
  },
  {
   "cell_type": "code",
   "execution_count": 28,
   "metadata": {},
   "outputs": [],
   "source": [
    "from raport_v1.utils_features_selection import data_read_and_split"
   ]
  },
  {
   "cell_type": "code",
   "execution_count": 29,
   "metadata": {},
   "outputs": [],
   "source": [
    "china = pd.read_excel('data/time_series_375_prerpocess_en.xlsx')\n",
    "from raport_v1.utils_features_selection import data_read_and_split\n",
    "from raport_v1.utils_features_selection import data_read_and_split\n",
    "X_data_all_features, Y_data, x_col = data_read_and_split()\n",
    "cheng = {'乳酸脱氢酶':'LDH', '超敏C反应蛋白':'CRP', '淋巴细胞(%)':'Lymphocytes'}\n",
    "blood_df = X_data_all_features[list(cheng.keys())]\n",
    "blood_df.columns = list(cheng.values())\n",
    "\n",
    "age_sex_df = china.loc[china.PATIENT_ID.isin(blood_df.index)][['age','gender','outcome']]\n",
    "y = age_sex_df.outcome\n",
    "age_sex_df = age_sex_df.drop('outcome', axis =1)\n",
    "\n",
    "# default model\n",
    "age_sex_df_model = model.fit(age_sex_df, y)\n",
    "blood_model = model.fit(blood_df, y)"
   ]
  },
  {
   "cell_type": "markdown",
   "metadata": {},
   "source": [
    "### Precision for age&sex"
   ]
  },
  {
   "cell_type": "code",
   "execution_count": 30,
   "metadata": {},
   "outputs": [
    {
     "data": {
      "text/plain": [
       "0.7271326079052155"
      ]
     },
     "execution_count": 30,
     "metadata": {},
     "output_type": "execute_result"
    }
   ],
   "source": [
    "cross_val_score(age_sex_df_model, age_sex_df, y, cv = 3, scoring='precision').mean()"
   ]
  },
  {
   "cell_type": "markdown",
   "metadata": {},
   "source": [
    "### Precision for blood test"
   ]
  },
  {
   "cell_type": "code",
   "execution_count": 31,
   "metadata": {},
   "outputs": [
    {
     "data": {
      "text/plain": [
       "0.9349551414768807"
      ]
     },
     "execution_count": 31,
     "metadata": {},
     "output_type": "execute_result"
    }
   ],
   "source": [
    "cross_val_score(blood_model, blood_df, y, cv = 3, scoring='precision').mean()"
   ]
  },
  {
   "cell_type": "markdown",
   "metadata": {},
   "source": [
    "# Confidential Data from NY"
   ]
  },
  {
   "cell_type": "code",
   "execution_count": 32,
   "metadata": {},
   "outputs": [],
   "source": [
    "ny = pd.read_csv('~/Downloads/Yan_reply_First_last_wtime.csv')"
   ]
  },
  {
   "cell_type": "code",
   "execution_count": 33,
   "metadata": {},
   "outputs": [
    {
     "data": {
      "text/plain": [
       "0.4693131871885025"
      ]
     },
     "execution_count": 33,
     "metadata": {},
     "output_type": "execute_result"
    }
   ],
   "source": [
    "cross_val_score(model, ny[['First_LDH', 'First_CRP', 'First_Lymph']], ny.Expired_Outcome, cv = 3, scoring='precision').mean()"
   ]
  },
  {
   "cell_type": "code",
   "execution_count": 34,
   "metadata": {},
   "outputs": [
    {
     "data": {
      "text/plain": [
       "0.7570846039838287"
      ]
     },
     "execution_count": 34,
     "metadata": {},
     "output_type": "execute_result"
    }
   ],
   "source": [
    "cross_val_score(model, ny[['Last_LDH', 'Last_CRP', 'Last_Lymph']], ny.Expired_Outcome, cv = 3, scoring='precision').mean()"
   ]
  },
  {
   "cell_type": "code",
   "execution_count": 38,
   "metadata": {},
   "outputs": [
    {
     "data": {
      "text/html": [
       "<div>\n",
       "<style scoped>\n",
       "    .dataframe tbody tr th:only-of-type {\n",
       "        vertical-align: middle;\n",
       "    }\n",
       "\n",
       "    .dataframe tbody tr th {\n",
       "        vertical-align: top;\n",
       "    }\n",
       "\n",
       "    .dataframe thead th {\n",
       "        text-align: right;\n",
       "    }\n",
       "</style>\n",
       "<table border=\"1\" class=\"dataframe\">\n",
       "  <thead>\n",
       "    <tr style=\"text-align: right;\">\n",
       "      <th></th>\n",
       "      <th>ClientVisitGUID</th>\n",
       "      <th>Expired_Outcome</th>\n",
       "      <th>Last_LDH</th>\n",
       "      <th>Last_CRP</th>\n",
       "      <th>Last_Lymph</th>\n",
       "      <th>First_LDH</th>\n",
       "      <th>First_CRP</th>\n",
       "      <th>First_Lymph</th>\n",
       "      <th>Last_time_LDH</th>\n",
       "      <th>Last_time_CRP</th>\n",
       "      <th>Last_time_Lymph</th>\n",
       "      <th>First_time_LDH</th>\n",
       "      <th>First_time_CRP</th>\n",
       "      <th>First_time_Lymph</th>\n",
       "    </tr>\n",
       "  </thead>\n",
       "  <tbody>\n",
       "    <tr>\n",
       "      <th>0</th>\n",
       "      <td>1298314042</td>\n",
       "      <td>1</td>\n",
       "      <td>641</td>\n",
       "      <td>57.5</td>\n",
       "      <td>4.5</td>\n",
       "      <td>598</td>\n",
       "      <td>54.30</td>\n",
       "      <td>4.5</td>\n",
       "      <td>2 days 11:12:59</td>\n",
       "      <td>0 days 05:24:53</td>\n",
       "      <td>1 days 21:43:56</td>\n",
       "      <td>2 days 15:51:00</td>\n",
       "      <td>2 days 15:49:10</td>\n",
       "      <td>1 days 21:43:57</td>\n",
       "    </tr>\n",
       "    <tr>\n",
       "      <th>1</th>\n",
       "      <td>231729013</td>\n",
       "      <td>1</td>\n",
       "      <td>334</td>\n",
       "      <td>100.4</td>\n",
       "      <td>0.9</td>\n",
       "      <td>334</td>\n",
       "      <td>223.60</td>\n",
       "      <td>0.9</td>\n",
       "      <td>4 days 23:49:43</td>\n",
       "      <td>2 days 23:51:48</td>\n",
       "      <td>6 days 17:33:16</td>\n",
       "      <td>4 days 23:49:43</td>\n",
       "      <td>4 days 22:42:30</td>\n",
       "      <td>35 days 22:23:14</td>\n",
       "    </tr>\n",
       "    <tr>\n",
       "      <th>2</th>\n",
       "      <td>292613519</td>\n",
       "      <td>1</td>\n",
       "      <td>742</td>\n",
       "      <td>168.2</td>\n",
       "      <td>2.8</td>\n",
       "      <td>525</td>\n",
       "      <td>16.77</td>\n",
       "      <td>8.1</td>\n",
       "      <td>0 days 03:04:19</td>\n",
       "      <td>0 days 03:04:10</td>\n",
       "      <td>-1 days +23:56:08</td>\n",
       "      <td>14 days 15:58:27</td>\n",
       "      <td>15 days 18:47:49</td>\n",
       "      <td>11 days 00:51:43</td>\n",
       "    </tr>\n",
       "    <tr>\n",
       "      <th>3</th>\n",
       "      <td>1624500118</td>\n",
       "      <td>1</td>\n",
       "      <td>613</td>\n",
       "      <td>19.3</td>\n",
       "      <td>0.9</td>\n",
       "      <td>296</td>\n",
       "      <td>19.30</td>\n",
       "      <td>22.1</td>\n",
       "      <td>0 days 08:42:44</td>\n",
       "      <td>2 days 14:31:34</td>\n",
       "      <td>0 days 10:37:16</td>\n",
       "      <td>5 days 00:35:01</td>\n",
       "      <td>2 days 14:31:34</td>\n",
       "      <td>24 days 22:08:05</td>\n",
       "    </tr>\n",
       "    <tr>\n",
       "      <th>4</th>\n",
       "      <td>1101470227</td>\n",
       "      <td>1</td>\n",
       "      <td>271</td>\n",
       "      <td>25.1</td>\n",
       "      <td>2.6</td>\n",
       "      <td>374</td>\n",
       "      <td>46.70</td>\n",
       "      <td>5.4</td>\n",
       "      <td>0 days 23:21:10</td>\n",
       "      <td>-1 days +22:54:57</td>\n",
       "      <td>-1 days +20:35:07</td>\n",
       "      <td>24 days 13:05:59</td>\n",
       "      <td>24 days 13:28:36</td>\n",
       "      <td>27 days 01:15:44</td>\n",
       "    </tr>\n",
       "    <tr>\n",
       "      <th>...</th>\n",
       "      <td>...</td>\n",
       "      <td>...</td>\n",
       "      <td>...</td>\n",
       "      <td>...</td>\n",
       "      <td>...</td>\n",
       "      <td>...</td>\n",
       "      <td>...</td>\n",
       "      <td>...</td>\n",
       "      <td>...</td>\n",
       "      <td>...</td>\n",
       "      <td>...</td>\n",
       "      <td>...</td>\n",
       "      <td>...</td>\n",
       "      <td>...</td>\n",
       "    </tr>\n",
       "    <tr>\n",
       "      <th>1033</th>\n",
       "      <td>1945213968</td>\n",
       "      <td>0</td>\n",
       "      <td>301</td>\n",
       "      <td>4.1</td>\n",
       "      <td>8.0</td>\n",
       "      <td>301</td>\n",
       "      <td>126.20</td>\n",
       "      <td>8.0</td>\n",
       "      <td>2 days 05:49:41</td>\n",
       "      <td>2 days 05:54:13</td>\n",
       "      <td>8 days 12:17:24</td>\n",
       "      <td>2 days 05:49:41</td>\n",
       "      <td>8 days 13:37:45</td>\n",
       "      <td>8 days 12:17:24</td>\n",
       "    </tr>\n",
       "    <tr>\n",
       "      <th>1034</th>\n",
       "      <td>1468702548</td>\n",
       "      <td>0</td>\n",
       "      <td>1126</td>\n",
       "      <td>69.6</td>\n",
       "      <td>14.2</td>\n",
       "      <td>1126</td>\n",
       "      <td>61.50</td>\n",
       "      <td>15.2</td>\n",
       "      <td>6 days 04:13:47</td>\n",
       "      <td>1 days 06:23:51</td>\n",
       "      <td>2 days 03:52:03</td>\n",
       "      <td>6 days 04:13:47</td>\n",
       "      <td>5 days 23:30:30</td>\n",
       "      <td>6 days 02:58:05</td>\n",
       "    </tr>\n",
       "    <tr>\n",
       "      <th>1035</th>\n",
       "      <td>689678610</td>\n",
       "      <td>1</td>\n",
       "      <td>340</td>\n",
       "      <td>39.5</td>\n",
       "      <td>6.1</td>\n",
       "      <td>340</td>\n",
       "      <td>39.50</td>\n",
       "      <td>6.1</td>\n",
       "      <td>1 days 01:07:35</td>\n",
       "      <td>1 days 01:07:35</td>\n",
       "      <td>1 days 06:40:15</td>\n",
       "      <td>1 days 01:07:35</td>\n",
       "      <td>1 days 01:07:35</td>\n",
       "      <td>1 days 06:40:15</td>\n",
       "    </tr>\n",
       "    <tr>\n",
       "      <th>1036</th>\n",
       "      <td>431248849</td>\n",
       "      <td>1</td>\n",
       "      <td>491</td>\n",
       "      <td>73.3</td>\n",
       "      <td>21.9</td>\n",
       "      <td>491</td>\n",
       "      <td>73.30</td>\n",
       "      <td>21.9</td>\n",
       "      <td>3 days 05:51:23</td>\n",
       "      <td>3 days 05:56:12</td>\n",
       "      <td>4 days 01:27:16</td>\n",
       "      <td>3 days 05:51:23</td>\n",
       "      <td>3 days 05:56:12</td>\n",
       "      <td>4 days 01:27:16</td>\n",
       "    </tr>\n",
       "    <tr>\n",
       "      <th>1037</th>\n",
       "      <td>1702265106</td>\n",
       "      <td>0</td>\n",
       "      <td>282</td>\n",
       "      <td>85.7</td>\n",
       "      <td>9.8</td>\n",
       "      <td>282</td>\n",
       "      <td>94.90</td>\n",
       "      <td>9.8</td>\n",
       "      <td>3 days 09:34:23</td>\n",
       "      <td>0 days 09:10:03</td>\n",
       "      <td>2 days 08:31:40</td>\n",
       "      <td>3 days 09:34:23</td>\n",
       "      <td>3 days 15:16:24</td>\n",
       "      <td>2 days 08:31:40</td>\n",
       "    </tr>\n",
       "  </tbody>\n",
       "</table>\n",
       "<p>1038 rows × 14 columns</p>\n",
       "</div>"
      ],
      "text/plain": [
       "      ClientVisitGUID  Expired_Outcome  Last_LDH  Last_CRP  Last_Lymph  \\\n",
       "0          1298314042                1       641      57.5         4.5   \n",
       "1           231729013                1       334     100.4         0.9   \n",
       "2           292613519                1       742     168.2         2.8   \n",
       "3          1624500118                1       613      19.3         0.9   \n",
       "4          1101470227                1       271      25.1         2.6   \n",
       "...               ...              ...       ...       ...         ...   \n",
       "1033       1945213968                0       301       4.1         8.0   \n",
       "1034       1468702548                0      1126      69.6        14.2   \n",
       "1035        689678610                1       340      39.5         6.1   \n",
       "1036        431248849                1       491      73.3        21.9   \n",
       "1037       1702265106                0       282      85.7         9.8   \n",
       "\n",
       "      First_LDH  First_CRP  First_Lymph    Last_time_LDH      Last_time_CRP  \\\n",
       "0           598      54.30          4.5  2 days 11:12:59    0 days 05:24:53   \n",
       "1           334     223.60          0.9  4 days 23:49:43    2 days 23:51:48   \n",
       "2           525      16.77          8.1  0 days 03:04:19    0 days 03:04:10   \n",
       "3           296      19.30         22.1  0 days 08:42:44    2 days 14:31:34   \n",
       "4           374      46.70          5.4  0 days 23:21:10  -1 days +22:54:57   \n",
       "...         ...        ...          ...              ...                ...   \n",
       "1033        301     126.20          8.0  2 days 05:49:41    2 days 05:54:13   \n",
       "1034       1126      61.50         15.2  6 days 04:13:47    1 days 06:23:51   \n",
       "1035        340      39.50          6.1  1 days 01:07:35    1 days 01:07:35   \n",
       "1036        491      73.30         21.9  3 days 05:51:23    3 days 05:56:12   \n",
       "1037        282      94.90          9.8  3 days 09:34:23    0 days 09:10:03   \n",
       "\n",
       "        Last_time_Lymph    First_time_LDH    First_time_CRP  First_time_Lymph  \n",
       "0       1 days 21:43:56   2 days 15:51:00   2 days 15:49:10   1 days 21:43:57  \n",
       "1       6 days 17:33:16   4 days 23:49:43   4 days 22:42:30  35 days 22:23:14  \n",
       "2     -1 days +23:56:08  14 days 15:58:27  15 days 18:47:49  11 days 00:51:43  \n",
       "3       0 days 10:37:16   5 days 00:35:01   2 days 14:31:34  24 days 22:08:05  \n",
       "4     -1 days +20:35:07  24 days 13:05:59  24 days 13:28:36  27 days 01:15:44  \n",
       "...                 ...               ...               ...               ...  \n",
       "1033    8 days 12:17:24   2 days 05:49:41   8 days 13:37:45   8 days 12:17:24  \n",
       "1034    2 days 03:52:03   6 days 04:13:47   5 days 23:30:30   6 days 02:58:05  \n",
       "1035    1 days 06:40:15   1 days 01:07:35   1 days 01:07:35   1 days 06:40:15  \n",
       "1036    4 days 01:27:16   3 days 05:51:23   3 days 05:56:12   4 days 01:27:16  \n",
       "1037    2 days 08:31:40   3 days 09:34:23   3 days 15:16:24   2 days 08:31:40  \n",
       "\n",
       "[1038 rows x 14 columns]"
      ]
     },
     "execution_count": 38,
     "metadata": {},
     "output_type": "execute_result"
    }
   ],
   "source": [
    "ny"
   ]
  },
  {
   "cell_type": "code",
   "execution_count": 42,
   "metadata": {},
   "outputs": [
    {
     "name": "stdout",
     "output_type": "stream",
     "text": [
      "Preparation of a new explainer is initiated\n",
      "\n",
      "  -> data              : 375 rows 3 cols\n",
      "  -> target variable   : Parameter 'y' was a pandas.Series. Converted to a numpy.ndarray.\n",
      "  -> target variable   : 375 values\n",
      "  -> model_class       : xgboost.sklearn.XGBClassifier (default)\n",
      "  -> label             : Not specified, model's class short name will be used. (default)\n",
      "  -> predict function  : <function yhat_proba_default at 0x7f49a6fed160> will be used (default)\n",
      "  -> predict function  : Accepts pandas.DataFrame and numpy.ndarray.\n",
      "  -> predicted values  : min = 0.000146, mean = 0.464, max = 1.0\n",
      "  -> model type        : classification will be used (default)\n",
      "  -> residual function : difference between y and yhat (default)\n",
      "  -> residuals         : min = -0.643, mean = -0.000131, max = 0.357\n",
      "  -> model_info        : package xgboost\n",
      "\n",
      "A new explainer has been created!\n",
      "https://arena.drwhy.ai/?data=http://127.0.0.1:9294/\n"
     ]
    }
   ],
   "source": [
    "blood_exp = dx.Explainer(blood_model, blood_df, y)\n",
    "blood_exp.label = \"blood\"\n",
    "\n",
    "arena=dx.Arena()\n",
    "\n",
    "arena.push_model(age_sex_exp)\n",
    "arena.push_model(blood_exp)\n",
    "\n",
    "arena.push_observations(ny)\n",
    "arena.run_server(port=9294)"
   ]
  },
  {
   "cell_type": "code",
   "execution_count": 43,
   "metadata": {},
   "outputs": [],
   "source": [
    "arena.stop_server()"
   ]
  },
  {
   "cell_type": "markdown",
   "metadata": {},
   "source": [
    "# All data (apart from france which is bleee) "
   ]
  },
  {
   "cell_type": "code",
   "execution_count": 44,
   "metadata": {},
   "outputs": [],
   "source": [
    "china = blood_df\n",
    "china['death'] = Y_data\n",
    "china['from'] = 'china'\n",
    "china = china.reset_index(drop = True)"
   ]
  },
  {
   "cell_type": "code",
   "execution_count": 45,
   "metadata": {},
   "outputs": [],
   "source": [
    "netherlands = df\n",
    "y_netherlands = df.death\n",
    "netherlands = netherlands.iloc[:,2:-2]\n",
    "netherlands['death'] = y_netherlands\n",
    "netherlands['from'] = 'netherlands'\n",
    "netherlands = netherlands.rename(columns = { 'Percentage lymphocytes':'Lymphocytes', 'LD':'LDH'})"
   ]
  },
  {
   "cell_type": "code",
   "execution_count": 46,
   "metadata": {},
   "outputs": [],
   "source": [
    "y_ny = ny.Expired_Outcome\n",
    "newyork = ny[['First_LDH', 'First_CRP', 'First_Lymph']]\n",
    "newyork = newyork.rename(columns = {'First_LDH':'LDH',\n",
    "                                      'First_CRP':'CRP',\n",
    "                                      'First_Lymph':'Lymphocytes'})\n",
    "newyork['from'] = 'newyork'\n",
    "newyork['death'] = y_ny"
   ]
  },
  {
   "cell_type": "code",
   "execution_count": 47,
   "metadata": {},
   "outputs": [],
   "source": [
    "nations = china.append([newyork, netherlands])\n",
    "nations['death'] = nations.death.astype('int')\n",
    "nations = nations.reset_index(drop=True)\n"
   ]
  },
  {
   "cell_type": "code",
   "execution_count": 48,
   "metadata": {},
   "outputs": [],
   "source": [
    "X = nations[['LDH','CRP','Lymphocytes','from']]"
   ]
  },
  {
   "cell_type": "code",
   "execution_count": 49,
   "metadata": {},
   "outputs": [],
   "source": [
    "X_train, X_test, y_train, y_test = train_test_split(X, nations.death, test_size = 0.33, random_state = 42)"
   ]
  },
  {
   "cell_type": "code",
   "execution_count": 50,
   "metadata": {},
   "outputs": [
    {
     "data": {
      "text/plain": [
       "XGBClassifier(base_score=0.5, booster='gbtree', colsample_bylevel=1,\n",
       "              colsample_bynode=1, colsample_bytree=0.9, eval_metric='aucpr',\n",
       "              gamma=0, gpu_id=-1, importance_type='gain',\n",
       "              interaction_constraints='', learning_rate=0.2, max_delta_step=0,\n",
       "              max_depth=4, min_child_weight=1, missing=nan,\n",
       "              monotone_constraints='()', n_estimators=150, n_jobs=8,\n",
       "              num_parallel_tree=1, random_state=0, reg_alpha=0, reg_lambda=1,\n",
       "              scale_pos_weight=1, subsample=0.9, tree_method='exact',\n",
       "              validate_parameters=1, verbosity=None)"
      ]
     },
     "execution_count": 50,
     "metadata": {},
     "output_type": "execute_result"
    }
   ],
   "source": [
    "model.fit(X_train.iloc[:,:-1], y_train)"
   ]
  },
  {
   "cell_type": "code",
   "execution_count": 51,
   "metadata": {},
   "outputs": [
    {
     "name": "stdout",
     "output_type": "stream",
     "text": [
      "Preparation of a new explainer is initiated\n",
      "\n",
      "  -> data              : 567 rows 3 cols\n",
      "  -> target variable   : Parameter 'y' was a pandas.Series. Converted to a numpy.ndarray.\n",
      "  -> target variable   : 567 values\n",
      "  -> model_class       : xgboost.sklearn.XGBClassifier (default)\n",
      "  -> label             : Not specified, model's class short name will be used. (default)\n",
      "  -> predict function  : <function yhat_proba_default at 0x7f49a6fed160> will be used (default)\n",
      "  -> predict function  : Accepts pandas.DataFrame and numpy.ndarray.\n",
      "  -> predicted values  : min = 0.000409, mean = 0.342, max = 0.993\n",
      "  -> model type        : classification will be used (default)\n",
      "  -> residual function : difference between y and yhat (default)\n",
      "  -> residuals         : min = -0.906, mean = 0.0215, max = 0.987\n",
      "  -> model_info        : package xgboost\n",
      "\n",
      "A new explainer has been created!\n"
     ]
    }
   ],
   "source": [
    "exp = dx.Explainer(model, X_test.iloc[:,:-1], y_test)"
   ]
  },
  {
   "cell_type": "code",
   "execution_count": 52,
   "metadata": {},
   "outputs": [
    {
     "data": {
      "text/html": [
       "<div>\n",
       "<style scoped>\n",
       "    .dataframe tbody tr th:only-of-type {\n",
       "        vertical-align: middle;\n",
       "    }\n",
       "\n",
       "    .dataframe tbody tr th {\n",
       "        vertical-align: top;\n",
       "    }\n",
       "\n",
       "    .dataframe thead th {\n",
       "        text-align: right;\n",
       "    }\n",
       "</style>\n",
       "<table border=\"1\" class=\"dataframe\">\n",
       "  <thead>\n",
       "    <tr style=\"text-align: right;\">\n",
       "      <th></th>\n",
       "      <th>recall</th>\n",
       "      <th>precision</th>\n",
       "      <th>f1</th>\n",
       "      <th>accuracy</th>\n",
       "      <th>auc</th>\n",
       "    </tr>\n",
       "  </thead>\n",
       "  <tbody>\n",
       "    <tr>\n",
       "      <th>XGBClassifier</th>\n",
       "      <td>0.514563</td>\n",
       "      <td>0.619883</td>\n",
       "      <td>0.562334</td>\n",
       "      <td>0.708995</td>\n",
       "      <td>0.757026</td>\n",
       "    </tr>\n",
       "  </tbody>\n",
       "</table>\n",
       "</div>"
      ],
      "text/plain": [
       "<dalex.model_explanations._model_performance.object.ModelPerformance at 0x7f496dff3640>"
      ]
     },
     "execution_count": 52,
     "metadata": {},
     "output_type": "execute_result"
    }
   ],
   "source": [
    "exp.model_performance()"
   ]
  },
  {
   "cell_type": "code",
   "execution_count": 54,
   "metadata": {},
   "outputs": [
    {
     "name": "stdout",
     "output_type": "stream",
     "text": [
      "https://arena.drwhy.ai/?data=http://127.0.0.1:9295/\n"
     ]
    }
   ],
   "source": [
    "arena=dx.Arena()\n",
    "arena.push_model(exp)\n",
    "\n",
    "arena.push_observations(X_test)\n",
    "arena.run_server(port=9295)"
   ]
  },
  {
   "cell_type": "markdown",
   "metadata": {},
   "source": [
    "# Fairness"
   ]
  },
  {
   "cell_type": "code",
   "execution_count": 48,
   "metadata": {},
   "outputs": [
    {
     "data": {
      "application/vnd.plotly.v1+json": {
       "config": {
        "displaylogo": false,
        "modeBarButtonsToRemove": [
         "sendDataToCloud",
         "lasso2d",
         "autoScale2d",
         "select2d",
         "zoom2d",
         "pan2d",
         "zoomIn2d",
         "zoomOut2d",
         "resetScale2d",
         "toggleSpikelines",
         "hoverCompareCartesian",
         "hoverClosestCartesian"
        ],
        "plotlyServerURL": "https://plot.ly",
        "staticPlot": false,
        "toImageButtonOptions": {
         "height": null,
         "width": null
        }
       },
       "data": [
        {
         "alignmentgroup": "True",
         "customdata": [
          [
           "netherlands",
           0.248,
           "XGBClassifier"
          ],
          [
           "newyork",
           0.866,
           "XGBClassifier"
          ]
         ],
         "hovertemplate": "<b>%{customdata[2]}</b><br>Subgroup: %{customdata[0]}<br>Score: %{customdata[1]}<br><extra></extra>",
         "legendgroup": "XGBClassifier",
         "marker": {
          "color": "#46bac2"
         },
         "name": "XGBClassifier",
         "offsetgroup": "XGBClassifier",
         "orientation": "h",
         "showlegend": true,
         "textposition": "auto",
         "type": "bar",
         "x": [
          -0.7524752475247525,
          -0.13366336633663356
         ],
         "xaxis": "x5",
         "y": [
          0.3333333333333333,
          0.6666666666666666
         ],
         "yaxis": "y5"
        },
        {
         "alignmentgroup": "True",
         "customdata": [
          [
           "netherlands",
           0.383,
           "XGBClassifier"
          ],
          [
           "newyork",
           0.624,
           "XGBClassifier"
          ]
         ],
         "hovertemplate": "<b>%{customdata[2]}</b><br>Subgroup: %{customdata[0]}<br>Score: %{customdata[1]}<br><extra></extra>",
         "legendgroup": "XGBClassifier",
         "marker": {
          "color": "#46bac2"
         },
         "name": "XGBClassifier",
         "offsetgroup": "XGBClassifier",
         "orientation": "h",
         "showlegend": false,
         "textposition": "auto",
         "type": "bar",
         "x": [
          -0.6172413793103448,
          -0.3758620689655172
         ],
         "xaxis": "x4",
         "y": [
          0.3333333333333333,
          0.6666666666666666
         ],
         "yaxis": "y4"
        },
        {
         "alignmentgroup": "True",
         "customdata": [
          [
           "netherlands",
           0.735,
           "XGBClassifier"
          ],
          [
           "newyork",
           2.343,
           "XGBClassifier"
          ]
         ],
         "hovertemplate": "<b>%{customdata[2]}</b><br>Subgroup: %{customdata[0]}<br>Score: %{customdata[1]}<br><extra></extra>",
         "legendgroup": "XGBClassifier",
         "marker": {
          "color": "#46bac2"
         },
         "name": "XGBClassifier",
         "offsetgroup": "XGBClassifier",
         "orientation": "h",
         "showlegend": false,
         "textposition": "auto",
         "type": "bar",
         "x": [
          -0.2647058823529411,
          1.343137254901961
         ],
         "xaxis": "x3",
         "y": [
          0.3333333333333333,
          0.6666666666666666
         ],
         "yaxis": "y3"
        },
        {
         "alignmentgroup": "True",
         "customdata": [
          [
           "netherlands",
           1.035,
           "XGBClassifier"
          ],
          [
           "newyork",
           0.911,
           "XGBClassifier"
          ]
         ],
         "hovertemplate": "<b>%{customdata[2]}</b><br>Subgroup: %{customdata[0]}<br>Score: %{customdata[1]}<br><extra></extra>",
         "legendgroup": "XGBClassifier",
         "marker": {
          "color": "#46bac2"
         },
         "name": "XGBClassifier",
         "offsetgroup": "XGBClassifier",
         "orientation": "h",
         "showlegend": false,
         "textposition": "auto",
         "type": "bar",
         "x": [
          0.034946236559139754,
          -0.08870967741935476
         ],
         "xaxis": "x2",
         "y": [
          0.3333333333333333,
          0.6666666666666666
         ],
         "yaxis": "y2"
        },
        {
         "alignmentgroup": "True",
         "customdata": [
          [
           "netherlands",
           0.245,
           "XGBClassifier"
          ],
          [
           "newyork",
           0.921,
           "XGBClassifier"
          ]
         ],
         "hovertemplate": "<b>%{customdata[2]}</b><br>Subgroup: %{customdata[0]}<br>Score: %{customdata[1]}<br><extra></extra>",
         "legendgroup": "XGBClassifier",
         "marker": {
          "color": "#46bac2"
         },
         "name": "XGBClassifier",
         "offsetgroup": "XGBClassifier",
         "orientation": "h",
         "showlegend": false,
         "textposition": "auto",
         "type": "bar",
         "x": [
          -0.7554347826086957,
          -0.07880434782608692
         ],
         "xaxis": "x",
         "y": [
          0.3333333333333333,
          0.6666666666666666
         ],
         "yaxis": "y"
        }
       ],
       "layout": {
        "annotations": [
         {
          "font": {
           "size": 15
          },
          "showarrow": false,
          "text": "Statistical parity ratio   (TP + FP)/(TP + FP + TN + FN)",
          "x": 0.05,
          "xanchor": "left",
          "xref": "paper",
          "y": 0.144,
          "yanchor": "bottom",
          "yref": "paper"
         },
         {
          "font": {
           "size": 15
          },
          "showarrow": false,
          "text": "Accuracy equality ratio    (TP + TN)/(TP + FP + TN + FN)",
          "x": 0.05,
          "xanchor": "left",
          "xref": "paper",
          "y": 0.358,
          "yanchor": "bottom",
          "yref": "paper"
         },
         {
          "font": {
           "size": 15
          },
          "showarrow": false,
          "text": "Predictive equality ratio   FP/(FP + TN)",
          "x": 0.05,
          "xanchor": "left",
          "xref": "paper",
          "y": 0.572,
          "yanchor": "bottom",
          "yref": "paper"
         },
         {
          "font": {
           "size": 15
          },
          "showarrow": false,
          "text": "Predictive parity ratio     TP/(TP + FP)",
          "x": 0.05,
          "xanchor": "left",
          "xref": "paper",
          "y": 0.7859999999999999,
          "yanchor": "bottom",
          "yref": "paper"
         },
         {
          "font": {
           "size": 15
          },
          "showarrow": false,
          "text": "Equal opportunity ratio     TP/(TP + FN)",
          "x": 0.05,
          "xanchor": "left",
          "xref": "paper",
          "y": 1,
          "yanchor": "bottom",
          "yref": "paper"
         }
        ],
        "barmode": "group",
        "font": {
         "color": "#371ea3"
        },
        "legend": {
         "title": {
          "text": "label"
         },
         "tracegroupgap": 0
        },
        "margin": {
         "b": 71,
         "r": 30,
         "t": 78
        },
        "shapes": [
         {
          "fillcolor": "#f05a71",
          "layer": "below",
          "line": {
           "width": 0
          },
          "opacity": 0.1,
          "type": "rect",
          "x0": 0.25,
          "x1": 1.4,
          "xref": "x",
          "y0": 0,
          "y1": 1,
          "yref": "y"
         },
         {
          "fillcolor": "#f05a71",
          "layer": "below",
          "line": {
           "width": 0
          },
          "opacity": 0.1,
          "type": "rect",
          "x0": -0.9,
          "x1": -0.19999999999999996,
          "xref": "x",
          "y0": 0,
          "y1": 1,
          "yref": "y"
         },
         {
          "fillcolor": "#c7f5bf",
          "layer": "below",
          "line": {
           "width": 0
          },
          "opacity": 0.1,
          "type": "rect",
          "x0": -0.19999999999999996,
          "x1": 0.25,
          "xref": "x",
          "y0": 0,
          "y1": 1,
          "yref": "y"
         },
         {
          "line": {
           "color": "#371ea3",
           "width": 1.5
          },
          "type": "line",
          "x0": 0,
          "x1": 0,
          "xref": "x",
          "y0": 0,
          "y1": 1,
          "yref": "y"
         },
         {
          "fillcolor": "#f05a71",
          "layer": "below",
          "line": {
           "width": 0
          },
          "opacity": 0.1,
          "type": "rect",
          "x0": 0.25,
          "x1": 1.4,
          "xref": "x",
          "y0": 0,
          "y1": 1,
          "yref": "y2"
         },
         {
          "fillcolor": "#f05a71",
          "layer": "below",
          "line": {
           "width": 0
          },
          "opacity": 0.1,
          "type": "rect",
          "x0": -0.9,
          "x1": -0.19999999999999996,
          "xref": "x",
          "y0": 0,
          "y1": 1,
          "yref": "y2"
         },
         {
          "fillcolor": "#c7f5bf",
          "layer": "below",
          "line": {
           "width": 0
          },
          "opacity": 0.1,
          "type": "rect",
          "x0": -0.19999999999999996,
          "x1": 0.25,
          "xref": "x",
          "y0": 0,
          "y1": 1,
          "yref": "y2"
         },
         {
          "line": {
           "color": "#371ea3",
           "width": 1.5
          },
          "type": "line",
          "x0": 0,
          "x1": 0,
          "xref": "x",
          "y0": 0,
          "y1": 1,
          "yref": "y2"
         },
         {
          "fillcolor": "#f05a71",
          "layer": "below",
          "line": {
           "width": 0
          },
          "opacity": 0.1,
          "type": "rect",
          "x0": 0.25,
          "x1": 1.4,
          "xref": "x",
          "y0": 0,
          "y1": 1,
          "yref": "y3"
         },
         {
          "fillcolor": "#f05a71",
          "layer": "below",
          "line": {
           "width": 0
          },
          "opacity": 0.1,
          "type": "rect",
          "x0": -0.9,
          "x1": -0.19999999999999996,
          "xref": "x",
          "y0": 0,
          "y1": 1,
          "yref": "y3"
         },
         {
          "fillcolor": "#c7f5bf",
          "layer": "below",
          "line": {
           "width": 0
          },
          "opacity": 0.1,
          "type": "rect",
          "x0": -0.19999999999999996,
          "x1": 0.25,
          "xref": "x",
          "y0": 0,
          "y1": 1,
          "yref": "y3"
         },
         {
          "line": {
           "color": "#371ea3",
           "width": 1.5
          },
          "type": "line",
          "x0": 0,
          "x1": 0,
          "xref": "x",
          "y0": 0,
          "y1": 1,
          "yref": "y3"
         },
         {
          "fillcolor": "#f05a71",
          "layer": "below",
          "line": {
           "width": 0
          },
          "opacity": 0.1,
          "type": "rect",
          "x0": 0.25,
          "x1": 1.4,
          "xref": "x",
          "y0": 0,
          "y1": 1,
          "yref": "y4"
         },
         {
          "fillcolor": "#f05a71",
          "layer": "below",
          "line": {
           "width": 0
          },
          "opacity": 0.1,
          "type": "rect",
          "x0": -0.9,
          "x1": -0.19999999999999996,
          "xref": "x",
          "y0": 0,
          "y1": 1,
          "yref": "y4"
         },
         {
          "fillcolor": "#c7f5bf",
          "layer": "below",
          "line": {
           "width": 0
          },
          "opacity": 0.1,
          "type": "rect",
          "x0": -0.19999999999999996,
          "x1": 0.25,
          "xref": "x",
          "y0": 0,
          "y1": 1,
          "yref": "y4"
         },
         {
          "line": {
           "color": "#371ea3",
           "width": 1.5
          },
          "type": "line",
          "x0": 0,
          "x1": 0,
          "xref": "x",
          "y0": 0,
          "y1": 1,
          "yref": "y4"
         },
         {
          "fillcolor": "#f05a71",
          "layer": "below",
          "line": {
           "width": 0
          },
          "opacity": 0.1,
          "type": "rect",
          "x0": 0.25,
          "x1": 1.4,
          "xref": "x",
          "y0": 0,
          "y1": 1,
          "yref": "y5"
         },
         {
          "fillcolor": "#f05a71",
          "layer": "below",
          "line": {
           "width": 0
          },
          "opacity": 0.1,
          "type": "rect",
          "x0": -0.9,
          "x1": -0.19999999999999996,
          "xref": "x",
          "y0": 0,
          "y1": 1,
          "yref": "y5"
         },
         {
          "fillcolor": "#c7f5bf",
          "layer": "below",
          "line": {
           "width": 0
          },
          "opacity": 0.1,
          "type": "rect",
          "x0": -0.19999999999999996,
          "x1": 0.25,
          "xref": "x",
          "y0": 0,
          "y1": 1,
          "yref": "y5"
         },
         {
          "line": {
           "color": "#371ea3",
           "width": 1.5
          },
          "type": "line",
          "x0": 0,
          "x1": 0,
          "xref": "x",
          "y0": 0,
          "y1": 1,
          "yref": "y5"
         }
        ],
        "template": {
         "data": {
          "bar": [
           {
            "error_x": {
             "color": "#2a3f5f"
            },
            "error_y": {
             "color": "#2a3f5f"
            },
            "marker": {
             "line": {
              "color": "white",
              "width": 0.5
             }
            },
            "type": "bar"
           }
          ],
          "barpolar": [
           {
            "marker": {
             "line": {
              "color": "white",
              "width": 0.5
             }
            },
            "type": "barpolar"
           }
          ],
          "carpet": [
           {
            "aaxis": {
             "endlinecolor": "#2a3f5f",
             "gridcolor": "#C8D4E3",
             "linecolor": "#C8D4E3",
             "minorgridcolor": "#C8D4E3",
             "startlinecolor": "#2a3f5f"
            },
            "baxis": {
             "endlinecolor": "#2a3f5f",
             "gridcolor": "#C8D4E3",
             "linecolor": "#C8D4E3",
             "minorgridcolor": "#C8D4E3",
             "startlinecolor": "#2a3f5f"
            },
            "type": "carpet"
           }
          ],
          "choropleth": [
           {
            "colorbar": {
             "outlinewidth": 0,
             "ticks": ""
            },
            "type": "choropleth"
           }
          ],
          "contour": [
           {
            "colorbar": {
             "outlinewidth": 0,
             "ticks": ""
            },
            "colorscale": [
             [
              0,
              "#0d0887"
             ],
             [
              0.1111111111111111,
              "#46039f"
             ],
             [
              0.2222222222222222,
              "#7201a8"
             ],
             [
              0.3333333333333333,
              "#9c179e"
             ],
             [
              0.4444444444444444,
              "#bd3786"
             ],
             [
              0.5555555555555556,
              "#d8576b"
             ],
             [
              0.6666666666666666,
              "#ed7953"
             ],
             [
              0.7777777777777778,
              "#fb9f3a"
             ],
             [
              0.8888888888888888,
              "#fdca26"
             ],
             [
              1,
              "#f0f921"
             ]
            ],
            "type": "contour"
           }
          ],
          "contourcarpet": [
           {
            "colorbar": {
             "outlinewidth": 0,
             "ticks": ""
            },
            "type": "contourcarpet"
           }
          ],
          "heatmap": [
           {
            "colorbar": {
             "outlinewidth": 0,
             "ticks": ""
            },
            "colorscale": [
             [
              0,
              "#0d0887"
             ],
             [
              0.1111111111111111,
              "#46039f"
             ],
             [
              0.2222222222222222,
              "#7201a8"
             ],
             [
              0.3333333333333333,
              "#9c179e"
             ],
             [
              0.4444444444444444,
              "#bd3786"
             ],
             [
              0.5555555555555556,
              "#d8576b"
             ],
             [
              0.6666666666666666,
              "#ed7953"
             ],
             [
              0.7777777777777778,
              "#fb9f3a"
             ],
             [
              0.8888888888888888,
              "#fdca26"
             ],
             [
              1,
              "#f0f921"
             ]
            ],
            "type": "heatmap"
           }
          ],
          "heatmapgl": [
           {
            "colorbar": {
             "outlinewidth": 0,
             "ticks": ""
            },
            "colorscale": [
             [
              0,
              "#0d0887"
             ],
             [
              0.1111111111111111,
              "#46039f"
             ],
             [
              0.2222222222222222,
              "#7201a8"
             ],
             [
              0.3333333333333333,
              "#9c179e"
             ],
             [
              0.4444444444444444,
              "#bd3786"
             ],
             [
              0.5555555555555556,
              "#d8576b"
             ],
             [
              0.6666666666666666,
              "#ed7953"
             ],
             [
              0.7777777777777778,
              "#fb9f3a"
             ],
             [
              0.8888888888888888,
              "#fdca26"
             ],
             [
              1,
              "#f0f921"
             ]
            ],
            "type": "heatmapgl"
           }
          ],
          "histogram": [
           {
            "marker": {
             "colorbar": {
              "outlinewidth": 0,
              "ticks": ""
             }
            },
            "type": "histogram"
           }
          ],
          "histogram2d": [
           {
            "colorbar": {
             "outlinewidth": 0,
             "ticks": ""
            },
            "colorscale": [
             [
              0,
              "#0d0887"
             ],
             [
              0.1111111111111111,
              "#46039f"
             ],
             [
              0.2222222222222222,
              "#7201a8"
             ],
             [
              0.3333333333333333,
              "#9c179e"
             ],
             [
              0.4444444444444444,
              "#bd3786"
             ],
             [
              0.5555555555555556,
              "#d8576b"
             ],
             [
              0.6666666666666666,
              "#ed7953"
             ],
             [
              0.7777777777777778,
              "#fb9f3a"
             ],
             [
              0.8888888888888888,
              "#fdca26"
             ],
             [
              1,
              "#f0f921"
             ]
            ],
            "type": "histogram2d"
           }
          ],
          "histogram2dcontour": [
           {
            "colorbar": {
             "outlinewidth": 0,
             "ticks": ""
            },
            "colorscale": [
             [
              0,
              "#0d0887"
             ],
             [
              0.1111111111111111,
              "#46039f"
             ],
             [
              0.2222222222222222,
              "#7201a8"
             ],
             [
              0.3333333333333333,
              "#9c179e"
             ],
             [
              0.4444444444444444,
              "#bd3786"
             ],
             [
              0.5555555555555556,
              "#d8576b"
             ],
             [
              0.6666666666666666,
              "#ed7953"
             ],
             [
              0.7777777777777778,
              "#fb9f3a"
             ],
             [
              0.8888888888888888,
              "#fdca26"
             ],
             [
              1,
              "#f0f921"
             ]
            ],
            "type": "histogram2dcontour"
           }
          ],
          "mesh3d": [
           {
            "colorbar": {
             "outlinewidth": 0,
             "ticks": ""
            },
            "type": "mesh3d"
           }
          ],
          "parcoords": [
           {
            "line": {
             "colorbar": {
              "outlinewidth": 0,
              "ticks": ""
             }
            },
            "type": "parcoords"
           }
          ],
          "pie": [
           {
            "automargin": true,
            "type": "pie"
           }
          ],
          "scatter": [
           {
            "marker": {
             "colorbar": {
              "outlinewidth": 0,
              "ticks": ""
             }
            },
            "type": "scatter"
           }
          ],
          "scatter3d": [
           {
            "line": {
             "colorbar": {
              "outlinewidth": 0,
              "ticks": ""
             }
            },
            "marker": {
             "colorbar": {
              "outlinewidth": 0,
              "ticks": ""
             }
            },
            "type": "scatter3d"
           }
          ],
          "scattercarpet": [
           {
            "marker": {
             "colorbar": {
              "outlinewidth": 0,
              "ticks": ""
             }
            },
            "type": "scattercarpet"
           }
          ],
          "scattergeo": [
           {
            "marker": {
             "colorbar": {
              "outlinewidth": 0,
              "ticks": ""
             }
            },
            "type": "scattergeo"
           }
          ],
          "scattergl": [
           {
            "marker": {
             "colorbar": {
              "outlinewidth": 0,
              "ticks": ""
             }
            },
            "type": "scattergl"
           }
          ],
          "scattermapbox": [
           {
            "marker": {
             "colorbar": {
              "outlinewidth": 0,
              "ticks": ""
             }
            },
            "type": "scattermapbox"
           }
          ],
          "scatterpolar": [
           {
            "marker": {
             "colorbar": {
              "outlinewidth": 0,
              "ticks": ""
             }
            },
            "type": "scatterpolar"
           }
          ],
          "scatterpolargl": [
           {
            "marker": {
             "colorbar": {
              "outlinewidth": 0,
              "ticks": ""
             }
            },
            "type": "scatterpolargl"
           }
          ],
          "scatterternary": [
           {
            "marker": {
             "colorbar": {
              "outlinewidth": 0,
              "ticks": ""
             }
            },
            "type": "scatterternary"
           }
          ],
          "surface": [
           {
            "colorbar": {
             "outlinewidth": 0,
             "ticks": ""
            },
            "colorscale": [
             [
              0,
              "#0d0887"
             ],
             [
              0.1111111111111111,
              "#46039f"
             ],
             [
              0.2222222222222222,
              "#7201a8"
             ],
             [
              0.3333333333333333,
              "#9c179e"
             ],
             [
              0.4444444444444444,
              "#bd3786"
             ],
             [
              0.5555555555555556,
              "#d8576b"
             ],
             [
              0.6666666666666666,
              "#ed7953"
             ],
             [
              0.7777777777777778,
              "#fb9f3a"
             ],
             [
              0.8888888888888888,
              "#fdca26"
             ],
             [
              1,
              "#f0f921"
             ]
            ],
            "type": "surface"
           }
          ],
          "table": [
           {
            "cells": {
             "fill": {
              "color": "#EBF0F8"
             },
             "line": {
              "color": "white"
             }
            },
            "header": {
             "fill": {
              "color": "#C8D4E3"
             },
             "line": {
              "color": "white"
             }
            },
            "type": "table"
           }
          ]
         },
         "layout": {
          "annotationdefaults": {
           "arrowcolor": "#2a3f5f",
           "arrowhead": 0,
           "arrowwidth": 1
          },
          "autotypenumbers": "strict",
          "coloraxis": {
           "colorbar": {
            "outlinewidth": 0,
            "ticks": ""
           }
          },
          "colorscale": {
           "diverging": [
            [
             0,
             "#8e0152"
            ],
            [
             0.1,
             "#c51b7d"
            ],
            [
             0.2,
             "#de77ae"
            ],
            [
             0.3,
             "#f1b6da"
            ],
            [
             0.4,
             "#fde0ef"
            ],
            [
             0.5,
             "#f7f7f7"
            ],
            [
             0.6,
             "#e6f5d0"
            ],
            [
             0.7,
             "#b8e186"
            ],
            [
             0.8,
             "#7fbc41"
            ],
            [
             0.9,
             "#4d9221"
            ],
            [
             1,
             "#276419"
            ]
           ],
           "sequential": [
            [
             0,
             "#0d0887"
            ],
            [
             0.1111111111111111,
             "#46039f"
            ],
            [
             0.2222222222222222,
             "#7201a8"
            ],
            [
             0.3333333333333333,
             "#9c179e"
            ],
            [
             0.4444444444444444,
             "#bd3786"
            ],
            [
             0.5555555555555556,
             "#d8576b"
            ],
            [
             0.6666666666666666,
             "#ed7953"
            ],
            [
             0.7777777777777778,
             "#fb9f3a"
            ],
            [
             0.8888888888888888,
             "#fdca26"
            ],
            [
             1,
             "#f0f921"
            ]
           ],
           "sequentialminus": [
            [
             0,
             "#0d0887"
            ],
            [
             0.1111111111111111,
             "#46039f"
            ],
            [
             0.2222222222222222,
             "#7201a8"
            ],
            [
             0.3333333333333333,
             "#9c179e"
            ],
            [
             0.4444444444444444,
             "#bd3786"
            ],
            [
             0.5555555555555556,
             "#d8576b"
            ],
            [
             0.6666666666666666,
             "#ed7953"
            ],
            [
             0.7777777777777778,
             "#fb9f3a"
            ],
            [
             0.8888888888888888,
             "#fdca26"
            ],
            [
             1,
             "#f0f921"
            ]
           ]
          },
          "colorway": [
           "#636efa",
           "#EF553B",
           "#00cc96",
           "#ab63fa",
           "#FFA15A",
           "#19d3f3",
           "#FF6692",
           "#B6E880",
           "#FF97FF",
           "#FECB52"
          ],
          "font": {
           "color": "#2a3f5f"
          },
          "geo": {
           "bgcolor": "white",
           "lakecolor": "white",
           "landcolor": "white",
           "showlakes": true,
           "showland": true,
           "subunitcolor": "#C8D4E3"
          },
          "hoverlabel": {
           "align": "left"
          },
          "hovermode": "closest",
          "mapbox": {
           "style": "light"
          },
          "paper_bgcolor": "white",
          "plot_bgcolor": "white",
          "polar": {
           "angularaxis": {
            "gridcolor": "#EBF0F8",
            "linecolor": "#EBF0F8",
            "ticks": ""
           },
           "bgcolor": "white",
           "radialaxis": {
            "gridcolor": "#EBF0F8",
            "linecolor": "#EBF0F8",
            "ticks": ""
           }
          },
          "scene": {
           "xaxis": {
            "backgroundcolor": "white",
            "gridcolor": "#DFE8F3",
            "gridwidth": 2,
            "linecolor": "#EBF0F8",
            "showbackground": true,
            "ticks": "",
            "zerolinecolor": "#EBF0F8"
           },
           "yaxis": {
            "backgroundcolor": "white",
            "gridcolor": "#DFE8F3",
            "gridwidth": 2,
            "linecolor": "#EBF0F8",
            "showbackground": true,
            "ticks": "",
            "zerolinecolor": "#EBF0F8"
           },
           "zaxis": {
            "backgroundcolor": "white",
            "gridcolor": "#DFE8F3",
            "gridwidth": 2,
            "linecolor": "#EBF0F8",
            "showbackground": true,
            "ticks": "",
            "zerolinecolor": "#EBF0F8"
           }
          },
          "shapedefaults": {
           "line": {
            "color": "#2a3f5f"
           }
          },
          "ternary": {
           "aaxis": {
            "gridcolor": "#DFE8F3",
            "linecolor": "#A2B1C6",
            "ticks": ""
           },
           "baxis": {
            "gridcolor": "#DFE8F3",
            "linecolor": "#A2B1C6",
            "ticks": ""
           },
           "bgcolor": "white",
           "caxis": {
            "gridcolor": "#DFE8F3",
            "linecolor": "#A2B1C6",
            "ticks": ""
           }
          },
          "title": {
           "x": 0.05
          },
          "xaxis": {
           "automargin": true,
           "gridcolor": "#EBF0F8",
           "linecolor": "#EBF0F8",
           "ticks": "",
           "title": {
            "standoff": 15
           },
           "zerolinecolor": "#EBF0F8",
           "zerolinewidth": 2
          },
          "yaxis": {
           "automargin": true,
           "gridcolor": "#EBF0F8",
           "linecolor": "#EBF0F8",
           "ticks": "",
           "title": {
            "standoff": 15
           },
           "zerolinecolor": "#EBF0F8",
           "zerolinewidth": 2
          }
         }
        },
        "title": {
         "font": {
          "size": 25
         },
         "text": "Fairness Check",
         "x": 0.5,
         "y": 0.99
        },
        "xaxis": {
         "anchor": "y",
         "domain": [
          0,
          1
         ],
         "range": [
          -0.9,
          1.4
         ],
         "ticktext": [
          0.1,
          0.2,
          0.3,
          0.4,
          0.5,
          0.6,
          0.7,
          0.8,
          0.9,
          1,
          1.1,
          1.2,
          1.3,
          1.4,
          1.5,
          1.6,
          1.7,
          1.8,
          1.9,
          2,
          2.1,
          2.2,
          2.3,
          2.4
         ],
         "tickvals": [
          -0.9,
          -0.8,
          -0.7,
          -0.6,
          -0.5,
          -0.4,
          -0.3,
          -0.2,
          -0.1,
          0,
          0.1,
          0.2,
          0.3,
          0.4,
          0.5,
          0.6,
          0.7,
          0.8,
          0.9,
          1,
          1.1,
          1.2,
          1.3,
          1.4
         ],
         "title": {
          "text": "score"
         }
        },
        "xaxis2": {
         "anchor": "y2",
         "domain": [
          0,
          1
         ],
         "matches": "x",
         "range": [
          -0.9,
          1.4
         ],
         "showticklabels": false,
         "ticktext": [
          0.1,
          0.2,
          0.3,
          0.4,
          0.5,
          0.6,
          0.7,
          0.8,
          0.9,
          1,
          1.1,
          1.2,
          1.3,
          1.4,
          1.5,
          1.6,
          1.7,
          1.8,
          1.9,
          2,
          2.1,
          2.2,
          2.3,
          2.4
         ],
         "tickvals": [
          -0.9,
          -0.8,
          -0.7,
          -0.6,
          -0.5,
          -0.4,
          -0.3,
          -0.2,
          -0.1,
          0,
          0.1,
          0.2,
          0.3,
          0.4,
          0.5,
          0.6,
          0.7,
          0.8,
          0.9,
          1,
          1.1,
          1.2,
          1.3,
          1.4
         ]
        },
        "xaxis3": {
         "anchor": "y3",
         "domain": [
          0,
          1
         ],
         "matches": "x",
         "range": [
          -0.9,
          1.4
         ],
         "showticklabels": false,
         "ticktext": [
          0.1,
          0.2,
          0.3,
          0.4,
          0.5,
          0.6,
          0.7,
          0.8,
          0.9,
          1,
          1.1,
          1.2,
          1.3,
          1.4,
          1.5,
          1.6,
          1.7,
          1.8,
          1.9,
          2,
          2.1,
          2.2,
          2.3,
          2.4
         ],
         "tickvals": [
          -0.9,
          -0.8,
          -0.7,
          -0.6,
          -0.5,
          -0.4,
          -0.3,
          -0.2,
          -0.1,
          0,
          0.1,
          0.2,
          0.3,
          0.4,
          0.5,
          0.6,
          0.7,
          0.8,
          0.9,
          1,
          1.1,
          1.2,
          1.3,
          1.4
         ]
        },
        "xaxis4": {
         "anchor": "y4",
         "domain": [
          0,
          1
         ],
         "matches": "x",
         "range": [
          -0.9,
          1.4
         ],
         "showticklabels": false,
         "ticktext": [
          0.1,
          0.2,
          0.3,
          0.4,
          0.5,
          0.6,
          0.7,
          0.8,
          0.9,
          1,
          1.1,
          1.2,
          1.3,
          1.4,
          1.5,
          1.6,
          1.7,
          1.8,
          1.9,
          2,
          2.1,
          2.2,
          2.3,
          2.4
         ],
         "tickvals": [
          -0.9,
          -0.8,
          -0.7,
          -0.6,
          -0.5,
          -0.4,
          -0.3,
          -0.2,
          -0.1,
          0,
          0.1,
          0.2,
          0.3,
          0.4,
          0.5,
          0.6,
          0.7,
          0.8,
          0.9,
          1,
          1.1,
          1.2,
          1.3,
          1.4
         ]
        },
        "xaxis5": {
         "anchor": "y5",
         "domain": [
          0,
          1
         ],
         "matches": "x",
         "range": [
          -0.9,
          1.4
         ],
         "showticklabels": false,
         "ticktext": [
          0.1,
          0.2,
          0.3,
          0.4,
          0.5,
          0.6,
          0.7,
          0.8,
          0.9,
          1,
          1.1,
          1.2,
          1.3,
          1.4,
          1.5,
          1.6,
          1.7,
          1.8,
          1.9,
          2,
          2.1,
          2.2,
          2.3,
          2.4
         ],
         "tickvals": [
          -0.9,
          -0.8,
          -0.7,
          -0.6,
          -0.5,
          -0.4,
          -0.3,
          -0.2,
          -0.1,
          0,
          0.1,
          0.2,
          0.3,
          0.4,
          0.5,
          0.6,
          0.7,
          0.8,
          0.9,
          1,
          1.1,
          1.2,
          1.3,
          1.4
         ]
        },
        "yaxis": {
         "anchor": "x",
         "domain": [
          0,
          0.144
         ],
         "range": [
          0,
          1
         ],
         "showgrid": false,
         "ticktext": [
          "netherlands",
          "newyork"
         ],
         "tickvals": [
          0.3333333333333333,
          0.6666666666666666
         ],
         "title": {
          "text": ""
         },
         "zeroline": false
        },
        "yaxis2": {
         "anchor": "x2",
         "domain": [
          0.214,
          0.358
         ],
         "matches": "y",
         "range": [
          0,
          1
         ],
         "showgrid": false,
         "ticktext": [
          "netherlands",
          "newyork"
         ],
         "tickvals": [
          0.3333333333333333,
          0.6666666666666666
         ],
         "title": {
          "text": ""
         },
         "zeroline": false
        },
        "yaxis3": {
         "anchor": "x3",
         "domain": [
          0.428,
          0.572
         ],
         "matches": "y",
         "range": [
          0,
          1
         ],
         "showgrid": false,
         "ticktext": [
          "netherlands",
          "newyork"
         ],
         "tickvals": [
          0.3333333333333333,
          0.6666666666666666
         ],
         "title": {
          "text": "subgroup"
         },
         "zeroline": false
        },
        "yaxis4": {
         "anchor": "x4",
         "domain": [
          0.6419999999999999,
          0.7859999999999999
         ],
         "matches": "y",
         "range": [
          0,
          1
         ],
         "showgrid": false,
         "ticktext": [
          "netherlands",
          "newyork"
         ],
         "tickvals": [
          0.3333333333333333,
          0.6666666666666666
         ],
         "title": {
          "text": ""
         },
         "zeroline": false
        },
        "yaxis5": {
         "anchor": "x5",
         "domain": [
          0.856,
          1
         ],
         "matches": "y",
         "range": [
          0,
          1
         ],
         "showgrid": false,
         "ticktext": [
          "netherlands",
          "newyork"
         ],
         "tickvals": [
          0.3333333333333333,
          0.6666666666666666
         ],
         "title": {
          "text": ""
         },
         "zeroline": false
        }
       }
      },
      "text/html": [
       "<div>                            <div id=\"a4c226cd-42ea-4300-bc37-0677c1233679\" class=\"plotly-graph-div\" style=\"height:525px; width:100%;\"></div>            <script type=\"text/javascript\">                require([\"plotly\"], function(Plotly) {                    window.PLOTLYENV=window.PLOTLYENV || {};                                    if (document.getElementById(\"a4c226cd-42ea-4300-bc37-0677c1233679\")) {                    Plotly.newPlot(                        \"a4c226cd-42ea-4300-bc37-0677c1233679\",                        [{\"alignmentgroup\": \"True\", \"customdata\": [[\"netherlands\", 0.248, \"XGBClassifier\"], [\"newyork\", 0.866, \"XGBClassifier\"]], \"hovertemplate\": \"<b>%{customdata[2]}</b><br>Subgroup: %{customdata[0]}<br>Score: %{customdata[1]}<br><extra></extra>\", \"legendgroup\": \"XGBClassifier\", \"marker\": {\"color\": \"#46bac2\"}, \"name\": \"XGBClassifier\", \"offsetgroup\": \"XGBClassifier\", \"orientation\": \"h\", \"showlegend\": true, \"textposition\": \"auto\", \"type\": \"bar\", \"x\": [-0.7524752475247525, -0.13366336633663356], \"xaxis\": \"x5\", \"y\": [0.3333333333333333, 0.6666666666666666], \"yaxis\": \"y5\"}, {\"alignmentgroup\": \"True\", \"customdata\": [[\"netherlands\", 0.383, \"XGBClassifier\"], [\"newyork\", 0.624, \"XGBClassifier\"]], \"hovertemplate\": \"<b>%{customdata[2]}</b><br>Subgroup: %{customdata[0]}<br>Score: %{customdata[1]}<br><extra></extra>\", \"legendgroup\": \"XGBClassifier\", \"marker\": {\"color\": \"#46bac2\"}, \"name\": \"XGBClassifier\", \"offsetgroup\": \"XGBClassifier\", \"orientation\": \"h\", \"showlegend\": false, \"textposition\": \"auto\", \"type\": \"bar\", \"x\": [-0.6172413793103448, -0.3758620689655172], \"xaxis\": \"x4\", \"y\": [0.3333333333333333, 0.6666666666666666], \"yaxis\": \"y4\"}, {\"alignmentgroup\": \"True\", \"customdata\": [[\"netherlands\", 0.735, \"XGBClassifier\"], [\"newyork\", 2.343, \"XGBClassifier\"]], \"hovertemplate\": \"<b>%{customdata[2]}</b><br>Subgroup: %{customdata[0]}<br>Score: %{customdata[1]}<br><extra></extra>\", \"legendgroup\": \"XGBClassifier\", \"marker\": {\"color\": \"#46bac2\"}, \"name\": \"XGBClassifier\", \"offsetgroup\": \"XGBClassifier\", \"orientation\": \"h\", \"showlegend\": false, \"textposition\": \"auto\", \"type\": \"bar\", \"x\": [-0.2647058823529411, 1.343137254901961], \"xaxis\": \"x3\", \"y\": [0.3333333333333333, 0.6666666666666666], \"yaxis\": \"y3\"}, {\"alignmentgroup\": \"True\", \"customdata\": [[\"netherlands\", 1.035, \"XGBClassifier\"], [\"newyork\", 0.911, \"XGBClassifier\"]], \"hovertemplate\": \"<b>%{customdata[2]}</b><br>Subgroup: %{customdata[0]}<br>Score: %{customdata[1]}<br><extra></extra>\", \"legendgroup\": \"XGBClassifier\", \"marker\": {\"color\": \"#46bac2\"}, \"name\": \"XGBClassifier\", \"offsetgroup\": \"XGBClassifier\", \"orientation\": \"h\", \"showlegend\": false, \"textposition\": \"auto\", \"type\": \"bar\", \"x\": [0.034946236559139754, -0.08870967741935476], \"xaxis\": \"x2\", \"y\": [0.3333333333333333, 0.6666666666666666], \"yaxis\": \"y2\"}, {\"alignmentgroup\": \"True\", \"customdata\": [[\"netherlands\", 0.245, \"XGBClassifier\"], [\"newyork\", 0.921, \"XGBClassifier\"]], \"hovertemplate\": \"<b>%{customdata[2]}</b><br>Subgroup: %{customdata[0]}<br>Score: %{customdata[1]}<br><extra></extra>\", \"legendgroup\": \"XGBClassifier\", \"marker\": {\"color\": \"#46bac2\"}, \"name\": \"XGBClassifier\", \"offsetgroup\": \"XGBClassifier\", \"orientation\": \"h\", \"showlegend\": false, \"textposition\": \"auto\", \"type\": \"bar\", \"x\": [-0.7554347826086957, -0.07880434782608692], \"xaxis\": \"x\", \"y\": [0.3333333333333333, 0.6666666666666666], \"yaxis\": \"y\"}],                        {\"annotations\": [{\"font\": {\"size\": 15}, \"showarrow\": false, \"text\": \"Statistical parity ratio   (TP + FP)/(TP + FP + TN + FN)\", \"x\": 0.05, \"xanchor\": \"left\", \"xref\": \"paper\", \"y\": 0.144, \"yanchor\": \"bottom\", \"yref\": \"paper\"}, {\"font\": {\"size\": 15}, \"showarrow\": false, \"text\": \"Accuracy equality ratio    (TP + TN)/(TP + FP + TN + FN)\", \"x\": 0.05, \"xanchor\": \"left\", \"xref\": \"paper\", \"y\": 0.358, \"yanchor\": \"bottom\", \"yref\": \"paper\"}, {\"font\": {\"size\": 15}, \"showarrow\": false, \"text\": \"Predictive equality ratio   FP/(FP + TN)\", \"x\": 0.05, \"xanchor\": \"left\", \"xref\": \"paper\", \"y\": 0.572, \"yanchor\": \"bottom\", \"yref\": \"paper\"}, {\"font\": {\"size\": 15}, \"showarrow\": false, \"text\": \"Predictive parity ratio     TP/(TP + FP)\", \"x\": 0.05, \"xanchor\": \"left\", \"xref\": \"paper\", \"y\": 0.7859999999999999, \"yanchor\": \"bottom\", \"yref\": \"paper\"}, {\"font\": {\"size\": 15}, \"showarrow\": false, \"text\": \"Equal opportunity ratio     TP/(TP + FN)\", \"x\": 0.05, \"xanchor\": \"left\", \"xref\": \"paper\", \"y\": 1.0, \"yanchor\": \"bottom\", \"yref\": \"paper\"}], \"barmode\": \"group\", \"font\": {\"color\": \"#371ea3\"}, \"legend\": {\"title\": {\"text\": \"label\"}, \"tracegroupgap\": 0}, \"margin\": {\"b\": 71, \"r\": 30, \"t\": 78}, \"shapes\": [{\"fillcolor\": \"#f05a71\", \"layer\": \"below\", \"line\": {\"width\": 0}, \"opacity\": 0.1, \"type\": \"rect\", \"x0\": 0.25, \"x1\": 1.4, \"xref\": \"x\", \"y0\": 0, \"y1\": 1, \"yref\": \"y\"}, {\"fillcolor\": \"#f05a71\", \"layer\": \"below\", \"line\": {\"width\": 0}, \"opacity\": 0.1, \"type\": \"rect\", \"x0\": -0.9, \"x1\": -0.19999999999999996, \"xref\": \"x\", \"y0\": 0, \"y1\": 1, \"yref\": \"y\"}, {\"fillcolor\": \"#c7f5bf\", \"layer\": \"below\", \"line\": {\"width\": 0}, \"opacity\": 0.1, \"type\": \"rect\", \"x0\": -0.19999999999999996, \"x1\": 0.25, \"xref\": \"x\", \"y0\": 0, \"y1\": 1, \"yref\": \"y\"}, {\"line\": {\"color\": \"#371ea3\", \"width\": 1.5}, \"type\": \"line\", \"x0\": 0, \"x1\": 0, \"xref\": \"x\", \"y0\": 0, \"y1\": 1, \"yref\": \"y\"}, {\"fillcolor\": \"#f05a71\", \"layer\": \"below\", \"line\": {\"width\": 0}, \"opacity\": 0.1, \"type\": \"rect\", \"x0\": 0.25, \"x1\": 1.4, \"xref\": \"x\", \"y0\": 0, \"y1\": 1, \"yref\": \"y2\"}, {\"fillcolor\": \"#f05a71\", \"layer\": \"below\", \"line\": {\"width\": 0}, \"opacity\": 0.1, \"type\": \"rect\", \"x0\": -0.9, \"x1\": -0.19999999999999996, \"xref\": \"x\", \"y0\": 0, \"y1\": 1, \"yref\": \"y2\"}, {\"fillcolor\": \"#c7f5bf\", \"layer\": \"below\", \"line\": {\"width\": 0}, \"opacity\": 0.1, \"type\": \"rect\", \"x0\": -0.19999999999999996, \"x1\": 0.25, \"xref\": \"x\", \"y0\": 0, \"y1\": 1, \"yref\": \"y2\"}, {\"line\": {\"color\": \"#371ea3\", \"width\": 1.5}, \"type\": \"line\", \"x0\": 0, \"x1\": 0, \"xref\": \"x\", \"y0\": 0, \"y1\": 1, \"yref\": \"y2\"}, {\"fillcolor\": \"#f05a71\", \"layer\": \"below\", \"line\": {\"width\": 0}, \"opacity\": 0.1, \"type\": \"rect\", \"x0\": 0.25, \"x1\": 1.4, \"xref\": \"x\", \"y0\": 0, \"y1\": 1, \"yref\": \"y3\"}, {\"fillcolor\": \"#f05a71\", \"layer\": \"below\", \"line\": {\"width\": 0}, \"opacity\": 0.1, \"type\": \"rect\", \"x0\": -0.9, \"x1\": -0.19999999999999996, \"xref\": \"x\", \"y0\": 0, \"y1\": 1, \"yref\": \"y3\"}, {\"fillcolor\": \"#c7f5bf\", \"layer\": \"below\", \"line\": {\"width\": 0}, \"opacity\": 0.1, \"type\": \"rect\", \"x0\": -0.19999999999999996, \"x1\": 0.25, \"xref\": \"x\", \"y0\": 0, \"y1\": 1, \"yref\": \"y3\"}, {\"line\": {\"color\": \"#371ea3\", \"width\": 1.5}, \"type\": \"line\", \"x0\": 0, \"x1\": 0, \"xref\": \"x\", \"y0\": 0, \"y1\": 1, \"yref\": \"y3\"}, {\"fillcolor\": \"#f05a71\", \"layer\": \"below\", \"line\": {\"width\": 0}, \"opacity\": 0.1, \"type\": \"rect\", \"x0\": 0.25, \"x1\": 1.4, \"xref\": \"x\", \"y0\": 0, \"y1\": 1, \"yref\": \"y4\"}, {\"fillcolor\": \"#f05a71\", \"layer\": \"below\", \"line\": {\"width\": 0}, \"opacity\": 0.1, \"type\": \"rect\", \"x0\": -0.9, \"x1\": -0.19999999999999996, \"xref\": \"x\", \"y0\": 0, \"y1\": 1, \"yref\": \"y4\"}, {\"fillcolor\": \"#c7f5bf\", \"layer\": \"below\", \"line\": {\"width\": 0}, \"opacity\": 0.1, \"type\": \"rect\", \"x0\": -0.19999999999999996, \"x1\": 0.25, \"xref\": \"x\", \"y0\": 0, \"y1\": 1, \"yref\": \"y4\"}, {\"line\": {\"color\": \"#371ea3\", \"width\": 1.5}, \"type\": \"line\", \"x0\": 0, \"x1\": 0, \"xref\": \"x\", \"y0\": 0, \"y1\": 1, \"yref\": \"y4\"}, {\"fillcolor\": \"#f05a71\", \"layer\": \"below\", \"line\": {\"width\": 0}, \"opacity\": 0.1, \"type\": \"rect\", \"x0\": 0.25, \"x1\": 1.4, \"xref\": \"x\", \"y0\": 0, \"y1\": 1, \"yref\": \"y5\"}, {\"fillcolor\": \"#f05a71\", \"layer\": \"below\", \"line\": {\"width\": 0}, \"opacity\": 0.1, \"type\": \"rect\", \"x0\": -0.9, \"x1\": -0.19999999999999996, \"xref\": \"x\", \"y0\": 0, \"y1\": 1, \"yref\": \"y5\"}, {\"fillcolor\": \"#c7f5bf\", \"layer\": \"below\", \"line\": {\"width\": 0}, \"opacity\": 0.1, \"type\": \"rect\", \"x0\": -0.19999999999999996, \"x1\": 0.25, \"xref\": \"x\", \"y0\": 0, \"y1\": 1, \"yref\": \"y5\"}, {\"line\": {\"color\": \"#371ea3\", \"width\": 1.5}, \"type\": \"line\", \"x0\": 0, \"x1\": 0, \"xref\": \"x\", \"y0\": 0, \"y1\": 1, \"yref\": \"y5\"}], \"template\": {\"data\": {\"bar\": [{\"error_x\": {\"color\": \"#2a3f5f\"}, \"error_y\": {\"color\": \"#2a3f5f\"}, \"marker\": {\"line\": {\"color\": \"white\", \"width\": 0.5}}, \"type\": \"bar\"}], \"barpolar\": [{\"marker\": {\"line\": {\"color\": \"white\", \"width\": 0.5}}, \"type\": \"barpolar\"}], \"carpet\": [{\"aaxis\": {\"endlinecolor\": \"#2a3f5f\", \"gridcolor\": \"#C8D4E3\", \"linecolor\": \"#C8D4E3\", \"minorgridcolor\": \"#C8D4E3\", \"startlinecolor\": \"#2a3f5f\"}, \"baxis\": {\"endlinecolor\": \"#2a3f5f\", \"gridcolor\": \"#C8D4E3\", \"linecolor\": \"#C8D4E3\", \"minorgridcolor\": \"#C8D4E3\", \"startlinecolor\": \"#2a3f5f\"}, \"type\": \"carpet\"}], \"choropleth\": [{\"colorbar\": {\"outlinewidth\": 0, \"ticks\": \"\"}, \"type\": \"choropleth\"}], \"contour\": [{\"colorbar\": {\"outlinewidth\": 0, \"ticks\": \"\"}, \"colorscale\": [[0.0, \"#0d0887\"], [0.1111111111111111, \"#46039f\"], [0.2222222222222222, \"#7201a8\"], [0.3333333333333333, \"#9c179e\"], [0.4444444444444444, \"#bd3786\"], [0.5555555555555556, \"#d8576b\"], [0.6666666666666666, \"#ed7953\"], [0.7777777777777778, \"#fb9f3a\"], [0.8888888888888888, \"#fdca26\"], [1.0, \"#f0f921\"]], \"type\": \"contour\"}], \"contourcarpet\": [{\"colorbar\": {\"outlinewidth\": 0, \"ticks\": \"\"}, \"type\": \"contourcarpet\"}], \"heatmap\": [{\"colorbar\": {\"outlinewidth\": 0, \"ticks\": \"\"}, \"colorscale\": [[0.0, \"#0d0887\"], [0.1111111111111111, \"#46039f\"], [0.2222222222222222, \"#7201a8\"], [0.3333333333333333, \"#9c179e\"], [0.4444444444444444, \"#bd3786\"], [0.5555555555555556, \"#d8576b\"], [0.6666666666666666, \"#ed7953\"], [0.7777777777777778, \"#fb9f3a\"], [0.8888888888888888, \"#fdca26\"], [1.0, \"#f0f921\"]], \"type\": \"heatmap\"}], \"heatmapgl\": [{\"colorbar\": {\"outlinewidth\": 0, \"ticks\": \"\"}, \"colorscale\": [[0.0, \"#0d0887\"], [0.1111111111111111, \"#46039f\"], [0.2222222222222222, \"#7201a8\"], [0.3333333333333333, \"#9c179e\"], [0.4444444444444444, \"#bd3786\"], [0.5555555555555556, \"#d8576b\"], [0.6666666666666666, \"#ed7953\"], [0.7777777777777778, \"#fb9f3a\"], [0.8888888888888888, \"#fdca26\"], [1.0, \"#f0f921\"]], \"type\": \"heatmapgl\"}], \"histogram\": [{\"marker\": {\"colorbar\": {\"outlinewidth\": 0, \"ticks\": \"\"}}, \"type\": \"histogram\"}], \"histogram2d\": [{\"colorbar\": {\"outlinewidth\": 0, \"ticks\": \"\"}, \"colorscale\": [[0.0, \"#0d0887\"], [0.1111111111111111, \"#46039f\"], [0.2222222222222222, \"#7201a8\"], [0.3333333333333333, \"#9c179e\"], [0.4444444444444444, \"#bd3786\"], [0.5555555555555556, \"#d8576b\"], [0.6666666666666666, \"#ed7953\"], [0.7777777777777778, \"#fb9f3a\"], [0.8888888888888888, \"#fdca26\"], [1.0, \"#f0f921\"]], \"type\": \"histogram2d\"}], \"histogram2dcontour\": [{\"colorbar\": {\"outlinewidth\": 0, \"ticks\": \"\"}, \"colorscale\": [[0.0, \"#0d0887\"], [0.1111111111111111, \"#46039f\"], [0.2222222222222222, \"#7201a8\"], [0.3333333333333333, \"#9c179e\"], [0.4444444444444444, \"#bd3786\"], [0.5555555555555556, \"#d8576b\"], [0.6666666666666666, \"#ed7953\"], [0.7777777777777778, \"#fb9f3a\"], [0.8888888888888888, \"#fdca26\"], [1.0, \"#f0f921\"]], \"type\": \"histogram2dcontour\"}], \"mesh3d\": [{\"colorbar\": {\"outlinewidth\": 0, \"ticks\": \"\"}, \"type\": \"mesh3d\"}], \"parcoords\": [{\"line\": {\"colorbar\": {\"outlinewidth\": 0, \"ticks\": \"\"}}, \"type\": \"parcoords\"}], \"pie\": [{\"automargin\": true, \"type\": \"pie\"}], \"scatter\": [{\"marker\": {\"colorbar\": {\"outlinewidth\": 0, \"ticks\": \"\"}}, \"type\": \"scatter\"}], \"scatter3d\": [{\"line\": {\"colorbar\": {\"outlinewidth\": 0, \"ticks\": \"\"}}, \"marker\": {\"colorbar\": {\"outlinewidth\": 0, \"ticks\": \"\"}}, \"type\": \"scatter3d\"}], \"scattercarpet\": [{\"marker\": {\"colorbar\": {\"outlinewidth\": 0, \"ticks\": \"\"}}, \"type\": \"scattercarpet\"}], \"scattergeo\": [{\"marker\": {\"colorbar\": {\"outlinewidth\": 0, \"ticks\": \"\"}}, \"type\": \"scattergeo\"}], \"scattergl\": [{\"marker\": {\"colorbar\": {\"outlinewidth\": 0, \"ticks\": \"\"}}, \"type\": \"scattergl\"}], \"scattermapbox\": [{\"marker\": {\"colorbar\": {\"outlinewidth\": 0, \"ticks\": \"\"}}, \"type\": \"scattermapbox\"}], \"scatterpolar\": [{\"marker\": {\"colorbar\": {\"outlinewidth\": 0, \"ticks\": \"\"}}, \"type\": \"scatterpolar\"}], \"scatterpolargl\": [{\"marker\": {\"colorbar\": {\"outlinewidth\": 0, \"ticks\": \"\"}}, \"type\": \"scatterpolargl\"}], \"scatterternary\": [{\"marker\": {\"colorbar\": {\"outlinewidth\": 0, \"ticks\": \"\"}}, \"type\": \"scatterternary\"}], \"surface\": [{\"colorbar\": {\"outlinewidth\": 0, \"ticks\": \"\"}, \"colorscale\": [[0.0, \"#0d0887\"], [0.1111111111111111, \"#46039f\"], [0.2222222222222222, \"#7201a8\"], [0.3333333333333333, \"#9c179e\"], [0.4444444444444444, \"#bd3786\"], [0.5555555555555556, \"#d8576b\"], [0.6666666666666666, \"#ed7953\"], [0.7777777777777778, \"#fb9f3a\"], [0.8888888888888888, \"#fdca26\"], [1.0, \"#f0f921\"]], \"type\": \"surface\"}], \"table\": [{\"cells\": {\"fill\": {\"color\": \"#EBF0F8\"}, \"line\": {\"color\": \"white\"}}, \"header\": {\"fill\": {\"color\": \"#C8D4E3\"}, \"line\": {\"color\": \"white\"}}, \"type\": \"table\"}]}, \"layout\": {\"annotationdefaults\": {\"arrowcolor\": \"#2a3f5f\", \"arrowhead\": 0, \"arrowwidth\": 1}, \"autotypenumbers\": \"strict\", \"coloraxis\": {\"colorbar\": {\"outlinewidth\": 0, \"ticks\": \"\"}}, \"colorscale\": {\"diverging\": [[0, \"#8e0152\"], [0.1, \"#c51b7d\"], [0.2, \"#de77ae\"], [0.3, \"#f1b6da\"], [0.4, \"#fde0ef\"], [0.5, \"#f7f7f7\"], [0.6, \"#e6f5d0\"], [0.7, \"#b8e186\"], [0.8, \"#7fbc41\"], [0.9, \"#4d9221\"], [1, \"#276419\"]], \"sequential\": [[0.0, \"#0d0887\"], [0.1111111111111111, \"#46039f\"], [0.2222222222222222, \"#7201a8\"], [0.3333333333333333, \"#9c179e\"], [0.4444444444444444, \"#bd3786\"], [0.5555555555555556, \"#d8576b\"], [0.6666666666666666, \"#ed7953\"], [0.7777777777777778, \"#fb9f3a\"], [0.8888888888888888, \"#fdca26\"], [1.0, \"#f0f921\"]], \"sequentialminus\": [[0.0, \"#0d0887\"], [0.1111111111111111, \"#46039f\"], [0.2222222222222222, \"#7201a8\"], [0.3333333333333333, \"#9c179e\"], [0.4444444444444444, \"#bd3786\"], [0.5555555555555556, \"#d8576b\"], [0.6666666666666666, \"#ed7953\"], [0.7777777777777778, \"#fb9f3a\"], [0.8888888888888888, \"#fdca26\"], [1.0, \"#f0f921\"]]}, \"colorway\": [\"#636efa\", \"#EF553B\", \"#00cc96\", \"#ab63fa\", \"#FFA15A\", \"#19d3f3\", \"#FF6692\", \"#B6E880\", \"#FF97FF\", \"#FECB52\"], \"font\": {\"color\": \"#2a3f5f\"}, \"geo\": {\"bgcolor\": \"white\", \"lakecolor\": \"white\", \"landcolor\": \"white\", \"showlakes\": true, \"showland\": true, \"subunitcolor\": \"#C8D4E3\"}, \"hoverlabel\": {\"align\": \"left\"}, \"hovermode\": \"closest\", \"mapbox\": {\"style\": \"light\"}, \"paper_bgcolor\": \"white\", \"plot_bgcolor\": \"white\", \"polar\": {\"angularaxis\": {\"gridcolor\": \"#EBF0F8\", \"linecolor\": \"#EBF0F8\", \"ticks\": \"\"}, \"bgcolor\": \"white\", \"radialaxis\": {\"gridcolor\": \"#EBF0F8\", \"linecolor\": \"#EBF0F8\", \"ticks\": \"\"}}, \"scene\": {\"xaxis\": {\"backgroundcolor\": \"white\", \"gridcolor\": \"#DFE8F3\", \"gridwidth\": 2, \"linecolor\": \"#EBF0F8\", \"showbackground\": true, \"ticks\": \"\", \"zerolinecolor\": \"#EBF0F8\"}, \"yaxis\": {\"backgroundcolor\": \"white\", \"gridcolor\": \"#DFE8F3\", \"gridwidth\": 2, \"linecolor\": \"#EBF0F8\", \"showbackground\": true, \"ticks\": \"\", \"zerolinecolor\": \"#EBF0F8\"}, \"zaxis\": {\"backgroundcolor\": \"white\", \"gridcolor\": \"#DFE8F3\", \"gridwidth\": 2, \"linecolor\": \"#EBF0F8\", \"showbackground\": true, \"ticks\": \"\", \"zerolinecolor\": \"#EBF0F8\"}}, \"shapedefaults\": {\"line\": {\"color\": \"#2a3f5f\"}}, \"ternary\": {\"aaxis\": {\"gridcolor\": \"#DFE8F3\", \"linecolor\": \"#A2B1C6\", \"ticks\": \"\"}, \"baxis\": {\"gridcolor\": \"#DFE8F3\", \"linecolor\": \"#A2B1C6\", \"ticks\": \"\"}, \"bgcolor\": \"white\", \"caxis\": {\"gridcolor\": \"#DFE8F3\", \"linecolor\": \"#A2B1C6\", \"ticks\": \"\"}}, \"title\": {\"x\": 0.05}, \"xaxis\": {\"automargin\": true, \"gridcolor\": \"#EBF0F8\", \"linecolor\": \"#EBF0F8\", \"ticks\": \"\", \"title\": {\"standoff\": 15}, \"zerolinecolor\": \"#EBF0F8\", \"zerolinewidth\": 2}, \"yaxis\": {\"automargin\": true, \"gridcolor\": \"#EBF0F8\", \"linecolor\": \"#EBF0F8\", \"ticks\": \"\", \"title\": {\"standoff\": 15}, \"zerolinecolor\": \"#EBF0F8\", \"zerolinewidth\": 2}}}, \"title\": {\"font\": {\"size\": 25}, \"text\": \"Fairness Check\", \"x\": 0.5, \"y\": 0.99}, \"xaxis\": {\"anchor\": \"y\", \"domain\": [0.0, 1.0], \"range\": [-0.9, 1.4], \"ticktext\": [0.1, 0.2, 0.3, 0.4, 0.5, 0.6, 0.7, 0.8, 0.9, 1.0, 1.1, 1.2, 1.3, 1.4, 1.5, 1.6, 1.7, 1.8, 1.9, 2.0, 2.1, 2.2, 2.3, 2.4], \"tickvals\": [-0.9, -0.8, -0.7, -0.6, -0.5, -0.4, -0.3, -0.2, -0.1, -0.0, 0.1, 0.2, 0.3, 0.4, 0.5, 0.6, 0.7, 0.8, 0.9, 1.0, 1.1, 1.2, 1.3, 1.4], \"title\": {\"text\": \"score\"}}, \"xaxis2\": {\"anchor\": \"y2\", \"domain\": [0.0, 1.0], \"matches\": \"x\", \"range\": [-0.9, 1.4], \"showticklabels\": false, \"ticktext\": [0.1, 0.2, 0.3, 0.4, 0.5, 0.6, 0.7, 0.8, 0.9, 1.0, 1.1, 1.2, 1.3, 1.4, 1.5, 1.6, 1.7, 1.8, 1.9, 2.0, 2.1, 2.2, 2.3, 2.4], \"tickvals\": [-0.9, -0.8, -0.7, -0.6, -0.5, -0.4, -0.3, -0.2, -0.1, -0.0, 0.1, 0.2, 0.3, 0.4, 0.5, 0.6, 0.7, 0.8, 0.9, 1.0, 1.1, 1.2, 1.3, 1.4]}, \"xaxis3\": {\"anchor\": \"y3\", \"domain\": [0.0, 1.0], \"matches\": \"x\", \"range\": [-0.9, 1.4], \"showticklabels\": false, \"ticktext\": [0.1, 0.2, 0.3, 0.4, 0.5, 0.6, 0.7, 0.8, 0.9, 1.0, 1.1, 1.2, 1.3, 1.4, 1.5, 1.6, 1.7, 1.8, 1.9, 2.0, 2.1, 2.2, 2.3, 2.4], \"tickvals\": [-0.9, -0.8, -0.7, -0.6, -0.5, -0.4, -0.3, -0.2, -0.1, -0.0, 0.1, 0.2, 0.3, 0.4, 0.5, 0.6, 0.7, 0.8, 0.9, 1.0, 1.1, 1.2, 1.3, 1.4]}, \"xaxis4\": {\"anchor\": \"y4\", \"domain\": [0.0, 1.0], \"matches\": \"x\", \"range\": [-0.9, 1.4], \"showticklabels\": false, \"ticktext\": [0.1, 0.2, 0.3, 0.4, 0.5, 0.6, 0.7, 0.8, 0.9, 1.0, 1.1, 1.2, 1.3, 1.4, 1.5, 1.6, 1.7, 1.8, 1.9, 2.0, 2.1, 2.2, 2.3, 2.4], \"tickvals\": [-0.9, -0.8, -0.7, -0.6, -0.5, -0.4, -0.3, -0.2, -0.1, -0.0, 0.1, 0.2, 0.3, 0.4, 0.5, 0.6, 0.7, 0.8, 0.9, 1.0, 1.1, 1.2, 1.3, 1.4]}, \"xaxis5\": {\"anchor\": \"y5\", \"domain\": [0.0, 1.0], \"matches\": \"x\", \"range\": [-0.9, 1.4], \"showticklabels\": false, \"ticktext\": [0.1, 0.2, 0.3, 0.4, 0.5, 0.6, 0.7, 0.8, 0.9, 1.0, 1.1, 1.2, 1.3, 1.4, 1.5, 1.6, 1.7, 1.8, 1.9, 2.0, 2.1, 2.2, 2.3, 2.4], \"tickvals\": [-0.9, -0.8, -0.7, -0.6, -0.5, -0.4, -0.3, -0.2, -0.1, -0.0, 0.1, 0.2, 0.3, 0.4, 0.5, 0.6, 0.7, 0.8, 0.9, 1.0, 1.1, 1.2, 1.3, 1.4]}, \"yaxis\": {\"anchor\": \"x\", \"domain\": [0.0, 0.144], \"range\": [0, 1], \"showgrid\": false, \"ticktext\": [\"netherlands\", \"newyork\"], \"tickvals\": [0.3333333333333333, 0.6666666666666666], \"title\": {\"text\": \"\"}, \"zeroline\": false}, \"yaxis2\": {\"anchor\": \"x2\", \"domain\": [0.214, 0.358], \"matches\": \"y\", \"range\": [0, 1], \"showgrid\": false, \"ticktext\": [\"netherlands\", \"newyork\"], \"tickvals\": [0.3333333333333333, 0.6666666666666666], \"title\": {\"text\": \"\"}, \"zeroline\": false}, \"yaxis3\": {\"anchor\": \"x3\", \"domain\": [0.428, 0.572], \"matches\": \"y\", \"range\": [0, 1], \"showgrid\": false, \"ticktext\": [\"netherlands\", \"newyork\"], \"tickvals\": [0.3333333333333333, 0.6666666666666666], \"title\": {\"text\": \"subgroup\"}, \"zeroline\": false}, \"yaxis4\": {\"anchor\": \"x4\", \"domain\": [0.6419999999999999, 0.7859999999999999], \"matches\": \"y\", \"range\": [0, 1], \"showgrid\": false, \"ticktext\": [\"netherlands\", \"newyork\"], \"tickvals\": [0.3333333333333333, 0.6666666666666666], \"title\": {\"text\": \"\"}, \"zeroline\": false}, \"yaxis5\": {\"anchor\": \"x5\", \"domain\": [0.856, 1.0], \"matches\": \"y\", \"range\": [0, 1], \"showgrid\": false, \"ticktext\": [\"netherlands\", \"newyork\"], \"tickvals\": [0.3333333333333333, 0.6666666666666666], \"title\": {\"text\": \"\"}, \"zeroline\": false}},                        {\"displaylogo\": false, \"staticPlot\": false, \"toImageButtonOptions\": {\"height\": null, \"width\": null}, \"modeBarButtonsToRemove\": [\"sendDataToCloud\", \"lasso2d\", \"autoScale2d\", \"select2d\", \"zoom2d\", \"pan2d\", \"zoomIn2d\", \"zoomOut2d\", \"resetScale2d\", \"toggleSpikelines\", \"hoverCompareCartesian\", \"hoverClosestCartesian\"], \"responsive\": true}                    ).then(function(){\n",
       "                            \n",
       "var gd = document.getElementById('a4c226cd-42ea-4300-bc37-0677c1233679');\n",
       "var x = new MutationObserver(function (mutations, observer) {{\n",
       "        var display = window.getComputedStyle(gd).display;\n",
       "        if (!display || display === 'none') {{\n",
       "            console.log([gd, 'removed!']);\n",
       "            Plotly.purge(gd);\n",
       "            observer.disconnect();\n",
       "        }}\n",
       "}});\n",
       "\n",
       "// Listen for the removal of the full notebook cells\n",
       "var notebookContainer = gd.closest('#notebook-container');\n",
       "if (notebookContainer) {{\n",
       "    x.observe(notebookContainer, {childList: true});\n",
       "}}\n",
       "\n",
       "// Listen for the clearing of the current output cell\n",
       "var outputEl = gd.closest('.output');\n",
       "if (outputEl) {{\n",
       "    x.observe(outputEl, {childList: true});\n",
       "}}\n",
       "\n",
       "                        })                };                });            </script>        </div>"
      ]
     },
     "metadata": {},
     "output_type": "display_data"
    }
   ],
   "source": [
    "exp.model_fairness(protected = X_test['from'], privileged = 'china').plot(type='fairness_check')"
   ]
  },
  {
   "cell_type": "code",
   "execution_count": 49,
   "metadata": {},
   "outputs": [
    {
     "data": {
      "application/vnd.plotly.v1+json": {
       "config": {
        "displaylogo": false,
        "modeBarButtonsToRemove": [
         "sendDataToCloud",
         "lasso2d",
         "autoScale2d",
         "select2d",
         "zoom2d",
         "pan2d",
         "zoomIn2d",
         "zoomOut2d",
         "resetScale2d",
         "toggleSpikelines",
         "hoverCompareCartesian",
         "hoverClosestCartesian"
        ],
        "plotlyServerURL": "https://plot.ly",
        "staticPlot": false,
        "toImageButtonOptions": {
         "height": null,
         "width": null
        }
       },
       "data": [
        {
         "customdata": [
          [
           "netherlands",
           "XGBClassifier"
          ],
          [
           "newyork",
           "XGBClassifier"
          ]
         ],
         "hovertemplate": "<b>%{customdata[1]}</b><br>Subgroup: %{customdata[0]}<br>Score: %{x}<extra></extra>",
         "legendgroup": "XGBClassifier",
         "marker": {
          "color": "#46bac2",
          "size": 7,
          "symbol": "circle"
         },
         "mode": "markers",
         "name": "XGBClassifier",
         "orientation": "v",
         "showlegend": true,
         "type": "scatter",
         "x": [
          0.15,
          0.525
         ],
         "xaxis": "x5",
         "y": [
          0.5,
          1.5
         ],
         "yaxis": "y5"
        },
        {
         "customdata": [
          [
           "netherlands",
           "XGBClassifier"
          ],
          [
           "newyork",
           "XGBClassifier"
          ]
         ],
         "hovertemplate": "<b>%{customdata[1]}</b><br>Subgroup: %{customdata[0]}<br>Score: %{x}<extra></extra>",
         "legendgroup": "XGBClassifier",
         "marker": {
          "color": "#46bac2",
          "size": 7,
          "symbol": "circle"
         },
         "mode": "markers",
         "name": "XGBClassifier",
         "orientation": "v",
         "showlegend": false,
         "type": "scatter",
         "x": [
          0.333,
          0.543
         ],
         "xaxis": "x4",
         "y": [
          0.5,
          1.5
         ],
         "yaxis": "y4"
        },
        {
         "customdata": [
          [
           "netherlands",
           "XGBClassifier"
          ],
          [
           "newyork",
           "XGBClassifier"
          ]
         ],
         "hovertemplate": "<b>%{customdata[1]}</b><br>Subgroup: %{customdata[0]}<br>Score: %{x}<extra></extra>",
         "legendgroup": "XGBClassifier",
         "marker": {
          "color": "#46bac2",
          "size": 7,
          "symbol": "circle"
         },
         "mode": "markers",
         "name": "XGBClassifier",
         "orientation": "v",
         "showlegend": false,
         "type": "scatter",
         "x": [
          0.075,
          0.239
         ],
         "xaxis": "x3",
         "y": [
          0.5,
          1.5
         ],
         "yaxis": "y3"
        },
        {
         "customdata": [
          [
           "netherlands",
           "XGBClassifier"
          ],
          [
           "newyork",
           "XGBClassifier"
          ]
         ],
         "hovertemplate": "<b>%{customdata[1]}</b><br>Subgroup: %{customdata[0]}<br>Score: %{x}<extra></extra>",
         "legendgroup": "XGBClassifier",
         "marker": {
          "color": "#46bac2",
          "size": 7,
          "symbol": "circle"
         },
         "mode": "markers",
         "name": "XGBClassifier",
         "orientation": "v",
         "showlegend": false,
         "type": "scatter",
         "x": [
          0.77,
          0.678
         ],
         "xaxis": "x2",
         "y": [
          0.5,
          1.5
         ],
         "yaxis": "y2"
        },
        {
         "customdata": [
          [
           "netherlands",
           "XGBClassifier"
          ],
          [
           "newyork",
           "XGBClassifier"
          ]
         ],
         "hovertemplate": "<b>%{customdata[1]}</b><br>Subgroup: %{customdata[0]}<br>Score: %{x}<extra></extra>",
         "legendgroup": "XGBClassifier",
         "marker": {
          "color": "#46bac2",
          "size": 7,
          "symbol": "circle"
         },
         "mode": "markers",
         "name": "XGBClassifier",
         "orientation": "v",
         "showlegend": false,
         "type": "scatter",
         "x": [
          0.09,
          0.339
         ],
         "xaxis": "x",
         "y": [
          0.5,
          1.5
         ],
         "yaxis": "y"
        }
       ],
       "layout": {
        "annotations": [
         {
          "font": {
           "size": 15
          },
          "showarrow": false,
          "text": "STP   (TP + FP)/(TP + FP + TN + FN)",
          "x": 0.05,
          "xanchor": "left",
          "xref": "paper",
          "y": 0.144,
          "yanchor": "bottom",
          "yref": "paper"
         },
         {
          "font": {
           "size": 15
          },
          "showarrow": false,
          "text": "ACC   (TP + TN)/(TP + FP + TN + FN)",
          "x": 0.05,
          "xanchor": "left",
          "xref": "paper",
          "y": 0.358,
          "yanchor": "bottom",
          "yref": "paper"
         },
         {
          "font": {
           "size": 15
          },
          "showarrow": false,
          "text": "FPR    FP/(FP + TN)",
          "x": 0.05,
          "xanchor": "left",
          "xref": "paper",
          "y": 0.572,
          "yanchor": "bottom",
          "yref": "paper"
         },
         {
          "font": {
           "size": 15
          },
          "showarrow": false,
          "text": "PPV    TP/(TP + FP)",
          "x": 0.05,
          "xanchor": "left",
          "xref": "paper",
          "y": 0.7859999999999999,
          "yanchor": "bottom",
          "yref": "paper"
         },
         {
          "font": {
           "size": 15
          },
          "showarrow": false,
          "text": "TPR    TP/(TP + FN)",
          "x": 0.05,
          "xanchor": "left",
          "xref": "paper",
          "y": 1,
          "yanchor": "bottom",
          "yref": "paper"
         }
        ],
        "font": {
         "color": "#371ea3"
        },
        "legend": {
         "title": {
          "text": "label"
         },
         "tracegroupgap": 0
        },
        "margin": {
         "b": 71,
         "r": 30,
         "t": 78
        },
        "shapes": [
         {
          "line": {
           "color": "#46bac2",
           "width": 1
          },
          "type": "line",
          "x0": 0.15,
          "x1": 0.606,
          "xref": "x",
          "y0": 0.5,
          "y1": 0.5,
          "yref": "y5"
         },
         {
          "line": {
           "color": "#46bac2",
           "width": 1
          },
          "type": "line",
          "x0": 0.525,
          "x1": 0.606,
          "xref": "x",
          "y0": 1.5,
          "y1": 1.5,
          "yref": "y5"
         },
         {
          "line": {
           "color": "#46bac2",
           "width": 2
          },
          "type": "line",
          "x0": 0.606,
          "x1": 0.606,
          "xref": "x",
          "y0": 0,
          "y1": 2,
          "yref": "y5"
         },
         {
          "line": {
           "color": "#46bac2",
           "width": 1
          },
          "type": "line",
          "x0": 0.333,
          "x1": 0.87,
          "xref": "x",
          "y0": 0.5,
          "y1": 0.5,
          "yref": "y4"
         },
         {
          "line": {
           "color": "#46bac2",
           "width": 1
          },
          "type": "line",
          "x0": 0.543,
          "x1": 0.87,
          "xref": "x",
          "y0": 1.5,
          "y1": 1.5,
          "yref": "y4"
         },
         {
          "line": {
           "color": "#46bac2",
           "width": 2
          },
          "type": "line",
          "x0": 0.87,
          "x1": 0.87,
          "xref": "x",
          "y0": 0,
          "y1": 2,
          "yref": "y4"
         },
         {
          "line": {
           "color": "#46bac2",
           "width": 1
          },
          "type": "line",
          "x0": 0.075,
          "x1": 0.102,
          "xref": "x",
          "y0": 0.5,
          "y1": 0.5,
          "yref": "y3"
         },
         {
          "line": {
           "color": "#46bac2",
           "width": 1
          },
          "type": "line",
          "x0": 0.239,
          "x1": 0.102,
          "xref": "x",
          "y0": 1.5,
          "y1": 1.5,
          "yref": "y3"
         },
         {
          "line": {
           "color": "#46bac2",
           "width": 2
          },
          "type": "line",
          "x0": 0.102,
          "x1": 0.102,
          "xref": "x",
          "y0": 0,
          "y1": 2,
          "yref": "y3"
         },
         {
          "line": {
           "color": "#46bac2",
           "width": 1
          },
          "type": "line",
          "x0": 0.77,
          "x1": 0.744,
          "xref": "x",
          "y0": 0.5,
          "y1": 0.5,
          "yref": "y2"
         },
         {
          "line": {
           "color": "#46bac2",
           "width": 1
          },
          "type": "line",
          "x0": 0.678,
          "x1": 0.744,
          "xref": "x",
          "y0": 1.5,
          "y1": 1.5,
          "yref": "y2"
         },
         {
          "line": {
           "color": "#46bac2",
           "width": 2
          },
          "type": "line",
          "x0": 0.744,
          "x1": 0.744,
          "xref": "x",
          "y0": 0,
          "y1": 2,
          "yref": "y2"
         },
         {
          "line": {
           "color": "#46bac2",
           "width": 1
          },
          "type": "line",
          "x0": 0.09,
          "x1": 0.368,
          "xref": "x",
          "y0": 0.5,
          "y1": 0.5,
          "yref": "y"
         },
         {
          "line": {
           "color": "#46bac2",
           "width": 1
          },
          "type": "line",
          "x0": 0.339,
          "x1": 0.368,
          "xref": "x",
          "y0": 1.5,
          "y1": 1.5,
          "yref": "y"
         },
         {
          "line": {
           "color": "#46bac2",
           "width": 2
          },
          "type": "line",
          "x0": 0.368,
          "x1": 0.368,
          "xref": "x",
          "y0": 0,
          "y1": 2,
          "yref": "y"
         }
        ],
        "template": {
         "data": {
          "bar": [
           {
            "error_x": {
             "color": "#2a3f5f"
            },
            "error_y": {
             "color": "#2a3f5f"
            },
            "marker": {
             "line": {
              "color": "white",
              "width": 0.5
             }
            },
            "type": "bar"
           }
          ],
          "barpolar": [
           {
            "marker": {
             "line": {
              "color": "white",
              "width": 0.5
             }
            },
            "type": "barpolar"
           }
          ],
          "carpet": [
           {
            "aaxis": {
             "endlinecolor": "#2a3f5f",
             "gridcolor": "#C8D4E3",
             "linecolor": "#C8D4E3",
             "minorgridcolor": "#C8D4E3",
             "startlinecolor": "#2a3f5f"
            },
            "baxis": {
             "endlinecolor": "#2a3f5f",
             "gridcolor": "#C8D4E3",
             "linecolor": "#C8D4E3",
             "minorgridcolor": "#C8D4E3",
             "startlinecolor": "#2a3f5f"
            },
            "type": "carpet"
           }
          ],
          "choropleth": [
           {
            "colorbar": {
             "outlinewidth": 0,
             "ticks": ""
            },
            "type": "choropleth"
           }
          ],
          "contour": [
           {
            "colorbar": {
             "outlinewidth": 0,
             "ticks": ""
            },
            "colorscale": [
             [
              0,
              "#0d0887"
             ],
             [
              0.1111111111111111,
              "#46039f"
             ],
             [
              0.2222222222222222,
              "#7201a8"
             ],
             [
              0.3333333333333333,
              "#9c179e"
             ],
             [
              0.4444444444444444,
              "#bd3786"
             ],
             [
              0.5555555555555556,
              "#d8576b"
             ],
             [
              0.6666666666666666,
              "#ed7953"
             ],
             [
              0.7777777777777778,
              "#fb9f3a"
             ],
             [
              0.8888888888888888,
              "#fdca26"
             ],
             [
              1,
              "#f0f921"
             ]
            ],
            "type": "contour"
           }
          ],
          "contourcarpet": [
           {
            "colorbar": {
             "outlinewidth": 0,
             "ticks": ""
            },
            "type": "contourcarpet"
           }
          ],
          "heatmap": [
           {
            "colorbar": {
             "outlinewidth": 0,
             "ticks": ""
            },
            "colorscale": [
             [
              0,
              "#0d0887"
             ],
             [
              0.1111111111111111,
              "#46039f"
             ],
             [
              0.2222222222222222,
              "#7201a8"
             ],
             [
              0.3333333333333333,
              "#9c179e"
             ],
             [
              0.4444444444444444,
              "#bd3786"
             ],
             [
              0.5555555555555556,
              "#d8576b"
             ],
             [
              0.6666666666666666,
              "#ed7953"
             ],
             [
              0.7777777777777778,
              "#fb9f3a"
             ],
             [
              0.8888888888888888,
              "#fdca26"
             ],
             [
              1,
              "#f0f921"
             ]
            ],
            "type": "heatmap"
           }
          ],
          "heatmapgl": [
           {
            "colorbar": {
             "outlinewidth": 0,
             "ticks": ""
            },
            "colorscale": [
             [
              0,
              "#0d0887"
             ],
             [
              0.1111111111111111,
              "#46039f"
             ],
             [
              0.2222222222222222,
              "#7201a8"
             ],
             [
              0.3333333333333333,
              "#9c179e"
             ],
             [
              0.4444444444444444,
              "#bd3786"
             ],
             [
              0.5555555555555556,
              "#d8576b"
             ],
             [
              0.6666666666666666,
              "#ed7953"
             ],
             [
              0.7777777777777778,
              "#fb9f3a"
             ],
             [
              0.8888888888888888,
              "#fdca26"
             ],
             [
              1,
              "#f0f921"
             ]
            ],
            "type": "heatmapgl"
           }
          ],
          "histogram": [
           {
            "marker": {
             "colorbar": {
              "outlinewidth": 0,
              "ticks": ""
             }
            },
            "type": "histogram"
           }
          ],
          "histogram2d": [
           {
            "colorbar": {
             "outlinewidth": 0,
             "ticks": ""
            },
            "colorscale": [
             [
              0,
              "#0d0887"
             ],
             [
              0.1111111111111111,
              "#46039f"
             ],
             [
              0.2222222222222222,
              "#7201a8"
             ],
             [
              0.3333333333333333,
              "#9c179e"
             ],
             [
              0.4444444444444444,
              "#bd3786"
             ],
             [
              0.5555555555555556,
              "#d8576b"
             ],
             [
              0.6666666666666666,
              "#ed7953"
             ],
             [
              0.7777777777777778,
              "#fb9f3a"
             ],
             [
              0.8888888888888888,
              "#fdca26"
             ],
             [
              1,
              "#f0f921"
             ]
            ],
            "type": "histogram2d"
           }
          ],
          "histogram2dcontour": [
           {
            "colorbar": {
             "outlinewidth": 0,
             "ticks": ""
            },
            "colorscale": [
             [
              0,
              "#0d0887"
             ],
             [
              0.1111111111111111,
              "#46039f"
             ],
             [
              0.2222222222222222,
              "#7201a8"
             ],
             [
              0.3333333333333333,
              "#9c179e"
             ],
             [
              0.4444444444444444,
              "#bd3786"
             ],
             [
              0.5555555555555556,
              "#d8576b"
             ],
             [
              0.6666666666666666,
              "#ed7953"
             ],
             [
              0.7777777777777778,
              "#fb9f3a"
             ],
             [
              0.8888888888888888,
              "#fdca26"
             ],
             [
              1,
              "#f0f921"
             ]
            ],
            "type": "histogram2dcontour"
           }
          ],
          "mesh3d": [
           {
            "colorbar": {
             "outlinewidth": 0,
             "ticks": ""
            },
            "type": "mesh3d"
           }
          ],
          "parcoords": [
           {
            "line": {
             "colorbar": {
              "outlinewidth": 0,
              "ticks": ""
             }
            },
            "type": "parcoords"
           }
          ],
          "pie": [
           {
            "automargin": true,
            "type": "pie"
           }
          ],
          "scatter": [
           {
            "marker": {
             "colorbar": {
              "outlinewidth": 0,
              "ticks": ""
             }
            },
            "type": "scatter"
           }
          ],
          "scatter3d": [
           {
            "line": {
             "colorbar": {
              "outlinewidth": 0,
              "ticks": ""
             }
            },
            "marker": {
             "colorbar": {
              "outlinewidth": 0,
              "ticks": ""
             }
            },
            "type": "scatter3d"
           }
          ],
          "scattercarpet": [
           {
            "marker": {
             "colorbar": {
              "outlinewidth": 0,
              "ticks": ""
             }
            },
            "type": "scattercarpet"
           }
          ],
          "scattergeo": [
           {
            "marker": {
             "colorbar": {
              "outlinewidth": 0,
              "ticks": ""
             }
            },
            "type": "scattergeo"
           }
          ],
          "scattergl": [
           {
            "marker": {
             "colorbar": {
              "outlinewidth": 0,
              "ticks": ""
             }
            },
            "type": "scattergl"
           }
          ],
          "scattermapbox": [
           {
            "marker": {
             "colorbar": {
              "outlinewidth": 0,
              "ticks": ""
             }
            },
            "type": "scattermapbox"
           }
          ],
          "scatterpolar": [
           {
            "marker": {
             "colorbar": {
              "outlinewidth": 0,
              "ticks": ""
             }
            },
            "type": "scatterpolar"
           }
          ],
          "scatterpolargl": [
           {
            "marker": {
             "colorbar": {
              "outlinewidth": 0,
              "ticks": ""
             }
            },
            "type": "scatterpolargl"
           }
          ],
          "scatterternary": [
           {
            "marker": {
             "colorbar": {
              "outlinewidth": 0,
              "ticks": ""
             }
            },
            "type": "scatterternary"
           }
          ],
          "surface": [
           {
            "colorbar": {
             "outlinewidth": 0,
             "ticks": ""
            },
            "colorscale": [
             [
              0,
              "#0d0887"
             ],
             [
              0.1111111111111111,
              "#46039f"
             ],
             [
              0.2222222222222222,
              "#7201a8"
             ],
             [
              0.3333333333333333,
              "#9c179e"
             ],
             [
              0.4444444444444444,
              "#bd3786"
             ],
             [
              0.5555555555555556,
              "#d8576b"
             ],
             [
              0.6666666666666666,
              "#ed7953"
             ],
             [
              0.7777777777777778,
              "#fb9f3a"
             ],
             [
              0.8888888888888888,
              "#fdca26"
             ],
             [
              1,
              "#f0f921"
             ]
            ],
            "type": "surface"
           }
          ],
          "table": [
           {
            "cells": {
             "fill": {
              "color": "#EBF0F8"
             },
             "line": {
              "color": "white"
             }
            },
            "header": {
             "fill": {
              "color": "#C8D4E3"
             },
             "line": {
              "color": "white"
             }
            },
            "type": "table"
           }
          ]
         },
         "layout": {
          "annotationdefaults": {
           "arrowcolor": "#2a3f5f",
           "arrowhead": 0,
           "arrowwidth": 1
          },
          "autotypenumbers": "strict",
          "coloraxis": {
           "colorbar": {
            "outlinewidth": 0,
            "ticks": ""
           }
          },
          "colorscale": {
           "diverging": [
            [
             0,
             "#8e0152"
            ],
            [
             0.1,
             "#c51b7d"
            ],
            [
             0.2,
             "#de77ae"
            ],
            [
             0.3,
             "#f1b6da"
            ],
            [
             0.4,
             "#fde0ef"
            ],
            [
             0.5,
             "#f7f7f7"
            ],
            [
             0.6,
             "#e6f5d0"
            ],
            [
             0.7,
             "#b8e186"
            ],
            [
             0.8,
             "#7fbc41"
            ],
            [
             0.9,
             "#4d9221"
            ],
            [
             1,
             "#276419"
            ]
           ],
           "sequential": [
            [
             0,
             "#0d0887"
            ],
            [
             0.1111111111111111,
             "#46039f"
            ],
            [
             0.2222222222222222,
             "#7201a8"
            ],
            [
             0.3333333333333333,
             "#9c179e"
            ],
            [
             0.4444444444444444,
             "#bd3786"
            ],
            [
             0.5555555555555556,
             "#d8576b"
            ],
            [
             0.6666666666666666,
             "#ed7953"
            ],
            [
             0.7777777777777778,
             "#fb9f3a"
            ],
            [
             0.8888888888888888,
             "#fdca26"
            ],
            [
             1,
             "#f0f921"
            ]
           ],
           "sequentialminus": [
            [
             0,
             "#0d0887"
            ],
            [
             0.1111111111111111,
             "#46039f"
            ],
            [
             0.2222222222222222,
             "#7201a8"
            ],
            [
             0.3333333333333333,
             "#9c179e"
            ],
            [
             0.4444444444444444,
             "#bd3786"
            ],
            [
             0.5555555555555556,
             "#d8576b"
            ],
            [
             0.6666666666666666,
             "#ed7953"
            ],
            [
             0.7777777777777778,
             "#fb9f3a"
            ],
            [
             0.8888888888888888,
             "#fdca26"
            ],
            [
             1,
             "#f0f921"
            ]
           ]
          },
          "colorway": [
           "#636efa",
           "#EF553B",
           "#00cc96",
           "#ab63fa",
           "#FFA15A",
           "#19d3f3",
           "#FF6692",
           "#B6E880",
           "#FF97FF",
           "#FECB52"
          ],
          "font": {
           "color": "#2a3f5f"
          },
          "geo": {
           "bgcolor": "white",
           "lakecolor": "white",
           "landcolor": "white",
           "showlakes": true,
           "showland": true,
           "subunitcolor": "#C8D4E3"
          },
          "hoverlabel": {
           "align": "left"
          },
          "hovermode": "closest",
          "mapbox": {
           "style": "light"
          },
          "paper_bgcolor": "white",
          "plot_bgcolor": "white",
          "polar": {
           "angularaxis": {
            "gridcolor": "#EBF0F8",
            "linecolor": "#EBF0F8",
            "ticks": ""
           },
           "bgcolor": "white",
           "radialaxis": {
            "gridcolor": "#EBF0F8",
            "linecolor": "#EBF0F8",
            "ticks": ""
           }
          },
          "scene": {
           "xaxis": {
            "backgroundcolor": "white",
            "gridcolor": "#DFE8F3",
            "gridwidth": 2,
            "linecolor": "#EBF0F8",
            "showbackground": true,
            "ticks": "",
            "zerolinecolor": "#EBF0F8"
           },
           "yaxis": {
            "backgroundcolor": "white",
            "gridcolor": "#DFE8F3",
            "gridwidth": 2,
            "linecolor": "#EBF0F8",
            "showbackground": true,
            "ticks": "",
            "zerolinecolor": "#EBF0F8"
           },
           "zaxis": {
            "backgroundcolor": "white",
            "gridcolor": "#DFE8F3",
            "gridwidth": 2,
            "linecolor": "#EBF0F8",
            "showbackground": true,
            "ticks": "",
            "zerolinecolor": "#EBF0F8"
           }
          },
          "shapedefaults": {
           "line": {
            "color": "#2a3f5f"
           }
          },
          "ternary": {
           "aaxis": {
            "gridcolor": "#DFE8F3",
            "linecolor": "#A2B1C6",
            "ticks": ""
           },
           "baxis": {
            "gridcolor": "#DFE8F3",
            "linecolor": "#A2B1C6",
            "ticks": ""
           },
           "bgcolor": "white",
           "caxis": {
            "gridcolor": "#DFE8F3",
            "linecolor": "#A2B1C6",
            "ticks": ""
           }
          },
          "title": {
           "x": 0.05
          },
          "xaxis": {
           "automargin": true,
           "gridcolor": "#EBF0F8",
           "linecolor": "#EBF0F8",
           "ticks": "",
           "title": {
            "standoff": 15
           },
           "zerolinecolor": "#EBF0F8",
           "zerolinewidth": 2
          },
          "yaxis": {
           "automargin": true,
           "gridcolor": "#EBF0F8",
           "linecolor": "#EBF0F8",
           "ticks": "",
           "title": {
            "standoff": 15
           },
           "zerolinecolor": "#EBF0F8",
           "zerolinewidth": 2
          }
         }
        },
        "title": {
         "font": {
          "size": 25
         },
         "text": "Metric Scores",
         "x": 0.5,
         "y": 0.99
        },
        "xaxis": {
         "anchor": "y",
         "domain": [
          0,
          1
         ],
         "range": [
          0.024999999999999994,
          0.92
         ],
         "tickvals": [
          0,
          0.1,
          0.2,
          0.30000000000000004,
          0.4,
          0.5,
          0.6000000000000001,
          0.7000000000000001,
          0.8,
          0.9,
          1
         ],
         "title": {
          "text": "score"
         }
        },
        "xaxis2": {
         "anchor": "y2",
         "domain": [
          0,
          1
         ],
         "matches": "x",
         "range": [
          0.024999999999999994,
          0.92
         ],
         "showticklabels": false,
         "tickvals": [
          0,
          0.1,
          0.2,
          0.30000000000000004,
          0.4,
          0.5,
          0.6000000000000001,
          0.7000000000000001,
          0.8,
          0.9,
          1
         ]
        },
        "xaxis3": {
         "anchor": "y3",
         "domain": [
          0,
          1
         ],
         "matches": "x",
         "range": [
          0.024999999999999994,
          0.92
         ],
         "showticklabels": false,
         "tickvals": [
          0,
          0.1,
          0.2,
          0.30000000000000004,
          0.4,
          0.5,
          0.6000000000000001,
          0.7000000000000001,
          0.8,
          0.9,
          1
         ]
        },
        "xaxis4": {
         "anchor": "y4",
         "domain": [
          0,
          1
         ],
         "matches": "x",
         "range": [
          0.024999999999999994,
          0.92
         ],
         "showticklabels": false,
         "tickvals": [
          0,
          0.1,
          0.2,
          0.30000000000000004,
          0.4,
          0.5,
          0.6000000000000001,
          0.7000000000000001,
          0.8,
          0.9,
          1
         ]
        },
        "xaxis5": {
         "anchor": "y5",
         "domain": [
          0,
          1
         ],
         "matches": "x",
         "range": [
          0.024999999999999994,
          0.92
         ],
         "showticklabels": false,
         "tickvals": [
          0,
          0.1,
          0.2,
          0.30000000000000004,
          0.4,
          0.5,
          0.6000000000000001,
          0.7000000000000001,
          0.8,
          0.9,
          1
         ]
        },
        "yaxis": {
         "anchor": "x",
         "domain": [
          0,
          0.144
         ],
         "showgrid": false,
         "ticktext": [
          "netherlands",
          "newyork"
         ],
         "tickvals": [
          0.5,
          1.5
         ],
         "title": {
          "text": ""
         },
         "zeroline": false
        },
        "yaxis2": {
         "anchor": "x2",
         "domain": [
          0.214,
          0.358
         ],
         "matches": "y",
         "showgrid": false,
         "ticktext": [
          "netherlands",
          "newyork"
         ],
         "tickvals": [
          0.5,
          1.5
         ],
         "title": {
          "text": ""
         },
         "zeroline": false
        },
        "yaxis3": {
         "anchor": "x3",
         "domain": [
          0.428,
          0.572
         ],
         "matches": "y",
         "showgrid": false,
         "ticktext": [
          "netherlands",
          "newyork"
         ],
         "tickvals": [
          0.5,
          1.5
         ],
         "title": {
          "text": "subgroup"
         },
         "zeroline": false
        },
        "yaxis4": {
         "anchor": "x4",
         "domain": [
          0.6419999999999999,
          0.7859999999999999
         ],
         "matches": "y",
         "showgrid": false,
         "ticktext": [
          "netherlands",
          "newyork"
         ],
         "tickvals": [
          0.5,
          1.5
         ],
         "title": {
          "text": ""
         },
         "zeroline": false
        },
        "yaxis5": {
         "anchor": "x5",
         "domain": [
          0.856,
          1
         ],
         "matches": "y",
         "showgrid": false,
         "ticktext": [
          "netherlands",
          "newyork"
         ],
         "tickvals": [
          0.5,
          1.5
         ],
         "title": {
          "text": ""
         },
         "zeroline": false
        }
       }
      },
      "text/html": [
       "<div>                            <div id=\"ace71c84-84ab-4799-ac3d-344cb08d265e\" class=\"plotly-graph-div\" style=\"height:525px; width:100%;\"></div>            <script type=\"text/javascript\">                require([\"plotly\"], function(Plotly) {                    window.PLOTLYENV=window.PLOTLYENV || {};                                    if (document.getElementById(\"ace71c84-84ab-4799-ac3d-344cb08d265e\")) {                    Plotly.newPlot(                        \"ace71c84-84ab-4799-ac3d-344cb08d265e\",                        [{\"customdata\": [[\"netherlands\", \"XGBClassifier\"], [\"newyork\", \"XGBClassifier\"]], \"hovertemplate\": \"<b>%{customdata[1]}</b><br>Subgroup: %{customdata[0]}<br>Score: %{x}<extra></extra>\", \"legendgroup\": \"XGBClassifier\", \"marker\": {\"color\": \"#46bac2\", \"size\": 7, \"symbol\": \"circle\"}, \"mode\": \"markers\", \"name\": \"XGBClassifier\", \"orientation\": \"v\", \"showlegend\": true, \"type\": \"scatter\", \"x\": [0.15, 0.525], \"xaxis\": \"x5\", \"y\": [0.5, 1.5], \"yaxis\": \"y5\"}, {\"customdata\": [[\"netherlands\", \"XGBClassifier\"], [\"newyork\", \"XGBClassifier\"]], \"hovertemplate\": \"<b>%{customdata[1]}</b><br>Subgroup: %{customdata[0]}<br>Score: %{x}<extra></extra>\", \"legendgroup\": \"XGBClassifier\", \"marker\": {\"color\": \"#46bac2\", \"size\": 7, \"symbol\": \"circle\"}, \"mode\": \"markers\", \"name\": \"XGBClassifier\", \"orientation\": \"v\", \"showlegend\": false, \"type\": \"scatter\", \"x\": [0.333, 0.543], \"xaxis\": \"x4\", \"y\": [0.5, 1.5], \"yaxis\": \"y4\"}, {\"customdata\": [[\"netherlands\", \"XGBClassifier\"], [\"newyork\", \"XGBClassifier\"]], \"hovertemplate\": \"<b>%{customdata[1]}</b><br>Subgroup: %{customdata[0]}<br>Score: %{x}<extra></extra>\", \"legendgroup\": \"XGBClassifier\", \"marker\": {\"color\": \"#46bac2\", \"size\": 7, \"symbol\": \"circle\"}, \"mode\": \"markers\", \"name\": \"XGBClassifier\", \"orientation\": \"v\", \"showlegend\": false, \"type\": \"scatter\", \"x\": [0.075, 0.239], \"xaxis\": \"x3\", \"y\": [0.5, 1.5], \"yaxis\": \"y3\"}, {\"customdata\": [[\"netherlands\", \"XGBClassifier\"], [\"newyork\", \"XGBClassifier\"]], \"hovertemplate\": \"<b>%{customdata[1]}</b><br>Subgroup: %{customdata[0]}<br>Score: %{x}<extra></extra>\", \"legendgroup\": \"XGBClassifier\", \"marker\": {\"color\": \"#46bac2\", \"size\": 7, \"symbol\": \"circle\"}, \"mode\": \"markers\", \"name\": \"XGBClassifier\", \"orientation\": \"v\", \"showlegend\": false, \"type\": \"scatter\", \"x\": [0.77, 0.678], \"xaxis\": \"x2\", \"y\": [0.5, 1.5], \"yaxis\": \"y2\"}, {\"customdata\": [[\"netherlands\", \"XGBClassifier\"], [\"newyork\", \"XGBClassifier\"]], \"hovertemplate\": \"<b>%{customdata[1]}</b><br>Subgroup: %{customdata[0]}<br>Score: %{x}<extra></extra>\", \"legendgroup\": \"XGBClassifier\", \"marker\": {\"color\": \"#46bac2\", \"size\": 7, \"symbol\": \"circle\"}, \"mode\": \"markers\", \"name\": \"XGBClassifier\", \"orientation\": \"v\", \"showlegend\": false, \"type\": \"scatter\", \"x\": [0.09, 0.339], \"xaxis\": \"x\", \"y\": [0.5, 1.5], \"yaxis\": \"y\"}],                        {\"annotations\": [{\"font\": {\"size\": 15}, \"showarrow\": false, \"text\": \"STP   (TP + FP)/(TP + FP + TN + FN)\", \"x\": 0.05, \"xanchor\": \"left\", \"xref\": \"paper\", \"y\": 0.144, \"yanchor\": \"bottom\", \"yref\": \"paper\"}, {\"font\": {\"size\": 15}, \"showarrow\": false, \"text\": \"ACC   (TP + TN)/(TP + FP + TN + FN)\", \"x\": 0.05, \"xanchor\": \"left\", \"xref\": \"paper\", \"y\": 0.358, \"yanchor\": \"bottom\", \"yref\": \"paper\"}, {\"font\": {\"size\": 15}, \"showarrow\": false, \"text\": \"FPR    FP/(FP + TN)\", \"x\": 0.05, \"xanchor\": \"left\", \"xref\": \"paper\", \"y\": 0.572, \"yanchor\": \"bottom\", \"yref\": \"paper\"}, {\"font\": {\"size\": 15}, \"showarrow\": false, \"text\": \"PPV    TP/(TP + FP)\", \"x\": 0.05, \"xanchor\": \"left\", \"xref\": \"paper\", \"y\": 0.7859999999999999, \"yanchor\": \"bottom\", \"yref\": \"paper\"}, {\"font\": {\"size\": 15}, \"showarrow\": false, \"text\": \"TPR    TP/(TP + FN)\", \"x\": 0.05, \"xanchor\": \"left\", \"xref\": \"paper\", \"y\": 1.0, \"yanchor\": \"bottom\", \"yref\": \"paper\"}], \"font\": {\"color\": \"#371ea3\"}, \"legend\": {\"title\": {\"text\": \"label\"}, \"tracegroupgap\": 0}, \"margin\": {\"b\": 71, \"r\": 30, \"t\": 78}, \"shapes\": [{\"line\": {\"color\": \"#46bac2\", \"width\": 1}, \"type\": \"line\", \"x0\": 0.15, \"x1\": 0.606, \"xref\": \"x\", \"y0\": 0.5, \"y1\": 0.5, \"yref\": \"y5\"}, {\"line\": {\"color\": \"#46bac2\", \"width\": 1}, \"type\": \"line\", \"x0\": 0.525, \"x1\": 0.606, \"xref\": \"x\", \"y0\": 1.5, \"y1\": 1.5, \"yref\": \"y5\"}, {\"line\": {\"color\": \"#46bac2\", \"width\": 2}, \"type\": \"line\", \"x0\": 0.606, \"x1\": 0.606, \"xref\": \"x\", \"y0\": 0, \"y1\": 2.0, \"yref\": \"y5\"}, {\"line\": {\"color\": \"#46bac2\", \"width\": 1}, \"type\": \"line\", \"x0\": 0.333, \"x1\": 0.87, \"xref\": \"x\", \"y0\": 0.5, \"y1\": 0.5, \"yref\": \"y4\"}, {\"line\": {\"color\": \"#46bac2\", \"width\": 1}, \"type\": \"line\", \"x0\": 0.543, \"x1\": 0.87, \"xref\": \"x\", \"y0\": 1.5, \"y1\": 1.5, \"yref\": \"y4\"}, {\"line\": {\"color\": \"#46bac2\", \"width\": 2}, \"type\": \"line\", \"x0\": 0.87, \"x1\": 0.87, \"xref\": \"x\", \"y0\": 0, \"y1\": 2.0, \"yref\": \"y4\"}, {\"line\": {\"color\": \"#46bac2\", \"width\": 1}, \"type\": \"line\", \"x0\": 0.075, \"x1\": 0.102, \"xref\": \"x\", \"y0\": 0.5, \"y1\": 0.5, \"yref\": \"y3\"}, {\"line\": {\"color\": \"#46bac2\", \"width\": 1}, \"type\": \"line\", \"x0\": 0.239, \"x1\": 0.102, \"xref\": \"x\", \"y0\": 1.5, \"y1\": 1.5, \"yref\": \"y3\"}, {\"line\": {\"color\": \"#46bac2\", \"width\": 2}, \"type\": \"line\", \"x0\": 0.102, \"x1\": 0.102, \"xref\": \"x\", \"y0\": 0, \"y1\": 2.0, \"yref\": \"y3\"}, {\"line\": {\"color\": \"#46bac2\", \"width\": 1}, \"type\": \"line\", \"x0\": 0.77, \"x1\": 0.744, \"xref\": \"x\", \"y0\": 0.5, \"y1\": 0.5, \"yref\": \"y2\"}, {\"line\": {\"color\": \"#46bac2\", \"width\": 1}, \"type\": \"line\", \"x0\": 0.678, \"x1\": 0.744, \"xref\": \"x\", \"y0\": 1.5, \"y1\": 1.5, \"yref\": \"y2\"}, {\"line\": {\"color\": \"#46bac2\", \"width\": 2}, \"type\": \"line\", \"x0\": 0.744, \"x1\": 0.744, \"xref\": \"x\", \"y0\": 0, \"y1\": 2.0, \"yref\": \"y2\"}, {\"line\": {\"color\": \"#46bac2\", \"width\": 1}, \"type\": \"line\", \"x0\": 0.09, \"x1\": 0.368, \"xref\": \"x\", \"y0\": 0.5, \"y1\": 0.5, \"yref\": \"y\"}, {\"line\": {\"color\": \"#46bac2\", \"width\": 1}, \"type\": \"line\", \"x0\": 0.339, \"x1\": 0.368, \"xref\": \"x\", \"y0\": 1.5, \"y1\": 1.5, \"yref\": \"y\"}, {\"line\": {\"color\": \"#46bac2\", \"width\": 2}, \"type\": \"line\", \"x0\": 0.368, \"x1\": 0.368, \"xref\": \"x\", \"y0\": 0, \"y1\": 2.0, \"yref\": \"y\"}], \"template\": {\"data\": {\"bar\": [{\"error_x\": {\"color\": \"#2a3f5f\"}, \"error_y\": {\"color\": \"#2a3f5f\"}, \"marker\": {\"line\": {\"color\": \"white\", \"width\": 0.5}}, \"type\": \"bar\"}], \"barpolar\": [{\"marker\": {\"line\": {\"color\": \"white\", \"width\": 0.5}}, \"type\": \"barpolar\"}], \"carpet\": [{\"aaxis\": {\"endlinecolor\": \"#2a3f5f\", \"gridcolor\": \"#C8D4E3\", \"linecolor\": \"#C8D4E3\", \"minorgridcolor\": \"#C8D4E3\", \"startlinecolor\": \"#2a3f5f\"}, \"baxis\": {\"endlinecolor\": \"#2a3f5f\", \"gridcolor\": \"#C8D4E3\", \"linecolor\": \"#C8D4E3\", \"minorgridcolor\": \"#C8D4E3\", \"startlinecolor\": \"#2a3f5f\"}, \"type\": \"carpet\"}], \"choropleth\": [{\"colorbar\": {\"outlinewidth\": 0, \"ticks\": \"\"}, \"type\": \"choropleth\"}], \"contour\": [{\"colorbar\": {\"outlinewidth\": 0, \"ticks\": \"\"}, \"colorscale\": [[0.0, \"#0d0887\"], [0.1111111111111111, \"#46039f\"], [0.2222222222222222, \"#7201a8\"], [0.3333333333333333, \"#9c179e\"], [0.4444444444444444, \"#bd3786\"], [0.5555555555555556, \"#d8576b\"], [0.6666666666666666, \"#ed7953\"], [0.7777777777777778, \"#fb9f3a\"], [0.8888888888888888, \"#fdca26\"], [1.0, \"#f0f921\"]], \"type\": \"contour\"}], \"contourcarpet\": [{\"colorbar\": {\"outlinewidth\": 0, \"ticks\": \"\"}, \"type\": \"contourcarpet\"}], \"heatmap\": [{\"colorbar\": {\"outlinewidth\": 0, \"ticks\": \"\"}, \"colorscale\": [[0.0, \"#0d0887\"], [0.1111111111111111, \"#46039f\"], [0.2222222222222222, \"#7201a8\"], [0.3333333333333333, \"#9c179e\"], [0.4444444444444444, \"#bd3786\"], [0.5555555555555556, \"#d8576b\"], [0.6666666666666666, \"#ed7953\"], [0.7777777777777778, \"#fb9f3a\"], [0.8888888888888888, \"#fdca26\"], [1.0, \"#f0f921\"]], \"type\": \"heatmap\"}], \"heatmapgl\": [{\"colorbar\": {\"outlinewidth\": 0, \"ticks\": \"\"}, \"colorscale\": [[0.0, \"#0d0887\"], [0.1111111111111111, \"#46039f\"], [0.2222222222222222, \"#7201a8\"], [0.3333333333333333, \"#9c179e\"], [0.4444444444444444, \"#bd3786\"], [0.5555555555555556, \"#d8576b\"], [0.6666666666666666, \"#ed7953\"], [0.7777777777777778, \"#fb9f3a\"], [0.8888888888888888, \"#fdca26\"], [1.0, \"#f0f921\"]], \"type\": \"heatmapgl\"}], \"histogram\": [{\"marker\": {\"colorbar\": {\"outlinewidth\": 0, \"ticks\": \"\"}}, \"type\": \"histogram\"}], \"histogram2d\": [{\"colorbar\": {\"outlinewidth\": 0, \"ticks\": \"\"}, \"colorscale\": [[0.0, \"#0d0887\"], [0.1111111111111111, \"#46039f\"], [0.2222222222222222, \"#7201a8\"], [0.3333333333333333, \"#9c179e\"], [0.4444444444444444, \"#bd3786\"], [0.5555555555555556, \"#d8576b\"], [0.6666666666666666, \"#ed7953\"], [0.7777777777777778, \"#fb9f3a\"], [0.8888888888888888, \"#fdca26\"], [1.0, \"#f0f921\"]], \"type\": \"histogram2d\"}], \"histogram2dcontour\": [{\"colorbar\": {\"outlinewidth\": 0, \"ticks\": \"\"}, \"colorscale\": [[0.0, \"#0d0887\"], [0.1111111111111111, \"#46039f\"], [0.2222222222222222, \"#7201a8\"], [0.3333333333333333, \"#9c179e\"], [0.4444444444444444, \"#bd3786\"], [0.5555555555555556, \"#d8576b\"], [0.6666666666666666, \"#ed7953\"], [0.7777777777777778, \"#fb9f3a\"], [0.8888888888888888, \"#fdca26\"], [1.0, \"#f0f921\"]], \"type\": \"histogram2dcontour\"}], \"mesh3d\": [{\"colorbar\": {\"outlinewidth\": 0, \"ticks\": \"\"}, \"type\": \"mesh3d\"}], \"parcoords\": [{\"line\": {\"colorbar\": {\"outlinewidth\": 0, \"ticks\": \"\"}}, \"type\": \"parcoords\"}], \"pie\": [{\"automargin\": true, \"type\": \"pie\"}], \"scatter\": [{\"marker\": {\"colorbar\": {\"outlinewidth\": 0, \"ticks\": \"\"}}, \"type\": \"scatter\"}], \"scatter3d\": [{\"line\": {\"colorbar\": {\"outlinewidth\": 0, \"ticks\": \"\"}}, \"marker\": {\"colorbar\": {\"outlinewidth\": 0, \"ticks\": \"\"}}, \"type\": \"scatter3d\"}], \"scattercarpet\": [{\"marker\": {\"colorbar\": {\"outlinewidth\": 0, \"ticks\": \"\"}}, \"type\": \"scattercarpet\"}], \"scattergeo\": [{\"marker\": {\"colorbar\": {\"outlinewidth\": 0, \"ticks\": \"\"}}, \"type\": \"scattergeo\"}], \"scattergl\": [{\"marker\": {\"colorbar\": {\"outlinewidth\": 0, \"ticks\": \"\"}}, \"type\": \"scattergl\"}], \"scattermapbox\": [{\"marker\": {\"colorbar\": {\"outlinewidth\": 0, \"ticks\": \"\"}}, \"type\": \"scattermapbox\"}], \"scatterpolar\": [{\"marker\": {\"colorbar\": {\"outlinewidth\": 0, \"ticks\": \"\"}}, \"type\": \"scatterpolar\"}], \"scatterpolargl\": [{\"marker\": {\"colorbar\": {\"outlinewidth\": 0, \"ticks\": \"\"}}, \"type\": \"scatterpolargl\"}], \"scatterternary\": [{\"marker\": {\"colorbar\": {\"outlinewidth\": 0, \"ticks\": \"\"}}, \"type\": \"scatterternary\"}], \"surface\": [{\"colorbar\": {\"outlinewidth\": 0, \"ticks\": \"\"}, \"colorscale\": [[0.0, \"#0d0887\"], [0.1111111111111111, \"#46039f\"], [0.2222222222222222, \"#7201a8\"], [0.3333333333333333, \"#9c179e\"], [0.4444444444444444, \"#bd3786\"], [0.5555555555555556, \"#d8576b\"], [0.6666666666666666, \"#ed7953\"], [0.7777777777777778, \"#fb9f3a\"], [0.8888888888888888, \"#fdca26\"], [1.0, \"#f0f921\"]], \"type\": \"surface\"}], \"table\": [{\"cells\": {\"fill\": {\"color\": \"#EBF0F8\"}, \"line\": {\"color\": \"white\"}}, \"header\": {\"fill\": {\"color\": \"#C8D4E3\"}, \"line\": {\"color\": \"white\"}}, \"type\": \"table\"}]}, \"layout\": {\"annotationdefaults\": {\"arrowcolor\": \"#2a3f5f\", \"arrowhead\": 0, \"arrowwidth\": 1}, \"autotypenumbers\": \"strict\", \"coloraxis\": {\"colorbar\": {\"outlinewidth\": 0, \"ticks\": \"\"}}, \"colorscale\": {\"diverging\": [[0, \"#8e0152\"], [0.1, \"#c51b7d\"], [0.2, \"#de77ae\"], [0.3, \"#f1b6da\"], [0.4, \"#fde0ef\"], [0.5, \"#f7f7f7\"], [0.6, \"#e6f5d0\"], [0.7, \"#b8e186\"], [0.8, \"#7fbc41\"], [0.9, \"#4d9221\"], [1, \"#276419\"]], \"sequential\": [[0.0, \"#0d0887\"], [0.1111111111111111, \"#46039f\"], [0.2222222222222222, \"#7201a8\"], [0.3333333333333333, \"#9c179e\"], [0.4444444444444444, \"#bd3786\"], [0.5555555555555556, \"#d8576b\"], [0.6666666666666666, \"#ed7953\"], [0.7777777777777778, \"#fb9f3a\"], [0.8888888888888888, \"#fdca26\"], [1.0, \"#f0f921\"]], \"sequentialminus\": [[0.0, \"#0d0887\"], [0.1111111111111111, \"#46039f\"], [0.2222222222222222, \"#7201a8\"], [0.3333333333333333, \"#9c179e\"], [0.4444444444444444, \"#bd3786\"], [0.5555555555555556, \"#d8576b\"], [0.6666666666666666, \"#ed7953\"], [0.7777777777777778, \"#fb9f3a\"], [0.8888888888888888, \"#fdca26\"], [1.0, \"#f0f921\"]]}, \"colorway\": [\"#636efa\", \"#EF553B\", \"#00cc96\", \"#ab63fa\", \"#FFA15A\", \"#19d3f3\", \"#FF6692\", \"#B6E880\", \"#FF97FF\", \"#FECB52\"], \"font\": {\"color\": \"#2a3f5f\"}, \"geo\": {\"bgcolor\": \"white\", \"lakecolor\": \"white\", \"landcolor\": \"white\", \"showlakes\": true, \"showland\": true, \"subunitcolor\": \"#C8D4E3\"}, \"hoverlabel\": {\"align\": \"left\"}, \"hovermode\": \"closest\", \"mapbox\": {\"style\": \"light\"}, \"paper_bgcolor\": \"white\", \"plot_bgcolor\": \"white\", \"polar\": {\"angularaxis\": {\"gridcolor\": \"#EBF0F8\", \"linecolor\": \"#EBF0F8\", \"ticks\": \"\"}, \"bgcolor\": \"white\", \"radialaxis\": {\"gridcolor\": \"#EBF0F8\", \"linecolor\": \"#EBF0F8\", \"ticks\": \"\"}}, \"scene\": {\"xaxis\": {\"backgroundcolor\": \"white\", \"gridcolor\": \"#DFE8F3\", \"gridwidth\": 2, \"linecolor\": \"#EBF0F8\", \"showbackground\": true, \"ticks\": \"\", \"zerolinecolor\": \"#EBF0F8\"}, \"yaxis\": {\"backgroundcolor\": \"white\", \"gridcolor\": \"#DFE8F3\", \"gridwidth\": 2, \"linecolor\": \"#EBF0F8\", \"showbackground\": true, \"ticks\": \"\", \"zerolinecolor\": \"#EBF0F8\"}, \"zaxis\": {\"backgroundcolor\": \"white\", \"gridcolor\": \"#DFE8F3\", \"gridwidth\": 2, \"linecolor\": \"#EBF0F8\", \"showbackground\": true, \"ticks\": \"\", \"zerolinecolor\": \"#EBF0F8\"}}, \"shapedefaults\": {\"line\": {\"color\": \"#2a3f5f\"}}, \"ternary\": {\"aaxis\": {\"gridcolor\": \"#DFE8F3\", \"linecolor\": \"#A2B1C6\", \"ticks\": \"\"}, \"baxis\": {\"gridcolor\": \"#DFE8F3\", \"linecolor\": \"#A2B1C6\", \"ticks\": \"\"}, \"bgcolor\": \"white\", \"caxis\": {\"gridcolor\": \"#DFE8F3\", \"linecolor\": \"#A2B1C6\", \"ticks\": \"\"}}, \"title\": {\"x\": 0.05}, \"xaxis\": {\"automargin\": true, \"gridcolor\": \"#EBF0F8\", \"linecolor\": \"#EBF0F8\", \"ticks\": \"\", \"title\": {\"standoff\": 15}, \"zerolinecolor\": \"#EBF0F8\", \"zerolinewidth\": 2}, \"yaxis\": {\"automargin\": true, \"gridcolor\": \"#EBF0F8\", \"linecolor\": \"#EBF0F8\", \"ticks\": \"\", \"title\": {\"standoff\": 15}, \"zerolinecolor\": \"#EBF0F8\", \"zerolinewidth\": 2}}}, \"title\": {\"font\": {\"size\": 25}, \"text\": \"Metric Scores\", \"x\": 0.5, \"y\": 0.99}, \"xaxis\": {\"anchor\": \"y\", \"domain\": [0.0, 1.0], \"range\": [0.024999999999999994, 0.92], \"tickvals\": [0.0, 0.1, 0.2, 0.30000000000000004, 0.4, 0.5, 0.6000000000000001, 0.7000000000000001, 0.8, 0.9, 1.0], \"title\": {\"text\": \"score\"}}, \"xaxis2\": {\"anchor\": \"y2\", \"domain\": [0.0, 1.0], \"matches\": \"x\", \"range\": [0.024999999999999994, 0.92], \"showticklabels\": false, \"tickvals\": [0.0, 0.1, 0.2, 0.30000000000000004, 0.4, 0.5, 0.6000000000000001, 0.7000000000000001, 0.8, 0.9, 1.0]}, \"xaxis3\": {\"anchor\": \"y3\", \"domain\": [0.0, 1.0], \"matches\": \"x\", \"range\": [0.024999999999999994, 0.92], \"showticklabels\": false, \"tickvals\": [0.0, 0.1, 0.2, 0.30000000000000004, 0.4, 0.5, 0.6000000000000001, 0.7000000000000001, 0.8, 0.9, 1.0]}, \"xaxis4\": {\"anchor\": \"y4\", \"domain\": [0.0, 1.0], \"matches\": \"x\", \"range\": [0.024999999999999994, 0.92], \"showticklabels\": false, \"tickvals\": [0.0, 0.1, 0.2, 0.30000000000000004, 0.4, 0.5, 0.6000000000000001, 0.7000000000000001, 0.8, 0.9, 1.0]}, \"xaxis5\": {\"anchor\": \"y5\", \"domain\": [0.0, 1.0], \"matches\": \"x\", \"range\": [0.024999999999999994, 0.92], \"showticklabels\": false, \"tickvals\": [0.0, 0.1, 0.2, 0.30000000000000004, 0.4, 0.5, 0.6000000000000001, 0.7000000000000001, 0.8, 0.9, 1.0]}, \"yaxis\": {\"anchor\": \"x\", \"domain\": [0.0, 0.144], \"showgrid\": false, \"ticktext\": [\"netherlands\", \"newyork\"], \"tickvals\": [0.5, 1.5], \"title\": {\"text\": \"\"}, \"zeroline\": false}, \"yaxis2\": {\"anchor\": \"x2\", \"domain\": [0.214, 0.358], \"matches\": \"y\", \"showgrid\": false, \"ticktext\": [\"netherlands\", \"newyork\"], \"tickvals\": [0.5, 1.5], \"title\": {\"text\": \"\"}, \"zeroline\": false}, \"yaxis3\": {\"anchor\": \"x3\", \"domain\": [0.428, 0.572], \"matches\": \"y\", \"showgrid\": false, \"ticktext\": [\"netherlands\", \"newyork\"], \"tickvals\": [0.5, 1.5], \"title\": {\"text\": \"subgroup\"}, \"zeroline\": false}, \"yaxis4\": {\"anchor\": \"x4\", \"domain\": [0.6419999999999999, 0.7859999999999999], \"matches\": \"y\", \"showgrid\": false, \"ticktext\": [\"netherlands\", \"newyork\"], \"tickvals\": [0.5, 1.5], \"title\": {\"text\": \"\"}, \"zeroline\": false}, \"yaxis5\": {\"anchor\": \"x5\", \"domain\": [0.856, 1.0], \"matches\": \"y\", \"showgrid\": false, \"ticktext\": [\"netherlands\", \"newyork\"], \"tickvals\": [0.5, 1.5], \"title\": {\"text\": \"\"}, \"zeroline\": false}},                        {\"displaylogo\": false, \"staticPlot\": false, \"toImageButtonOptions\": {\"height\": null, \"width\": null}, \"modeBarButtonsToRemove\": [\"sendDataToCloud\", \"lasso2d\", \"autoScale2d\", \"select2d\", \"zoom2d\", \"pan2d\", \"zoomIn2d\", \"zoomOut2d\", \"resetScale2d\", \"toggleSpikelines\", \"hoverCompareCartesian\", \"hoverClosestCartesian\"], \"responsive\": true}                    ).then(function(){\n",
       "                            \n",
       "var gd = document.getElementById('ace71c84-84ab-4799-ac3d-344cb08d265e');\n",
       "var x = new MutationObserver(function (mutations, observer) {{\n",
       "        var display = window.getComputedStyle(gd).display;\n",
       "        if (!display || display === 'none') {{\n",
       "            console.log([gd, 'removed!']);\n",
       "            Plotly.purge(gd);\n",
       "            observer.disconnect();\n",
       "        }}\n",
       "}});\n",
       "\n",
       "// Listen for the removal of the full notebook cells\n",
       "var notebookContainer = gd.closest('#notebook-container');\n",
       "if (notebookContainer) {{\n",
       "    x.observe(notebookContainer, {childList: true});\n",
       "}}\n",
       "\n",
       "// Listen for the clearing of the current output cell\n",
       "var outputEl = gd.closest('.output');\n",
       "if (outputEl) {{\n",
       "    x.observe(outputEl, {childList: true});\n",
       "}}\n",
       "\n",
       "                        })                };                });            </script>        </div>"
      ]
     },
     "metadata": {},
     "output_type": "display_data"
    }
   ],
   "source": [
    "exp.model_fairness(protected = X_test['from'], privileged = 'china').plot(type='metric_scores')"
   ]
  },
  {
   "cell_type": "code",
   "execution_count": 51,
   "metadata": {},
   "outputs": [
    {
     "data": {
      "application/vnd.plotly.v1+json": {
       "config": {
        "displaylogo": false,
        "modeBarButtonsToRemove": [
         "sendDataToCloud",
         "lasso2d",
         "autoScale2d",
         "select2d",
         "zoom2d",
         "pan2d",
         "zoomIn2d",
         "zoomOut2d",
         "resetScale2d",
         "toggleSpikelines",
         "hoverCompareCartesian",
         "hoverClosestCartesian"
        ],
        "plotlyServerURL": "https://plot.ly",
        "staticPlot": false,
        "toImageButtonOptions": {
         "height": null,
         "width": null
        }
       },
       "data": [
        {
         "hovertemplate": "<b>%{text}</b><br>Metric: %{theta}<br>Parity loss: %{r:.3f}<extra></extra>",
         "line": {
          "color": "#46bac2"
         },
         "marker": {
          "color": [
           "#46bac2",
           "#46bac2",
           "#46bac2",
           "#46bac2",
           "#46bac2",
           "#46bac2"
          ]
         },
         "name": "XGBClassifier",
         "r": [
          1.5397264154507493,
          1.4317346133828794,
          1.1589754383952002,
          0.12724322690733386,
          1.4903560986271465,
          1.5397264154507493
         ],
         "text": [
          "XGBClassifier",
          "XGBClassifier",
          "XGBClassifier",
          "XGBClassifier",
          "XGBClassifier",
          "XGBClassifier"
         ],
         "theta": [
          "TPR",
          "PPV",
          "FPR",
          "ACC",
          "STP",
          "TPR"
         ],
         "type": "scatterpolar"
        }
       ],
       "layout": {
        "font": {
         "color": "#371ea3"
        },
        "margin": {
         "b": 71,
         "r": 30,
         "t": 78
        },
        "polar": {
         "radialaxis": {
          "range": [
           0,
           1.6397264154507494
          ]
         }
        },
        "template": {
         "data": {
          "bar": [
           {
            "error_x": {
             "color": "#2a3f5f"
            },
            "error_y": {
             "color": "#2a3f5f"
            },
            "marker": {
             "line": {
              "color": "white",
              "width": 0.5
             }
            },
            "type": "bar"
           }
          ],
          "barpolar": [
           {
            "marker": {
             "line": {
              "color": "white",
              "width": 0.5
             }
            },
            "type": "barpolar"
           }
          ],
          "carpet": [
           {
            "aaxis": {
             "endlinecolor": "#2a3f5f",
             "gridcolor": "#C8D4E3",
             "linecolor": "#C8D4E3",
             "minorgridcolor": "#C8D4E3",
             "startlinecolor": "#2a3f5f"
            },
            "baxis": {
             "endlinecolor": "#2a3f5f",
             "gridcolor": "#C8D4E3",
             "linecolor": "#C8D4E3",
             "minorgridcolor": "#C8D4E3",
             "startlinecolor": "#2a3f5f"
            },
            "type": "carpet"
           }
          ],
          "choropleth": [
           {
            "colorbar": {
             "outlinewidth": 0,
             "ticks": ""
            },
            "type": "choropleth"
           }
          ],
          "contour": [
           {
            "colorbar": {
             "outlinewidth": 0,
             "ticks": ""
            },
            "colorscale": [
             [
              0,
              "#0d0887"
             ],
             [
              0.1111111111111111,
              "#46039f"
             ],
             [
              0.2222222222222222,
              "#7201a8"
             ],
             [
              0.3333333333333333,
              "#9c179e"
             ],
             [
              0.4444444444444444,
              "#bd3786"
             ],
             [
              0.5555555555555556,
              "#d8576b"
             ],
             [
              0.6666666666666666,
              "#ed7953"
             ],
             [
              0.7777777777777778,
              "#fb9f3a"
             ],
             [
              0.8888888888888888,
              "#fdca26"
             ],
             [
              1,
              "#f0f921"
             ]
            ],
            "type": "contour"
           }
          ],
          "contourcarpet": [
           {
            "colorbar": {
             "outlinewidth": 0,
             "ticks": ""
            },
            "type": "contourcarpet"
           }
          ],
          "heatmap": [
           {
            "colorbar": {
             "outlinewidth": 0,
             "ticks": ""
            },
            "colorscale": [
             [
              0,
              "#0d0887"
             ],
             [
              0.1111111111111111,
              "#46039f"
             ],
             [
              0.2222222222222222,
              "#7201a8"
             ],
             [
              0.3333333333333333,
              "#9c179e"
             ],
             [
              0.4444444444444444,
              "#bd3786"
             ],
             [
              0.5555555555555556,
              "#d8576b"
             ],
             [
              0.6666666666666666,
              "#ed7953"
             ],
             [
              0.7777777777777778,
              "#fb9f3a"
             ],
             [
              0.8888888888888888,
              "#fdca26"
             ],
             [
              1,
              "#f0f921"
             ]
            ],
            "type": "heatmap"
           }
          ],
          "heatmapgl": [
           {
            "colorbar": {
             "outlinewidth": 0,
             "ticks": ""
            },
            "colorscale": [
             [
              0,
              "#0d0887"
             ],
             [
              0.1111111111111111,
              "#46039f"
             ],
             [
              0.2222222222222222,
              "#7201a8"
             ],
             [
              0.3333333333333333,
              "#9c179e"
             ],
             [
              0.4444444444444444,
              "#bd3786"
             ],
             [
              0.5555555555555556,
              "#d8576b"
             ],
             [
              0.6666666666666666,
              "#ed7953"
             ],
             [
              0.7777777777777778,
              "#fb9f3a"
             ],
             [
              0.8888888888888888,
              "#fdca26"
             ],
             [
              1,
              "#f0f921"
             ]
            ],
            "type": "heatmapgl"
           }
          ],
          "histogram": [
           {
            "marker": {
             "colorbar": {
              "outlinewidth": 0,
              "ticks": ""
             }
            },
            "type": "histogram"
           }
          ],
          "histogram2d": [
           {
            "colorbar": {
             "outlinewidth": 0,
             "ticks": ""
            },
            "colorscale": [
             [
              0,
              "#0d0887"
             ],
             [
              0.1111111111111111,
              "#46039f"
             ],
             [
              0.2222222222222222,
              "#7201a8"
             ],
             [
              0.3333333333333333,
              "#9c179e"
             ],
             [
              0.4444444444444444,
              "#bd3786"
             ],
             [
              0.5555555555555556,
              "#d8576b"
             ],
             [
              0.6666666666666666,
              "#ed7953"
             ],
             [
              0.7777777777777778,
              "#fb9f3a"
             ],
             [
              0.8888888888888888,
              "#fdca26"
             ],
             [
              1,
              "#f0f921"
             ]
            ],
            "type": "histogram2d"
           }
          ],
          "histogram2dcontour": [
           {
            "colorbar": {
             "outlinewidth": 0,
             "ticks": ""
            },
            "colorscale": [
             [
              0,
              "#0d0887"
             ],
             [
              0.1111111111111111,
              "#46039f"
             ],
             [
              0.2222222222222222,
              "#7201a8"
             ],
             [
              0.3333333333333333,
              "#9c179e"
             ],
             [
              0.4444444444444444,
              "#bd3786"
             ],
             [
              0.5555555555555556,
              "#d8576b"
             ],
             [
              0.6666666666666666,
              "#ed7953"
             ],
             [
              0.7777777777777778,
              "#fb9f3a"
             ],
             [
              0.8888888888888888,
              "#fdca26"
             ],
             [
              1,
              "#f0f921"
             ]
            ],
            "type": "histogram2dcontour"
           }
          ],
          "mesh3d": [
           {
            "colorbar": {
             "outlinewidth": 0,
             "ticks": ""
            },
            "type": "mesh3d"
           }
          ],
          "parcoords": [
           {
            "line": {
             "colorbar": {
              "outlinewidth": 0,
              "ticks": ""
             }
            },
            "type": "parcoords"
           }
          ],
          "pie": [
           {
            "automargin": true,
            "type": "pie"
           }
          ],
          "scatter": [
           {
            "marker": {
             "colorbar": {
              "outlinewidth": 0,
              "ticks": ""
             }
            },
            "type": "scatter"
           }
          ],
          "scatter3d": [
           {
            "line": {
             "colorbar": {
              "outlinewidth": 0,
              "ticks": ""
             }
            },
            "marker": {
             "colorbar": {
              "outlinewidth": 0,
              "ticks": ""
             }
            },
            "type": "scatter3d"
           }
          ],
          "scattercarpet": [
           {
            "marker": {
             "colorbar": {
              "outlinewidth": 0,
              "ticks": ""
             }
            },
            "type": "scattercarpet"
           }
          ],
          "scattergeo": [
           {
            "marker": {
             "colorbar": {
              "outlinewidth": 0,
              "ticks": ""
             }
            },
            "type": "scattergeo"
           }
          ],
          "scattergl": [
           {
            "marker": {
             "colorbar": {
              "outlinewidth": 0,
              "ticks": ""
             }
            },
            "type": "scattergl"
           }
          ],
          "scattermapbox": [
           {
            "marker": {
             "colorbar": {
              "outlinewidth": 0,
              "ticks": ""
             }
            },
            "type": "scattermapbox"
           }
          ],
          "scatterpolar": [
           {
            "marker": {
             "colorbar": {
              "outlinewidth": 0,
              "ticks": ""
             }
            },
            "type": "scatterpolar"
           }
          ],
          "scatterpolargl": [
           {
            "marker": {
             "colorbar": {
              "outlinewidth": 0,
              "ticks": ""
             }
            },
            "type": "scatterpolargl"
           }
          ],
          "scatterternary": [
           {
            "marker": {
             "colorbar": {
              "outlinewidth": 0,
              "ticks": ""
             }
            },
            "type": "scatterternary"
           }
          ],
          "surface": [
           {
            "colorbar": {
             "outlinewidth": 0,
             "ticks": ""
            },
            "colorscale": [
             [
              0,
              "#0d0887"
             ],
             [
              0.1111111111111111,
              "#46039f"
             ],
             [
              0.2222222222222222,
              "#7201a8"
             ],
             [
              0.3333333333333333,
              "#9c179e"
             ],
             [
              0.4444444444444444,
              "#bd3786"
             ],
             [
              0.5555555555555556,
              "#d8576b"
             ],
             [
              0.6666666666666666,
              "#ed7953"
             ],
             [
              0.7777777777777778,
              "#fb9f3a"
             ],
             [
              0.8888888888888888,
              "#fdca26"
             ],
             [
              1,
              "#f0f921"
             ]
            ],
            "type": "surface"
           }
          ],
          "table": [
           {
            "cells": {
             "fill": {
              "color": "#EBF0F8"
             },
             "line": {
              "color": "white"
             }
            },
            "header": {
             "fill": {
              "color": "#C8D4E3"
             },
             "line": {
              "color": "white"
             }
            },
            "type": "table"
           }
          ]
         },
         "layout": {
          "annotationdefaults": {
           "arrowcolor": "#2a3f5f",
           "arrowhead": 0,
           "arrowwidth": 1
          },
          "autotypenumbers": "strict",
          "coloraxis": {
           "colorbar": {
            "outlinewidth": 0,
            "ticks": ""
           }
          },
          "colorscale": {
           "diverging": [
            [
             0,
             "#8e0152"
            ],
            [
             0.1,
             "#c51b7d"
            ],
            [
             0.2,
             "#de77ae"
            ],
            [
             0.3,
             "#f1b6da"
            ],
            [
             0.4,
             "#fde0ef"
            ],
            [
             0.5,
             "#f7f7f7"
            ],
            [
             0.6,
             "#e6f5d0"
            ],
            [
             0.7,
             "#b8e186"
            ],
            [
             0.8,
             "#7fbc41"
            ],
            [
             0.9,
             "#4d9221"
            ],
            [
             1,
             "#276419"
            ]
           ],
           "sequential": [
            [
             0,
             "#0d0887"
            ],
            [
             0.1111111111111111,
             "#46039f"
            ],
            [
             0.2222222222222222,
             "#7201a8"
            ],
            [
             0.3333333333333333,
             "#9c179e"
            ],
            [
             0.4444444444444444,
             "#bd3786"
            ],
            [
             0.5555555555555556,
             "#d8576b"
            ],
            [
             0.6666666666666666,
             "#ed7953"
            ],
            [
             0.7777777777777778,
             "#fb9f3a"
            ],
            [
             0.8888888888888888,
             "#fdca26"
            ],
            [
             1,
             "#f0f921"
            ]
           ],
           "sequentialminus": [
            [
             0,
             "#0d0887"
            ],
            [
             0.1111111111111111,
             "#46039f"
            ],
            [
             0.2222222222222222,
             "#7201a8"
            ],
            [
             0.3333333333333333,
             "#9c179e"
            ],
            [
             0.4444444444444444,
             "#bd3786"
            ],
            [
             0.5555555555555556,
             "#d8576b"
            ],
            [
             0.6666666666666666,
             "#ed7953"
            ],
            [
             0.7777777777777778,
             "#fb9f3a"
            ],
            [
             0.8888888888888888,
             "#fdca26"
            ],
            [
             1,
             "#f0f921"
            ]
           ]
          },
          "colorway": [
           "#636efa",
           "#EF553B",
           "#00cc96",
           "#ab63fa",
           "#FFA15A",
           "#19d3f3",
           "#FF6692",
           "#B6E880",
           "#FF97FF",
           "#FECB52"
          ],
          "font": {
           "color": "#2a3f5f"
          },
          "geo": {
           "bgcolor": "white",
           "lakecolor": "white",
           "landcolor": "white",
           "showlakes": true,
           "showland": true,
           "subunitcolor": "#C8D4E3"
          },
          "hoverlabel": {
           "align": "left"
          },
          "hovermode": "closest",
          "mapbox": {
           "style": "light"
          },
          "paper_bgcolor": "white",
          "plot_bgcolor": "white",
          "polar": {
           "angularaxis": {
            "gridcolor": "#EBF0F8",
            "linecolor": "#EBF0F8",
            "ticks": ""
           },
           "bgcolor": "white",
           "radialaxis": {
            "gridcolor": "#EBF0F8",
            "linecolor": "#EBF0F8",
            "ticks": ""
           }
          },
          "scene": {
           "xaxis": {
            "backgroundcolor": "white",
            "gridcolor": "#DFE8F3",
            "gridwidth": 2,
            "linecolor": "#EBF0F8",
            "showbackground": true,
            "ticks": "",
            "zerolinecolor": "#EBF0F8"
           },
           "yaxis": {
            "backgroundcolor": "white",
            "gridcolor": "#DFE8F3",
            "gridwidth": 2,
            "linecolor": "#EBF0F8",
            "showbackground": true,
            "ticks": "",
            "zerolinecolor": "#EBF0F8"
           },
           "zaxis": {
            "backgroundcolor": "white",
            "gridcolor": "#DFE8F3",
            "gridwidth": 2,
            "linecolor": "#EBF0F8",
            "showbackground": true,
            "ticks": "",
            "zerolinecolor": "#EBF0F8"
           }
          },
          "shapedefaults": {
           "line": {
            "color": "#2a3f5f"
           }
          },
          "ternary": {
           "aaxis": {
            "gridcolor": "#DFE8F3",
            "linecolor": "#A2B1C6",
            "ticks": ""
           },
           "baxis": {
            "gridcolor": "#DFE8F3",
            "linecolor": "#A2B1C6",
            "ticks": ""
           },
           "bgcolor": "white",
           "caxis": {
            "gridcolor": "#DFE8F3",
            "linecolor": "#A2B1C6",
            "ticks": ""
           }
          },
          "title": {
           "x": 0.05
          },
          "xaxis": {
           "automargin": true,
           "gridcolor": "#EBF0F8",
           "linecolor": "#EBF0F8",
           "ticks": "",
           "title": {
            "standoff": 15
           },
           "zerolinecolor": "#EBF0F8",
           "zerolinewidth": 2
          },
          "yaxis": {
           "automargin": true,
           "gridcolor": "#EBF0F8",
           "linecolor": "#EBF0F8",
           "ticks": "",
           "title": {
            "standoff": 15
           },
           "zerolinecolor": "#EBF0F8",
           "zerolinewidth": 2
          }
         }
        },
        "title": {
         "font": {
          "size": 25
         },
         "text": "Fairness Radar",
         "x": 0.5,
         "y": 0.99
        }
       }
      },
      "text/html": [
       "<div>                            <div id=\"c3ec0303-7bb5-46e4-bc28-d6b0b55db599\" class=\"plotly-graph-div\" style=\"height:525px; width:100%;\"></div>            <script type=\"text/javascript\">                require([\"plotly\"], function(Plotly) {                    window.PLOTLYENV=window.PLOTLYENV || {};                                    if (document.getElementById(\"c3ec0303-7bb5-46e4-bc28-d6b0b55db599\")) {                    Plotly.newPlot(                        \"c3ec0303-7bb5-46e4-bc28-d6b0b55db599\",                        [{\"hovertemplate\": \"<b>%{text}</b><br>Metric: %{theta}<br>Parity loss: %{r:.3f}<extra></extra>\", \"line\": {\"color\": \"#46bac2\"}, \"marker\": {\"color\": [\"#46bac2\", \"#46bac2\", \"#46bac2\", \"#46bac2\", \"#46bac2\", \"#46bac2\"]}, \"name\": \"XGBClassifier\", \"r\": [1.5397264154507493, 1.4317346133828794, 1.1589754383952002, 0.12724322690733386, 1.4903560986271465, 1.5397264154507493], \"text\": [\"XGBClassifier\", \"XGBClassifier\", \"XGBClassifier\", \"XGBClassifier\", \"XGBClassifier\", \"XGBClassifier\"], \"theta\": [\"TPR\", \"PPV\", \"FPR\", \"ACC\", \"STP\", \"TPR\"], \"type\": \"scatterpolar\"}],                        {\"font\": {\"color\": \"#371ea3\"}, \"margin\": {\"b\": 71, \"r\": 30, \"t\": 78}, \"polar\": {\"radialaxis\": {\"range\": [0, 1.6397264154507494]}}, \"template\": {\"data\": {\"bar\": [{\"error_x\": {\"color\": \"#2a3f5f\"}, \"error_y\": {\"color\": \"#2a3f5f\"}, \"marker\": {\"line\": {\"color\": \"white\", \"width\": 0.5}}, \"type\": \"bar\"}], \"barpolar\": [{\"marker\": {\"line\": {\"color\": \"white\", \"width\": 0.5}}, \"type\": \"barpolar\"}], \"carpet\": [{\"aaxis\": {\"endlinecolor\": \"#2a3f5f\", \"gridcolor\": \"#C8D4E3\", \"linecolor\": \"#C8D4E3\", \"minorgridcolor\": \"#C8D4E3\", \"startlinecolor\": \"#2a3f5f\"}, \"baxis\": {\"endlinecolor\": \"#2a3f5f\", \"gridcolor\": \"#C8D4E3\", \"linecolor\": \"#C8D4E3\", \"minorgridcolor\": \"#C8D4E3\", \"startlinecolor\": \"#2a3f5f\"}, \"type\": \"carpet\"}], \"choropleth\": [{\"colorbar\": {\"outlinewidth\": 0, \"ticks\": \"\"}, \"type\": \"choropleth\"}], \"contour\": [{\"colorbar\": {\"outlinewidth\": 0, \"ticks\": \"\"}, \"colorscale\": [[0.0, \"#0d0887\"], [0.1111111111111111, \"#46039f\"], [0.2222222222222222, \"#7201a8\"], [0.3333333333333333, \"#9c179e\"], [0.4444444444444444, \"#bd3786\"], [0.5555555555555556, \"#d8576b\"], [0.6666666666666666, \"#ed7953\"], [0.7777777777777778, \"#fb9f3a\"], [0.8888888888888888, \"#fdca26\"], [1.0, \"#f0f921\"]], \"type\": \"contour\"}], \"contourcarpet\": [{\"colorbar\": {\"outlinewidth\": 0, \"ticks\": \"\"}, \"type\": \"contourcarpet\"}], \"heatmap\": [{\"colorbar\": {\"outlinewidth\": 0, \"ticks\": \"\"}, \"colorscale\": [[0.0, \"#0d0887\"], [0.1111111111111111, \"#46039f\"], [0.2222222222222222, \"#7201a8\"], [0.3333333333333333, \"#9c179e\"], [0.4444444444444444, \"#bd3786\"], [0.5555555555555556, \"#d8576b\"], [0.6666666666666666, \"#ed7953\"], [0.7777777777777778, \"#fb9f3a\"], [0.8888888888888888, \"#fdca26\"], [1.0, \"#f0f921\"]], \"type\": \"heatmap\"}], \"heatmapgl\": [{\"colorbar\": {\"outlinewidth\": 0, \"ticks\": \"\"}, \"colorscale\": [[0.0, \"#0d0887\"], [0.1111111111111111, \"#46039f\"], [0.2222222222222222, \"#7201a8\"], [0.3333333333333333, \"#9c179e\"], [0.4444444444444444, \"#bd3786\"], [0.5555555555555556, \"#d8576b\"], [0.6666666666666666, \"#ed7953\"], [0.7777777777777778, \"#fb9f3a\"], [0.8888888888888888, \"#fdca26\"], [1.0, \"#f0f921\"]], \"type\": \"heatmapgl\"}], \"histogram\": [{\"marker\": {\"colorbar\": {\"outlinewidth\": 0, \"ticks\": \"\"}}, \"type\": \"histogram\"}], \"histogram2d\": [{\"colorbar\": {\"outlinewidth\": 0, \"ticks\": \"\"}, \"colorscale\": [[0.0, \"#0d0887\"], [0.1111111111111111, \"#46039f\"], [0.2222222222222222, \"#7201a8\"], [0.3333333333333333, \"#9c179e\"], [0.4444444444444444, \"#bd3786\"], [0.5555555555555556, \"#d8576b\"], [0.6666666666666666, \"#ed7953\"], [0.7777777777777778, \"#fb9f3a\"], [0.8888888888888888, \"#fdca26\"], [1.0, \"#f0f921\"]], \"type\": \"histogram2d\"}], \"histogram2dcontour\": [{\"colorbar\": {\"outlinewidth\": 0, \"ticks\": \"\"}, \"colorscale\": [[0.0, \"#0d0887\"], [0.1111111111111111, \"#46039f\"], [0.2222222222222222, \"#7201a8\"], [0.3333333333333333, \"#9c179e\"], [0.4444444444444444, \"#bd3786\"], [0.5555555555555556, \"#d8576b\"], [0.6666666666666666, \"#ed7953\"], [0.7777777777777778, \"#fb9f3a\"], [0.8888888888888888, \"#fdca26\"], [1.0, \"#f0f921\"]], \"type\": \"histogram2dcontour\"}], \"mesh3d\": [{\"colorbar\": {\"outlinewidth\": 0, \"ticks\": \"\"}, \"type\": \"mesh3d\"}], \"parcoords\": [{\"line\": {\"colorbar\": {\"outlinewidth\": 0, \"ticks\": \"\"}}, \"type\": \"parcoords\"}], \"pie\": [{\"automargin\": true, \"type\": \"pie\"}], \"scatter\": [{\"marker\": {\"colorbar\": {\"outlinewidth\": 0, \"ticks\": \"\"}}, \"type\": \"scatter\"}], \"scatter3d\": [{\"line\": {\"colorbar\": {\"outlinewidth\": 0, \"ticks\": \"\"}}, \"marker\": {\"colorbar\": {\"outlinewidth\": 0, \"ticks\": \"\"}}, \"type\": \"scatter3d\"}], \"scattercarpet\": [{\"marker\": {\"colorbar\": {\"outlinewidth\": 0, \"ticks\": \"\"}}, \"type\": \"scattercarpet\"}], \"scattergeo\": [{\"marker\": {\"colorbar\": {\"outlinewidth\": 0, \"ticks\": \"\"}}, \"type\": \"scattergeo\"}], \"scattergl\": [{\"marker\": {\"colorbar\": {\"outlinewidth\": 0, \"ticks\": \"\"}}, \"type\": \"scattergl\"}], \"scattermapbox\": [{\"marker\": {\"colorbar\": {\"outlinewidth\": 0, \"ticks\": \"\"}}, \"type\": \"scattermapbox\"}], \"scatterpolar\": [{\"marker\": {\"colorbar\": {\"outlinewidth\": 0, \"ticks\": \"\"}}, \"type\": \"scatterpolar\"}], \"scatterpolargl\": [{\"marker\": {\"colorbar\": {\"outlinewidth\": 0, \"ticks\": \"\"}}, \"type\": \"scatterpolargl\"}], \"scatterternary\": [{\"marker\": {\"colorbar\": {\"outlinewidth\": 0, \"ticks\": \"\"}}, \"type\": \"scatterternary\"}], \"surface\": [{\"colorbar\": {\"outlinewidth\": 0, \"ticks\": \"\"}, \"colorscale\": [[0.0, \"#0d0887\"], [0.1111111111111111, \"#46039f\"], [0.2222222222222222, \"#7201a8\"], [0.3333333333333333, \"#9c179e\"], [0.4444444444444444, \"#bd3786\"], [0.5555555555555556, \"#d8576b\"], [0.6666666666666666, \"#ed7953\"], [0.7777777777777778, \"#fb9f3a\"], [0.8888888888888888, \"#fdca26\"], [1.0, \"#f0f921\"]], \"type\": \"surface\"}], \"table\": [{\"cells\": {\"fill\": {\"color\": \"#EBF0F8\"}, \"line\": {\"color\": \"white\"}}, \"header\": {\"fill\": {\"color\": \"#C8D4E3\"}, \"line\": {\"color\": \"white\"}}, \"type\": \"table\"}]}, \"layout\": {\"annotationdefaults\": {\"arrowcolor\": \"#2a3f5f\", \"arrowhead\": 0, \"arrowwidth\": 1}, \"autotypenumbers\": \"strict\", \"coloraxis\": {\"colorbar\": {\"outlinewidth\": 0, \"ticks\": \"\"}}, \"colorscale\": {\"diverging\": [[0, \"#8e0152\"], [0.1, \"#c51b7d\"], [0.2, \"#de77ae\"], [0.3, \"#f1b6da\"], [0.4, \"#fde0ef\"], [0.5, \"#f7f7f7\"], [0.6, \"#e6f5d0\"], [0.7, \"#b8e186\"], [0.8, \"#7fbc41\"], [0.9, \"#4d9221\"], [1, \"#276419\"]], \"sequential\": [[0.0, \"#0d0887\"], [0.1111111111111111, \"#46039f\"], [0.2222222222222222, \"#7201a8\"], [0.3333333333333333, \"#9c179e\"], [0.4444444444444444, \"#bd3786\"], [0.5555555555555556, \"#d8576b\"], [0.6666666666666666, \"#ed7953\"], [0.7777777777777778, \"#fb9f3a\"], [0.8888888888888888, \"#fdca26\"], [1.0, \"#f0f921\"]], \"sequentialminus\": [[0.0, \"#0d0887\"], [0.1111111111111111, \"#46039f\"], [0.2222222222222222, \"#7201a8\"], [0.3333333333333333, \"#9c179e\"], [0.4444444444444444, \"#bd3786\"], [0.5555555555555556, \"#d8576b\"], [0.6666666666666666, \"#ed7953\"], [0.7777777777777778, \"#fb9f3a\"], [0.8888888888888888, \"#fdca26\"], [1.0, \"#f0f921\"]]}, \"colorway\": [\"#636efa\", \"#EF553B\", \"#00cc96\", \"#ab63fa\", \"#FFA15A\", \"#19d3f3\", \"#FF6692\", \"#B6E880\", \"#FF97FF\", \"#FECB52\"], \"font\": {\"color\": \"#2a3f5f\"}, \"geo\": {\"bgcolor\": \"white\", \"lakecolor\": \"white\", \"landcolor\": \"white\", \"showlakes\": true, \"showland\": true, \"subunitcolor\": \"#C8D4E3\"}, \"hoverlabel\": {\"align\": \"left\"}, \"hovermode\": \"closest\", \"mapbox\": {\"style\": \"light\"}, \"paper_bgcolor\": \"white\", \"plot_bgcolor\": \"white\", \"polar\": {\"angularaxis\": {\"gridcolor\": \"#EBF0F8\", \"linecolor\": \"#EBF0F8\", \"ticks\": \"\"}, \"bgcolor\": \"white\", \"radialaxis\": {\"gridcolor\": \"#EBF0F8\", \"linecolor\": \"#EBF0F8\", \"ticks\": \"\"}}, \"scene\": {\"xaxis\": {\"backgroundcolor\": \"white\", \"gridcolor\": \"#DFE8F3\", \"gridwidth\": 2, \"linecolor\": \"#EBF0F8\", \"showbackground\": true, \"ticks\": \"\", \"zerolinecolor\": \"#EBF0F8\"}, \"yaxis\": {\"backgroundcolor\": \"white\", \"gridcolor\": \"#DFE8F3\", \"gridwidth\": 2, \"linecolor\": \"#EBF0F8\", \"showbackground\": true, \"ticks\": \"\", \"zerolinecolor\": \"#EBF0F8\"}, \"zaxis\": {\"backgroundcolor\": \"white\", \"gridcolor\": \"#DFE8F3\", \"gridwidth\": 2, \"linecolor\": \"#EBF0F8\", \"showbackground\": true, \"ticks\": \"\", \"zerolinecolor\": \"#EBF0F8\"}}, \"shapedefaults\": {\"line\": {\"color\": \"#2a3f5f\"}}, \"ternary\": {\"aaxis\": {\"gridcolor\": \"#DFE8F3\", \"linecolor\": \"#A2B1C6\", \"ticks\": \"\"}, \"baxis\": {\"gridcolor\": \"#DFE8F3\", \"linecolor\": \"#A2B1C6\", \"ticks\": \"\"}, \"bgcolor\": \"white\", \"caxis\": {\"gridcolor\": \"#DFE8F3\", \"linecolor\": \"#A2B1C6\", \"ticks\": \"\"}}, \"title\": {\"x\": 0.05}, \"xaxis\": {\"automargin\": true, \"gridcolor\": \"#EBF0F8\", \"linecolor\": \"#EBF0F8\", \"ticks\": \"\", \"title\": {\"standoff\": 15}, \"zerolinecolor\": \"#EBF0F8\", \"zerolinewidth\": 2}, \"yaxis\": {\"automargin\": true, \"gridcolor\": \"#EBF0F8\", \"linecolor\": \"#EBF0F8\", \"ticks\": \"\", \"title\": {\"standoff\": 15}, \"zerolinecolor\": \"#EBF0F8\", \"zerolinewidth\": 2}}}, \"title\": {\"font\": {\"size\": 25}, \"text\": \"Fairness Radar\", \"x\": 0.5, \"y\": 0.99}},                        {\"displaylogo\": false, \"staticPlot\": false, \"toImageButtonOptions\": {\"height\": null, \"width\": null}, \"modeBarButtonsToRemove\": [\"sendDataToCloud\", \"lasso2d\", \"autoScale2d\", \"select2d\", \"zoom2d\", \"pan2d\", \"zoomIn2d\", \"zoomOut2d\", \"resetScale2d\", \"toggleSpikelines\", \"hoverCompareCartesian\", \"hoverClosestCartesian\"], \"responsive\": true}                    ).then(function(){\n",
       "                            \n",
       "var gd = document.getElementById('c3ec0303-7bb5-46e4-bc28-d6b0b55db599');\n",
       "var x = new MutationObserver(function (mutations, observer) {{\n",
       "        var display = window.getComputedStyle(gd).display;\n",
       "        if (!display || display === 'none') {{\n",
       "            console.log([gd, 'removed!']);\n",
       "            Plotly.purge(gd);\n",
       "            observer.disconnect();\n",
       "        }}\n",
       "}});\n",
       "\n",
       "// Listen for the removal of the full notebook cells\n",
       "var notebookContainer = gd.closest('#notebook-container');\n",
       "if (notebookContainer) {{\n",
       "    x.observe(notebookContainer, {childList: true});\n",
       "}}\n",
       "\n",
       "// Listen for the clearing of the current output cell\n",
       "var outputEl = gd.closest('.output');\n",
       "if (outputEl) {{\n",
       "    x.observe(outputEl, {childList: true});\n",
       "}}\n",
       "\n",
       "                        })                };                });            </script>        </div>"
      ]
     },
     "metadata": {},
     "output_type": "display_data"
    }
   ],
   "source": [
    "exp.model_fairness(protected = X_test['from'], privileged = 'china').plot(type='radar')"
   ]
  }
 ],
 "metadata": {
  "kernelspec": {
   "display_name": "Python 3",
   "language": "python",
   "name": "python3"
  },
  "language_info": {
   "codemirror_mode": {
    "name": "ipython",
    "version": 3
   },
   "file_extension": ".py",
   "mimetype": "text/x-python",
   "name": "python",
   "nbconvert_exporter": "python",
   "pygments_lexer": "ipython3",
   "version": "3.8.5"
  }
 },
 "nbformat": 4,
 "nbformat_minor": 5
}
