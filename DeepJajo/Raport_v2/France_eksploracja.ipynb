{
 "cells": [
  {
   "cell_type": "code",
   "execution_count": 2,
   "id": "collective-significance",
   "metadata": {},
   "outputs": [],
   "source": [
    "import pandas as pd\n",
    "import xlrd"
   ]
  },
  {
   "cell_type": "code",
   "execution_count": 4,
   "id": "tracked-greece",
   "metadata": {},
   "outputs": [
    {
     "data": {
      "text/plain": [
       "Index(['id', 'HR_min', 'HR_max', 'SBP_min', 'SBP_max', 'DBP_min', 'DBP_max',\n",
       "       'SAPSII', 'RR', 'GCS', 'date_hospital_admi', 'date_hospital_end',\n",
       "       'date_ICU_admi', 'date_ICU_end', 'date_death', 'time_smyp_ICUadmi',\n",
       "       'male', 'ICU_LOS', 'ICU_DC', 'time_hosp_ICU', 'Age', 'Death_D28',\n",
       "       'Death_D7', 'ddimere_J1', 'ddimere_J2', 'ddimere_J3', 'ddimere_J4',\n",
       "       'ddimere_J5', 'crp_J1', 'crp_J2', 'crp_J3', 'crp_J4', 'crp_J5',\n",
       "       'ldh_j1', 'ldh_j2', 'ldh_j3', 'ldh_j4', 'ldh_j5', 'L_pourc_J1',\n",
       "       'L_pourc_J2', 'L_pourc_J3', 'L_pourc_J4', 'L_pourc_J5'],\n",
       "      dtype='object')"
      ]
     },
     "execution_count": 4,
     "metadata": {},
     "output_type": "execute_result"
    }
   ],
   "source": [
    "data = pd.read_excel(\"./data/france_dataset.xlsx\")\n",
    "data.columns"
   ]
  },
  {
   "cell_type": "code",
   "execution_count": null,
   "id": "improving-missouri",
   "metadata": {},
   "outputs": [],
   "source": []
  }
 ],
 "metadata": {
  "kernelspec": {
   "display_name": "Python 3",
   "language": "python",
   "name": "python3"
  },
  "language_info": {
   "codemirror_mode": {
    "name": "ipython",
    "version": 3
   },
   "file_extension": ".py",
   "mimetype": "text/x-python",
   "name": "python",
   "nbconvert_exporter": "python",
   "pygments_lexer": "ipython3",
   "version": "3.8.8"
  }
 },
 "nbformat": 4,
 "nbformat_minor": 5
}
