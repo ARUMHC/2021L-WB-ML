{
 "cells": [
  {
   "cell_type": "code",
<<<<<<< HEAD
   "execution_count": 52,
   "id": "collective-significance",
   "metadata": {},
   "outputs": [],
   "source": [
    "import pandas as pd\n",
    "import xlrd\n",
    "import numpy as np\n",
    "import matplotlib.pyplot as plt\n",
    "import seaborn as sns"
=======
   "execution_count": 1,
   "metadata": {},
   "outputs": [],
   "source": [
    "import pandas as pddays=50\n",
    "import datetime"
   ]
  },
  {
   "cell_type": "code",
   "execution_count": 2,
   "metadata": {},
   "outputs": [],
   "source": [
    "data = pd.read_excel(\"../data/france_dataset.xlsx\")\n",
    "cols = data.columns"
   ]
  },
  {
   "cell_type": "markdown",
   "metadata": {},
   "source": [
    "# kolumny czasowo-śmierciowe"
   ]
  },
  {
   "cell_type": "code",
   "execution_count": 3,
   "metadata": {
    "scrolled": false
   },
   "outputs": [
    {
     "data": {
      "text/html": [
       "<div>\n",
       "<style scoped>\n",
       "    .dataframe tbody tr th:only-of-type {\n",
       "        vertical-align: middle;\n",
       "    }\n",
       "\n",
       "    .dataframe tbody tr th {\n",
       "        vertical-align: top;\n",
       "    }\n",
       "\n",
       "    .dataframe thead th {\n",
       "        text-align: right;\n",
       "    }\n",
       "</style>\n",
       "<table border=\"1\" class=\"dataframe\">\n",
       "  <thead>\n",
       "    <tr style=\"text-align: right;\">\n",
       "      <th></th>\n",
       "      <th>date_hospital_admi</th>\n",
       "      <th>date_ICU_admi</th>\n",
       "      <th>date_death</th>\n",
       "      <th>Death_D7</th>\n",
       "      <th>Death_D28</th>\n",
       "    </tr>\n",
       "  </thead>\n",
       "  <tbody>\n",
       "    <tr>\n",
       "      <th>1</th>\n",
       "      <td>2020-03-25</td>\n",
       "      <td>2020-03-25</td>\n",
       "      <td>2020-04-01 00:00:00</td>\n",
       "      <td>1</td>\n",
       "      <td>1</td>\n",
       "    </tr>\n",
       "    <tr>\n",
       "      <th>14</th>\n",
       "      <td>2020-03-10</td>\n",
       "      <td>2020-03-10</td>\n",
       "      <td>2020-03-12 00:00:00</td>\n",
       "      <td>0</td>\n",
       "      <td>1</td>\n",
       "    </tr>\n",
       "    <tr>\n",
       "      <th>15</th>\n",
       "      <td>2020-03-12</td>\n",
       "      <td>2020-03-13</td>\n",
       "      <td>2020-03-17 00:00:00</td>\n",
       "      <td>0</td>\n",
       "      <td>1</td>\n",
       "    </tr>\n",
       "    <tr>\n",
       "      <th>22</th>\n",
       "      <td>2020-03-13</td>\n",
       "      <td>2020-03-15</td>\n",
       "      <td>2020-03-24 00:00:00</td>\n",
       "      <td>0</td>\n",
       "      <td>0</td>\n",
       "    </tr>\n",
       "    <tr>\n",
       "      <th>23</th>\n",
       "      <td>2020-03-11</td>\n",
       "      <td>2020-03-15</td>\n",
       "      <td>2020-03-25 00:00:00</td>\n",
       "      <td>0</td>\n",
       "      <td>1</td>\n",
       "    </tr>\n",
       "    <tr>\n",
       "      <th>...</th>\n",
       "      <td>...</td>\n",
       "      <td>...</td>\n",
       "      <td>...</td>\n",
       "      <td>...</td>\n",
       "      <td>...</td>\n",
       "    </tr>\n",
       "    <tr>\n",
       "      <th>157</th>\n",
       "      <td>2020-03-26</td>\n",
       "      <td>2020-03-26</td>\n",
       "      <td>2020-04-12 00:00:00</td>\n",
       "      <td>0</td>\n",
       "      <td>0</td>\n",
       "    </tr>\n",
       "    <tr>\n",
       "      <th>159</th>\n",
       "      <td>2020-03-28</td>\n",
       "      <td>2020-03-28</td>\n",
       "      <td>2020-04-22 00:00:00</td>\n",
       "      <td>0</td>\n",
       "      <td>0</td>\n",
       "    </tr>\n",
       "    <tr>\n",
       "      <th>169</th>\n",
       "      <td>2020-03-26</td>\n",
       "      <td>2020-03-26</td>\n",
       "      <td>2020-04-14 00:00:00</td>\n",
       "      <td>0</td>\n",
       "      <td>0</td>\n",
       "    </tr>\n",
       "    <tr>\n",
       "      <th>170</th>\n",
       "      <td>2020-03-30</td>\n",
       "      <td>2020-04-01</td>\n",
       "      <td>2020-04-07 00:00:00</td>\n",
       "      <td>0</td>\n",
       "      <td>1</td>\n",
       "    </tr>\n",
       "    <tr>\n",
       "      <th>177</th>\n",
       "      <td>2020-04-20</td>\n",
       "      <td>2020-05-02</td>\n",
       "      <td>2020-05-08 00:00:00</td>\n",
       "      <td>0</td>\n",
       "      <td>0</td>\n",
       "    </tr>\n",
       "  </tbody>\n",
       "</table>\n",
       "<p>62 rows × 5 columns</p>\n",
       "</div>"
      ],
      "text/plain": [
       "    date_hospital_admi date_ICU_admi           date_death  Death_D7  Death_D28\n",
       "1           2020-03-25    2020-03-25  2020-04-01 00:00:00         1          1\n",
       "14          2020-03-10    2020-03-10  2020-03-12 00:00:00         0          1\n",
       "15          2020-03-12    2020-03-13  2020-03-17 00:00:00         0          1\n",
       "22          2020-03-13    2020-03-15  2020-03-24 00:00:00         0          0\n",
       "23          2020-03-11    2020-03-15  2020-03-25 00:00:00         0          1\n",
       "..                 ...           ...                  ...       ...        ...\n",
       "157         2020-03-26    2020-03-26  2020-04-12 00:00:00         0          0\n",
       "159         2020-03-28    2020-03-28  2020-04-22 00:00:00         0          0\n",
       "169         2020-03-26    2020-03-26  2020-04-14 00:00:00         0          0\n",
       "170         2020-03-30    2020-04-01  2020-04-07 00:00:00         0          1\n",
       "177         2020-04-20    2020-05-02  2020-05-08 00:00:00         0          0\n",
       "\n",
       "[62 rows x 5 columns]"
      ]
     },
     "execution_count": 3,
     "metadata": {},
     "output_type": "execute_result"
    }
   ],
   "source": [
    "df =data[['date_hospital_admi','date_ICU_admi','date_death', 'Death_D7', 'Death_D28']][data['date_death'] != \".\"]\n",
    "df"
>>>>>>> 5b325d636ba0d77fddee09000cce345b8622014d
   ]
  },
  {
   "cell_type": "code",
<<<<<<< HEAD
   "execution_count": 53,
   "id": "tracked-greece",
=======
   "execution_count": 4,
   "metadata": {},
   "outputs": [],
   "source": [
    "df['date_hospital_admi'] = pd.to_datetime(df['date_hospital_admi'])\n",
    "df['date_ICU_admi'] = pd.to_datetime(df['date_ICU_admi'])\n",
    "df['date_death'] = pd.to_datetime(df['date_death'])"
   ]
  },
  {
   "cell_type": "code",
   "execution_count": 5,
   "metadata": {},
   "outputs": [],
   "source": [
    "df[\"from_door_to_death\"] = df['date_death'] - df['date_hospital_admi']"
   ]
  },
  {
   "cell_type": "code",
   "execution_count": 6,
   "metadata": {},
   "outputs": [
    {
     "data": {
      "text/html": [
       "<div>\n",
       "<style scoped>\n",
       "    .dataframe tbody tr th:only-of-type {\n",
       "        vertical-align: middle;\n",
       "    }\n",
       "\n",
       "    .dataframe tbody tr th {\n",
       "        vertical-align: top;\n",
       "    }\n",
       "\n",
       "    .dataframe thead th {\n",
       "        text-align: right;\n",
       "    }\n",
       "</style>\n",
       "<table border=\"1\" class=\"dataframe\">\n",
       "  <thead>\n",
       "    <tr style=\"text-align: right;\">\n",
       "      <th></th>\n",
       "      <th>date_hospital_admi</th>\n",
       "      <th>date_ICU_admi</th>\n",
       "      <th>date_death</th>\n",
       "      <th>Death_D7</th>\n",
       "      <th>Death_D28</th>\n",
       "      <th>from_door_to_death</th>\n",
       "    </tr>\n",
       "  </thead>\n",
       "  <tbody>\n",
       "    <tr>\n",
       "      <th>1</th>\n",
       "      <td>2020-03-25</td>\n",
       "      <td>2020-03-25</td>\n",
       "      <td>2020-04-01</td>\n",
       "      <td>1</td>\n",
       "      <td>1</td>\n",
       "      <td>7 days</td>\n",
       "    </tr>\n",
       "    <tr>\n",
       "      <th>14</th>\n",
       "      <td>2020-03-10</td>\n",
       "      <td>2020-03-10</td>\n",
       "      <td>2020-03-12</td>\n",
       "      <td>0</td>\n",
       "      <td>1</td>\n",
       "      <td>2 days</td>\n",
       "    </tr>\n",
       "    <tr>\n",
       "      <th>15</th>\n",
       "      <td>2020-03-12</td>\n",
       "      <td>2020-03-13</td>\n",
       "      <td>2020-03-17</td>\n",
       "      <td>0</td>\n",
       "      <td>1</td>\n",
       "      <td>5 days</td>\n",
       "    </tr>\n",
       "    <tr>\n",
       "      <th>22</th>\n",
       "      <td>2020-03-13</td>\n",
       "      <td>2020-03-15</td>\n",
       "      <td>2020-03-24</td>\n",
       "      <td>0</td>\n",
       "      <td>0</td>\n",
       "      <td>11 days</td>\n",
       "    </tr>\n",
       "    <tr>\n",
       "      <th>23</th>\n",
       "      <td>2020-03-11</td>\n",
       "      <td>2020-03-15</td>\n",
       "      <td>2020-03-25</td>\n",
       "      <td>0</td>\n",
       "      <td>1</td>\n",
       "      <td>14 days</td>\n",
       "    </tr>\n",
       "    <tr>\n",
       "      <th>...</th>\n",
       "      <td>...</td>\n",
       "      <td>...</td>\n",
       "      <td>...</td>\n",
       "      <td>...</td>\n",
       "      <td>...</td>\n",
       "      <td>...</td>\n",
       "    </tr>\n",
       "    <tr>\n",
       "      <th>157</th>\n",
       "      <td>2020-03-26</td>\n",
       "      <td>2020-03-26</td>\n",
       "      <td>2020-04-12</td>\n",
       "      <td>0</td>\n",
       "      <td>0</td>\n",
       "      <td>17 days</td>\n",
       "    </tr>\n",
       "    <tr>\n",
       "      <th>159</th>\n",
       "      <td>2020-03-28</td>\n",
       "      <td>2020-03-28</td>\n",
       "      <td>2020-04-22</td>\n",
       "      <td>0</td>\n",
       "      <td>0</td>\n",
       "      <td>25 days</td>\n",
       "    </tr>\n",
       "    <tr>\n",
       "      <th>169</th>\n",
       "      <td>2020-03-26</td>\n",
       "      <td>2020-03-26</td>\n",
       "      <td>2020-04-14</td>\n",
       "      <td>0</td>\n",
       "      <td>0</td>\n",
       "      <td>19 days</td>\n",
       "    </tr>\n",
       "    <tr>\n",
       "      <th>170</th>\n",
       "      <td>2020-03-30</td>\n",
       "      <td>2020-04-01</td>\n",
       "      <td>2020-04-07</td>\n",
       "      <td>0</td>\n",
       "      <td>1</td>\n",
       "      <td>8 days</td>\n",
       "    </tr>\n",
       "    <tr>\n",
       "      <th>177</th>\n",
       "      <td>2020-04-20</td>\n",
       "      <td>2020-05-02</td>\n",
       "      <td>2020-05-08</td>\n",
       "      <td>0</td>\n",
       "      <td>0</td>\n",
       "      <td>18 days</td>\n",
       "    </tr>\n",
       "  </tbody>\n",
       "</table>\n",
       "<p>62 rows × 6 columns</p>\n",
       "</div>"
      ],
      "text/plain": [
       "    date_hospital_admi date_ICU_admi date_death  Death_D7  Death_D28  \\\n",
       "1           2020-03-25    2020-03-25 2020-04-01         1          1   \n",
       "14          2020-03-10    2020-03-10 2020-03-12         0          1   \n",
       "15          2020-03-12    2020-03-13 2020-03-17         0          1   \n",
       "22          2020-03-13    2020-03-15 2020-03-24         0          0   \n",
       "23          2020-03-11    2020-03-15 2020-03-25         0          1   \n",
       "..                 ...           ...        ...       ...        ...   \n",
       "157         2020-03-26    2020-03-26 2020-04-12         0          0   \n",
       "159         2020-03-28    2020-03-28 2020-04-22         0          0   \n",
       "169         2020-03-26    2020-03-26 2020-04-14         0          0   \n",
       "170         2020-03-30    2020-04-01 2020-04-07         0          1   \n",
       "177         2020-04-20    2020-05-02 2020-05-08         0          0   \n",
       "\n",
       "    from_door_to_death  \n",
       "1               7 days  \n",
       "14              2 days  \n",
       "15              5 days  \n",
       "22             11 days  \n",
       "23             14 days  \n",
       "..                 ...  \n",
       "157            17 days  \n",
       "159            25 days  \n",
       "169            19 days  \n",
       "170             8 days  \n",
       "177            18 days  \n",
       "\n",
       "[62 rows x 6 columns]"
      ]
     },
     "execution_count": 6,
     "metadata": {},
     "output_type": "execute_result"
    }
   ],
   "source": [
    "df"
   ]
  },
  {
   "cell_type": "markdown",
   "metadata": {},
   "source": [
    "# Martwi bez daty śmierci - jeszcze ok"
   ]
  },
  {
   "cell_type": "code",
   "execution_count": 46,
   "metadata": {
    "scrolled": true
   },
   "outputs": [
    {
     "data": {
      "text/html": [
       "<div>\n",
       "<style scoped>\n",
       "    .dataframe tbody tr th:only-of-type {\n",
       "        vertical-align: middle;\n",
       "    }\n",
       "\n",
       "    .dataframe tbody tr th {\n",
       "        vertical-align: top;\n",
       "    }\n",
       "\n",
       "    .dataframe thead th {\n",
       "        text-align: right;\n",
       "    }\n",
       "</style>\n",
       "<table border=\"1\" class=\"dataframe\">\n",
       "  <thead>\n",
       "    <tr style=\"text-align: right;\">\n",
       "      <th></th>\n",
       "      <th>date_death</th>\n",
       "      <th>Death_D7</th>\n",
       "      <th>Death_D28</th>\n",
       "    </tr>\n",
       "  </thead>\n",
       "  <tbody>\n",
       "    <tr>\n",
       "      <th>2</th>\n",
       "      <td>.</td>\n",
       "      <td>0</td>\n",
       "      <td>1</td>\n",
       "    </tr>\n",
       "    <tr>\n",
       "      <th>3</th>\n",
       "      <td>.</td>\n",
       "      <td>0</td>\n",
       "      <td>1</td>\n",
       "    </tr>\n",
       "    <tr>\n",
       "      <th>4</th>\n",
       "      <td>.</td>\n",
       "      <td>0</td>\n",
       "      <td>1</td>\n",
       "    </tr>\n",
       "    <tr>\n",
       "      <th>7</th>\n",
       "      <td>.</td>\n",
       "      <td>1</td>\n",
       "      <td>1</td>\n",
       "    </tr>\n",
       "    <tr>\n",
       "      <th>8</th>\n",
       "      <td>.</td>\n",
       "      <td>0</td>\n",
       "      <td>1</td>\n",
       "    </tr>\n",
       "    <tr>\n",
       "      <th>12</th>\n",
       "      <td>.</td>\n",
       "      <td>0</td>\n",
       "      <td>1</td>\n",
       "    </tr>\n",
       "    <tr>\n",
       "      <th>20</th>\n",
       "      <td>.</td>\n",
       "      <td>0</td>\n",
       "      <td>1</td>\n",
       "    </tr>\n",
       "    <tr>\n",
       "      <th>21</th>\n",
       "      <td>.</td>\n",
       "      <td>1</td>\n",
       "      <td>1</td>\n",
       "    </tr>\n",
       "    <tr>\n",
       "      <th>24</th>\n",
       "      <td>.</td>\n",
       "      <td>0</td>\n",
       "      <td>1</td>\n",
       "    </tr>\n",
       "    <tr>\n",
       "      <th>27</th>\n",
       "      <td>.</td>\n",
       "      <td>1</td>\n",
       "      <td>1</td>\n",
       "    </tr>\n",
       "    <tr>\n",
       "      <th>34</th>\n",
       "      <td>.</td>\n",
       "      <td>0</td>\n",
       "      <td>1</td>\n",
       "    </tr>\n",
       "    <tr>\n",
       "      <th>36</th>\n",
       "      <td>.</td>\n",
       "      <td>0</td>\n",
       "      <td>1</td>\n",
       "    </tr>\n",
       "    <tr>\n",
       "      <th>37</th>\n",
       "      <td>.</td>\n",
       "      <td>1</td>\n",
       "      <td>1</td>\n",
       "    </tr>\n",
       "    <tr>\n",
       "      <th>38</th>\n",
       "      <td>.</td>\n",
       "      <td>0</td>\n",
       "      <td>1</td>\n",
       "    </tr>\n",
       "    <tr>\n",
       "      <th>45</th>\n",
       "      <td>.</td>\n",
       "      <td>1</td>\n",
       "      <td>1</td>\n",
       "    </tr>\n",
       "    <tr>\n",
       "      <th>60</th>\n",
       "      <td>.</td>\n",
       "      <td>1</td>\n",
       "      <td>1</td>\n",
       "    </tr>\n",
       "    <tr>\n",
       "      <th>63</th>\n",
       "      <td>.</td>\n",
       "      <td>0</td>\n",
       "      <td>1</td>\n",
       "    </tr>\n",
       "    <tr>\n",
       "      <th>69</th>\n",
       "      <td>.</td>\n",
       "      <td>0</td>\n",
       "      <td>1</td>\n",
       "    </tr>\n",
       "    <tr>\n",
       "      <th>70</th>\n",
       "      <td>.</td>\n",
       "      <td>0</td>\n",
       "      <td>1</td>\n",
       "    </tr>\n",
       "    <tr>\n",
       "      <th>73</th>\n",
       "      <td>.</td>\n",
       "      <td>0</td>\n",
       "      <td>1</td>\n",
       "    </tr>\n",
       "    <tr>\n",
       "      <th>89</th>\n",
       "      <td>.</td>\n",
       "      <td>1</td>\n",
       "      <td>1</td>\n",
       "    </tr>\n",
       "    <tr>\n",
       "      <th>98</th>\n",
       "      <td>.</td>\n",
       "      <td>0</td>\n",
       "      <td>1</td>\n",
       "    </tr>\n",
       "    <tr>\n",
       "      <th>102</th>\n",
       "      <td>.</td>\n",
       "      <td>0</td>\n",
       "      <td>1</td>\n",
       "    </tr>\n",
       "    <tr>\n",
       "      <th>106</th>\n",
       "      <td>.</td>\n",
       "      <td>1</td>\n",
       "      <td>1</td>\n",
       "    </tr>\n",
       "    <tr>\n",
       "      <th>108</th>\n",
       "      <td>.</td>\n",
       "      <td>0</td>\n",
       "      <td>1</td>\n",
       "    </tr>\n",
       "    <tr>\n",
       "      <th>109</th>\n",
       "      <td>.</td>\n",
       "      <td>1</td>\n",
       "      <td>1</td>\n",
       "    </tr>\n",
       "    <tr>\n",
       "      <th>110</th>\n",
       "      <td>.</td>\n",
       "      <td>0</td>\n",
       "      <td>1</td>\n",
       "    </tr>\n",
       "    <tr>\n",
       "      <th>111</th>\n",
       "      <td>.</td>\n",
       "      <td>0</td>\n",
       "      <td>1</td>\n",
       "    </tr>\n",
       "    <tr>\n",
       "      <th>114</th>\n",
       "      <td>.</td>\n",
       "      <td>0</td>\n",
       "      <td>1</td>\n",
       "    </tr>\n",
       "    <tr>\n",
       "      <th>117</th>\n",
       "      <td>.</td>\n",
       "      <td>1</td>\n",
       "      <td>1</td>\n",
       "    </tr>\n",
       "    <tr>\n",
       "      <th>123</th>\n",
       "      <td>.</td>\n",
       "      <td>0</td>\n",
       "      <td>1</td>\n",
       "    </tr>\n",
       "    <tr>\n",
       "      <th>128</th>\n",
       "      <td>.</td>\n",
       "      <td>0</td>\n",
       "      <td>1</td>\n",
       "    </tr>\n",
       "    <tr>\n",
       "      <th>140</th>\n",
       "      <td>.</td>\n",
       "      <td>1</td>\n",
       "      <td>1</td>\n",
       "    </tr>\n",
       "    <tr>\n",
       "      <th>141</th>\n",
       "      <td>.</td>\n",
       "      <td>0</td>\n",
       "      <td>1</td>\n",
       "    </tr>\n",
       "    <tr>\n",
       "      <th>142</th>\n",
       "      <td>.</td>\n",
       "      <td>1</td>\n",
       "      <td>1</td>\n",
       "    </tr>\n",
       "    <tr>\n",
       "      <th>143</th>\n",
       "      <td>.</td>\n",
       "      <td>1</td>\n",
       "      <td>1</td>\n",
       "    </tr>\n",
       "    <tr>\n",
       "      <th>155</th>\n",
       "      <td>.</td>\n",
       "      <td>0</td>\n",
       "      <td>1</td>\n",
       "    </tr>\n",
       "    <tr>\n",
       "      <th>161</th>\n",
       "      <td>.</td>\n",
       "      <td>0</td>\n",
       "      <td>1</td>\n",
       "    </tr>\n",
       "    <tr>\n",
       "      <th>163</th>\n",
       "      <td>.</td>\n",
       "      <td>0</td>\n",
       "      <td>1</td>\n",
       "    </tr>\n",
       "    <tr>\n",
       "      <th>167</th>\n",
       "      <td>.</td>\n",
       "      <td>0</td>\n",
       "      <td>1</td>\n",
       "    </tr>\n",
       "    <tr>\n",
       "      <th>168</th>\n",
       "      <td>.</td>\n",
       "      <td>0</td>\n",
       "      <td>1</td>\n",
       "    </tr>\n",
       "    <tr>\n",
       "      <th>171</th>\n",
       "      <td>.</td>\n",
       "      <td>0</td>\n",
       "      <td>1</td>\n",
       "    </tr>\n",
       "  </tbody>\n",
       "</table>\n",
       "</div>"
      ],
      "text/plain": [
       "    date_death  Death_D7  Death_D28\n",
       "2            .         0          1\n",
       "3            .         0          1\n",
       "4            .         0          1\n",
       "7            .         1          1\n",
       "8            .         0          1\n",
       "12           .         0          1\n",
       "20           .         0          1\n",
       "21           .         1          1\n",
       "24           .         0          1\n",
       "27           .         1          1\n",
       "34           .         0          1\n",
       "36           .         0          1\n",
       "37           .         1          1\n",
       "38           .         0          1\n",
       "45           .         1          1\n",
       "60           .         1          1\n",
       "63           .         0          1\n",
       "69           .         0          1\n",
       "70           .         0          1\n",
       "73           .         0          1\n",
       "89           .         1          1\n",
       "98           .         0          1\n",
       "102          .         0          1\n",
       "106          .         1          1\n",
       "108          .         0          1\n",
       "109          .         1          1\n",
       "110          .         0          1\n",
       "111          .         0          1\n",
       "114          .         0          1\n",
       "117          .         1          1\n",
       "123          .         0          1\n",
       "128          .         0          1\n",
       "140          .         1          1\n",
       "141          .         0          1\n",
       "142          .         1          1\n",
       "143          .         1          1\n",
       "155          .         0          1\n",
       "161          .         0          1\n",
       "163          .         0          1\n",
       "167          .         0          1\n",
       "168          .         0          1\n",
       "171          .         0          1"
      ]
     },
     "execution_count": 46,
     "metadata": {},
     "output_type": "execute_result"
    }
   ],
   "source": [
    "dead = (data[\"Death_D7\"] != 0) | (data[\"Death_D28\"] != 0)\n",
    "incorrect = data[(data[\"date_death\"] == \".\") & dead].filter([\"date_death\",\"Death_D7\", \"Death_D28\" ])\n",
    "incorrect"
   ]
  },
  {
   "cell_type": "code",
   "execution_count": 47,
   "metadata": {
    "scrolled": true
   },
   "outputs": [
    {
     "data": {
      "text/plain": [
       "date_death    42\n",
       "Death_D7      42\n",
       "Death_D28     42\n",
       "dtype: int64"
      ]
     },
     "execution_count": 47,
     "metadata": {},
     "output_type": "execute_result"
    }
   ],
   "source": [
    "incorrect.count()"
   ]
  },
  {
   "cell_type": "markdown",
   "metadata": {},
   "source": [
    "# Martwi z datą śmierci, ale bez flagi śmieci"
   ]
  },
  {
   "cell_type": "code",
   "execution_count": 64,
   "metadata": {
    "scrolled": true
   },
   "outputs": [
    {
     "data": {
      "text/html": [
       "<div>\n",
       "<style scoped>\n",
       "    .dataframe tbody tr th:only-of-type {\n",
       "        vertical-align: middle;\n",
       "    }\n",
       "\n",
       "    .dataframe tbody tr th {\n",
       "        vertical-align: top;\n",
       "    }\n",
       "\n",
       "    .dataframe thead th {\n",
       "        text-align: right;\n",
       "    }\n",
       "</style>\n",
       "<table border=\"1\" class=\"dataframe\">\n",
       "  <thead>\n",
       "    <tr style=\"text-align: right;\">\n",
       "      <th></th>\n",
       "      <th>date_death</th>\n",
       "      <th>Death_D7</th>\n",
       "      <th>Death_D28</th>\n",
       "      <th>from_door_to_death</th>\n",
       "    </tr>\n",
       "  </thead>\n",
       "  <tbody>\n",
       "    <tr>\n",
       "      <th>22</th>\n",
       "      <td>2020-03-24</td>\n",
       "      <td>0</td>\n",
       "      <td>0</td>\n",
       "      <td>11 days</td>\n",
       "    </tr>\n",
       "    <tr>\n",
       "      <th>30</th>\n",
       "      <td>2020-04-07</td>\n",
       "      <td>0</td>\n",
       "      <td>0</td>\n",
       "      <td>7 days</td>\n",
       "    </tr>\n",
       "    <tr>\n",
       "      <th>32</th>\n",
       "      <td>2020-04-05</td>\n",
       "      <td>0</td>\n",
       "      <td>0</td>\n",
       "      <td>11 days</td>\n",
       "    </tr>\n",
       "    <tr>\n",
       "      <th>35</th>\n",
       "      <td>2020-04-22</td>\n",
       "      <td>0</td>\n",
       "      <td>0</td>\n",
       "      <td>16 days</td>\n",
       "    </tr>\n",
       "    <tr>\n",
       "      <th>42</th>\n",
       "      <td>2020-02-14</td>\n",
       "      <td>0</td>\n",
       "      <td>0</td>\n",
       "      <td>16 days</td>\n",
       "    </tr>\n",
       "    <tr>\n",
       "      <th>44</th>\n",
       "      <td>2020-03-24</td>\n",
       "      <td>0</td>\n",
       "      <td>0</td>\n",
       "      <td>23 days</td>\n",
       "    </tr>\n",
       "    <tr>\n",
       "      <th>46</th>\n",
       "      <td>2020-03-19</td>\n",
       "      <td>0</td>\n",
       "      <td>0</td>\n",
       "      <td>12 days</td>\n",
       "    </tr>\n",
       "    <tr>\n",
       "      <th>48</th>\n",
       "      <td>2020-03-29</td>\n",
       "      <td>0</td>\n",
       "      <td>0</td>\n",
       "      <td>24 days</td>\n",
       "    </tr>\n",
       "    <tr>\n",
       "      <th>49</th>\n",
       "      <td>2020-04-01</td>\n",
       "      <td>0</td>\n",
       "      <td>0</td>\n",
       "      <td>26 days</td>\n",
       "    </tr>\n",
       "    <tr>\n",
       "      <th>56</th>\n",
       "      <td>2020-03-30</td>\n",
       "      <td>0</td>\n",
       "      <td>0</td>\n",
       "      <td>23 days</td>\n",
       "    </tr>\n",
       "    <tr>\n",
       "      <th>57</th>\n",
       "      <td>2020-04-02</td>\n",
       "      <td>0</td>\n",
       "      <td>0</td>\n",
       "      <td>23 days</td>\n",
       "    </tr>\n",
       "    <tr>\n",
       "      <th>58</th>\n",
       "      <td>2020-03-16</td>\n",
       "      <td>0</td>\n",
       "      <td>0</td>\n",
       "      <td>6 days</td>\n",
       "    </tr>\n",
       "    <tr>\n",
       "      <th>67</th>\n",
       "      <td>2020-03-26</td>\n",
       "      <td>0</td>\n",
       "      <td>0</td>\n",
       "      <td>20 days</td>\n",
       "    </tr>\n",
       "    <tr>\n",
       "      <th>72</th>\n",
       "      <td>2020-03-21</td>\n",
       "      <td>0</td>\n",
       "      <td>0</td>\n",
       "      <td>5 days</td>\n",
       "    </tr>\n",
       "    <tr>\n",
       "      <th>74</th>\n",
       "      <td>2020-04-27</td>\n",
       "      <td>0</td>\n",
       "      <td>0</td>\n",
       "      <td>41 days</td>\n",
       "    </tr>\n",
       "    <tr>\n",
       "      <th>78</th>\n",
       "      <td>2020-05-08</td>\n",
       "      <td>0</td>\n",
       "      <td>0</td>\n",
       "      <td>49 days</td>\n",
       "    </tr>\n",
       "    <tr>\n",
       "      <th>83</th>\n",
       "      <td>2020-04-02</td>\n",
       "      <td>0</td>\n",
       "      <td>0</td>\n",
       "      <td>6 days</td>\n",
       "    </tr>\n",
       "    <tr>\n",
       "      <th>86</th>\n",
       "      <td>2020-04-09</td>\n",
       "      <td>0</td>\n",
       "      <td>0</td>\n",
       "      <td>18 days</td>\n",
       "    </tr>\n",
       "    <tr>\n",
       "      <th>87</th>\n",
       "      <td>2020-04-03</td>\n",
       "      <td>0</td>\n",
       "      <td>0</td>\n",
       "      <td>7 days</td>\n",
       "    </tr>\n",
       "    <tr>\n",
       "      <th>90</th>\n",
       "      <td>2020-04-04</td>\n",
       "      <td>0</td>\n",
       "      <td>0</td>\n",
       "      <td>5 days</td>\n",
       "    </tr>\n",
       "    <tr>\n",
       "      <th>91</th>\n",
       "      <td>2020-04-09</td>\n",
       "      <td>0</td>\n",
       "      <td>0</td>\n",
       "      <td>12 days</td>\n",
       "    </tr>\n",
       "    <tr>\n",
       "      <th>92</th>\n",
       "      <td>2020-04-12</td>\n",
       "      <td>0</td>\n",
       "      <td>0</td>\n",
       "      <td>13 days</td>\n",
       "    </tr>\n",
       "    <tr>\n",
       "      <th>95</th>\n",
       "      <td>2020-04-06</td>\n",
       "      <td>0</td>\n",
       "      <td>0</td>\n",
       "      <td>9 days</td>\n",
       "    </tr>\n",
       "    <tr>\n",
       "      <th>115</th>\n",
       "      <td>2020-04-26</td>\n",
       "      <td>0</td>\n",
       "      <td>0</td>\n",
       "      <td>18 days</td>\n",
       "    </tr>\n",
       "    <tr>\n",
       "      <th>118</th>\n",
       "      <td>2020-04-23</td>\n",
       "      <td>0</td>\n",
       "      <td>0</td>\n",
       "      <td>16 days</td>\n",
       "    </tr>\n",
       "    <tr>\n",
       "      <th>119</th>\n",
       "      <td>2020-04-23</td>\n",
       "      <td>0</td>\n",
       "      <td>0</td>\n",
       "      <td>16 days</td>\n",
       "    </tr>\n",
       "    <tr>\n",
       "      <th>120</th>\n",
       "      <td>2020-04-25</td>\n",
       "      <td>0</td>\n",
       "      <td>0</td>\n",
       "      <td>16 days</td>\n",
       "    </tr>\n",
       "    <tr>\n",
       "      <th>122</th>\n",
       "      <td>2020-04-21</td>\n",
       "      <td>0</td>\n",
       "      <td>0</td>\n",
       "      <td>8 days</td>\n",
       "    </tr>\n",
       "    <tr>\n",
       "      <th>124</th>\n",
       "      <td>2020-04-28</td>\n",
       "      <td>0</td>\n",
       "      <td>0</td>\n",
       "      <td>16 days</td>\n",
       "    </tr>\n",
       "    <tr>\n",
       "      <th>125</th>\n",
       "      <td>2020-05-20</td>\n",
       "      <td>0</td>\n",
       "      <td>0</td>\n",
       "      <td>44 days</td>\n",
       "    </tr>\n",
       "    <tr>\n",
       "      <th>127</th>\n",
       "      <td>2020-04-20</td>\n",
       "      <td>0</td>\n",
       "      <td>0</td>\n",
       "      <td>9 days</td>\n",
       "    </tr>\n",
       "    <tr>\n",
       "      <th>129</th>\n",
       "      <td>2020-05-15</td>\n",
       "      <td>0</td>\n",
       "      <td>0</td>\n",
       "      <td>29 days</td>\n",
       "    </tr>\n",
       "    <tr>\n",
       "      <th>131</th>\n",
       "      <td>2020-05-17</td>\n",
       "      <td>0</td>\n",
       "      <td>0</td>\n",
       "      <td>31 days</td>\n",
       "    </tr>\n",
       "    <tr>\n",
       "      <th>134</th>\n",
       "      <td>2020-05-09</td>\n",
       "      <td>0</td>\n",
       "      <td>0</td>\n",
       "      <td>22 days</td>\n",
       "    </tr>\n",
       "    <tr>\n",
       "      <th>144</th>\n",
       "      <td>2020-05-27</td>\n",
       "      <td>0</td>\n",
       "      <td>0</td>\n",
       "      <td>19 days</td>\n",
       "    </tr>\n",
       "    <tr>\n",
       "      <th>146</th>\n",
       "      <td>2020-03-27</td>\n",
       "      <td>0</td>\n",
       "      <td>0</td>\n",
       "      <td>6 days</td>\n",
       "    </tr>\n",
       "    <tr>\n",
       "      <th>147</th>\n",
       "      <td>2020-04-06</td>\n",
       "      <td>0</td>\n",
       "      <td>0</td>\n",
       "      <td>16 days</td>\n",
       "    </tr>\n",
       "    <tr>\n",
       "      <th>148</th>\n",
       "      <td>2020-04-07</td>\n",
       "      <td>0</td>\n",
       "      <td>0</td>\n",
       "      <td>15 days</td>\n",
       "    </tr>\n",
       "    <tr>\n",
       "      <th>152</th>\n",
       "      <td>2020-03-31</td>\n",
       "      <td>0</td>\n",
       "      <td>0</td>\n",
       "      <td>7 days</td>\n",
       "    </tr>\n",
       "    <tr>\n",
       "      <th>157</th>\n",
       "      <td>2020-04-12</td>\n",
       "      <td>0</td>\n",
       "      <td>0</td>\n",
       "      <td>17 days</td>\n",
       "    </tr>\n",
       "    <tr>\n",
       "      <th>159</th>\n",
       "      <td>2020-04-22</td>\n",
       "      <td>0</td>\n",
       "      <td>0</td>\n",
       "      <td>25 days</td>\n",
       "    </tr>\n",
       "    <tr>\n",
       "      <th>169</th>\n",
       "      <td>2020-04-14</td>\n",
       "      <td>0</td>\n",
       "      <td>0</td>\n",
       "      <td>19 days</td>\n",
       "    </tr>\n",
       "    <tr>\n",
       "      <th>177</th>\n",
       "      <td>2020-05-08</td>\n",
       "      <td>0</td>\n",
       "      <td>0</td>\n",
       "      <td>18 days</td>\n",
       "    </tr>\n",
       "  </tbody>\n",
       "</table>\n",
       "</div>"
      ],
      "text/plain": [
       "    date_death  Death_D7  Death_D28 from_door_to_death\n",
       "22  2020-03-24         0          0            11 days\n",
       "30  2020-04-07         0          0             7 days\n",
       "32  2020-04-05         0          0            11 days\n",
       "35  2020-04-22         0          0            16 days\n",
       "42  2020-02-14         0          0            16 days\n",
       "44  2020-03-24         0          0            23 days\n",
       "46  2020-03-19         0          0            12 days\n",
       "48  2020-03-29         0          0            24 days\n",
       "49  2020-04-01         0          0            26 days\n",
       "56  2020-03-30         0          0            23 days\n",
       "57  2020-04-02         0          0            23 days\n",
       "58  2020-03-16         0          0             6 days\n",
       "67  2020-03-26         0          0            20 days\n",
       "72  2020-03-21         0          0             5 days\n",
       "74  2020-04-27         0          0            41 days\n",
       "78  2020-05-08         0          0            49 days\n",
       "83  2020-04-02         0          0             6 days\n",
       "86  2020-04-09         0          0            18 days\n",
       "87  2020-04-03         0          0             7 days\n",
       "90  2020-04-04         0          0             5 days\n",
       "91  2020-04-09         0          0            12 days\n",
       "92  2020-04-12         0          0            13 days\n",
       "95  2020-04-06         0          0             9 days\n",
       "115 2020-04-26         0          0            18 days\n",
       "118 2020-04-23         0          0            16 days\n",
       "119 2020-04-23         0          0            16 days\n",
       "120 2020-04-25         0          0            16 days\n",
       "122 2020-04-21         0          0             8 days\n",
       "124 2020-04-28         0          0            16 days\n",
       "125 2020-05-20         0          0            44 days\n",
       "127 2020-04-20         0          0             9 days\n",
       "129 2020-05-15         0          0            29 days\n",
       "131 2020-05-17         0          0            31 days\n",
       "134 2020-05-09         0          0            22 days\n",
       "144 2020-05-27         0          0            19 days\n",
       "146 2020-03-27         0          0             6 days\n",
       "147 2020-04-06         0          0            16 days\n",
       "148 2020-04-07         0          0            15 days\n",
       "152 2020-03-31         0          0             7 days\n",
       "157 2020-04-12         0          0            17 days\n",
       "159 2020-04-22         0          0            25 days\n",
       "169 2020-04-14         0          0            19 days\n",
       "177 2020-05-08         0          0            18 days"
      ]
     },
     "execution_count": 64,
     "metadata": {},
     "output_type": "execute_result"
    }
   ],
   "source": [
    "not_dead = (df[\"Death_D7\"] == 0) & (df[\"Death_D28\"] == 0)\n",
    "incorrect2 = df[(df[\"date_death\"] != \".\") & not_dead].filter([\"date_death\",\"Death_D7\", \"Death_D28\", \"from_door_to_death\" ])\n",
    "incorrect2"
   ]
  },
  {
   "cell_type": "code",
   "execution_count": 65,
   "metadata": {
    "scrolled": true
   },
   "outputs": [
    {
     "data": {
      "text/plain": [
       "date_death            43\n",
       "Death_D7              43\n",
       "Death_D28             43\n",
       "from_door_to_death    43\n",
       "dtype: int64"
      ]
     },
     "execution_count": 65,
     "metadata": {},
     "output_type": "execute_result"
    }
   ],
   "source": [
    "incorrect2.count()"
   ]
  },
  {
   "cell_type": "markdown",
   "metadata": {},
   "source": [
    "# dodajmy ramy czasowe "
   ]
  },
  {
   "cell_type": "code",
   "execution_count": 69,
   "metadata": {
    "scrolled": true
   },
   "outputs": [
    {
     "data": {
      "text/html": [
       "<div>\n",
       "<style scoped>\n",
       "    .dataframe tbody tr th:only-of-type {\n",
       "        vertical-align: middle;\n",
       "    }\n",
       "\n",
       "    .dataframe tbody tr th {\n",
       "        vertical-align: top;\n",
       "    }\n",
       "\n",
       "    .dataframe thead th {\n",
       "        text-align: right;\n",
       "    }\n",
       "</style>\n",
       "<table border=\"1\" class=\"dataframe\">\n",
       "  <thead>\n",
       "    <tr style=\"text-align: right;\">\n",
       "      <th></th>\n",
       "      <th>date_death</th>\n",
       "      <th>Death_D7</th>\n",
       "      <th>Death_D28</th>\n",
       "      <th>from_door_to_death</th>\n",
       "    </tr>\n",
       "  </thead>\n",
       "  <tbody>\n",
       "    <tr>\n",
       "      <th>22</th>\n",
       "      <td>2020-03-24</td>\n",
       "      <td>0</td>\n",
       "      <td>0</td>\n",
       "      <td>11 days</td>\n",
       "    </tr>\n",
       "    <tr>\n",
       "      <th>30</th>\n",
       "      <td>2020-04-07</td>\n",
       "      <td>0</td>\n",
       "      <td>0</td>\n",
       "      <td>7 days</td>\n",
       "    </tr>\n",
       "    <tr>\n",
       "      <th>32</th>\n",
       "      <td>2020-04-05</td>\n",
       "      <td>0</td>\n",
       "      <td>0</td>\n",
       "      <td>11 days</td>\n",
       "    </tr>\n",
       "    <tr>\n",
       "      <th>35</th>\n",
       "      <td>2020-04-22</td>\n",
       "      <td>0</td>\n",
       "      <td>0</td>\n",
       "      <td>16 days</td>\n",
       "    </tr>\n",
       "    <tr>\n",
       "      <th>42</th>\n",
       "      <td>2020-02-14</td>\n",
       "      <td>0</td>\n",
       "      <td>0</td>\n",
       "      <td>16 days</td>\n",
       "    </tr>\n",
       "    <tr>\n",
       "      <th>44</th>\n",
       "      <td>2020-03-24</td>\n",
       "      <td>0</td>\n",
       "      <td>0</td>\n",
       "      <td>23 days</td>\n",
       "    </tr>\n",
       "    <tr>\n",
       "      <th>46</th>\n",
       "      <td>2020-03-19</td>\n",
       "      <td>0</td>\n",
       "      <td>0</td>\n",
       "      <td>12 days</td>\n",
       "    </tr>\n",
       "    <tr>\n",
       "      <th>48</th>\n",
       "      <td>2020-03-29</td>\n",
       "      <td>0</td>\n",
       "      <td>0</td>\n",
       "      <td>24 days</td>\n",
       "    </tr>\n",
       "    <tr>\n",
       "      <th>49</th>\n",
       "      <td>2020-04-01</td>\n",
       "      <td>0</td>\n",
       "      <td>0</td>\n",
       "      <td>26 days</td>\n",
       "    </tr>\n",
       "    <tr>\n",
       "      <th>56</th>\n",
       "      <td>2020-03-30</td>\n",
       "      <td>0</td>\n",
       "      <td>0</td>\n",
       "      <td>23 days</td>\n",
       "    </tr>\n",
       "    <tr>\n",
       "      <th>57</th>\n",
       "      <td>2020-04-02</td>\n",
       "      <td>0</td>\n",
       "      <td>0</td>\n",
       "      <td>23 days</td>\n",
       "    </tr>\n",
       "    <tr>\n",
       "      <th>58</th>\n",
       "      <td>2020-03-16</td>\n",
       "      <td>0</td>\n",
       "      <td>0</td>\n",
       "      <td>6 days</td>\n",
       "    </tr>\n",
       "    <tr>\n",
       "      <th>67</th>\n",
       "      <td>2020-03-26</td>\n",
       "      <td>0</td>\n",
       "      <td>0</td>\n",
       "      <td>20 days</td>\n",
       "    </tr>\n",
       "    <tr>\n",
       "      <th>72</th>\n",
       "      <td>2020-03-21</td>\n",
       "      <td>0</td>\n",
       "      <td>0</td>\n",
       "      <td>5 days</td>\n",
       "    </tr>\n",
       "    <tr>\n",
       "      <th>83</th>\n",
       "      <td>2020-04-02</td>\n",
       "      <td>0</td>\n",
       "      <td>0</td>\n",
       "      <td>6 days</td>\n",
       "    </tr>\n",
       "    <tr>\n",
       "      <th>86</th>\n",
       "      <td>2020-04-09</td>\n",
       "      <td>0</td>\n",
       "      <td>0</td>\n",
       "      <td>18 days</td>\n",
       "    </tr>\n",
       "    <tr>\n",
       "      <th>87</th>\n",
       "      <td>2020-04-03</td>\n",
       "      <td>0</td>\n",
       "      <td>0</td>\n",
       "      <td>7 days</td>\n",
       "    </tr>\n",
       "    <tr>\n",
       "      <th>90</th>\n",
       "      <td>2020-04-04</td>\n",
       "      <td>0</td>\n",
       "      <td>0</td>\n",
       "      <td>5 days</td>\n",
       "    </tr>\n",
       "    <tr>\n",
       "      <th>91</th>\n",
       "      <td>2020-04-09</td>\n",
       "      <td>0</td>\n",
       "      <td>0</td>\n",
       "      <td>12 days</td>\n",
       "    </tr>\n",
       "    <tr>\n",
       "      <th>92</th>\n",
       "      <td>2020-04-12</td>\n",
       "      <td>0</td>\n",
       "      <td>0</td>\n",
       "      <td>13 days</td>\n",
       "    </tr>\n",
       "    <tr>\n",
       "      <th>95</th>\n",
       "      <td>2020-04-06</td>\n",
       "      <td>0</td>\n",
       "      <td>0</td>\n",
       "      <td>9 days</td>\n",
       "    </tr>\n",
       "    <tr>\n",
       "      <th>115</th>\n",
       "      <td>2020-04-26</td>\n",
       "      <td>0</td>\n",
       "      <td>0</td>\n",
       "      <td>18 days</td>\n",
       "    </tr>\n",
       "    <tr>\n",
       "      <th>118</th>\n",
       "      <td>2020-04-23</td>\n",
       "      <td>0</td>\n",
       "      <td>0</td>\n",
       "      <td>16 days</td>\n",
       "    </tr>\n",
       "    <tr>\n",
       "      <th>119</th>\n",
       "      <td>2020-04-23</td>\n",
       "      <td>0</td>\n",
       "      <td>0</td>\n",
       "      <td>16 days</td>\n",
       "    </tr>\n",
       "    <tr>\n",
       "      <th>120</th>\n",
       "      <td>2020-04-25</td>\n",
       "      <td>0</td>\n",
       "      <td>0</td>\n",
       "      <td>16 days</td>\n",
       "    </tr>\n",
       "    <tr>\n",
       "      <th>122</th>\n",
       "      <td>2020-04-21</td>\n",
       "      <td>0</td>\n",
       "      <td>0</td>\n",
       "      <td>8 days</td>\n",
       "    </tr>\n",
       "    <tr>\n",
       "      <th>124</th>\n",
       "      <td>2020-04-28</td>\n",
       "      <td>0</td>\n",
       "      <td>0</td>\n",
       "      <td>16 days</td>\n",
       "    </tr>\n",
       "    <tr>\n",
       "      <th>127</th>\n",
       "      <td>2020-04-20</td>\n",
       "      <td>0</td>\n",
       "      <td>0</td>\n",
       "      <td>9 days</td>\n",
       "    </tr>\n",
       "    <tr>\n",
       "      <th>134</th>\n",
       "      <td>2020-05-09</td>\n",
       "      <td>0</td>\n",
       "      <td>0</td>\n",
       "      <td>22 days</td>\n",
       "    </tr>\n",
       "    <tr>\n",
       "      <th>144</th>\n",
       "      <td>2020-05-27</td>\n",
       "      <td>0</td>\n",
       "      <td>0</td>\n",
       "      <td>19 days</td>\n",
       "    </tr>\n",
       "    <tr>\n",
       "      <th>146</th>\n",
       "      <td>2020-03-27</td>\n",
       "      <td>0</td>\n",
       "      <td>0</td>\n",
       "      <td>6 days</td>\n",
       "    </tr>\n",
       "    <tr>\n",
       "      <th>147</th>\n",
       "      <td>2020-04-06</td>\n",
       "      <td>0</td>\n",
       "      <td>0</td>\n",
       "      <td>16 days</td>\n",
       "    </tr>\n",
       "    <tr>\n",
       "      <th>148</th>\n",
       "      <td>2020-04-07</td>\n",
       "      <td>0</td>\n",
       "      <td>0</td>\n",
       "      <td>15 days</td>\n",
       "    </tr>\n",
       "    <tr>\n",
       "      <th>152</th>\n",
       "      <td>2020-03-31</td>\n",
       "      <td>0</td>\n",
       "      <td>0</td>\n",
       "      <td>7 days</td>\n",
       "    </tr>\n",
       "    <tr>\n",
       "      <th>157</th>\n",
       "      <td>2020-04-12</td>\n",
       "      <td>0</td>\n",
       "      <td>0</td>\n",
       "      <td>17 days</td>\n",
       "    </tr>\n",
       "    <tr>\n",
       "      <th>159</th>\n",
       "      <td>2020-04-22</td>\n",
       "      <td>0</td>\n",
       "      <td>0</td>\n",
       "      <td>25 days</td>\n",
       "    </tr>\n",
       "    <tr>\n",
       "      <th>169</th>\n",
       "      <td>2020-04-14</td>\n",
       "      <td>0</td>\n",
       "      <td>0</td>\n",
       "      <td>19 days</td>\n",
       "    </tr>\n",
       "    <tr>\n",
       "      <th>177</th>\n",
       "      <td>2020-05-08</td>\n",
       "      <td>0</td>\n",
       "      <td>0</td>\n",
       "      <td>18 days</td>\n",
       "    </tr>\n",
       "  </tbody>\n",
       "</table>\n",
       "</div>"
      ],
      "text/plain": [
       "    date_death  Death_D7  Death_D28 from_door_to_death\n",
       "22  2020-03-24         0          0            11 days\n",
       "30  2020-04-07         0          0             7 days\n",
       "32  2020-04-05         0          0            11 days\n",
       "35  2020-04-22         0          0            16 days\n",
       "42  2020-02-14         0          0            16 days\n",
       "44  2020-03-24         0          0            23 days\n",
       "46  2020-03-19         0          0            12 days\n",
       "48  2020-03-29         0          0            24 days\n",
       "49  2020-04-01         0          0            26 days\n",
       "56  2020-03-30         0          0            23 days\n",
       "57  2020-04-02         0          0            23 days\n",
       "58  2020-03-16         0          0             6 days\n",
       "67  2020-03-26         0          0            20 days\n",
       "72  2020-03-21         0          0             5 days\n",
       "83  2020-04-02         0          0             6 days\n",
       "86  2020-04-09         0          0            18 days\n",
       "87  2020-04-03         0          0             7 days\n",
       "90  2020-04-04         0          0             5 days\n",
       "91  2020-04-09         0          0            12 days\n",
       "92  2020-04-12         0          0            13 days\n",
       "95  2020-04-06         0          0             9 days\n",
       "115 2020-04-26         0          0            18 days\n",
       "118 2020-04-23         0          0            16 days\n",
       "119 2020-04-23         0          0            16 days\n",
       "120 2020-04-25         0          0            16 days\n",
       "122 2020-04-21         0          0             8 days\n",
       "124 2020-04-28         0          0            16 days\n",
       "127 2020-04-20         0          0             9 days\n",
       "134 2020-05-09         0          0            22 days\n",
       "144 2020-05-27         0          0            19 days\n",
       "146 2020-03-27         0          0             6 days\n",
       "147 2020-04-06         0          0            16 days\n",
       "148 2020-04-07         0          0            15 days\n",
       "152 2020-03-31         0          0             7 days\n",
       "157 2020-04-12         0          0            17 days\n",
       "159 2020-04-22         0          0            25 days\n",
       "169 2020-04-14         0          0            19 days\n",
       "177 2020-05-08         0          0            18 days"
      ]
     },
     "execution_count": 69,
     "metadata": {},
     "output_type": "execute_result"
    }
   ],
   "source": [
    "inc2_range = incorrect2[incorrect2[\"from_door_to_death\"] < datetime.timedelta(days=28)]\n",
    "inc2_range"
   ]
  },
  {
   "cell_type": "code",
   "execution_count": 71,
>>>>>>> 5b325d636ba0d77fddee09000cce345b8622014d
   "metadata": {},
   "outputs": [
    {
     "data": {
      "text/plain": [
       "date_death            38\n",
       "Death_D7              38\n",
       "Death_D28             38\n",
       "from_door_to_death    38\n",
       "dtype: int64"
      ]
     },
<<<<<<< HEAD
     "execution_count": 53,
=======
     "execution_count": 71,
>>>>>>> 5b325d636ba0d77fddee09000cce345b8622014d
     "metadata": {},
     "output_type": "execute_result"
    }
   ],
   "source": [
    "inc2_range.count()"
   ]
  },
  {
   "cell_type": "markdown",
   "id": "floating-parker",
   "metadata": {},
   "source": [
    "### Opis kolumn:\n",
    "- `ICU_LOS`- długość pobytu\n",
    "- `ICU_DC` - Intensive Cure Unit discharge\n",
    "- `date_ICU_admi` - date of Intensive Cure Unit admission"
   ]
  },
  {
   "cell_type": "code",
   "execution_count": 54,
   "id": "serious-mention",
   "metadata": {
    "scrolled": true
   },
   "outputs": [
    {
     "data": {
      "text/plain": [
       "Text(0.5, 0.98, 'Distributions of Age')"
      ]
     },
     "execution_count": 54,
     "metadata": {},
     "output_type": "execute_result"
    },
    {
     "data": {
      "image/png": "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\n",
      "text/plain": [
       "<Figure size 432x288 with 1 Axes>"
      ]
     },
     "metadata": {
      "needs_background": "light"
     },
     "output_type": "display_data"
    }
   ],
   "source": [
    "data = data[['id','date_hospital_admi', 'date_hospital_end','date_ICU_admi', 'date_ICU_end', 'date_death','ICU_LOS', 'ICU_DC','Age','Death_D28',\n",
    "       'Death_D7', 'crp_J1', 'crp_J2', 'crp_J3', 'crp_J4', 'crp_J5',\n",
    "       'ldh_j1', 'ldh_j2', 'ldh_j3', 'ldh_j4', 'ldh_j5', 'L_pourc_J1',\n",
    "       'L_pourc_J2', 'L_pourc_J3', 'L_pourc_J4', 'L_pourc_J5']]\n",
    "\n",
    "data = data.replace({\".\": np.nan})\n",
    "\n",
    "plt.hist(data['Age'])\n",
    "plt.suptitle('Distributions of Age')\n",
    "\n"
   ]
  },
  {
   "cell_type": "code",
   "execution_count": 21,
   "id": "unlike-discrimination",
   "metadata": {},
   "outputs": [
    {
     "data": {
      "text/plain": [
       "0    117\n",
       "1     61\n",
       "Name: Death_D28, dtype: int64"
      ]
     },
     "execution_count": 21,
     "metadata": {},
     "output_type": "execute_result"
    }
   ],
   "source": [
    "data['Death_D28'].value_counts()"
   ]
  },
  {
   "cell_type": "code",
<<<<<<< HEAD
   "execution_count": 23,
   "id": "honest-habitat",
   "metadata": {},
   "outputs": [
    {
     "data": {
      "text/plain": [
       "Text(0.5, 1.0, 'Number of observations')"
      ]
     },
     "execution_count": 23,
     "metadata": {},
     "output_type": "execute_result"
    },
    {
     "data": {
      "image/png": "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\n",
      "text/plain": [
       "<Figure size 432x288 with 1 Axes>"
      ]
     },
     "metadata": {
      "needs_background": "light"
     },
     "output_type": "display_data"
    }
   ],
   "source": [
    "dead = data.date_death.value_counts().sum()\n",
    "alive = len(data) - dead\n",
    "plt.bar(['dead', 'alive'],[dead, alive])\n",
    "plt.title(\"Number of observations\")"
   ]
  },
  {
   "cell_type": "code",
   "execution_count": 55,
   "id": "liberal-possession",
   "metadata": {},
   "outputs": [
    {
     "data": {
      "text/plain": [
       "0                      NaN\n",
       "1      2020-04-01 00:00:00\n",
       "2                      NaN\n",
       "3                      NaN\n",
       "4                      NaN\n",
       "              ...         \n",
       "173                    NaN\n",
       "174                    NaN\n",
       "175                    NaN\n",
       "176                    NaN\n",
       "177    2020-05-08 00:00:00\n",
       "Name: date_death, Length: 178, dtype: object"
      ]
     },
     "execution_count": 55,
     "metadata": {},
     "output_type": "execute_result"
    },
    {
     "data": {
      "image/png": "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\n",
      "text/plain": [
       "<Figure size 1440x504 with 2 Axes>"
      ]
     },
     "metadata": {
      "needs_background": "light"
     },
     "output_type": "display_data"
    }
   ],
   "source": [
    "i = 0\n",
    "j = 0\n",
    "fig, ax = plt.subplots(1, 2, figsize=(20, 7),  squeeze=False)\n",
    "\n",
    "sns.histplot(data, x='Age', hue=\"Death_D28\", multiple=\"stack\", edgecolor=\".2\", ax=ax[0][0])\n",
    "sns.histplot(data, x='Age', hue=\"Death_D7\", multiple=\"stack\", edgecolor=\".2\", ax=ax[0][1])\n",
    "\n",
    "#crp_table = data[['crp_J1', 'crp_J2', 'crp_J3', 'crp_J4', 'crp_J5']]\n",
    "#crp_table['crp_mean'] = crp_table.mean(axis = 0, skipna = True, numeric_only = True)\n",
    "#crp_table\n",
    "\n",
    "data['date_death'].loc[data['date_death'] != np.nan]"
   ]
  },
  {
   "cell_type": "code",
   "execution_count": 8,
   "id": "centered-intersection",
=======
   "execution_count": null,
>>>>>>> 5b325d636ba0d77fddee09000cce345b8622014d
   "metadata": {},
   "outputs": [],
   "source": [
    "#plt.scatter(data[''], data['date_death'])\n",
    "#data.plot(x='date_hospital_admi', y='date_hospital_admi', style='.')"
   ]
  },
  {
   "cell_type": "code",
   "execution_count": 193,
   "id": "orange-public",
   "metadata": {
    "scrolled": true
   },
   "outputs": [
    {
     "data": {
      "application/vnd.plotly.v1+json": {
       "config": {
        "plotlyServerURL": "https://plot.ly"
       },
       "data": [
        {
         "hovertemplate": "days from ICU admission to death=0-7<br>date of hospital admission=%{x}<br>date of death=%{y}<extra></extra>",
         "legendgroup": "0-7",
         "marker": {
          "color": "#636efa",
          "symbol": "circle"
         },
         "mode": "markers",
         "name": "0-7",
         "orientation": "v",
         "showlegend": true,
         "type": "scatter",
         "x": [
          "2020-03-26T00:00:00",
          "2020-03-23T00:00:00",
          "2020-03-25T00:00:00",
          "2020-03-27T00:00:00",
          "2020-03-26T00:00:00",
          "2020-04-22T00:00:00",
          "2020-03-12T00:00:00",
          "2020-03-12T00:00:00",
          "2020-03-11T00:00:00",
          "2020-03-11T00:00:00",
          "2020-03-16T00:00:00",
          "2020-03-13T00:00:00",
          "2020-03-05T00:00:00",
          "2020-03-21T00:00:00",
          "2020-03-03T00:00:00",
          "2020-03-31T00:00:00",
          "2020-03-20T00:00:00",
          "2020-03-25T00:00:00",
          "2020-04-06T00:00:00",
          "2020-03-24T00:00:00",
          "2020-03-16T00:00:00",
          "2020-01-29T00:00:00",
          "2020-02-26T00:00:00",
          "2020-03-01T00:00:00",
          "2020-03-07T00:00:00",
          "2020-03-06T00:00:00",
          "2020-03-05T00:00:00",
          "2020-03-06T00:00:00",
          "2020-03-07T00:00:00",
          "2020-03-08T00:00:00",
          "2020-03-03T00:00:00",
          "2020-03-04T00:00:00",
          "2020-03-08T00:00:00",
          "2020-03-07T00:00:00",
          "2020-03-10T00:00:00",
          "2020-03-10T00:00:00",
          "2020-03-10T00:00:00",
          "2020-03-12T00:00:00",
          "2020-03-12T00:00:00",
          "2020-03-06T00:00:00",
          "2020-03-08T00:00:00",
          "2020-03-16T00:00:00",
          "2020-03-17T00:00:00",
          "2020-03-20T00:00:00",
          "2020-03-20T00:00:00",
          "2020-03-19T00:00:00",
          "2020-03-20T00:00:00",
          "2020-03-23T00:00:00",
          "2020-03-18T00:00:00",
          "2020-03-20T00:00:00",
          "2020-03-27T00:00:00",
          "2020-03-26T00:00:00",
          "2020-03-29T00:00:00",
          "2020-03-22T00:00:00",
          "2020-03-27T00:00:00",
          "2020-03-30T00:00:00",
          "2020-03-28T00:00:00",
          "2020-03-30T00:00:00",
          "2020-03-27T00:00:00",
          "2020-03-29T00:00:00",
          "2020-03-28T00:00:00",
          "2020-03-26T00:00:00",
          "2020-03-30T00:00:00",
          "2020-03-30T00:00:00",
          "2020-04-02T00:00:00",
          "2020-04-05T00:00:00",
          "2020-04-04T00:00:00",
          "2020-04-05T00:00:00",
          "2020-04-06T00:00:00",
          "2020-04-05T00:00:00",
          "2020-04-08T00:00:00",
          "2020-04-07T00:00:00",
          "2020-04-07T00:00:00",
          "2020-04-07T00:00:00",
          "2020-04-09T00:00:00",
          "2020-04-10T00:00:00",
          "2020-04-13T00:00:00",
          "2020-04-12T00:00:00",
          "2020-04-06T00:00:00",
          "2020-04-14T00:00:00",
          "2020-04-11T00:00:00",
          "2020-04-16T00:00:00",
          "2020-04-15T00:00:00",
          "2020-04-16T00:00:00",
          "2020-04-12T00:00:00",
          "2019-12-29T00:00:00",
          "2020-04-17T00:00:00",
          "2020-03-30T00:00:00",
          "2020-04-16T00:00:00",
          "2020-04-16T00:00:00",
          "2020-04-16T00:00:00",
          "2020-04-11T00:00:00",
          "2020-05-08T00:00:00",
          "2020-03-22T00:00:00",
          "2020-03-21T00:00:00",
          "2020-03-21T00:00:00",
          "2020-03-23T00:00:00",
          "2020-03-23T00:00:00",
          "2020-03-24T00:00:00",
          "2020-03-24T00:00:00",
          "2020-03-25T00:00:00",
          "2020-03-24T00:00:00",
          "2020-03-26T00:00:00",
          "2020-03-25T00:00:00",
          "2020-03-28T00:00:00",
          "2020-03-29T00:00:00",
          "2020-04-04T00:00:00",
          "2020-03-27T00:00:00",
          "2020-03-24T00:00:00",
          "2020-03-25T00:00:00",
          "2020-03-26T00:00:00",
          "2020-04-18T00:00:00",
          "2020-03-25T00:00:00",
          "2020-03-20T00:00:00",
          "2020-03-25T00:00:00",
          "2020-03-22T00:00:00",
          "2020-04-20T00:00:00"
         ],
         "xaxis": "x",
         "y": [
          null,
          null,
          null,
          null,
          null,
          null,
          null,
          null,
          null,
          null,
          null,
          "2020-03-24T00:00:00",
          null,
          null,
          null,
          "2020-04-07T00:00:00",
          null,
          "2020-04-05T00:00:00",
          "2020-04-22T00:00:00",
          null,
          null,
          "2020-02-14T00:00:00",
          null,
          "2020-03-24T00:00:00",
          "2020-03-19T00:00:00",
          null,
          "2020-03-29T00:00:00",
          "2020-04-01T00:00:00",
          null,
          null,
          null,
          null,
          null,
          "2020-03-30T00:00:00",
          "2020-04-02T00:00:00",
          "2020-03-16T00:00:00",
          null,
          null,
          null,
          "2020-03-26T00:00:00",
          null,
          "2020-03-21T00:00:00",
          "2020-04-27T00:00:00",
          null,
          null,
          null,
          "2020-05-08T00:00:00",
          null,
          null,
          null,
          "2020-04-02T00:00:00",
          null,
          null,
          "2020-04-09T00:00:00",
          "2020-04-03T00:00:00",
          "2020-04-04T00:00:00",
          "2020-04-09T00:00:00",
          "2020-04-12T00:00:00",
          null,
          null,
          "2020-04-06T00:00:00",
          null,
          null,
          null,
          null,
          null,
          null,
          null,
          null,
          null,
          "2020-04-26T00:00:00",
          null,
          "2020-04-23T00:00:00",
          "2020-04-23T00:00:00",
          "2020-04-25T00:00:00",
          null,
          "2020-04-21T00:00:00",
          "2020-04-28T00:00:00",
          "2020-05-20T00:00:00",
          null,
          "2020-04-20T00:00:00",
          "2020-05-15T00:00:00",
          null,
          "2020-05-17T00:00:00",
          null,
          null,
          "2020-05-09T00:00:00",
          null,
          null,
          null,
          null,
          null,
          "2020-05-27T00:00:00",
          null,
          "2020-03-27T00:00:00",
          "2020-04-06T00:00:00",
          "2020-04-07T00:00:00",
          null,
          null,
          "2020-03-31T00:00:00",
          null,
          null,
          "2020-04-12T00:00:00",
          null,
          "2020-04-22T00:00:00",
          null,
          null,
          null,
          null,
          null,
          "2020-04-14T00:00:00",
          null,
          null,
          null,
          null,
          null,
          "2020-05-08T00:00:00"
         ],
         "yaxis": "y"
        },
        {
         "hovertemplate": "days from ICU admission to death=7-28<br>date of hospital admission=%{x}<br>date of death=%{y}<extra></extra>",
         "legendgroup": "7-28",
         "marker": {
          "color": "#EF553B",
          "symbol": "circle"
         },
         "mode": "markers",
         "name": "7-28",
         "orientation": "v",
         "showlegend": true,
         "type": "scatter",
         "x": [
          "2020-03-26T00:00:00",
          "2020-03-21T00:00:00",
          "2020-03-23T00:00:00",
          "2020-03-07T00:00:00",
          "2020-03-31T00:00:00",
          "2020-03-10T00:00:00",
          "2020-03-12T00:00:00",
          "2020-03-11T00:00:00",
          "2020-03-11T00:00:00",
          "2020-03-20T00:00:00",
          "2020-03-25T00:00:00",
          "2020-03-27T00:00:00",
          "2020-03-25T00:00:00",
          "2020-03-16T00:00:00",
          "2020-03-05T00:00:00",
          "2020-03-10T00:00:00",
          "2020-03-09T00:00:00",
          "2020-03-09T00:00:00",
          "2020-03-14T00:00:00",
          "2020-03-08T00:00:00",
          "2020-03-16T00:00:00",
          "2020-03-19T00:00:00",
          "2020-03-31T00:00:00",
          "2020-03-28T00:00:00",
          "2020-04-02T00:00:00",
          "2020-04-01T00:00:00",
          "2020-04-03T00:00:00",
          "2020-04-05T00:00:00",
          "2020-04-06T00:00:00",
          "2020-03-30T00:00:00",
          "2020-04-08T00:00:00",
          "2020-04-16T00:00:00",
          "2020-04-03T00:00:00",
          "2020-03-26T00:00:00",
          "2020-03-27T00:00:00",
          "2020-03-31T00:00:00",
          "2020-03-30T00:00:00",
          "2020-03-23T00:00:00",
          "2020-03-20T00:00:00",
          "2020-03-30T00:00:00",
          "2020-03-19T00:00:00"
         ],
         "xaxis": "x",
         "y": [
          null,
          null,
          null,
          null,
          null,
          "2020-03-12T00:00:00",
          "2020-03-17T00:00:00",
          null,
          "2020-03-25T00:00:00",
          null,
          null,
          null,
          null,
          "2020-03-27T00:00:00",
          "2020-03-26T00:00:00",
          null,
          "2020-04-04T00:00:00",
          "2020-03-16T00:00:00",
          null,
          null,
          null,
          "2020-04-06T00:00:00",
          null,
          "2020-04-12T00:00:00",
          null,
          "2020-05-16T00:00:00",
          null,
          null,
          null,
          null,
          null,
          null,
          null,
          null,
          "2020-04-13T00:00:00",
          null,
          null,
          null,
          null,
          "2020-04-07T00:00:00",
          null
         ],
         "yaxis": "y"
        },
        {
         "hovertemplate": "days from ICU admission to death=>28<br>date of hospital admission=%{x}<br>date of death=%{y}<extra></extra>",
         "legendgroup": ">28",
         "marker": {
          "color": "#00cc96",
          "symbol": "circle"
         },
         "mode": "markers",
         "name": ">28",
         "orientation": "v",
         "showlegend": true,
         "type": "scatter",
         "x": [
          "2020-03-25T00:00:00",
          "2020-03-20T00:00:00",
          "2020-03-16T00:00:00",
          "2020-03-20T00:00:00",
          "2020-03-14T00:00:00",
          "2020-03-26T00:00:00",
          "2020-04-03T00:00:00",
          "2020-03-04T00:00:00",
          "2020-03-12T00:00:00",
          "2020-03-10T00:00:00",
          "2020-03-08T00:00:00",
          "2020-03-17T00:00:00",
          "2020-03-29T00:00:00",
          "2020-04-04T00:00:00",
          "2020-03-31T00:00:00",
          "2020-04-06T00:00:00",
          "2020-05-01T00:00:00",
          "2020-05-12T00:00:00",
          "2020-03-22T00:00:00",
          "2020-03-23T00:00:00"
         ],
         "xaxis": "x",
         "y": [
          "2020-04-01T00:00:00",
          null,
          null,
          "2020-03-25T00:00:00",
          null,
          "2020-04-10T00:00:00",
          null,
          null,
          null,
          "2020-03-17T00:00:00",
          "2020-03-20T00:00:00",
          "2020-04-13T00:00:00",
          null,
          null,
          null,
          null,
          null,
          null,
          null,
          "2020-04-25T00:00:00"
         ],
         "yaxis": "y"
        },
        {
         "line": {
          "color": "gray",
          "dash": "dot"
         },
         "mode": "lines",
         "name": "day after 7 days",
         "showlegend": true,
         "type": "scatter",
         "x": [
          "2020-03-26T00:00:00",
          "2020-03-25T00:00:00",
          "2020-03-26T00:00:00",
          "2020-03-21T00:00:00",
          "2020-03-23T00:00:00",
          "2020-03-23T00:00:00",
          "2020-03-25T00:00:00",
          "2020-03-20T00:00:00",
          "2020-03-07T00:00:00",
          "2020-03-27T00:00:00",
          "2020-03-26T00:00:00",
          "2020-04-22T00:00:00",
          "2020-03-31T00:00:00",
          "2020-03-12T00:00:00",
          "2020-03-10T00:00:00",
          "2020-03-12T00:00:00",
          "2020-03-12T00:00:00",
          "2020-03-11T00:00:00",
          "2020-03-11T00:00:00",
          "2020-03-16T00:00:00",
          "2020-03-11T00:00:00",
          "2020-03-16T00:00:00",
          "2020-03-13T00:00:00",
          "2020-03-11T00:00:00",
          "2020-03-20T00:00:00",
          "2020-03-20T00:00:00",
          "2020-03-05T00:00:00",
          "2020-03-14T00:00:00",
          "2020-03-21T00:00:00",
          "2020-03-03T00:00:00",
          "2020-03-31T00:00:00",
          "2020-03-20T00:00:00",
          "2020-03-25T00:00:00",
          "2020-03-26T00:00:00",
          "2020-03-25T00:00:00",
          "2020-04-06T00:00:00",
          "2020-03-27T00:00:00",
          "2020-04-03T00:00:00",
          "2020-03-25T00:00:00",
          "2020-03-16T00:00:00",
          "2020-03-24T00:00:00",
          "2020-03-16T00:00:00",
          "2020-01-29T00:00:00",
          "2020-02-26T00:00:00",
          "2020-03-01T00:00:00",
          "2020-03-04T00:00:00",
          "2020-03-07T00:00:00",
          "2020-03-06T00:00:00",
          "2020-03-05T00:00:00",
          "2020-03-06T00:00:00",
          "2020-03-07T00:00:00",
          "2020-03-08T00:00:00",
          "2020-03-03T00:00:00",
          "2020-03-04T00:00:00",
          "2020-03-05T00:00:00",
          "2020-03-08T00:00:00",
          "2020-03-07T00:00:00",
          "2020-03-10T00:00:00",
          "2020-03-10T00:00:00",
          "2020-03-10T00:00:00",
          "2020-03-12T00:00:00",
          "2020-03-12T00:00:00",
          "2020-03-12T00:00:00",
          "2020-03-10T00:00:00",
          "2020-03-10T00:00:00",
          "2020-03-09T00:00:00",
          "2020-03-09T00:00:00",
          "2020-03-06T00:00:00",
          "2020-03-08T00:00:00",
          "2020-03-14T00:00:00",
          "2020-03-08T00:00:00",
          "2020-03-08T00:00:00",
          "2020-03-16T00:00:00",
          "2020-03-16T00:00:00",
          "2020-03-17T00:00:00",
          "2020-03-20T00:00:00",
          "2020-03-20T00:00:00",
          "2020-03-19T00:00:00",
          "2020-03-20T00:00:00",
          "2020-03-19T00:00:00",
          "2020-03-23T00:00:00",
          "2020-03-18T00:00:00",
          "2020-03-20T00:00:00",
          "2020-03-27T00:00:00",
          "2020-03-26T00:00:00",
          "2020-03-29T00:00:00",
          "2020-03-22T00:00:00",
          "2020-03-27T00:00:00",
          "2020-03-17T00:00:00",
          "2020-03-29T00:00:00",
          "2020-03-30T00:00:00",
          "2020-03-28T00:00:00",
          "2020-03-30T00:00:00",
          "2020-03-27T00:00:00",
          "2020-03-29T00:00:00",
          "2020-03-28T00:00:00",
          "2020-03-26T00:00:00",
          "2020-03-30T00:00:00",
          "2020-03-31T00:00:00",
          "2020-03-30T00:00:00",
          "2020-04-02T00:00:00",
          "2020-03-28T00:00:00",
          "2020-04-02T00:00:00",
          "2020-04-01T00:00:00",
          "2020-04-05T00:00:00",
          "2020-04-04T00:00:00",
          "2020-04-04T00:00:00",
          "2020-04-05T00:00:00",
          "2020-04-03T00:00:00",
          "2020-03-31T00:00:00",
          "2020-04-05T00:00:00",
          "2020-04-06T00:00:00",
          "2020-04-06T00:00:00",
          "2020-04-05T00:00:00",
          "2020-03-30T00:00:00",
          "2020-04-08T00:00:00",
          "2020-04-07T00:00:00",
          "2020-04-06T00:00:00",
          "2020-04-07T00:00:00",
          "2020-04-07T00:00:00",
          "2020-04-09T00:00:00",
          "2020-04-10T00:00:00",
          "2020-04-13T00:00:00",
          "2020-04-08T00:00:00",
          "2020-04-12T00:00:00",
          "2020-04-06T00:00:00",
          "2020-04-14T00:00:00",
          "2020-04-11T00:00:00",
          "2020-04-16T00:00:00",
          "2020-04-16T00:00:00",
          "2020-04-15T00:00:00",
          "2020-04-16T00:00:00",
          "2020-04-12T00:00:00",
          "2019-12-29T00:00:00",
          "2020-04-17T00:00:00",
          "2020-03-30T00:00:00",
          "2020-04-16T00:00:00",
          "2020-04-16T00:00:00",
          "2020-04-16T00:00:00",
          "2020-04-11T00:00:00",
          "2020-05-01T00:00:00",
          "2020-04-03T00:00:00",
          "2020-05-12T00:00:00",
          "2020-03-22T00:00:00",
          "2020-05-08T00:00:00",
          "2020-03-22T00:00:00",
          "2020-03-21T00:00:00",
          "2020-03-21T00:00:00",
          "2020-03-23T00:00:00",
          "2020-03-23T00:00:00",
          "2020-03-23T00:00:00",
          "2020-03-24T00:00:00",
          "2020-03-24T00:00:00",
          "2020-03-25T00:00:00",
          "2020-03-24T00:00:00",
          "2020-03-26T00:00:00",
          "2020-03-27T00:00:00",
          "2020-03-26T00:00:00",
          "2020-03-25T00:00:00",
          "2020-03-28T00:00:00",
          "2020-03-29T00:00:00",
          "2020-03-31T00:00:00",
          "2020-04-04T00:00:00",
          "2020-03-30T00:00:00",
          "2020-03-27T00:00:00",
          "2020-03-24T00:00:00",
          "2020-03-25T00:00:00",
          "2020-03-23T00:00:00",
          "2020-03-20T00:00:00",
          "2020-03-26T00:00:00",
          "2020-03-30T00:00:00",
          "2020-03-19T00:00:00",
          "2020-04-18T00:00:00",
          "2020-03-25T00:00:00",
          "2020-03-20T00:00:00",
          "2020-03-25T00:00:00",
          "2020-03-22T00:00:00",
          "2020-04-20T00:00:00"
         ],
         "y": [
          "2020-04-02T00:00:00",
          "2020-04-01T00:00:00",
          "2020-04-02T00:00:00",
          "2020-03-28T00:00:00",
          "2020-03-30T00:00:00",
          "2020-03-30T00:00:00",
          "2020-04-01T00:00:00",
          "2020-03-27T00:00:00",
          "2020-03-14T00:00:00",
          "2020-04-03T00:00:00",
          "2020-04-02T00:00:00",
          "2020-04-29T00:00:00",
          "2020-04-07T00:00:00",
          "2020-03-19T00:00:00",
          "2020-03-17T00:00:00",
          "2020-03-19T00:00:00",
          "2020-03-19T00:00:00",
          "2020-03-18T00:00:00",
          "2020-03-18T00:00:00",
          "2020-03-23T00:00:00",
          "2020-03-18T00:00:00",
          "2020-03-23T00:00:00",
          "2020-03-20T00:00:00",
          "2020-03-18T00:00:00",
          "2020-03-27T00:00:00",
          "2020-03-27T00:00:00",
          "2020-03-12T00:00:00",
          "2020-03-21T00:00:00",
          "2020-03-28T00:00:00",
          "2020-03-10T00:00:00",
          "2020-04-07T00:00:00",
          "2020-03-27T00:00:00",
          "2020-04-01T00:00:00",
          "2020-04-02T00:00:00",
          "2020-04-01T00:00:00",
          "2020-04-13T00:00:00",
          "2020-04-03T00:00:00",
          "2020-04-10T00:00:00",
          "2020-04-01T00:00:00",
          "2020-03-23T00:00:00",
          "2020-03-31T00:00:00",
          "2020-03-23T00:00:00",
          "2020-02-05T00:00:00",
          "2020-03-04T00:00:00",
          "2020-03-08T00:00:00",
          "2020-03-11T00:00:00",
          "2020-03-14T00:00:00",
          "2020-03-13T00:00:00",
          "2020-03-12T00:00:00",
          "2020-03-13T00:00:00",
          "2020-03-14T00:00:00",
          "2020-03-15T00:00:00",
          "2020-03-10T00:00:00",
          "2020-03-11T00:00:00",
          "2020-03-12T00:00:00",
          "2020-03-15T00:00:00",
          "2020-03-14T00:00:00",
          "2020-03-17T00:00:00",
          "2020-03-17T00:00:00",
          "2020-03-17T00:00:00",
          "2020-03-19T00:00:00",
          "2020-03-19T00:00:00",
          "2020-03-19T00:00:00",
          "2020-03-17T00:00:00",
          "2020-03-17T00:00:00",
          "2020-03-16T00:00:00",
          "2020-03-16T00:00:00",
          "2020-03-13T00:00:00",
          "2020-03-15T00:00:00",
          "2020-03-21T00:00:00",
          "2020-03-15T00:00:00",
          "2020-03-15T00:00:00",
          "2020-03-23T00:00:00",
          "2020-03-23T00:00:00",
          "2020-03-24T00:00:00",
          "2020-03-27T00:00:00",
          "2020-03-27T00:00:00",
          "2020-03-26T00:00:00",
          "2020-03-27T00:00:00",
          "2020-03-26T00:00:00",
          "2020-03-30T00:00:00",
          "2020-03-25T00:00:00",
          "2020-03-27T00:00:00",
          "2020-04-03T00:00:00",
          "2020-04-02T00:00:00",
          "2020-04-05T00:00:00",
          "2020-03-29T00:00:00",
          "2020-04-03T00:00:00",
          "2020-03-24T00:00:00",
          "2020-04-05T00:00:00",
          "2020-04-06T00:00:00",
          "2020-04-04T00:00:00",
          "2020-04-06T00:00:00",
          "2020-04-03T00:00:00",
          "2020-04-05T00:00:00",
          "2020-04-04T00:00:00",
          "2020-04-02T00:00:00",
          "2020-04-06T00:00:00",
          "2020-04-07T00:00:00",
          "2020-04-06T00:00:00",
          "2020-04-09T00:00:00",
          "2020-04-04T00:00:00",
          "2020-04-09T00:00:00",
          "2020-04-08T00:00:00",
          "2020-04-12T00:00:00",
          "2020-04-11T00:00:00",
          "2020-04-11T00:00:00",
          "2020-04-12T00:00:00",
          "2020-04-10T00:00:00",
          "2020-04-07T00:00:00",
          "2020-04-12T00:00:00",
          "2020-04-13T00:00:00",
          "2020-04-13T00:00:00",
          "2020-04-12T00:00:00",
          "2020-04-06T00:00:00",
          "2020-04-15T00:00:00",
          "2020-04-14T00:00:00",
          "2020-04-13T00:00:00",
          "2020-04-14T00:00:00",
          "2020-04-14T00:00:00",
          "2020-04-16T00:00:00",
          "2020-04-17T00:00:00",
          "2020-04-20T00:00:00",
          "2020-04-15T00:00:00",
          "2020-04-19T00:00:00",
          "2020-04-13T00:00:00",
          "2020-04-21T00:00:00",
          "2020-04-18T00:00:00",
          "2020-04-23T00:00:00",
          "2020-04-23T00:00:00",
          "2020-04-22T00:00:00",
          "2020-04-23T00:00:00",
          "2020-04-19T00:00:00",
          "2020-01-05T00:00:00",
          "2020-04-24T00:00:00",
          "2020-04-06T00:00:00",
          "2020-04-23T00:00:00",
          "2020-04-23T00:00:00",
          "2020-04-23T00:00:00",
          "2020-04-18T00:00:00",
          "2020-05-08T00:00:00",
          "2020-04-10T00:00:00",
          "2020-05-19T00:00:00",
          "2020-03-29T00:00:00",
          "2020-05-15T00:00:00",
          "2020-03-29T00:00:00",
          "2020-03-28T00:00:00",
          "2020-03-28T00:00:00",
          "2020-03-30T00:00:00",
          "2020-03-30T00:00:00",
          "2020-03-30T00:00:00",
          "2020-03-31T00:00:00",
          "2020-03-31T00:00:00",
          "2020-04-01T00:00:00",
          "2020-03-31T00:00:00",
          "2020-04-02T00:00:00",
          "2020-04-03T00:00:00",
          "2020-04-02T00:00:00",
          "2020-04-01T00:00:00",
          "2020-04-04T00:00:00",
          "2020-04-05T00:00:00",
          "2020-04-07T00:00:00",
          "2020-04-11T00:00:00",
          "2020-04-06T00:00:00",
          "2020-04-03T00:00:00",
          "2020-03-31T00:00:00",
          "2020-04-01T00:00:00",
          "2020-03-30T00:00:00",
          "2020-03-27T00:00:00",
          "2020-04-02T00:00:00",
          "2020-04-06T00:00:00",
          "2020-03-26T00:00:00",
          "2020-04-25T00:00:00",
          "2020-04-01T00:00:00",
          "2020-03-27T00:00:00",
          "2020-04-01T00:00:00",
          "2020-03-29T00:00:00",
          "2020-04-27T00:00:00"
         ]
        },
        {
         "line": {
          "color": "gray",
          "dash": "dash"
         },
         "mode": "lines",
         "name": "day after 28 days",
         "showlegend": true,
         "type": "scatter",
         "x": [
          "2020-03-26T00:00:00",
          "2020-03-25T00:00:00",
          "2020-03-26T00:00:00",
          "2020-03-21T00:00:00",
          "2020-03-23T00:00:00",
          "2020-03-23T00:00:00",
          "2020-03-25T00:00:00",
          "2020-03-20T00:00:00",
          "2020-03-07T00:00:00",
          "2020-03-27T00:00:00",
          "2020-03-26T00:00:00",
          "2020-04-22T00:00:00",
          "2020-03-31T00:00:00",
          "2020-03-12T00:00:00",
          "2020-03-10T00:00:00",
          "2020-03-12T00:00:00",
          "2020-03-12T00:00:00",
          "2020-03-11T00:00:00",
          "2020-03-11T00:00:00",
          "2020-03-16T00:00:00",
          "2020-03-11T00:00:00",
          "2020-03-16T00:00:00",
          "2020-03-13T00:00:00",
          "2020-03-11T00:00:00",
          "2020-03-20T00:00:00",
          "2020-03-20T00:00:00",
          "2020-03-05T00:00:00",
          "2020-03-14T00:00:00",
          "2020-03-21T00:00:00",
          "2020-03-03T00:00:00",
          "2020-03-31T00:00:00",
          "2020-03-20T00:00:00",
          "2020-03-25T00:00:00",
          "2020-03-26T00:00:00",
          "2020-03-25T00:00:00",
          "2020-04-06T00:00:00",
          "2020-03-27T00:00:00",
          "2020-04-03T00:00:00",
          "2020-03-25T00:00:00",
          "2020-03-16T00:00:00",
          "2020-03-24T00:00:00",
          "2020-03-16T00:00:00",
          "2020-01-29T00:00:00",
          "2020-02-26T00:00:00",
          "2020-03-01T00:00:00",
          "2020-03-04T00:00:00",
          "2020-03-07T00:00:00",
          "2020-03-06T00:00:00",
          "2020-03-05T00:00:00",
          "2020-03-06T00:00:00",
          "2020-03-07T00:00:00",
          "2020-03-08T00:00:00",
          "2020-03-03T00:00:00",
          "2020-03-04T00:00:00",
          "2020-03-05T00:00:00",
          "2020-03-08T00:00:00",
          "2020-03-07T00:00:00",
          "2020-03-10T00:00:00",
          "2020-03-10T00:00:00",
          "2020-03-10T00:00:00",
          "2020-03-12T00:00:00",
          "2020-03-12T00:00:00",
          "2020-03-12T00:00:00",
          "2020-03-10T00:00:00",
          "2020-03-10T00:00:00",
          "2020-03-09T00:00:00",
          "2020-03-09T00:00:00",
          "2020-03-06T00:00:00",
          "2020-03-08T00:00:00",
          "2020-03-14T00:00:00",
          "2020-03-08T00:00:00",
          "2020-03-08T00:00:00",
          "2020-03-16T00:00:00",
          "2020-03-16T00:00:00",
          "2020-03-17T00:00:00",
          "2020-03-20T00:00:00",
          "2020-03-20T00:00:00",
          "2020-03-19T00:00:00",
          "2020-03-20T00:00:00",
          "2020-03-19T00:00:00",
          "2020-03-23T00:00:00",
          "2020-03-18T00:00:00",
          "2020-03-20T00:00:00",
          "2020-03-27T00:00:00",
          "2020-03-26T00:00:00",
          "2020-03-29T00:00:00",
          "2020-03-22T00:00:00",
          "2020-03-27T00:00:00",
          "2020-03-17T00:00:00",
          "2020-03-29T00:00:00",
          "2020-03-30T00:00:00",
          "2020-03-28T00:00:00",
          "2020-03-30T00:00:00",
          "2020-03-27T00:00:00",
          "2020-03-29T00:00:00",
          "2020-03-28T00:00:00",
          "2020-03-26T00:00:00",
          "2020-03-30T00:00:00",
          "2020-03-31T00:00:00",
          "2020-03-30T00:00:00",
          "2020-04-02T00:00:00",
          "2020-03-28T00:00:00",
          "2020-04-02T00:00:00",
          "2020-04-01T00:00:00",
          "2020-04-05T00:00:00",
          "2020-04-04T00:00:00",
          "2020-04-04T00:00:00",
          "2020-04-05T00:00:00",
          "2020-04-03T00:00:00",
          "2020-03-31T00:00:00",
          "2020-04-05T00:00:00",
          "2020-04-06T00:00:00",
          "2020-04-06T00:00:00",
          "2020-04-05T00:00:00",
          "2020-03-30T00:00:00",
          "2020-04-08T00:00:00",
          "2020-04-07T00:00:00",
          "2020-04-06T00:00:00",
          "2020-04-07T00:00:00",
          "2020-04-07T00:00:00",
          "2020-04-09T00:00:00",
          "2020-04-10T00:00:00",
          "2020-04-13T00:00:00",
          "2020-04-08T00:00:00",
          "2020-04-12T00:00:00",
          "2020-04-06T00:00:00",
          "2020-04-14T00:00:00",
          "2020-04-11T00:00:00",
          "2020-04-16T00:00:00",
          "2020-04-16T00:00:00",
          "2020-04-15T00:00:00",
          "2020-04-16T00:00:00",
          "2020-04-12T00:00:00",
          "2019-12-29T00:00:00",
          "2020-04-17T00:00:00",
          "2020-03-30T00:00:00",
          "2020-04-16T00:00:00",
          "2020-04-16T00:00:00",
          "2020-04-16T00:00:00",
          "2020-04-11T00:00:00",
          "2020-05-01T00:00:00",
          "2020-04-03T00:00:00",
          "2020-05-12T00:00:00",
          "2020-03-22T00:00:00",
          "2020-05-08T00:00:00",
          "2020-03-22T00:00:00",
          "2020-03-21T00:00:00",
          "2020-03-21T00:00:00",
          "2020-03-23T00:00:00",
          "2020-03-23T00:00:00",
          "2020-03-23T00:00:00",
          "2020-03-24T00:00:00",
          "2020-03-24T00:00:00",
          "2020-03-25T00:00:00",
          "2020-03-24T00:00:00",
          "2020-03-26T00:00:00",
          "2020-03-27T00:00:00",
          "2020-03-26T00:00:00",
          "2020-03-25T00:00:00",
          "2020-03-28T00:00:00",
          "2020-03-29T00:00:00",
          "2020-03-31T00:00:00",
          "2020-04-04T00:00:00",
          "2020-03-30T00:00:00",
          "2020-03-27T00:00:00",
          "2020-03-24T00:00:00",
          "2020-03-25T00:00:00",
          "2020-03-23T00:00:00",
          "2020-03-20T00:00:00",
          "2020-03-26T00:00:00",
          "2020-03-30T00:00:00",
          "2020-03-19T00:00:00",
          "2020-04-18T00:00:00",
          "2020-03-25T00:00:00",
          "2020-03-20T00:00:00",
          "2020-03-25T00:00:00",
          "2020-03-22T00:00:00",
          "2020-04-20T00:00:00"
         ],
         "y": [
          "2020-04-23T00:00:00",
          "2020-04-22T00:00:00",
          "2020-04-23T00:00:00",
          "2020-04-18T00:00:00",
          "2020-04-20T00:00:00",
          "2020-04-20T00:00:00",
          "2020-04-22T00:00:00",
          "2020-04-17T00:00:00",
          "2020-04-04T00:00:00",
          "2020-04-24T00:00:00",
          "2020-04-23T00:00:00",
          "2020-05-20T00:00:00",
          "2020-04-28T00:00:00",
          "2020-04-09T00:00:00",
          "2020-04-07T00:00:00",
          "2020-04-09T00:00:00",
          "2020-04-09T00:00:00",
          "2020-04-08T00:00:00",
          "2020-04-08T00:00:00",
          "2020-04-13T00:00:00",
          "2020-04-08T00:00:00",
          "2020-04-13T00:00:00",
          "2020-04-10T00:00:00",
          "2020-04-08T00:00:00",
          "2020-04-17T00:00:00",
          "2020-04-17T00:00:00",
          "2020-04-02T00:00:00",
          "2020-04-11T00:00:00",
          "2020-04-18T00:00:00",
          "2020-03-31T00:00:00",
          "2020-04-28T00:00:00",
          "2020-04-17T00:00:00",
          "2020-04-22T00:00:00",
          "2020-04-23T00:00:00",
          "2020-04-22T00:00:00",
          "2020-05-04T00:00:00",
          "2020-04-24T00:00:00",
          "2020-05-01T00:00:00",
          "2020-04-22T00:00:00",
          "2020-04-13T00:00:00",
          "2020-04-21T00:00:00",
          "2020-04-13T00:00:00",
          "2020-02-26T00:00:00",
          "2020-03-25T00:00:00",
          "2020-03-29T00:00:00",
          "2020-04-01T00:00:00",
          "2020-04-04T00:00:00",
          "2020-04-03T00:00:00",
          "2020-04-02T00:00:00",
          "2020-04-03T00:00:00",
          "2020-04-04T00:00:00",
          "2020-04-05T00:00:00",
          "2020-03-31T00:00:00",
          "2020-04-01T00:00:00",
          "2020-04-02T00:00:00",
          "2020-04-05T00:00:00",
          "2020-04-04T00:00:00",
          "2020-04-07T00:00:00",
          "2020-04-07T00:00:00",
          "2020-04-07T00:00:00",
          "2020-04-09T00:00:00",
          "2020-04-09T00:00:00",
          "2020-04-09T00:00:00",
          "2020-04-07T00:00:00",
          "2020-04-07T00:00:00",
          "2020-04-06T00:00:00",
          "2020-04-06T00:00:00",
          "2020-04-03T00:00:00",
          "2020-04-05T00:00:00",
          "2020-04-11T00:00:00",
          "2020-04-05T00:00:00",
          "2020-04-05T00:00:00",
          "2020-04-13T00:00:00",
          "2020-04-13T00:00:00",
          "2020-04-14T00:00:00",
          "2020-04-17T00:00:00",
          "2020-04-17T00:00:00",
          "2020-04-16T00:00:00",
          "2020-04-17T00:00:00",
          "2020-04-16T00:00:00",
          "2020-04-20T00:00:00",
          "2020-04-15T00:00:00",
          "2020-04-17T00:00:00",
          "2020-04-24T00:00:00",
          "2020-04-23T00:00:00",
          "2020-04-26T00:00:00",
          "2020-04-19T00:00:00",
          "2020-04-24T00:00:00",
          "2020-04-14T00:00:00",
          "2020-04-26T00:00:00",
          "2020-04-27T00:00:00",
          "2020-04-25T00:00:00",
          "2020-04-27T00:00:00",
          "2020-04-24T00:00:00",
          "2020-04-26T00:00:00",
          "2020-04-25T00:00:00",
          "2020-04-23T00:00:00",
          "2020-04-27T00:00:00",
          "2020-04-28T00:00:00",
          "2020-04-27T00:00:00",
          "2020-04-30T00:00:00",
          "2020-04-25T00:00:00",
          "2020-04-30T00:00:00",
          "2020-04-29T00:00:00",
          "2020-05-03T00:00:00",
          "2020-05-02T00:00:00",
          "2020-05-02T00:00:00",
          "2020-05-03T00:00:00",
          "2020-05-01T00:00:00",
          "2020-04-28T00:00:00",
          "2020-05-03T00:00:00",
          "2020-05-04T00:00:00",
          "2020-05-04T00:00:00",
          "2020-05-03T00:00:00",
          "2020-04-27T00:00:00",
          "2020-05-06T00:00:00",
          "2020-05-05T00:00:00",
          "2020-05-04T00:00:00",
          "2020-05-05T00:00:00",
          "2020-05-05T00:00:00",
          "2020-05-07T00:00:00",
          "2020-05-08T00:00:00",
          "2020-05-11T00:00:00",
          "2020-05-06T00:00:00",
          "2020-05-10T00:00:00",
          "2020-05-04T00:00:00",
          "2020-05-12T00:00:00",
          "2020-05-09T00:00:00",
          "2020-05-14T00:00:00",
          "2020-05-14T00:00:00",
          "2020-05-13T00:00:00",
          "2020-05-14T00:00:00",
          "2020-05-10T00:00:00",
          "2020-01-26T00:00:00",
          "2020-05-15T00:00:00",
          "2020-04-27T00:00:00",
          "2020-05-14T00:00:00",
          "2020-05-14T00:00:00",
          "2020-05-14T00:00:00",
          "2020-05-09T00:00:00",
          "2020-05-29T00:00:00",
          "2020-05-01T00:00:00",
          "2020-06-09T00:00:00",
          "2020-04-19T00:00:00",
          "2020-06-05T00:00:00",
          "2020-04-19T00:00:00",
          "2020-04-18T00:00:00",
          "2020-04-18T00:00:00",
          "2020-04-20T00:00:00",
          "2020-04-20T00:00:00",
          "2020-04-20T00:00:00",
          "2020-04-21T00:00:00",
          "2020-04-21T00:00:00",
          "2020-04-22T00:00:00",
          "2020-04-21T00:00:00",
          "2020-04-23T00:00:00",
          "2020-04-24T00:00:00",
          "2020-04-23T00:00:00",
          "2020-04-22T00:00:00",
          "2020-04-25T00:00:00",
          "2020-04-26T00:00:00",
          "2020-04-28T00:00:00",
          "2020-05-02T00:00:00",
          "2020-04-27T00:00:00",
          "2020-04-24T00:00:00",
          "2020-04-21T00:00:00",
          "2020-04-22T00:00:00",
          "2020-04-20T00:00:00",
          "2020-04-17T00:00:00",
          "2020-04-23T00:00:00",
          "2020-04-27T00:00:00",
          "2020-04-16T00:00:00",
          "2020-05-16T00:00:00",
          "2020-04-22T00:00:00",
          "2020-04-17T00:00:00",
          "2020-04-22T00:00:00",
          "2020-04-19T00:00:00",
          "2020-05-18T00:00:00"
         ]
        }
       ],
       "layout": {
        "autosize": false,
        "height": 600,
        "legend": {
         "title": {
          "text": "days from ICU admission to death"
         },
         "tracegroupgap": 0
        },
        "plot_bgcolor": "rgb(242,242,242)",
        "template": {
         "data": {
          "bar": [
           {
            "error_x": {
             "color": "#2a3f5f"
            },
            "error_y": {
             "color": "#2a3f5f"
            },
            "marker": {
             "line": {
              "color": "#E5ECF6",
              "width": 0.5
             }
            },
            "type": "bar"
           }
          ],
          "barpolar": [
           {
            "marker": {
             "line": {
              "color": "#E5ECF6",
              "width": 0.5
             }
            },
            "type": "barpolar"
           }
          ],
          "carpet": [
           {
            "aaxis": {
             "endlinecolor": "#2a3f5f",
             "gridcolor": "white",
             "linecolor": "white",
             "minorgridcolor": "white",
             "startlinecolor": "#2a3f5f"
            },
            "baxis": {
             "endlinecolor": "#2a3f5f",
             "gridcolor": "white",
             "linecolor": "white",
             "minorgridcolor": "white",
             "startlinecolor": "#2a3f5f"
            },
            "type": "carpet"
           }
          ],
          "choropleth": [
           {
            "colorbar": {
             "outlinewidth": 0,
             "ticks": ""
            },
            "type": "choropleth"
           }
          ],
          "contour": [
           {
            "colorbar": {
             "outlinewidth": 0,
             "ticks": ""
            },
            "colorscale": [
             [
              0,
              "#0d0887"
             ],
             [
              0.1111111111111111,
              "#46039f"
             ],
             [
              0.2222222222222222,
              "#7201a8"
             ],
             [
              0.3333333333333333,
              "#9c179e"
             ],
             [
              0.4444444444444444,
              "#bd3786"
             ],
             [
              0.5555555555555556,
              "#d8576b"
             ],
             [
              0.6666666666666666,
              "#ed7953"
             ],
             [
              0.7777777777777778,
              "#fb9f3a"
             ],
             [
              0.8888888888888888,
              "#fdca26"
             ],
             [
              1,
              "#f0f921"
             ]
            ],
            "type": "contour"
           }
          ],
          "contourcarpet": [
           {
            "colorbar": {
             "outlinewidth": 0,
             "ticks": ""
            },
            "type": "contourcarpet"
           }
          ],
          "heatmap": [
           {
            "colorbar": {
             "outlinewidth": 0,
             "ticks": ""
            },
            "colorscale": [
             [
              0,
              "#0d0887"
             ],
             [
              0.1111111111111111,
              "#46039f"
             ],
             [
              0.2222222222222222,
              "#7201a8"
             ],
             [
              0.3333333333333333,
              "#9c179e"
             ],
             [
              0.4444444444444444,
              "#bd3786"
             ],
             [
              0.5555555555555556,
              "#d8576b"
             ],
             [
              0.6666666666666666,
              "#ed7953"
             ],
             [
              0.7777777777777778,
              "#fb9f3a"
             ],
             [
              0.8888888888888888,
              "#fdca26"
             ],
             [
              1,
              "#f0f921"
             ]
            ],
            "type": "heatmap"
           }
          ],
          "heatmapgl": [
           {
            "colorbar": {
             "outlinewidth": 0,
             "ticks": ""
            },
            "colorscale": [
             [
              0,
              "#0d0887"
             ],
             [
              0.1111111111111111,
              "#46039f"
             ],
             [
              0.2222222222222222,
              "#7201a8"
             ],
             [
              0.3333333333333333,
              "#9c179e"
             ],
             [
              0.4444444444444444,
              "#bd3786"
             ],
             [
              0.5555555555555556,
              "#d8576b"
             ],
             [
              0.6666666666666666,
              "#ed7953"
             ],
             [
              0.7777777777777778,
              "#fb9f3a"
             ],
             [
              0.8888888888888888,
              "#fdca26"
             ],
             [
              1,
              "#f0f921"
             ]
            ],
            "type": "heatmapgl"
           }
          ],
          "histogram": [
           {
            "marker": {
             "colorbar": {
              "outlinewidth": 0,
              "ticks": ""
             }
            },
            "type": "histogram"
           }
          ],
          "histogram2d": [
           {
            "colorbar": {
             "outlinewidth": 0,
             "ticks": ""
            },
            "colorscale": [
             [
              0,
              "#0d0887"
             ],
             [
              0.1111111111111111,
              "#46039f"
             ],
             [
              0.2222222222222222,
              "#7201a8"
             ],
             [
              0.3333333333333333,
              "#9c179e"
             ],
             [
              0.4444444444444444,
              "#bd3786"
             ],
             [
              0.5555555555555556,
              "#d8576b"
             ],
             [
              0.6666666666666666,
              "#ed7953"
             ],
             [
              0.7777777777777778,
              "#fb9f3a"
             ],
             [
              0.8888888888888888,
              "#fdca26"
             ],
             [
              1,
              "#f0f921"
             ]
            ],
            "type": "histogram2d"
           }
          ],
          "histogram2dcontour": [
           {
            "colorbar": {
             "outlinewidth": 0,
             "ticks": ""
            },
            "colorscale": [
             [
              0,
              "#0d0887"
             ],
             [
              0.1111111111111111,
              "#46039f"
             ],
             [
              0.2222222222222222,
              "#7201a8"
             ],
             [
              0.3333333333333333,
              "#9c179e"
             ],
             [
              0.4444444444444444,
              "#bd3786"
             ],
             [
              0.5555555555555556,
              "#d8576b"
             ],
             [
              0.6666666666666666,
              "#ed7953"
             ],
             [
              0.7777777777777778,
              "#fb9f3a"
             ],
             [
              0.8888888888888888,
              "#fdca26"
             ],
             [
              1,
              "#f0f921"
             ]
            ],
            "type": "histogram2dcontour"
           }
          ],
          "mesh3d": [
           {
            "colorbar": {
             "outlinewidth": 0,
             "ticks": ""
            },
            "type": "mesh3d"
           }
          ],
          "parcoords": [
           {
            "line": {
             "colorbar": {
              "outlinewidth": 0,
              "ticks": ""
             }
            },
            "type": "parcoords"
           }
          ],
          "pie": [
           {
            "automargin": true,
            "type": "pie"
           }
          ],
          "scatter": [
           {
            "marker": {
             "colorbar": {
              "outlinewidth": 0,
              "ticks": ""
             }
            },
            "type": "scatter"
           }
          ],
          "scatter3d": [
           {
            "line": {
             "colorbar": {
              "outlinewidth": 0,
              "ticks": ""
             }
            },
            "marker": {
             "colorbar": {
              "outlinewidth": 0,
              "ticks": ""
             }
            },
            "type": "scatter3d"
           }
          ],
          "scattercarpet": [
           {
            "marker": {
             "colorbar": {
              "outlinewidth": 0,
              "ticks": ""
             }
            },
            "type": "scattercarpet"
           }
          ],
          "scattergeo": [
           {
            "marker": {
             "colorbar": {
              "outlinewidth": 0,
              "ticks": ""
             }
            },
            "type": "scattergeo"
           }
          ],
          "scattergl": [
           {
            "marker": {
             "colorbar": {
              "outlinewidth": 0,
              "ticks": ""
             }
            },
            "type": "scattergl"
           }
          ],
          "scattermapbox": [
           {
            "marker": {
             "colorbar": {
              "outlinewidth": 0,
              "ticks": ""
             }
            },
            "type": "scattermapbox"
           }
          ],
          "scatterpolar": [
           {
            "marker": {
             "colorbar": {
              "outlinewidth": 0,
              "ticks": ""
             }
            },
            "type": "scatterpolar"
           }
          ],
          "scatterpolargl": [
           {
            "marker": {
             "colorbar": {
              "outlinewidth": 0,
              "ticks": ""
             }
            },
            "type": "scatterpolargl"
           }
          ],
          "scatterternary": [
           {
            "marker": {
             "colorbar": {
              "outlinewidth": 0,
              "ticks": ""
             }
            },
            "type": "scatterternary"
           }
          ],
          "surface": [
           {
            "colorbar": {
             "outlinewidth": 0,
             "ticks": ""
            },
            "colorscale": [
             [
              0,
              "#0d0887"
             ],
             [
              0.1111111111111111,
              "#46039f"
             ],
             [
              0.2222222222222222,
              "#7201a8"
             ],
             [
              0.3333333333333333,
              "#9c179e"
             ],
             [
              0.4444444444444444,
              "#bd3786"
             ],
             [
              0.5555555555555556,
              "#d8576b"
             ],
             [
              0.6666666666666666,
              "#ed7953"
             ],
             [
              0.7777777777777778,
              "#fb9f3a"
             ],
             [
              0.8888888888888888,
              "#fdca26"
             ],
             [
              1,
              "#f0f921"
             ]
            ],
            "type": "surface"
           }
          ],
          "table": [
           {
            "cells": {
             "fill": {
              "color": "#EBF0F8"
             },
             "line": {
              "color": "white"
             }
            },
            "header": {
             "fill": {
              "color": "#C8D4E3"
             },
             "line": {
              "color": "white"
             }
            },
            "type": "table"
           }
          ]
         },
         "layout": {
          "annotationdefaults": {
           "arrowcolor": "#2a3f5f",
           "arrowhead": 0,
           "arrowwidth": 1
          },
          "autotypenumbers": "strict",
          "coloraxis": {
           "colorbar": {
            "outlinewidth": 0,
            "ticks": ""
           }
          },
          "colorscale": {
           "diverging": [
            [
             0,
             "#8e0152"
            ],
            [
             0.1,
             "#c51b7d"
            ],
            [
             0.2,
             "#de77ae"
            ],
            [
             0.3,
             "#f1b6da"
            ],
            [
             0.4,
             "#fde0ef"
            ],
            [
             0.5,
             "#f7f7f7"
            ],
            [
             0.6,
             "#e6f5d0"
            ],
            [
             0.7,
             "#b8e186"
            ],
            [
             0.8,
             "#7fbc41"
            ],
            [
             0.9,
             "#4d9221"
            ],
            [
             1,
             "#276419"
            ]
           ],
           "sequential": [
            [
             0,
             "#0d0887"
            ],
            [
             0.1111111111111111,
             "#46039f"
            ],
            [
             0.2222222222222222,
             "#7201a8"
            ],
            [
             0.3333333333333333,
             "#9c179e"
            ],
            [
             0.4444444444444444,
             "#bd3786"
            ],
            [
             0.5555555555555556,
             "#d8576b"
            ],
            [
             0.6666666666666666,
             "#ed7953"
            ],
            [
             0.7777777777777778,
             "#fb9f3a"
            ],
            [
             0.8888888888888888,
             "#fdca26"
            ],
            [
             1,
             "#f0f921"
            ]
           ],
           "sequentialminus": [
            [
             0,
             "#0d0887"
            ],
            [
             0.1111111111111111,
             "#46039f"
            ],
            [
             0.2222222222222222,
             "#7201a8"
            ],
            [
             0.3333333333333333,
             "#9c179e"
            ],
            [
             0.4444444444444444,
             "#bd3786"
            ],
            [
             0.5555555555555556,
             "#d8576b"
            ],
            [
             0.6666666666666666,
             "#ed7953"
            ],
            [
             0.7777777777777778,
             "#fb9f3a"
            ],
            [
             0.8888888888888888,
             "#fdca26"
            ],
            [
             1,
             "#f0f921"
            ]
           ]
          },
          "colorway": [
           "#636efa",
           "#EF553B",
           "#00cc96",
           "#ab63fa",
           "#FFA15A",
           "#19d3f3",
           "#FF6692",
           "#B6E880",
           "#FF97FF",
           "#FECB52"
          ],
          "font": {
           "color": "#2a3f5f"
          },
          "geo": {
           "bgcolor": "white",
           "lakecolor": "white",
           "landcolor": "#E5ECF6",
           "showlakes": true,
           "showland": true,
           "subunitcolor": "white"
          },
          "hoverlabel": {
           "align": "left"
          },
          "hovermode": "closest",
          "mapbox": {
           "style": "light"
          },
          "paper_bgcolor": "white",
          "plot_bgcolor": "#E5ECF6",
          "polar": {
           "angularaxis": {
            "gridcolor": "white",
            "linecolor": "white",
            "ticks": ""
           },
           "bgcolor": "#E5ECF6",
           "radialaxis": {
            "gridcolor": "white",
            "linecolor": "white",
            "ticks": ""
           }
          },
          "scene": {
           "xaxis": {
            "backgroundcolor": "#E5ECF6",
            "gridcolor": "white",
            "gridwidth": 2,
            "linecolor": "white",
            "showbackground": true,
            "ticks": "",
            "zerolinecolor": "white"
           },
           "yaxis": {
            "backgroundcolor": "#E5ECF6",
            "gridcolor": "white",
            "gridwidth": 2,
            "linecolor": "white",
            "showbackground": true,
            "ticks": "",
            "zerolinecolor": "white"
           },
           "zaxis": {
            "backgroundcolor": "#E5ECF6",
            "gridcolor": "white",
            "gridwidth": 2,
            "linecolor": "white",
            "showbackground": true,
            "ticks": "",
            "zerolinecolor": "white"
           }
          },
          "shapedefaults": {
           "line": {
            "color": "#2a3f5f"
           }
          },
          "ternary": {
           "aaxis": {
            "gridcolor": "white",
            "linecolor": "white",
            "ticks": ""
           },
           "baxis": {
            "gridcolor": "white",
            "linecolor": "white",
            "ticks": ""
           },
           "bgcolor": "#E5ECF6",
           "caxis": {
            "gridcolor": "white",
            "linecolor": "white",
            "ticks": ""
           }
          },
          "title": {
           "x": 0.05
          },
          "xaxis": {
           "automargin": true,
           "gridcolor": "white",
           "linecolor": "white",
           "ticks": "",
           "title": {
            "standoff": 15
           },
           "zerolinecolor": "white",
           "zerolinewidth": 2
          },
          "yaxis": {
           "automargin": true,
           "gridcolor": "white",
           "linecolor": "white",
           "ticks": "",
           "title": {
            "standoff": 15
           },
           "zerolinecolor": "white",
           "zerolinewidth": 2
          }
         }
        },
        "title": {
         "text": "Number of days between admission to the hospital and death"
        },
        "width": 800,
        "xaxis": {
         "anchor": "y",
         "domain": [
          0,
          1
         ],
         "title": {
          "text": "date of hospital admission"
         }
        },
        "yaxis": {
         "anchor": "x",
         "domain": [
          0,
          1
         ],
         "title": {
          "text": "date of death"
         }
        }
       }
      },
      "text/html": [
       "<div>                            <div id=\"da87064c-19c8-4c99-9d01-630d2ae6f6bd\" class=\"plotly-graph-div\" style=\"height:600px; width:800px;\"></div>            <script type=\"text/javascript\">                require([\"plotly\"], function(Plotly) {                    window.PLOTLYENV=window.PLOTLYENV || {};                                    if (document.getElementById(\"da87064c-19c8-4c99-9d01-630d2ae6f6bd\")) {                    Plotly.newPlot(                        \"da87064c-19c8-4c99-9d01-630d2ae6f6bd\",                        [{\"hovertemplate\": \"days from ICU admission to death=0-7<br>date of hospital admission=%{x}<br>date of death=%{y}<extra></extra>\", \"legendgroup\": \"0-7\", \"marker\": {\"color\": \"#636efa\", \"symbol\": \"circle\"}, \"mode\": \"markers\", \"name\": \"0-7\", \"orientation\": \"v\", \"showlegend\": true, \"type\": \"scatter\", \"x\": [\"2020-03-26T00:00:00\", \"2020-03-23T00:00:00\", \"2020-03-25T00:00:00\", \"2020-03-27T00:00:00\", \"2020-03-26T00:00:00\", \"2020-04-22T00:00:00\", \"2020-03-12T00:00:00\", \"2020-03-12T00:00:00\", \"2020-03-11T00:00:00\", \"2020-03-11T00:00:00\", \"2020-03-16T00:00:00\", \"2020-03-13T00:00:00\", \"2020-03-05T00:00:00\", \"2020-03-21T00:00:00\", \"2020-03-03T00:00:00\", \"2020-03-31T00:00:00\", \"2020-03-20T00:00:00\", \"2020-03-25T00:00:00\", \"2020-04-06T00:00:00\", \"2020-03-24T00:00:00\", \"2020-03-16T00:00:00\", \"2020-01-29T00:00:00\", \"2020-02-26T00:00:00\", \"2020-03-01T00:00:00\", \"2020-03-07T00:00:00\", \"2020-03-06T00:00:00\", \"2020-03-05T00:00:00\", \"2020-03-06T00:00:00\", \"2020-03-07T00:00:00\", \"2020-03-08T00:00:00\", \"2020-03-03T00:00:00\", \"2020-03-04T00:00:00\", \"2020-03-08T00:00:00\", \"2020-03-07T00:00:00\", \"2020-03-10T00:00:00\", \"2020-03-10T00:00:00\", \"2020-03-10T00:00:00\", \"2020-03-12T00:00:00\", \"2020-03-12T00:00:00\", \"2020-03-06T00:00:00\", \"2020-03-08T00:00:00\", \"2020-03-16T00:00:00\", \"2020-03-17T00:00:00\", \"2020-03-20T00:00:00\", \"2020-03-20T00:00:00\", \"2020-03-19T00:00:00\", \"2020-03-20T00:00:00\", \"2020-03-23T00:00:00\", \"2020-03-18T00:00:00\", \"2020-03-20T00:00:00\", \"2020-03-27T00:00:00\", \"2020-03-26T00:00:00\", \"2020-03-29T00:00:00\", \"2020-03-22T00:00:00\", \"2020-03-27T00:00:00\", \"2020-03-30T00:00:00\", \"2020-03-28T00:00:00\", \"2020-03-30T00:00:00\", \"2020-03-27T00:00:00\", \"2020-03-29T00:00:00\", \"2020-03-28T00:00:00\", \"2020-03-26T00:00:00\", \"2020-03-30T00:00:00\", \"2020-03-30T00:00:00\", \"2020-04-02T00:00:00\", \"2020-04-05T00:00:00\", \"2020-04-04T00:00:00\", \"2020-04-05T00:00:00\", \"2020-04-06T00:00:00\", \"2020-04-05T00:00:00\", \"2020-04-08T00:00:00\", \"2020-04-07T00:00:00\", \"2020-04-07T00:00:00\", \"2020-04-07T00:00:00\", \"2020-04-09T00:00:00\", \"2020-04-10T00:00:00\", \"2020-04-13T00:00:00\", \"2020-04-12T00:00:00\", \"2020-04-06T00:00:00\", \"2020-04-14T00:00:00\", \"2020-04-11T00:00:00\", \"2020-04-16T00:00:00\", \"2020-04-15T00:00:00\", \"2020-04-16T00:00:00\", \"2020-04-12T00:00:00\", \"2019-12-29T00:00:00\", \"2020-04-17T00:00:00\", \"2020-03-30T00:00:00\", \"2020-04-16T00:00:00\", \"2020-04-16T00:00:00\", \"2020-04-16T00:00:00\", \"2020-04-11T00:00:00\", \"2020-05-08T00:00:00\", \"2020-03-22T00:00:00\", \"2020-03-21T00:00:00\", \"2020-03-21T00:00:00\", \"2020-03-23T00:00:00\", \"2020-03-23T00:00:00\", \"2020-03-24T00:00:00\", \"2020-03-24T00:00:00\", \"2020-03-25T00:00:00\", \"2020-03-24T00:00:00\", \"2020-03-26T00:00:00\", \"2020-03-25T00:00:00\", \"2020-03-28T00:00:00\", \"2020-03-29T00:00:00\", \"2020-04-04T00:00:00\", \"2020-03-27T00:00:00\", \"2020-03-24T00:00:00\", \"2020-03-25T00:00:00\", \"2020-03-26T00:00:00\", \"2020-04-18T00:00:00\", \"2020-03-25T00:00:00\", \"2020-03-20T00:00:00\", \"2020-03-25T00:00:00\", \"2020-03-22T00:00:00\", \"2020-04-20T00:00:00\"], \"xaxis\": \"x\", \"y\": [null, null, null, null, null, null, null, null, null, null, null, \"2020-03-24T00:00:00\", null, null, null, \"2020-04-07T00:00:00\", null, \"2020-04-05T00:00:00\", \"2020-04-22T00:00:00\", null, null, \"2020-02-14T00:00:00\", null, \"2020-03-24T00:00:00\", \"2020-03-19T00:00:00\", null, \"2020-03-29T00:00:00\", \"2020-04-01T00:00:00\", null, null, null, null, null, \"2020-03-30T00:00:00\", \"2020-04-02T00:00:00\", \"2020-03-16T00:00:00\", null, null, null, \"2020-03-26T00:00:00\", null, \"2020-03-21T00:00:00\", \"2020-04-27T00:00:00\", null, null, null, \"2020-05-08T00:00:00\", null, null, null, \"2020-04-02T00:00:00\", null, null, \"2020-04-09T00:00:00\", \"2020-04-03T00:00:00\", \"2020-04-04T00:00:00\", \"2020-04-09T00:00:00\", \"2020-04-12T00:00:00\", null, null, \"2020-04-06T00:00:00\", null, null, null, null, null, null, null, null, null, \"2020-04-26T00:00:00\", null, \"2020-04-23T00:00:00\", \"2020-04-23T00:00:00\", \"2020-04-25T00:00:00\", null, \"2020-04-21T00:00:00\", \"2020-04-28T00:00:00\", \"2020-05-20T00:00:00\", null, \"2020-04-20T00:00:00\", \"2020-05-15T00:00:00\", null, \"2020-05-17T00:00:00\", null, null, \"2020-05-09T00:00:00\", null, null, null, null, null, \"2020-05-27T00:00:00\", null, \"2020-03-27T00:00:00\", \"2020-04-06T00:00:00\", \"2020-04-07T00:00:00\", null, null, \"2020-03-31T00:00:00\", null, null, \"2020-04-12T00:00:00\", null, \"2020-04-22T00:00:00\", null, null, null, null, null, \"2020-04-14T00:00:00\", null, null, null, null, null, \"2020-05-08T00:00:00\"], \"yaxis\": \"y\"}, {\"hovertemplate\": \"days from ICU admission to death=7-28<br>date of hospital admission=%{x}<br>date of death=%{y}<extra></extra>\", \"legendgroup\": \"7-28\", \"marker\": {\"color\": \"#EF553B\", \"symbol\": \"circle\"}, \"mode\": \"markers\", \"name\": \"7-28\", \"orientation\": \"v\", \"showlegend\": true, \"type\": \"scatter\", \"x\": [\"2020-03-26T00:00:00\", \"2020-03-21T00:00:00\", \"2020-03-23T00:00:00\", \"2020-03-07T00:00:00\", \"2020-03-31T00:00:00\", \"2020-03-10T00:00:00\", \"2020-03-12T00:00:00\", \"2020-03-11T00:00:00\", \"2020-03-11T00:00:00\", \"2020-03-20T00:00:00\", \"2020-03-25T00:00:00\", \"2020-03-27T00:00:00\", \"2020-03-25T00:00:00\", \"2020-03-16T00:00:00\", \"2020-03-05T00:00:00\", \"2020-03-10T00:00:00\", \"2020-03-09T00:00:00\", \"2020-03-09T00:00:00\", \"2020-03-14T00:00:00\", \"2020-03-08T00:00:00\", \"2020-03-16T00:00:00\", \"2020-03-19T00:00:00\", \"2020-03-31T00:00:00\", \"2020-03-28T00:00:00\", \"2020-04-02T00:00:00\", \"2020-04-01T00:00:00\", \"2020-04-03T00:00:00\", \"2020-04-05T00:00:00\", \"2020-04-06T00:00:00\", \"2020-03-30T00:00:00\", \"2020-04-08T00:00:00\", \"2020-04-16T00:00:00\", \"2020-04-03T00:00:00\", \"2020-03-26T00:00:00\", \"2020-03-27T00:00:00\", \"2020-03-31T00:00:00\", \"2020-03-30T00:00:00\", \"2020-03-23T00:00:00\", \"2020-03-20T00:00:00\", \"2020-03-30T00:00:00\", \"2020-03-19T00:00:00\"], \"xaxis\": \"x\", \"y\": [null, null, null, null, null, \"2020-03-12T00:00:00\", \"2020-03-17T00:00:00\", null, \"2020-03-25T00:00:00\", null, null, null, null, \"2020-03-27T00:00:00\", \"2020-03-26T00:00:00\", null, \"2020-04-04T00:00:00\", \"2020-03-16T00:00:00\", null, null, null, \"2020-04-06T00:00:00\", null, \"2020-04-12T00:00:00\", null, \"2020-05-16T00:00:00\", null, null, null, null, null, null, null, null, \"2020-04-13T00:00:00\", null, null, null, null, \"2020-04-07T00:00:00\", null], \"yaxis\": \"y\"}, {\"hovertemplate\": \"days from ICU admission to death=>28<br>date of hospital admission=%{x}<br>date of death=%{y}<extra></extra>\", \"legendgroup\": \">28\", \"marker\": {\"color\": \"#00cc96\", \"symbol\": \"circle\"}, \"mode\": \"markers\", \"name\": \">28\", \"orientation\": \"v\", \"showlegend\": true, \"type\": \"scatter\", \"x\": [\"2020-03-25T00:00:00\", \"2020-03-20T00:00:00\", \"2020-03-16T00:00:00\", \"2020-03-20T00:00:00\", \"2020-03-14T00:00:00\", \"2020-03-26T00:00:00\", \"2020-04-03T00:00:00\", \"2020-03-04T00:00:00\", \"2020-03-12T00:00:00\", \"2020-03-10T00:00:00\", \"2020-03-08T00:00:00\", \"2020-03-17T00:00:00\", \"2020-03-29T00:00:00\", \"2020-04-04T00:00:00\", \"2020-03-31T00:00:00\", \"2020-04-06T00:00:00\", \"2020-05-01T00:00:00\", \"2020-05-12T00:00:00\", \"2020-03-22T00:00:00\", \"2020-03-23T00:00:00\"], \"xaxis\": \"x\", \"y\": [\"2020-04-01T00:00:00\", null, null, \"2020-03-25T00:00:00\", null, \"2020-04-10T00:00:00\", null, null, null, \"2020-03-17T00:00:00\", \"2020-03-20T00:00:00\", \"2020-04-13T00:00:00\", null, null, null, null, null, null, null, \"2020-04-25T00:00:00\"], \"yaxis\": \"y\"}, {\"line\": {\"color\": \"gray\", \"dash\": \"dot\"}, \"mode\": \"lines\", \"name\": \"day after 7 days\", \"showlegend\": true, \"type\": \"scatter\", \"x\": [\"2020-03-26T00:00:00\", \"2020-03-25T00:00:00\", \"2020-03-26T00:00:00\", \"2020-03-21T00:00:00\", \"2020-03-23T00:00:00\", \"2020-03-23T00:00:00\", \"2020-03-25T00:00:00\", \"2020-03-20T00:00:00\", \"2020-03-07T00:00:00\", \"2020-03-27T00:00:00\", \"2020-03-26T00:00:00\", \"2020-04-22T00:00:00\", \"2020-03-31T00:00:00\", \"2020-03-12T00:00:00\", \"2020-03-10T00:00:00\", \"2020-03-12T00:00:00\", \"2020-03-12T00:00:00\", \"2020-03-11T00:00:00\", \"2020-03-11T00:00:00\", \"2020-03-16T00:00:00\", \"2020-03-11T00:00:00\", \"2020-03-16T00:00:00\", \"2020-03-13T00:00:00\", \"2020-03-11T00:00:00\", \"2020-03-20T00:00:00\", \"2020-03-20T00:00:00\", \"2020-03-05T00:00:00\", \"2020-03-14T00:00:00\", \"2020-03-21T00:00:00\", \"2020-03-03T00:00:00\", \"2020-03-31T00:00:00\", \"2020-03-20T00:00:00\", \"2020-03-25T00:00:00\", \"2020-03-26T00:00:00\", \"2020-03-25T00:00:00\", \"2020-04-06T00:00:00\", \"2020-03-27T00:00:00\", \"2020-04-03T00:00:00\", \"2020-03-25T00:00:00\", \"2020-03-16T00:00:00\", \"2020-03-24T00:00:00\", \"2020-03-16T00:00:00\", \"2020-01-29T00:00:00\", \"2020-02-26T00:00:00\", \"2020-03-01T00:00:00\", \"2020-03-04T00:00:00\", \"2020-03-07T00:00:00\", \"2020-03-06T00:00:00\", \"2020-03-05T00:00:00\", \"2020-03-06T00:00:00\", \"2020-03-07T00:00:00\", \"2020-03-08T00:00:00\", \"2020-03-03T00:00:00\", \"2020-03-04T00:00:00\", \"2020-03-05T00:00:00\", \"2020-03-08T00:00:00\", \"2020-03-07T00:00:00\", \"2020-03-10T00:00:00\", \"2020-03-10T00:00:00\", \"2020-03-10T00:00:00\", \"2020-03-12T00:00:00\", \"2020-03-12T00:00:00\", \"2020-03-12T00:00:00\", \"2020-03-10T00:00:00\", \"2020-03-10T00:00:00\", \"2020-03-09T00:00:00\", \"2020-03-09T00:00:00\", \"2020-03-06T00:00:00\", \"2020-03-08T00:00:00\", \"2020-03-14T00:00:00\", \"2020-03-08T00:00:00\", \"2020-03-08T00:00:00\", \"2020-03-16T00:00:00\", \"2020-03-16T00:00:00\", \"2020-03-17T00:00:00\", \"2020-03-20T00:00:00\", \"2020-03-20T00:00:00\", \"2020-03-19T00:00:00\", \"2020-03-20T00:00:00\", \"2020-03-19T00:00:00\", \"2020-03-23T00:00:00\", \"2020-03-18T00:00:00\", \"2020-03-20T00:00:00\", \"2020-03-27T00:00:00\", \"2020-03-26T00:00:00\", \"2020-03-29T00:00:00\", \"2020-03-22T00:00:00\", \"2020-03-27T00:00:00\", \"2020-03-17T00:00:00\", \"2020-03-29T00:00:00\", \"2020-03-30T00:00:00\", \"2020-03-28T00:00:00\", \"2020-03-30T00:00:00\", \"2020-03-27T00:00:00\", \"2020-03-29T00:00:00\", \"2020-03-28T00:00:00\", \"2020-03-26T00:00:00\", \"2020-03-30T00:00:00\", \"2020-03-31T00:00:00\", \"2020-03-30T00:00:00\", \"2020-04-02T00:00:00\", \"2020-03-28T00:00:00\", \"2020-04-02T00:00:00\", \"2020-04-01T00:00:00\", \"2020-04-05T00:00:00\", \"2020-04-04T00:00:00\", \"2020-04-04T00:00:00\", \"2020-04-05T00:00:00\", \"2020-04-03T00:00:00\", \"2020-03-31T00:00:00\", \"2020-04-05T00:00:00\", \"2020-04-06T00:00:00\", \"2020-04-06T00:00:00\", \"2020-04-05T00:00:00\", \"2020-03-30T00:00:00\", \"2020-04-08T00:00:00\", \"2020-04-07T00:00:00\", \"2020-04-06T00:00:00\", \"2020-04-07T00:00:00\", \"2020-04-07T00:00:00\", \"2020-04-09T00:00:00\", \"2020-04-10T00:00:00\", \"2020-04-13T00:00:00\", \"2020-04-08T00:00:00\", \"2020-04-12T00:00:00\", \"2020-04-06T00:00:00\", \"2020-04-14T00:00:00\", \"2020-04-11T00:00:00\", \"2020-04-16T00:00:00\", \"2020-04-16T00:00:00\", \"2020-04-15T00:00:00\", \"2020-04-16T00:00:00\", \"2020-04-12T00:00:00\", \"2019-12-29T00:00:00\", \"2020-04-17T00:00:00\", \"2020-03-30T00:00:00\", \"2020-04-16T00:00:00\", \"2020-04-16T00:00:00\", \"2020-04-16T00:00:00\", \"2020-04-11T00:00:00\", \"2020-05-01T00:00:00\", \"2020-04-03T00:00:00\", \"2020-05-12T00:00:00\", \"2020-03-22T00:00:00\", \"2020-05-08T00:00:00\", \"2020-03-22T00:00:00\", \"2020-03-21T00:00:00\", \"2020-03-21T00:00:00\", \"2020-03-23T00:00:00\", \"2020-03-23T00:00:00\", \"2020-03-23T00:00:00\", \"2020-03-24T00:00:00\", \"2020-03-24T00:00:00\", \"2020-03-25T00:00:00\", \"2020-03-24T00:00:00\", \"2020-03-26T00:00:00\", \"2020-03-27T00:00:00\", \"2020-03-26T00:00:00\", \"2020-03-25T00:00:00\", \"2020-03-28T00:00:00\", \"2020-03-29T00:00:00\", \"2020-03-31T00:00:00\", \"2020-04-04T00:00:00\", \"2020-03-30T00:00:00\", \"2020-03-27T00:00:00\", \"2020-03-24T00:00:00\", \"2020-03-25T00:00:00\", \"2020-03-23T00:00:00\", \"2020-03-20T00:00:00\", \"2020-03-26T00:00:00\", \"2020-03-30T00:00:00\", \"2020-03-19T00:00:00\", \"2020-04-18T00:00:00\", \"2020-03-25T00:00:00\", \"2020-03-20T00:00:00\", \"2020-03-25T00:00:00\", \"2020-03-22T00:00:00\", \"2020-04-20T00:00:00\"], \"y\": [\"2020-04-02T00:00:00\", \"2020-04-01T00:00:00\", \"2020-04-02T00:00:00\", \"2020-03-28T00:00:00\", \"2020-03-30T00:00:00\", \"2020-03-30T00:00:00\", \"2020-04-01T00:00:00\", \"2020-03-27T00:00:00\", \"2020-03-14T00:00:00\", \"2020-04-03T00:00:00\", \"2020-04-02T00:00:00\", \"2020-04-29T00:00:00\", \"2020-04-07T00:00:00\", \"2020-03-19T00:00:00\", \"2020-03-17T00:00:00\", \"2020-03-19T00:00:00\", \"2020-03-19T00:00:00\", \"2020-03-18T00:00:00\", \"2020-03-18T00:00:00\", \"2020-03-23T00:00:00\", \"2020-03-18T00:00:00\", \"2020-03-23T00:00:00\", \"2020-03-20T00:00:00\", \"2020-03-18T00:00:00\", \"2020-03-27T00:00:00\", \"2020-03-27T00:00:00\", \"2020-03-12T00:00:00\", \"2020-03-21T00:00:00\", \"2020-03-28T00:00:00\", \"2020-03-10T00:00:00\", \"2020-04-07T00:00:00\", \"2020-03-27T00:00:00\", \"2020-04-01T00:00:00\", \"2020-04-02T00:00:00\", \"2020-04-01T00:00:00\", \"2020-04-13T00:00:00\", \"2020-04-03T00:00:00\", \"2020-04-10T00:00:00\", \"2020-04-01T00:00:00\", \"2020-03-23T00:00:00\", \"2020-03-31T00:00:00\", \"2020-03-23T00:00:00\", \"2020-02-05T00:00:00\", \"2020-03-04T00:00:00\", \"2020-03-08T00:00:00\", \"2020-03-11T00:00:00\", \"2020-03-14T00:00:00\", \"2020-03-13T00:00:00\", \"2020-03-12T00:00:00\", \"2020-03-13T00:00:00\", \"2020-03-14T00:00:00\", \"2020-03-15T00:00:00\", \"2020-03-10T00:00:00\", \"2020-03-11T00:00:00\", \"2020-03-12T00:00:00\", \"2020-03-15T00:00:00\", \"2020-03-14T00:00:00\", \"2020-03-17T00:00:00\", \"2020-03-17T00:00:00\", \"2020-03-17T00:00:00\", \"2020-03-19T00:00:00\", \"2020-03-19T00:00:00\", \"2020-03-19T00:00:00\", \"2020-03-17T00:00:00\", \"2020-03-17T00:00:00\", \"2020-03-16T00:00:00\", \"2020-03-16T00:00:00\", \"2020-03-13T00:00:00\", \"2020-03-15T00:00:00\", \"2020-03-21T00:00:00\", \"2020-03-15T00:00:00\", \"2020-03-15T00:00:00\", \"2020-03-23T00:00:00\", \"2020-03-23T00:00:00\", \"2020-03-24T00:00:00\", \"2020-03-27T00:00:00\", \"2020-03-27T00:00:00\", \"2020-03-26T00:00:00\", \"2020-03-27T00:00:00\", \"2020-03-26T00:00:00\", \"2020-03-30T00:00:00\", \"2020-03-25T00:00:00\", \"2020-03-27T00:00:00\", \"2020-04-03T00:00:00\", \"2020-04-02T00:00:00\", \"2020-04-05T00:00:00\", \"2020-03-29T00:00:00\", \"2020-04-03T00:00:00\", \"2020-03-24T00:00:00\", \"2020-04-05T00:00:00\", \"2020-04-06T00:00:00\", \"2020-04-04T00:00:00\", \"2020-04-06T00:00:00\", \"2020-04-03T00:00:00\", \"2020-04-05T00:00:00\", \"2020-04-04T00:00:00\", \"2020-04-02T00:00:00\", \"2020-04-06T00:00:00\", \"2020-04-07T00:00:00\", \"2020-04-06T00:00:00\", \"2020-04-09T00:00:00\", \"2020-04-04T00:00:00\", \"2020-04-09T00:00:00\", \"2020-04-08T00:00:00\", \"2020-04-12T00:00:00\", \"2020-04-11T00:00:00\", \"2020-04-11T00:00:00\", \"2020-04-12T00:00:00\", \"2020-04-10T00:00:00\", \"2020-04-07T00:00:00\", \"2020-04-12T00:00:00\", \"2020-04-13T00:00:00\", \"2020-04-13T00:00:00\", \"2020-04-12T00:00:00\", \"2020-04-06T00:00:00\", \"2020-04-15T00:00:00\", \"2020-04-14T00:00:00\", \"2020-04-13T00:00:00\", \"2020-04-14T00:00:00\", \"2020-04-14T00:00:00\", \"2020-04-16T00:00:00\", \"2020-04-17T00:00:00\", \"2020-04-20T00:00:00\", \"2020-04-15T00:00:00\", \"2020-04-19T00:00:00\", \"2020-04-13T00:00:00\", \"2020-04-21T00:00:00\", \"2020-04-18T00:00:00\", \"2020-04-23T00:00:00\", \"2020-04-23T00:00:00\", \"2020-04-22T00:00:00\", \"2020-04-23T00:00:00\", \"2020-04-19T00:00:00\", \"2020-01-05T00:00:00\", \"2020-04-24T00:00:00\", \"2020-04-06T00:00:00\", \"2020-04-23T00:00:00\", \"2020-04-23T00:00:00\", \"2020-04-23T00:00:00\", \"2020-04-18T00:00:00\", \"2020-05-08T00:00:00\", \"2020-04-10T00:00:00\", \"2020-05-19T00:00:00\", \"2020-03-29T00:00:00\", \"2020-05-15T00:00:00\", \"2020-03-29T00:00:00\", \"2020-03-28T00:00:00\", \"2020-03-28T00:00:00\", \"2020-03-30T00:00:00\", \"2020-03-30T00:00:00\", \"2020-03-30T00:00:00\", \"2020-03-31T00:00:00\", \"2020-03-31T00:00:00\", \"2020-04-01T00:00:00\", \"2020-03-31T00:00:00\", \"2020-04-02T00:00:00\", \"2020-04-03T00:00:00\", \"2020-04-02T00:00:00\", \"2020-04-01T00:00:00\", \"2020-04-04T00:00:00\", \"2020-04-05T00:00:00\", \"2020-04-07T00:00:00\", \"2020-04-11T00:00:00\", \"2020-04-06T00:00:00\", \"2020-04-03T00:00:00\", \"2020-03-31T00:00:00\", \"2020-04-01T00:00:00\", \"2020-03-30T00:00:00\", \"2020-03-27T00:00:00\", \"2020-04-02T00:00:00\", \"2020-04-06T00:00:00\", \"2020-03-26T00:00:00\", \"2020-04-25T00:00:00\", \"2020-04-01T00:00:00\", \"2020-03-27T00:00:00\", \"2020-04-01T00:00:00\", \"2020-03-29T00:00:00\", \"2020-04-27T00:00:00\"]}, {\"line\": {\"color\": \"gray\", \"dash\": \"dash\"}, \"mode\": \"lines\", \"name\": \"day after 28 days\", \"showlegend\": true, \"type\": \"scatter\", \"x\": [\"2020-03-26T00:00:00\", \"2020-03-25T00:00:00\", \"2020-03-26T00:00:00\", \"2020-03-21T00:00:00\", \"2020-03-23T00:00:00\", \"2020-03-23T00:00:00\", \"2020-03-25T00:00:00\", \"2020-03-20T00:00:00\", \"2020-03-07T00:00:00\", \"2020-03-27T00:00:00\", \"2020-03-26T00:00:00\", \"2020-04-22T00:00:00\", \"2020-03-31T00:00:00\", \"2020-03-12T00:00:00\", \"2020-03-10T00:00:00\", \"2020-03-12T00:00:00\", \"2020-03-12T00:00:00\", \"2020-03-11T00:00:00\", \"2020-03-11T00:00:00\", \"2020-03-16T00:00:00\", \"2020-03-11T00:00:00\", \"2020-03-16T00:00:00\", \"2020-03-13T00:00:00\", \"2020-03-11T00:00:00\", \"2020-03-20T00:00:00\", \"2020-03-20T00:00:00\", \"2020-03-05T00:00:00\", \"2020-03-14T00:00:00\", \"2020-03-21T00:00:00\", \"2020-03-03T00:00:00\", \"2020-03-31T00:00:00\", \"2020-03-20T00:00:00\", \"2020-03-25T00:00:00\", \"2020-03-26T00:00:00\", \"2020-03-25T00:00:00\", \"2020-04-06T00:00:00\", \"2020-03-27T00:00:00\", \"2020-04-03T00:00:00\", \"2020-03-25T00:00:00\", \"2020-03-16T00:00:00\", \"2020-03-24T00:00:00\", \"2020-03-16T00:00:00\", \"2020-01-29T00:00:00\", \"2020-02-26T00:00:00\", \"2020-03-01T00:00:00\", \"2020-03-04T00:00:00\", \"2020-03-07T00:00:00\", \"2020-03-06T00:00:00\", \"2020-03-05T00:00:00\", \"2020-03-06T00:00:00\", \"2020-03-07T00:00:00\", \"2020-03-08T00:00:00\", \"2020-03-03T00:00:00\", \"2020-03-04T00:00:00\", \"2020-03-05T00:00:00\", \"2020-03-08T00:00:00\", \"2020-03-07T00:00:00\", \"2020-03-10T00:00:00\", \"2020-03-10T00:00:00\", \"2020-03-10T00:00:00\", \"2020-03-12T00:00:00\", \"2020-03-12T00:00:00\", \"2020-03-12T00:00:00\", \"2020-03-10T00:00:00\", \"2020-03-10T00:00:00\", \"2020-03-09T00:00:00\", \"2020-03-09T00:00:00\", \"2020-03-06T00:00:00\", \"2020-03-08T00:00:00\", \"2020-03-14T00:00:00\", \"2020-03-08T00:00:00\", \"2020-03-08T00:00:00\", \"2020-03-16T00:00:00\", \"2020-03-16T00:00:00\", \"2020-03-17T00:00:00\", \"2020-03-20T00:00:00\", \"2020-03-20T00:00:00\", \"2020-03-19T00:00:00\", \"2020-03-20T00:00:00\", \"2020-03-19T00:00:00\", \"2020-03-23T00:00:00\", \"2020-03-18T00:00:00\", \"2020-03-20T00:00:00\", \"2020-03-27T00:00:00\", \"2020-03-26T00:00:00\", \"2020-03-29T00:00:00\", \"2020-03-22T00:00:00\", \"2020-03-27T00:00:00\", \"2020-03-17T00:00:00\", \"2020-03-29T00:00:00\", \"2020-03-30T00:00:00\", \"2020-03-28T00:00:00\", \"2020-03-30T00:00:00\", \"2020-03-27T00:00:00\", \"2020-03-29T00:00:00\", \"2020-03-28T00:00:00\", \"2020-03-26T00:00:00\", \"2020-03-30T00:00:00\", \"2020-03-31T00:00:00\", \"2020-03-30T00:00:00\", \"2020-04-02T00:00:00\", \"2020-03-28T00:00:00\", \"2020-04-02T00:00:00\", \"2020-04-01T00:00:00\", \"2020-04-05T00:00:00\", \"2020-04-04T00:00:00\", \"2020-04-04T00:00:00\", \"2020-04-05T00:00:00\", \"2020-04-03T00:00:00\", \"2020-03-31T00:00:00\", \"2020-04-05T00:00:00\", \"2020-04-06T00:00:00\", \"2020-04-06T00:00:00\", \"2020-04-05T00:00:00\", \"2020-03-30T00:00:00\", \"2020-04-08T00:00:00\", \"2020-04-07T00:00:00\", \"2020-04-06T00:00:00\", \"2020-04-07T00:00:00\", \"2020-04-07T00:00:00\", \"2020-04-09T00:00:00\", \"2020-04-10T00:00:00\", \"2020-04-13T00:00:00\", \"2020-04-08T00:00:00\", \"2020-04-12T00:00:00\", \"2020-04-06T00:00:00\", \"2020-04-14T00:00:00\", \"2020-04-11T00:00:00\", \"2020-04-16T00:00:00\", \"2020-04-16T00:00:00\", \"2020-04-15T00:00:00\", \"2020-04-16T00:00:00\", \"2020-04-12T00:00:00\", \"2019-12-29T00:00:00\", \"2020-04-17T00:00:00\", \"2020-03-30T00:00:00\", \"2020-04-16T00:00:00\", \"2020-04-16T00:00:00\", \"2020-04-16T00:00:00\", \"2020-04-11T00:00:00\", \"2020-05-01T00:00:00\", \"2020-04-03T00:00:00\", \"2020-05-12T00:00:00\", \"2020-03-22T00:00:00\", \"2020-05-08T00:00:00\", \"2020-03-22T00:00:00\", \"2020-03-21T00:00:00\", \"2020-03-21T00:00:00\", \"2020-03-23T00:00:00\", \"2020-03-23T00:00:00\", \"2020-03-23T00:00:00\", \"2020-03-24T00:00:00\", \"2020-03-24T00:00:00\", \"2020-03-25T00:00:00\", \"2020-03-24T00:00:00\", \"2020-03-26T00:00:00\", \"2020-03-27T00:00:00\", \"2020-03-26T00:00:00\", \"2020-03-25T00:00:00\", \"2020-03-28T00:00:00\", \"2020-03-29T00:00:00\", \"2020-03-31T00:00:00\", \"2020-04-04T00:00:00\", \"2020-03-30T00:00:00\", \"2020-03-27T00:00:00\", \"2020-03-24T00:00:00\", \"2020-03-25T00:00:00\", \"2020-03-23T00:00:00\", \"2020-03-20T00:00:00\", \"2020-03-26T00:00:00\", \"2020-03-30T00:00:00\", \"2020-03-19T00:00:00\", \"2020-04-18T00:00:00\", \"2020-03-25T00:00:00\", \"2020-03-20T00:00:00\", \"2020-03-25T00:00:00\", \"2020-03-22T00:00:00\", \"2020-04-20T00:00:00\"], \"y\": [\"2020-04-23T00:00:00\", \"2020-04-22T00:00:00\", \"2020-04-23T00:00:00\", \"2020-04-18T00:00:00\", \"2020-04-20T00:00:00\", \"2020-04-20T00:00:00\", \"2020-04-22T00:00:00\", \"2020-04-17T00:00:00\", \"2020-04-04T00:00:00\", \"2020-04-24T00:00:00\", \"2020-04-23T00:00:00\", \"2020-05-20T00:00:00\", \"2020-04-28T00:00:00\", \"2020-04-09T00:00:00\", \"2020-04-07T00:00:00\", \"2020-04-09T00:00:00\", \"2020-04-09T00:00:00\", \"2020-04-08T00:00:00\", \"2020-04-08T00:00:00\", \"2020-04-13T00:00:00\", \"2020-04-08T00:00:00\", \"2020-04-13T00:00:00\", \"2020-04-10T00:00:00\", \"2020-04-08T00:00:00\", \"2020-04-17T00:00:00\", \"2020-04-17T00:00:00\", \"2020-04-02T00:00:00\", \"2020-04-11T00:00:00\", \"2020-04-18T00:00:00\", \"2020-03-31T00:00:00\", \"2020-04-28T00:00:00\", \"2020-04-17T00:00:00\", \"2020-04-22T00:00:00\", \"2020-04-23T00:00:00\", \"2020-04-22T00:00:00\", \"2020-05-04T00:00:00\", \"2020-04-24T00:00:00\", \"2020-05-01T00:00:00\", \"2020-04-22T00:00:00\", \"2020-04-13T00:00:00\", \"2020-04-21T00:00:00\", \"2020-04-13T00:00:00\", \"2020-02-26T00:00:00\", \"2020-03-25T00:00:00\", \"2020-03-29T00:00:00\", \"2020-04-01T00:00:00\", \"2020-04-04T00:00:00\", \"2020-04-03T00:00:00\", \"2020-04-02T00:00:00\", \"2020-04-03T00:00:00\", \"2020-04-04T00:00:00\", \"2020-04-05T00:00:00\", \"2020-03-31T00:00:00\", \"2020-04-01T00:00:00\", \"2020-04-02T00:00:00\", \"2020-04-05T00:00:00\", \"2020-04-04T00:00:00\", \"2020-04-07T00:00:00\", \"2020-04-07T00:00:00\", \"2020-04-07T00:00:00\", \"2020-04-09T00:00:00\", \"2020-04-09T00:00:00\", \"2020-04-09T00:00:00\", \"2020-04-07T00:00:00\", \"2020-04-07T00:00:00\", \"2020-04-06T00:00:00\", \"2020-04-06T00:00:00\", \"2020-04-03T00:00:00\", \"2020-04-05T00:00:00\", \"2020-04-11T00:00:00\", \"2020-04-05T00:00:00\", \"2020-04-05T00:00:00\", \"2020-04-13T00:00:00\", \"2020-04-13T00:00:00\", \"2020-04-14T00:00:00\", \"2020-04-17T00:00:00\", \"2020-04-17T00:00:00\", \"2020-04-16T00:00:00\", \"2020-04-17T00:00:00\", \"2020-04-16T00:00:00\", \"2020-04-20T00:00:00\", \"2020-04-15T00:00:00\", \"2020-04-17T00:00:00\", \"2020-04-24T00:00:00\", \"2020-04-23T00:00:00\", \"2020-04-26T00:00:00\", \"2020-04-19T00:00:00\", \"2020-04-24T00:00:00\", \"2020-04-14T00:00:00\", \"2020-04-26T00:00:00\", \"2020-04-27T00:00:00\", \"2020-04-25T00:00:00\", \"2020-04-27T00:00:00\", \"2020-04-24T00:00:00\", \"2020-04-26T00:00:00\", \"2020-04-25T00:00:00\", \"2020-04-23T00:00:00\", \"2020-04-27T00:00:00\", \"2020-04-28T00:00:00\", \"2020-04-27T00:00:00\", \"2020-04-30T00:00:00\", \"2020-04-25T00:00:00\", \"2020-04-30T00:00:00\", \"2020-04-29T00:00:00\", \"2020-05-03T00:00:00\", \"2020-05-02T00:00:00\", \"2020-05-02T00:00:00\", \"2020-05-03T00:00:00\", \"2020-05-01T00:00:00\", \"2020-04-28T00:00:00\", \"2020-05-03T00:00:00\", \"2020-05-04T00:00:00\", \"2020-05-04T00:00:00\", \"2020-05-03T00:00:00\", \"2020-04-27T00:00:00\", \"2020-05-06T00:00:00\", \"2020-05-05T00:00:00\", \"2020-05-04T00:00:00\", \"2020-05-05T00:00:00\", \"2020-05-05T00:00:00\", \"2020-05-07T00:00:00\", \"2020-05-08T00:00:00\", \"2020-05-11T00:00:00\", \"2020-05-06T00:00:00\", \"2020-05-10T00:00:00\", \"2020-05-04T00:00:00\", \"2020-05-12T00:00:00\", \"2020-05-09T00:00:00\", \"2020-05-14T00:00:00\", \"2020-05-14T00:00:00\", \"2020-05-13T00:00:00\", \"2020-05-14T00:00:00\", \"2020-05-10T00:00:00\", \"2020-01-26T00:00:00\", \"2020-05-15T00:00:00\", \"2020-04-27T00:00:00\", \"2020-05-14T00:00:00\", \"2020-05-14T00:00:00\", \"2020-05-14T00:00:00\", \"2020-05-09T00:00:00\", \"2020-05-29T00:00:00\", \"2020-05-01T00:00:00\", \"2020-06-09T00:00:00\", \"2020-04-19T00:00:00\", \"2020-06-05T00:00:00\", \"2020-04-19T00:00:00\", \"2020-04-18T00:00:00\", \"2020-04-18T00:00:00\", \"2020-04-20T00:00:00\", \"2020-04-20T00:00:00\", \"2020-04-20T00:00:00\", \"2020-04-21T00:00:00\", \"2020-04-21T00:00:00\", \"2020-04-22T00:00:00\", \"2020-04-21T00:00:00\", \"2020-04-23T00:00:00\", \"2020-04-24T00:00:00\", \"2020-04-23T00:00:00\", \"2020-04-22T00:00:00\", \"2020-04-25T00:00:00\", \"2020-04-26T00:00:00\", \"2020-04-28T00:00:00\", \"2020-05-02T00:00:00\", \"2020-04-27T00:00:00\", \"2020-04-24T00:00:00\", \"2020-04-21T00:00:00\", \"2020-04-22T00:00:00\", \"2020-04-20T00:00:00\", \"2020-04-17T00:00:00\", \"2020-04-23T00:00:00\", \"2020-04-27T00:00:00\", \"2020-04-16T00:00:00\", \"2020-05-16T00:00:00\", \"2020-04-22T00:00:00\", \"2020-04-17T00:00:00\", \"2020-04-22T00:00:00\", \"2020-04-19T00:00:00\", \"2020-05-18T00:00:00\"]}],                        {\"autosize\": false, \"height\": 600, \"legend\": {\"title\": {\"text\": \"days from ICU admission to death\"}, \"tracegroupgap\": 0}, \"plot_bgcolor\": \"rgb(242,242,242)\", \"template\": {\"data\": {\"bar\": [{\"error_x\": {\"color\": \"#2a3f5f\"}, \"error_y\": {\"color\": \"#2a3f5f\"}, \"marker\": {\"line\": {\"color\": \"#E5ECF6\", \"width\": 0.5}}, \"type\": \"bar\"}], \"barpolar\": [{\"marker\": {\"line\": {\"color\": \"#E5ECF6\", \"width\": 0.5}}, \"type\": \"barpolar\"}], \"carpet\": [{\"aaxis\": {\"endlinecolor\": \"#2a3f5f\", \"gridcolor\": \"white\", \"linecolor\": \"white\", \"minorgridcolor\": \"white\", \"startlinecolor\": \"#2a3f5f\"}, \"baxis\": {\"endlinecolor\": \"#2a3f5f\", \"gridcolor\": \"white\", \"linecolor\": \"white\", \"minorgridcolor\": \"white\", \"startlinecolor\": \"#2a3f5f\"}, \"type\": \"carpet\"}], \"choropleth\": [{\"colorbar\": {\"outlinewidth\": 0, \"ticks\": \"\"}, \"type\": \"choropleth\"}], \"contour\": [{\"colorbar\": {\"outlinewidth\": 0, \"ticks\": \"\"}, \"colorscale\": [[0.0, \"#0d0887\"], [0.1111111111111111, \"#46039f\"], [0.2222222222222222, \"#7201a8\"], [0.3333333333333333, \"#9c179e\"], [0.4444444444444444, \"#bd3786\"], [0.5555555555555556, \"#d8576b\"], [0.6666666666666666, \"#ed7953\"], [0.7777777777777778, \"#fb9f3a\"], [0.8888888888888888, \"#fdca26\"], [1.0, \"#f0f921\"]], \"type\": \"contour\"}], \"contourcarpet\": [{\"colorbar\": {\"outlinewidth\": 0, \"ticks\": \"\"}, \"type\": \"contourcarpet\"}], \"heatmap\": [{\"colorbar\": {\"outlinewidth\": 0, \"ticks\": \"\"}, \"colorscale\": [[0.0, \"#0d0887\"], [0.1111111111111111, \"#46039f\"], [0.2222222222222222, \"#7201a8\"], [0.3333333333333333, \"#9c179e\"], [0.4444444444444444, \"#bd3786\"], [0.5555555555555556, \"#d8576b\"], [0.6666666666666666, \"#ed7953\"], [0.7777777777777778, \"#fb9f3a\"], [0.8888888888888888, \"#fdca26\"], [1.0, \"#f0f921\"]], \"type\": \"heatmap\"}], \"heatmapgl\": [{\"colorbar\": {\"outlinewidth\": 0, \"ticks\": \"\"}, \"colorscale\": [[0.0, \"#0d0887\"], [0.1111111111111111, \"#46039f\"], [0.2222222222222222, \"#7201a8\"], [0.3333333333333333, \"#9c179e\"], [0.4444444444444444, \"#bd3786\"], [0.5555555555555556, \"#d8576b\"], [0.6666666666666666, \"#ed7953\"], [0.7777777777777778, \"#fb9f3a\"], [0.8888888888888888, \"#fdca26\"], [1.0, \"#f0f921\"]], \"type\": \"heatmapgl\"}], \"histogram\": [{\"marker\": {\"colorbar\": {\"outlinewidth\": 0, \"ticks\": \"\"}}, \"type\": \"histogram\"}], \"histogram2d\": [{\"colorbar\": {\"outlinewidth\": 0, \"ticks\": \"\"}, \"colorscale\": [[0.0, \"#0d0887\"], [0.1111111111111111, \"#46039f\"], [0.2222222222222222, \"#7201a8\"], [0.3333333333333333, \"#9c179e\"], [0.4444444444444444, \"#bd3786\"], [0.5555555555555556, \"#d8576b\"], [0.6666666666666666, \"#ed7953\"], [0.7777777777777778, \"#fb9f3a\"], [0.8888888888888888, \"#fdca26\"], [1.0, \"#f0f921\"]], \"type\": \"histogram2d\"}], \"histogram2dcontour\": [{\"colorbar\": {\"outlinewidth\": 0, \"ticks\": \"\"}, \"colorscale\": [[0.0, \"#0d0887\"], [0.1111111111111111, \"#46039f\"], [0.2222222222222222, \"#7201a8\"], [0.3333333333333333, \"#9c179e\"], [0.4444444444444444, \"#bd3786\"], [0.5555555555555556, \"#d8576b\"], [0.6666666666666666, \"#ed7953\"], [0.7777777777777778, \"#fb9f3a\"], [0.8888888888888888, \"#fdca26\"], [1.0, \"#f0f921\"]], \"type\": \"histogram2dcontour\"}], \"mesh3d\": [{\"colorbar\": {\"outlinewidth\": 0, \"ticks\": \"\"}, \"type\": \"mesh3d\"}], \"parcoords\": [{\"line\": {\"colorbar\": {\"outlinewidth\": 0, \"ticks\": \"\"}}, \"type\": \"parcoords\"}], \"pie\": [{\"automargin\": true, \"type\": \"pie\"}], \"scatter\": [{\"marker\": {\"colorbar\": {\"outlinewidth\": 0, \"ticks\": \"\"}}, \"type\": \"scatter\"}], \"scatter3d\": [{\"line\": {\"colorbar\": {\"outlinewidth\": 0, \"ticks\": \"\"}}, \"marker\": {\"colorbar\": {\"outlinewidth\": 0, \"ticks\": \"\"}}, \"type\": \"scatter3d\"}], \"scattercarpet\": [{\"marker\": {\"colorbar\": {\"outlinewidth\": 0, \"ticks\": \"\"}}, \"type\": \"scattercarpet\"}], \"scattergeo\": [{\"marker\": {\"colorbar\": {\"outlinewidth\": 0, \"ticks\": \"\"}}, \"type\": \"scattergeo\"}], \"scattergl\": [{\"marker\": {\"colorbar\": {\"outlinewidth\": 0, \"ticks\": \"\"}}, \"type\": \"scattergl\"}], \"scattermapbox\": [{\"marker\": {\"colorbar\": {\"outlinewidth\": 0, \"ticks\": \"\"}}, \"type\": \"scattermapbox\"}], \"scatterpolar\": [{\"marker\": {\"colorbar\": {\"outlinewidth\": 0, \"ticks\": \"\"}}, \"type\": \"scatterpolar\"}], \"scatterpolargl\": [{\"marker\": {\"colorbar\": {\"outlinewidth\": 0, \"ticks\": \"\"}}, \"type\": \"scatterpolargl\"}], \"scatterternary\": [{\"marker\": {\"colorbar\": {\"outlinewidth\": 0, \"ticks\": \"\"}}, \"type\": \"scatterternary\"}], \"surface\": [{\"colorbar\": {\"outlinewidth\": 0, \"ticks\": \"\"}, \"colorscale\": [[0.0, \"#0d0887\"], [0.1111111111111111, \"#46039f\"], [0.2222222222222222, \"#7201a8\"], [0.3333333333333333, \"#9c179e\"], [0.4444444444444444, \"#bd3786\"], [0.5555555555555556, \"#d8576b\"], [0.6666666666666666, \"#ed7953\"], [0.7777777777777778, \"#fb9f3a\"], [0.8888888888888888, \"#fdca26\"], [1.0, \"#f0f921\"]], \"type\": \"surface\"}], \"table\": [{\"cells\": {\"fill\": {\"color\": \"#EBF0F8\"}, \"line\": {\"color\": \"white\"}}, \"header\": {\"fill\": {\"color\": \"#C8D4E3\"}, \"line\": {\"color\": \"white\"}}, \"type\": \"table\"}]}, \"layout\": {\"annotationdefaults\": {\"arrowcolor\": \"#2a3f5f\", \"arrowhead\": 0, \"arrowwidth\": 1}, \"autotypenumbers\": \"strict\", \"coloraxis\": {\"colorbar\": {\"outlinewidth\": 0, \"ticks\": \"\"}}, \"colorscale\": {\"diverging\": [[0, \"#8e0152\"], [0.1, \"#c51b7d\"], [0.2, \"#de77ae\"], [0.3, \"#f1b6da\"], [0.4, \"#fde0ef\"], [0.5, \"#f7f7f7\"], [0.6, \"#e6f5d0\"], [0.7, \"#b8e186\"], [0.8, \"#7fbc41\"], [0.9, \"#4d9221\"], [1, \"#276419\"]], \"sequential\": [[0.0, \"#0d0887\"], [0.1111111111111111, \"#46039f\"], [0.2222222222222222, \"#7201a8\"], [0.3333333333333333, \"#9c179e\"], [0.4444444444444444, \"#bd3786\"], [0.5555555555555556, \"#d8576b\"], [0.6666666666666666, \"#ed7953\"], [0.7777777777777778, \"#fb9f3a\"], [0.8888888888888888, \"#fdca26\"], [1.0, \"#f0f921\"]], \"sequentialminus\": [[0.0, \"#0d0887\"], [0.1111111111111111, \"#46039f\"], [0.2222222222222222, \"#7201a8\"], [0.3333333333333333, \"#9c179e\"], [0.4444444444444444, \"#bd3786\"], [0.5555555555555556, \"#d8576b\"], [0.6666666666666666, \"#ed7953\"], [0.7777777777777778, \"#fb9f3a\"], [0.8888888888888888, \"#fdca26\"], [1.0, \"#f0f921\"]]}, \"colorway\": [\"#636efa\", \"#EF553B\", \"#00cc96\", \"#ab63fa\", \"#FFA15A\", \"#19d3f3\", \"#FF6692\", \"#B6E880\", \"#FF97FF\", \"#FECB52\"], \"font\": {\"color\": \"#2a3f5f\"}, \"geo\": {\"bgcolor\": \"white\", \"lakecolor\": \"white\", \"landcolor\": \"#E5ECF6\", \"showlakes\": true, \"showland\": true, \"subunitcolor\": \"white\"}, \"hoverlabel\": {\"align\": \"left\"}, \"hovermode\": \"closest\", \"mapbox\": {\"style\": \"light\"}, \"paper_bgcolor\": \"white\", \"plot_bgcolor\": \"#E5ECF6\", \"polar\": {\"angularaxis\": {\"gridcolor\": \"white\", \"linecolor\": \"white\", \"ticks\": \"\"}, \"bgcolor\": \"#E5ECF6\", \"radialaxis\": {\"gridcolor\": \"white\", \"linecolor\": \"white\", \"ticks\": \"\"}}, \"scene\": {\"xaxis\": {\"backgroundcolor\": \"#E5ECF6\", \"gridcolor\": \"white\", \"gridwidth\": 2, \"linecolor\": \"white\", \"showbackground\": true, \"ticks\": \"\", \"zerolinecolor\": \"white\"}, \"yaxis\": {\"backgroundcolor\": \"#E5ECF6\", \"gridcolor\": \"white\", \"gridwidth\": 2, \"linecolor\": \"white\", \"showbackground\": true, \"ticks\": \"\", \"zerolinecolor\": \"white\"}, \"zaxis\": {\"backgroundcolor\": \"#E5ECF6\", \"gridcolor\": \"white\", \"gridwidth\": 2, \"linecolor\": \"white\", \"showbackground\": true, \"ticks\": \"\", \"zerolinecolor\": \"white\"}}, \"shapedefaults\": {\"line\": {\"color\": \"#2a3f5f\"}}, \"ternary\": {\"aaxis\": {\"gridcolor\": \"white\", \"linecolor\": \"white\", \"ticks\": \"\"}, \"baxis\": {\"gridcolor\": \"white\", \"linecolor\": \"white\", \"ticks\": \"\"}, \"bgcolor\": \"#E5ECF6\", \"caxis\": {\"gridcolor\": \"white\", \"linecolor\": \"white\", \"ticks\": \"\"}}, \"title\": {\"x\": 0.05}, \"xaxis\": {\"automargin\": true, \"gridcolor\": \"white\", \"linecolor\": \"white\", \"ticks\": \"\", \"title\": {\"standoff\": 15}, \"zerolinecolor\": \"white\", \"zerolinewidth\": 2}, \"yaxis\": {\"automargin\": true, \"gridcolor\": \"white\", \"linecolor\": \"white\", \"ticks\": \"\", \"title\": {\"standoff\": 15}, \"zerolinecolor\": \"white\", \"zerolinewidth\": 2}}}, \"title\": {\"text\": \"Number of days between admission to the hospital and death\"}, \"width\": 800, \"xaxis\": {\"anchor\": \"y\", \"domain\": [0.0, 1.0], \"title\": {\"text\": \"date of hospital admission\"}}, \"yaxis\": {\"anchor\": \"x\", \"domain\": [0.0, 1.0], \"title\": {\"text\": \"date of death\"}}},                        {\"responsive\": true}                    ).then(function(){\n",
       "                            \n",
       "var gd = document.getElementById('da87064c-19c8-4c99-9d01-630d2ae6f6bd');\n",
       "var x = new MutationObserver(function (mutations, observer) {{\n",
       "        var display = window.getComputedStyle(gd).display;\n",
       "        if (!display || display === 'none') {{\n",
       "            console.log([gd, 'removed!']);\n",
       "            Plotly.purge(gd);\n",
       "            observer.disconnect();\n",
       "        }}\n",
       "}});\n",
       "\n",
       "// Listen for the removal of the full notebook cells\n",
       "var notebookContainer = gd.closest('#notebook-container');\n",
       "if (notebookContainer) {{\n",
       "    x.observe(notebookContainer, {childList: true});\n",
       "}}\n",
       "\n",
       "// Listen for the clearing of the current output cell\n",
       "var outputEl = gd.closest('.output');\n",
       "if (outputEl) {{\n",
       "    x.observe(outputEl, {childList: true});\n",
       "}}\n",
       "\n",
       "                        })                };                });            </script>        </div>"
      ]
     },
     "metadata": {},
     "output_type": "display_data"
    }
   ],
   "source": [
    "import plotly.express as px\n",
    "import plotly.graph_objects as go\n",
    "\n",
    "data['7_days_after'] = data['date_hospital_admi'] + np.timedelta64(7,'D')\n",
    "data['28_days_after'] = data['date_hospital_admi'] + np.timedelta64(28,'D')\n",
    "data['sum'] = data['Death_D28'] + data['Death_D7']\n",
    "data['sum'] = pd.cut(data['sum'],\n",
    "                        bins=[0, 0.9, 1.9, 2.5],  labels=['0-7', '7-28', '>28'],\n",
    "                    include_lowest=True)\n",
    "\n",
    "fig = 0\n",
    "fig = px.scatter(data, x='date_hospital_admi', y=\"date_death\", color = 'sum', \n",
    "                 labels = {'date_hospital_admi': 'date of hospital admission', \"date_death\": 'date of death', \n",
    "                           'sum': 'days from ICU admission to death'}, \n",
    "                 title = 'Number of days between admission to the hospital and death', \n",
    "                 category_orders={\"sum\": [\"0-7\", \"7-28\", \">28\"]}\n",
    "                 )\n",
    "fig.data[0].name\n",
    "fig.add_trace(\n",
    "    go.Scatter(\n",
    "        name = 'day after 7 days',\n",
    "        x= data['date_hospital_admi'],\n",
    "        y=data['7_days_after'],\n",
    "        mode=\"lines\",\n",
    "        line=go.scatter.Line(color=\"gray\", dash = 'dot'),\n",
    "        showlegend=True)\n",
    ")\n",
    "fig.add_trace(\n",
    "    go.Scatter(\n",
    "        name = 'day after 28 days',\n",
    "        x= data['date_hospital_admi'],\n",
    "        y=data['28_days_after'],\n",
    "        mode=\"lines\",\n",
    "        line=go.scatter.Line(color=\"gray\", dash = 'dash'),\n",
    "        showlegend=True)\n",
    ")\n",
    "\n",
    "fig.update_layout(\n",
    "    autosize=False,\n",
    "    width=800,\n",
    "    plot_bgcolor='rgb(242,242,242)',\n",
    "    height=600,)\n",
    "\n",
    "\n",
    "\n",
    "data['sum']\n",
    "fig.show()\n"
   ]
  }
 ],
 "metadata": {
  "kernelspec": {
   "display_name": "Python 3",
   "language": "python",
   "name": "python3"
  },
  "language_info": {
   "codemirror_mode": {
    "name": "ipython",
    "version": 3
   },
   "file_extension": ".py",
   "mimetype": "text/x-python",
   "name": "python",
   "nbconvert_exporter": "python",
   "pygments_lexer": "ipython3",
   "version": "3.8.5"
  }
 },
 "nbformat": 4,
 "nbformat_minor": 5
}
