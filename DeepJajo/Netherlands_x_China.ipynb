{
 "cells": [
  {
   "cell_type": "code",
   "execution_count": 118,
   "metadata": {
    "pycharm": {
     "is_executing": true
    }
   },
   "outputs": [],
   "source": [
    "import pandas as pd \n",
    "import numpy as np\n",
    "import xgboost as xgb\n",
    "from sklearn.model_selection import train_test_split, cross_val_score\n",
    "from sklearn.preprocessing import StandardScaler, OneHotEncoder\n",
    "from sklearn.impute import SimpleImputer\n",
    "from sklearn.pipeline import Pipeline\n",
    "from sklearn.compose import ColumnTransformer\n",
    "from sklearn.metrics import precision_recall_curve, auc, confusion_matrix, classification_report, recall_score, roc_auc_score, precision_score \n",
    "import dalex as dx"
   ]
  },
  {
   "cell_type": "code",
   "execution_count": 119,
   "metadata": {},
   "outputs": [],
   "source": [
    "data = pd.read_excel('data/42256_2020_253_MOESM1_ESM.xlsx')"
   ]
  },
  {
   "cell_type": "code",
   "execution_count": 120,
   "metadata": {},
   "outputs": [
    {
     "data": {
      "text/plain": [
       "array([   nan,  3.5  , 23.5  ,  4.5  , 12.5  , 13.5  , 16.5  , 17.5  ,\n",
       "       18.5  ,  2.5  ,  5.5  ,  6.5  ,  7.5  ,  8.5  , 11.5  , 14.5  ,\n",
       "       19.5  , 10.5  ,  1.5  , 33.5  ,  9.5  , 26.5  ,  9.875, 20.5  ])"
      ]
     },
     "execution_count": 120,
     "metadata": {},
     "output_type": "execute_result"
    }
   ],
   "source": [
    "data[\"Days from admission to death\"].unique()"
   ]
  },
  {
   "cell_type": "code",
   "execution_count": 121,
   "metadata": {},
   "outputs": [
    {
     "data": {
      "text/plain": [
       "Age                                                     66\n",
       "Gender                                                Male\n",
       "Date of presentation emergency room    2020-04-02 00:00:00\n",
       "Date of admission                      2020-04-02 00:00:00\n",
       "Date of discharge                      2020-04-04 00:00:00\n",
       "Admission to ICU                                        No\n",
       "Survival/death                                       Alive\n",
       "Date of death                                          NaT\n",
       "Days from admission to death                           NaN\n",
       "Date blood analysis                    2020-04-02 00:00:00\n",
       "LD                                                     176\n",
       "CRP                                                     64\n",
       "Lymphocytes                                           9.15\n",
       "Leukocytes                                            14.9\n",
       "Percentage lymphocytes                           61.409396\n",
       "Name: 170, dtype: object"
      ]
     },
     "execution_count": 121,
     "metadata": {},
     "output_type": "execute_result"
    }
   ],
   "source": [
    "data.iloc[170]"
   ]
  },
  {
   "cell_type": "code",
   "execution_count": 122,
   "metadata": {},
   "outputs": [
    {
     "data": {
      "text/html": [
       "<div>\n",
       "<style scoped>\n",
       "    .dataframe tbody tr th:only-of-type {\n",
       "        vertical-align: middle;\n",
       "    }\n",
       "\n",
       "    .dataframe tbody tr th {\n",
       "        vertical-align: top;\n",
       "    }\n",
       "\n",
       "    .dataframe thead th {\n",
       "        text-align: right;\n",
       "    }\n",
       "</style>\n",
       "<table border=\"1\" class=\"dataframe\">\n",
       "  <thead>\n",
       "    <tr style=\"text-align: right;\">\n",
       "      <th></th>\n",
       "      <th>Age</th>\n",
       "      <th>Gender</th>\n",
       "      <th>Date of presentation emergency room</th>\n",
       "      <th>Date of admission</th>\n",
       "      <th>Date of discharge</th>\n",
       "      <th>Admission to ICU</th>\n",
       "      <th>Survival/death</th>\n",
       "      <th>Date of death</th>\n",
       "      <th>Days from admission to death</th>\n",
       "      <th>Date blood analysis</th>\n",
       "      <th>LD</th>\n",
       "      <th>CRP</th>\n",
       "      <th>Lymphocytes</th>\n",
       "      <th>Leukocytes</th>\n",
       "      <th>Percentage lymphocytes</th>\n",
       "    </tr>\n",
       "  </thead>\n",
       "  <tbody>\n",
       "    <tr>\n",
       "      <th>0</th>\n",
       "      <td>73</td>\n",
       "      <td>Male</td>\n",
       "      <td>2020-03-19</td>\n",
       "      <td>2020-03-19 00:00:00</td>\n",
       "      <td>2020-05-26 00:00:00</td>\n",
       "      <td>Yes</td>\n",
       "      <td>Alive</td>\n",
       "      <td>NaT</td>\n",
       "      <td>NaN</td>\n",
       "      <td>2020-03-19</td>\n",
       "      <td>485</td>\n",
       "      <td>154</td>\n",
       "      <td>0.62</td>\n",
       "      <td>6.6</td>\n",
       "      <td>9.393939</td>\n",
       "    </tr>\n",
       "    <tr>\n",
       "      <th>1</th>\n",
       "      <td>60</td>\n",
       "      <td>Female</td>\n",
       "      <td>2020-03-18</td>\n",
       "      <td>2020-03-18 00:00:00</td>\n",
       "      <td>2020-03-22 00:00:00</td>\n",
       "      <td>No</td>\n",
       "      <td>Alive</td>\n",
       "      <td>NaT</td>\n",
       "      <td>NaN</td>\n",
       "      <td>2020-03-20</td>\n",
       "      <td>316</td>\n",
       "      <td>77</td>\n",
       "      <td>1.61</td>\n",
       "      <td>7.7</td>\n",
       "      <td>20.909091</td>\n",
       "    </tr>\n",
       "    <tr>\n",
       "      <th>2</th>\n",
       "      <td>44</td>\n",
       "      <td>Female</td>\n",
       "      <td>2020-03-20</td>\n",
       "      <td>2020-03-20 00:00:00</td>\n",
       "      <td>2020-03-24 00:00:00</td>\n",
       "      <td>No</td>\n",
       "      <td>Alive</td>\n",
       "      <td>NaT</td>\n",
       "      <td>NaN</td>\n",
       "      <td>2020-03-20</td>\n",
       "      <td>444</td>\n",
       "      <td>82</td>\n",
       "      <td>0.81</td>\n",
       "      <td>6.8</td>\n",
       "      <td>11.911765</td>\n",
       "    </tr>\n",
       "    <tr>\n",
       "      <th>3</th>\n",
       "      <td>58</td>\n",
       "      <td>Male</td>\n",
       "      <td>2020-03-20</td>\n",
       "      <td>2020-03-20 00:00:00</td>\n",
       "      <td>2020-03-23 00:00:00</td>\n",
       "      <td>Yes</td>\n",
       "      <td>Alive</td>\n",
       "      <td>NaT</td>\n",
       "      <td>NaN</td>\n",
       "      <td>2020-03-20</td>\n",
       "      <td>323</td>\n",
       "      <td>58</td>\n",
       "      <td>0.73</td>\n",
       "      <td>5.8</td>\n",
       "      <td>12.586207</td>\n",
       "    </tr>\n",
       "    <tr>\n",
       "      <th>4</th>\n",
       "      <td>66</td>\n",
       "      <td>Male</td>\n",
       "      <td>2020-03-20</td>\n",
       "      <td>2020-03-20 00:00:00</td>\n",
       "      <td>2020-03-25 00:00:00</td>\n",
       "      <td>No</td>\n",
       "      <td>Alive</td>\n",
       "      <td>NaT</td>\n",
       "      <td>NaN</td>\n",
       "      <td>2020-03-20</td>\n",
       "      <td>244</td>\n",
       "      <td>20</td>\n",
       "      <td>1.39</td>\n",
       "      <td>5.1</td>\n",
       "      <td>27.254902</td>\n",
       "    </tr>\n",
       "  </tbody>\n",
       "</table>\n",
       "</div>"
      ],
      "text/plain": [
       "   Age  Gender Date of presentation emergency room    Date of admission  \\\n",
       "0   73    Male                          2020-03-19  2020-03-19 00:00:00   \n",
       "1   60  Female                          2020-03-18  2020-03-18 00:00:00   \n",
       "2   44  Female                          2020-03-20  2020-03-20 00:00:00   \n",
       "3   58    Male                          2020-03-20  2020-03-20 00:00:00   \n",
       "4   66    Male                          2020-03-20  2020-03-20 00:00:00   \n",
       "\n",
       "     Date of discharge Admission to ICU Survival/death Date of death  \\\n",
       "0  2020-05-26 00:00:00              Yes          Alive           NaT   \n",
       "1  2020-03-22 00:00:00               No          Alive           NaT   \n",
       "2  2020-03-24 00:00:00               No          Alive           NaT   \n",
       "3  2020-03-23 00:00:00              Yes          Alive           NaT   \n",
       "4  2020-03-25 00:00:00               No          Alive           NaT   \n",
       "\n",
       "   Days from admission to death Date blood analysis   LD  CRP  Lymphocytes  \\\n",
       "0                           NaN          2020-03-19  485  154         0.62   \n",
       "1                           NaN          2020-03-20  316   77         1.61   \n",
       "2                           NaN          2020-03-20  444   82         0.81   \n",
       "3                           NaN          2020-03-20  323   58         0.73   \n",
       "4                           NaN          2020-03-20  244   20         1.39   \n",
       "\n",
       "   Leukocytes  Percentage lymphocytes  \n",
       "0         6.6                9.393939  \n",
       "1         7.7               20.909091  \n",
       "2         6.8               11.911765  \n",
       "3         5.8               12.586207  \n",
       "4         5.1               27.254902  "
      ]
     },
     "execution_count": 122,
     "metadata": {},
     "output_type": "execute_result"
    }
   ],
   "source": [
    "data.head()"
   ]
  },
  {
   "cell_type": "code",
   "execution_count": 123,
   "metadata": {},
   "outputs": [],
   "source": [
    "df = data[[\"Age\", \"Gender\", \"LD\", \"CRP\", \"Percentage lymphocytes\", \"Survival/death\"]]"
   ]
  },
  {
   "cell_type": "code",
   "execution_count": 124,
   "metadata": {},
   "outputs": [],
   "source": [
    "df = df.assign(death = np.where(df[\"Survival/death\"] == 'Alive', 0, 1))"
   ]
  },
  {
   "cell_type": "code",
   "execution_count": 125,
   "metadata": {},
   "outputs": [],
   "source": [
    "df = df[[\"Age\", \"Gender\", \"LD\", \"CRP\", \"Percentage lymphocytes\", \"death\"]]"
   ]
  },
  {
   "cell_type": "code",
   "execution_count": 126,
   "metadata": {},
   "outputs": [],
   "source": [
    "X = df.drop(\"death\", axis = 1)\n",
    "y = df.death"
   ]
  },
  {
   "cell_type": "code",
   "execution_count": 127,
   "metadata": {},
   "outputs": [],
   "source": [
    "x_train, x_test, y_train, y_test = train_test_split(X,\n",
    "                                                    y,\n",
    "                                                    test_size=0.2,\n",
    "                                                    random_state=1)"
   ]
  },
  {
   "cell_type": "code",
   "execution_count": 128,
   "metadata": {},
   "outputs": [],
   "source": [
    "model = xgb.XGBClassifier(\n",
    "            max_depth=4,\n",
    "            learning_rate=0.2,\n",
    "            reg_lambda=1,\n",
    "            n_estimators=150,\n",
    "            subsample=0.9,\n",
    "            colsample_bytree=0.9,\n",
    "            eval_metric = 'aucpr')"
   ]
  },
  {
   "cell_type": "code",
   "execution_count": 129,
   "metadata": {},
   "outputs": [],
   "source": [
    "numerical_features = ['Age', 'LD', 'CRP', 'Percentage lymphocytes']\n",
    "numerical_transformer = Pipeline(\n",
    "    steps=[\n",
    "        #('imputer', SimpleImputer(strategy='median')),\n",
    "        ('scaler', StandardScaler())\n",
    "    ]\n",
    ")\n",
    "\n",
    "categorical_features = ['Gender']\n",
    "categorical_transformer = Pipeline(\n",
    "    steps=[\n",
    "        #('imputer', SimpleImputer(strategy='constant', fill_value='missing')),\n",
    "        ('onehot', OneHotEncoder(handle_unknown='ignore'))\n",
    "    ]\n",
    ")\n",
    "\n",
    "preprocessor = ColumnTransformer(\n",
    "    transformers=[\n",
    "        ('num', numerical_transformer, numerical_features),\n",
    "        ('cat', categorical_transformer, categorical_features)\n",
    "    ]\n",
    ")\n",
    "\n"
   ]
  },
  {
   "cell_type": "code",
   "execution_count": 130,
   "metadata": {},
   "outputs": [],
   "source": [
    "clf = Pipeline(steps=[('preprocessor', preprocessor),\n",
    "                      ('classifier', model)])"
   ]
  },
  {
   "cell_type": "code",
   "execution_count": 131,
   "metadata": {},
   "outputs": [
    {
     "data": {
      "text/plain": [
       "Pipeline(steps=[('preprocessor',\n",
       "                 ColumnTransformer(transformers=[('num',\n",
       "                                                  Pipeline(steps=[('scaler',\n",
       "                                                                   StandardScaler())]),\n",
       "                                                  ['Age', 'LD', 'CRP',\n",
       "                                                   'Percentage lymphocytes']),\n",
       "                                                 ('cat',\n",
       "                                                  Pipeline(steps=[('onehot',\n",
       "                                                                   OneHotEncoder(handle_unknown='ignore'))]),\n",
       "                                                  ['Gender'])])),\n",
       "                ('classifier',\n",
       "                 XGBClassifier(base_score=0.5, booster='gbtree',\n",
       "                               colsample_bylevel=1, colsample_bynode=1,...\n",
       "                               gamma=0, gpu_id=-1, importance_type='gain',\n",
       "                               interaction_constraints='', learning_rate=0.2,\n",
       "                               max_delta_step=0, max_depth=4,\n",
       "                               min_child_weight=1, missing=nan,\n",
       "                               monotone_constraints='()', n_estimators=150,\n",
       "                               n_jobs=8, num_parallel_tree=1, random_state=0,\n",
       "                               reg_alpha=0, reg_lambda=1, scale_pos_weight=1,\n",
       "                               subsample=0.9, tree_method='exact',\n",
       "                               validate_parameters=1, verbosity=None))])"
      ]
     },
     "execution_count": 131,
     "metadata": {},
     "output_type": "execute_result"
    }
   ],
   "source": [
    "clf.fit(x_train, y_train)"
   ]
  },
  {
   "cell_type": "code",
   "execution_count": 132,
   "metadata": {},
   "outputs": [],
   "source": [
    "y_pred = clf.predict(x_test)"
   ]
  },
  {
   "cell_type": "code",
   "execution_count": 133,
   "metadata": {},
   "outputs": [
    {
     "name": "stdout",
     "output_type": "stream",
     "text": [
      "              precision    recall  f1-score   support\n",
      "\n",
      "           0       0.90      0.86      0.88        50\n",
      "           1       0.46      0.55      0.50        11\n",
      "\n",
      "    accuracy                           0.80        61\n",
      "   macro avg       0.68      0.70      0.69        61\n",
      "weighted avg       0.82      0.80      0.81        61\n",
      "\n"
     ]
    }
   ],
   "source": [
    "print(classification_report(y_test, y_pred))"
   ]
  },
  {
   "cell_type": "code",
   "execution_count": 134,
   "metadata": {},
   "outputs": [
    {
     "data": {
      "text/plain": [
       "0.46153846153846156"
      ]
     },
     "execution_count": 134,
     "metadata": {},
     "output_type": "execute_result"
    }
   ],
   "source": [
    "precision_score(y_test, y_pred)"
   ]
  },
  {
   "cell_type": "code",
   "execution_count": 135,
   "metadata": {},
   "outputs": [
    {
     "name": "stdout",
     "output_type": "stream",
     "text": [
      "Preparation of a new explainer is initiated\n",
      "\n",
      "  -> data              : 61 rows 5 cols\n",
      "  -> target variable   : Parameter 'y' was a pandas.Series. Converted to a numpy.ndarray.\n",
      "  -> target variable   : 61 values\n",
      "  -> model_class       : xgboost.sklearn.XGBClassifier (default)\n",
      "  -> label             : Not specified, model's class short name will be used. (default)\n",
      "  -> predict function  : <function yhat_proba_default at 0x7f581209b160> will be used (default)\n",
      "  -> predict function  : Accepts only pandas.DataFrame, numpy.ndarray causes problems.\n",
      "  -> predicted values  : min = 0.000108, mean = 0.215, max = 0.975\n",
      "  -> model type        : classification will be used (default)\n",
      "  -> residual function : difference between y and yhat (default)\n",
      "  -> residuals         : min = -0.971, mean = -0.0346, max = 0.999\n",
      "  -> model_info        : package sklearn\n",
      "\n",
      "A new explainer has been created!\n"
     ]
    }
   ],
   "source": [
    "exp = dx.Explainer(clf, x_test, y_test)"
   ]
  },
  {
   "cell_type": "code",
   "execution_count": 136,
   "metadata": {},
   "outputs": [
    {
     "data": {
      "application/vnd.plotly.v1+json": {
       "config": {
        "displaylogo": false,
        "modeBarButtonsToRemove": [
         "sendDataToCloud",
         "lasso2d",
         "autoScale2d",
         "select2d",
         "zoom2d",
         "pan2d",
         "zoomIn2d",
         "zoomOut2d",
         "resetScale2d",
         "toggleSpikelines",
         "hoverCompareCartesian",
         "hoverClosestCartesian"
        ],
        "plotlyServerURL": "https://plot.ly",
        "staticPlot": false,
        "toImageButtonOptions": {
         "height": null,
         "width": null
        }
       },
       "data": [
        {
         "base": 0.20727272727272728,
         "hoverinfo": "text",
         "hoverlabel": {
          "bgcolor": "rgba(0,0,0,0.8)"
         },
         "hovertext": [
          "Model: XGBClassifier loss after<br>variable: Age is permuted: 0.33<br>Drop-out loss change: +0.123",
          "Model: XGBClassifier loss after<br>variable: LD is permuted: 0.322<br>Drop-out loss change: +0.115",
          "Model: XGBClassifier loss after<br>variable: Gender is permuted: 0.214<br>Drop-out loss change: +0.006",
          "Model: XGBClassifier loss after<br>variable: Percentage lymphocytes is permuted: 0.213<br>Drop-out loss change: +0.005",
          "Model: XGBClassifier loss after<br>variable: CRP is permuted: 0.212<br>Drop-out loss change: +0.005"
         ],
         "marker": {
          "color": "#46bac2"
         },
         "orientation": "h",
         "showlegend": false,
         "text": [
          "+0.123",
          "+0.115",
          "+0.006",
          "+0.005",
          "+0.005"
         ],
         "textposition": "outside",
         "type": "bar",
         "x": [
          0.12309090909090908,
          0.11472727272727268,
          0.006363636363636349,
          0.005454545454545434,
          0.004545454545454547
         ],
         "xaxis": "x",
         "y": [
          "Age",
          "LD",
          "Gender",
          "Percentage lymphocytes",
          "CRP"
         ],
         "yaxis": "y"
        }
       ],
       "layout": {
        "annotations": [
         {
          "font": {
           "size": 16
          },
          "showarrow": false,
          "text": "XGBClassifier",
          "x": 0.5,
          "xanchor": "center",
          "xref": "paper",
          "y": 1,
          "yanchor": "bottom",
          "yref": "paper"
         },
         {
          "font": {
           "size": 16
          },
          "showarrow": false,
          "text": "drop-out loss",
          "x": 0.5,
          "xanchor": "center",
          "xref": "paper",
          "y": 0,
          "yanchor": "top",
          "yref": "paper",
          "yshift": -30
         }
        ],
        "font": {
         "color": "#371ea3"
        },
        "height": 283,
        "margin": {
         "b": 71,
         "r": 30,
         "t": 78
        },
        "shapes": [
         {
          "line": {
           "color": "#371ea3",
           "dash": "dot",
           "width": 1.5
          },
          "type": "line",
          "x0": 0.20727272727272728,
          "x1": 0.20727272727272728,
          "xref": "x",
          "y0": -1,
          "y1": 5,
          "yref": "y"
         }
        ],
        "template": {
         "data": {
          "scatter": [
           {
            "type": "scatter"
           }
          ]
         }
        },
        "title": {
         "text": "Variable Importance",
         "x": 0.15
        },
        "xaxis": {
         "anchor": "y",
         "automargin": true,
         "domain": [
          0,
          1
         ],
         "fixedrange": true,
         "gridwidth": 2,
         "range": [
          0.18880909090909093,
          0.3488272727272727
         ],
         "tickcolor": "white",
         "ticklen": 3,
         "ticks": "outside",
         "type": "linear",
         "zeroline": false
        },
        "yaxis": {
         "anchor": "x",
         "automargin": true,
         "autorange": "reversed",
         "domain": [
          0,
          1
         ],
         "fixedrange": true,
         "gridwidth": 2,
         "tickcolor": "white",
         "ticklen": 10,
         "ticks": "outside",
         "type": "category"
        }
       }
      },
      "text/html": [
       "<div>                            <div id=\"c96f64f7-428c-46b2-867f-04d5be14485f\" class=\"plotly-graph-div\" style=\"height:283.0px; width:100%;\"></div>            <script type=\"text/javascript\">                require([\"plotly\"], function(Plotly) {                    window.PLOTLYENV=window.PLOTLYENV || {};                                    if (document.getElementById(\"c96f64f7-428c-46b2-867f-04d5be14485f\")) {                    Plotly.newPlot(                        \"c96f64f7-428c-46b2-867f-04d5be14485f\",                        [{\"base\": 0.20727272727272728, \"hoverinfo\": \"text\", \"hoverlabel\": {\"bgcolor\": \"rgba(0,0,0,0.8)\"}, \"hovertext\": [\"Model: XGBClassifier loss after<br>variable: Age is permuted: 0.33<br>Drop-out loss change: +0.123\", \"Model: XGBClassifier loss after<br>variable: LD is permuted: 0.322<br>Drop-out loss change: +0.115\", \"Model: XGBClassifier loss after<br>variable: Gender is permuted: 0.214<br>Drop-out loss change: +0.006\", \"Model: XGBClassifier loss after<br>variable: Percentage lymphocytes is permuted: 0.213<br>Drop-out loss change: +0.005\", \"Model: XGBClassifier loss after<br>variable: CRP is permuted: 0.212<br>Drop-out loss change: +0.005\"], \"marker\": {\"color\": \"#46bac2\"}, \"orientation\": \"h\", \"showlegend\": false, \"text\": [\"+0.123\", \"+0.115\", \"+0.006\", \"+0.005\", \"+0.005\"], \"textposition\": \"outside\", \"type\": \"bar\", \"x\": [0.12309090909090908, 0.11472727272727268, 0.006363636363636349, 0.005454545454545434, 0.004545454545454547], \"xaxis\": \"x\", \"y\": [\"Age\", \"LD\", \"Gender\", \"Percentage lymphocytes\", \"CRP\"], \"yaxis\": \"y\"}],                        {\"annotations\": [{\"font\": {\"size\": 16}, \"showarrow\": false, \"text\": \"XGBClassifier\", \"x\": 0.5, \"xanchor\": \"center\", \"xref\": \"paper\", \"y\": 1.0, \"yanchor\": \"bottom\", \"yref\": \"paper\"}, {\"font\": {\"size\": 16}, \"showarrow\": false, \"text\": \"drop-out loss\", \"x\": 0.5, \"xanchor\": \"center\", \"xref\": \"paper\", \"y\": 0, \"yanchor\": \"top\", \"yref\": \"paper\", \"yshift\": -30}], \"font\": {\"color\": \"#371ea3\"}, \"height\": 283.0, \"margin\": {\"b\": 71, \"r\": 30, \"t\": 78}, \"shapes\": [{\"line\": {\"color\": \"#371ea3\", \"dash\": \"dot\", \"width\": 1.5}, \"type\": \"line\", \"x0\": 0.20727272727272728, \"x1\": 0.20727272727272728, \"xref\": \"x\", \"y0\": -1, \"y1\": 5, \"yref\": \"y\"}], \"template\": {\"data\": {\"scatter\": [{\"type\": \"scatter\"}]}}, \"title\": {\"text\": \"Variable Importance\", \"x\": 0.15}, \"xaxis\": {\"anchor\": \"y\", \"automargin\": true, \"domain\": [0.0, 1.0], \"fixedrange\": true, \"gridwidth\": 2, \"range\": [0.18880909090909093, 0.3488272727272727], \"tickcolor\": \"white\", \"ticklen\": 3, \"ticks\": \"outside\", \"type\": \"linear\", \"zeroline\": false}, \"yaxis\": {\"anchor\": \"x\", \"automargin\": true, \"autorange\": \"reversed\", \"domain\": [0.0, 1.0], \"fixedrange\": true, \"gridwidth\": 2, \"tickcolor\": \"white\", \"ticklen\": 10, \"ticks\": \"outside\", \"type\": \"category\"}},                        {\"displaylogo\": false, \"staticPlot\": false, \"toImageButtonOptions\": {\"height\": null, \"width\": null}, \"modeBarButtonsToRemove\": [\"sendDataToCloud\", \"lasso2d\", \"autoScale2d\", \"select2d\", \"zoom2d\", \"pan2d\", \"zoomIn2d\", \"zoomOut2d\", \"resetScale2d\", \"toggleSpikelines\", \"hoverCompareCartesian\", \"hoverClosestCartesian\"], \"responsive\": true}                    ).then(function(){\n",
       "                            \n",
       "var gd = document.getElementById('c96f64f7-428c-46b2-867f-04d5be14485f');\n",
       "var x = new MutationObserver(function (mutations, observer) {{\n",
       "        var display = window.getComputedStyle(gd).display;\n",
       "        if (!display || display === 'none') {{\n",
       "            console.log([gd, 'removed!']);\n",
       "            Plotly.purge(gd);\n",
       "            observer.disconnect();\n",
       "        }}\n",
       "}});\n",
       "\n",
       "// Listen for the removal of the full notebook cells\n",
       "var notebookContainer = gd.closest('#notebook-container');\n",
       "if (notebookContainer) {{\n",
       "    x.observe(notebookContainer, {childList: true});\n",
       "}}\n",
       "\n",
       "// Listen for the clearing of the current output cell\n",
       "var outputEl = gd.closest('.output');\n",
       "if (outputEl) {{\n",
       "    x.observe(outputEl, {childList: true});\n",
       "}}\n",
       "\n",
       "                        })                };                });            </script>        </div>"
      ]
     },
     "metadata": {},
     "output_type": "display_data"
    }
   ],
   "source": [
    "exp.model_parts().plot()"
   ]
  },
  {
   "cell_type": "code",
   "execution_count": 137,
   "metadata": {},
   "outputs": [
    {
     "name": "stderr",
     "output_type": "stream",
     "text": [
      "Calculating ceteris paribus: 100%|██████████| 5/5 [00:00<00:00, 50.26it/s]\n"
     ]
    }
   ],
   "source": [
    "pdp_num = exp.model_profile(type = 'partial', label=\"pdp\")"
   ]
  },
  {
   "cell_type": "code",
   "execution_count": 138,
   "metadata": {},
   "outputs": [
    {
     "data": {
      "application/vnd.plotly.v1+json": {
       "config": {
        "displaylogo": false,
        "modeBarButtonsToRemove": [
         "sendDataToCloud",
         "lasso2d",
         "autoScale2d",
         "select2d",
         "zoom2d",
         "pan2d",
         "zoomIn2d",
         "zoomOut2d",
         "resetScale2d",
         "toggleSpikelines",
         "hoverCompareCartesian",
         "hoverClosestCartesian"
        ],
        "plotlyServerURL": "https://plot.ly",
        "staticPlot": false,
        "toImageButtonOptions": {
         "height": null,
         "width": null
        }
       },
       "data": [
        {
         "customdata": [
          [
           0.21495769917964935,
           "pdp",
           "Age"
          ],
          [
           0.21495769917964935,
           "pdp",
           "Age"
          ],
          [
           0.21495769917964935,
           "pdp",
           "Age"
          ],
          [
           0.21495769917964935,
           "pdp",
           "Age"
          ],
          [
           0.21495769917964935,
           "pdp",
           "Age"
          ],
          [
           0.21495769917964935,
           "pdp",
           "Age"
          ],
          [
           0.21495769917964935,
           "pdp",
           "Age"
          ],
          [
           0.21495769917964935,
           "pdp",
           "Age"
          ],
          [
           0.21495769917964935,
           "pdp",
           "Age"
          ],
          [
           0.21495769917964935,
           "pdp",
           "Age"
          ],
          [
           0.21495769917964935,
           "pdp",
           "Age"
          ],
          [
           0.21495769917964935,
           "pdp",
           "Age"
          ],
          [
           0.21495769917964935,
           "pdp",
           "Age"
          ],
          [
           0.21495769917964935,
           "pdp",
           "Age"
          ],
          [
           0.21495769917964935,
           "pdp",
           "Age"
          ],
          [
           0.21495769917964935,
           "pdp",
           "Age"
          ],
          [
           0.21495769917964935,
           "pdp",
           "Age"
          ],
          [
           0.21495769917964935,
           "pdp",
           "Age"
          ],
          [
           0.21495769917964935,
           "pdp",
           "Age"
          ],
          [
           0.21495769917964935,
           "pdp",
           "Age"
          ],
          [
           0.21495769917964935,
           "pdp",
           "Age"
          ],
          [
           0.21495769917964935,
           "pdp",
           "Age"
          ],
          [
           0.21495769917964935,
           "pdp",
           "Age"
          ],
          [
           0.21495769917964935,
           "pdp",
           "Age"
          ],
          [
           0.21495769917964935,
           "pdp",
           "Age"
          ],
          [
           0.21495769917964935,
           "pdp",
           "Age"
          ],
          [
           0.21495769917964935,
           "pdp",
           "Age"
          ],
          [
           0.21495769917964935,
           "pdp",
           "Age"
          ],
          [
           0.21495769917964935,
           "pdp",
           "Age"
          ],
          [
           0.21495769917964935,
           "pdp",
           "Age"
          ],
          [
           0.21495769917964935,
           "pdp",
           "Age"
          ],
          [
           0.21495769917964935,
           "pdp",
           "Age"
          ],
          [
           0.21495769917964935,
           "pdp",
           "Age"
          ],
          [
           0.21495769917964935,
           "pdp",
           "Age"
          ],
          [
           0.21495769917964935,
           "pdp",
           "Age"
          ],
          [
           0.21495769917964935,
           "pdp",
           "Age"
          ],
          [
           0.21495769917964935,
           "pdp",
           "Age"
          ],
          [
           0.21495769917964935,
           "pdp",
           "Age"
          ],
          [
           0.21495769917964935,
           "pdp",
           "Age"
          ],
          [
           0.21495769917964935,
           "pdp",
           "Age"
          ],
          [
           0.21495769917964935,
           "pdp",
           "Age"
          ],
          [
           0.21495769917964935,
           "pdp",
           "Age"
          ],
          [
           0.21495769917964935,
           "pdp",
           "Age"
          ],
          [
           0.21495769917964935,
           "pdp",
           "Age"
          ],
          [
           0.21495769917964935,
           "pdp",
           "Age"
          ],
          [
           0.21495769917964935,
           "pdp",
           "Age"
          ],
          [
           0.21495769917964935,
           "pdp",
           "Age"
          ],
          [
           0.21495769917964935,
           "pdp",
           "Age"
          ],
          [
           0.21495769917964935,
           "pdp",
           "Age"
          ],
          [
           0.21495769917964935,
           "pdp",
           "Age"
          ],
          [
           0.21495769917964935,
           "pdp",
           "Age"
          ],
          [
           0.21495769917964935,
           "pdp",
           "Age"
          ],
          [
           0.21495769917964935,
           "pdp",
           "Age"
          ],
          [
           0.21495769917964935,
           "pdp",
           "Age"
          ],
          [
           0.21495769917964935,
           "pdp",
           "Age"
          ],
          [
           0.21495769917964935,
           "pdp",
           "Age"
          ],
          [
           0.21495769917964935,
           "pdp",
           "Age"
          ],
          [
           0.21495769917964935,
           "pdp",
           "Age"
          ],
          [
           0.21495769917964935,
           "pdp",
           "Age"
          ],
          [
           0.21495769917964935,
           "pdp",
           "Age"
          ],
          [
           0.21495769917964935,
           "pdp",
           "Age"
          ],
          [
           0.21495769917964935,
           "pdp",
           "Age"
          ],
          [
           0.21495769917964935,
           "pdp",
           "Age"
          ],
          [
           0.21495769917964935,
           "pdp",
           "Age"
          ],
          [
           0.21495769917964935,
           "pdp",
           "Age"
          ],
          [
           0.21495769917964935,
           "pdp",
           "Age"
          ],
          [
           0.21495769917964935,
           "pdp",
           "Age"
          ],
          [
           0.21495769917964935,
           "pdp",
           "Age"
          ],
          [
           0.21495769917964935,
           "pdp",
           "Age"
          ],
          [
           0.21495769917964935,
           "pdp",
           "Age"
          ],
          [
           0.21495769917964935,
           "pdp",
           "Age"
          ],
          [
           0.21495769917964935,
           "pdp",
           "Age"
          ],
          [
           0.21495769917964935,
           "pdp",
           "Age"
          ],
          [
           0.21495769917964935,
           "pdp",
           "Age"
          ],
          [
           0.21495769917964935,
           "pdp",
           "Age"
          ],
          [
           0.21495769917964935,
           "pdp",
           "Age"
          ],
          [
           0.21495769917964935,
           "pdp",
           "Age"
          ],
          [
           0.21495769917964935,
           "pdp",
           "Age"
          ],
          [
           0.21495769917964935,
           "pdp",
           "Age"
          ],
          [
           0.21495769917964935,
           "pdp",
           "Age"
          ],
          [
           0.21495769917964935,
           "pdp",
           "Age"
          ],
          [
           0.21495769917964935,
           "pdp",
           "Age"
          ],
          [
           0.21495769917964935,
           "pdp",
           "Age"
          ],
          [
           0.21495769917964935,
           "pdp",
           "Age"
          ],
          [
           0.21495769917964935,
           "pdp",
           "Age"
          ],
          [
           0.21495769917964935,
           "pdp",
           "Age"
          ],
          [
           0.21495769917964935,
           "pdp",
           "Age"
          ],
          [
           0.21495769917964935,
           "pdp",
           "Age"
          ],
          [
           0.21495769917964935,
           "pdp",
           "Age"
          ],
          [
           0.21495769917964935,
           "pdp",
           "Age"
          ],
          [
           0.21495769917964935,
           "pdp",
           "Age"
          ],
          [
           0.21495769917964935,
           "pdp",
           "Age"
          ],
          [
           0.21495769917964935,
           "pdp",
           "Age"
          ],
          [
           0.21495769917964935,
           "pdp",
           "Age"
          ],
          [
           0.21495769917964935,
           "pdp",
           "Age"
          ],
          [
           0.21495769917964935,
           "pdp",
           "Age"
          ],
          [
           0.21495769917964935,
           "pdp",
           "Age"
          ],
          [
           0.21495769917964935,
           "pdp",
           "Age"
          ],
          [
           0.21495769917964935,
           "pdp",
           "Age"
          ],
          [
           0.21495769917964935,
           "pdp",
           "Age"
          ],
          [
           0.21495769917964935,
           "pdp",
           "Age"
          ]
         ],
         "hovertemplate": "<b>%{hovertext}</b><br><br>prediction=%{y:.3f}<br>mean_prediction=%{customdata[0]:.3f}<extra></extra>",
         "hovertext": [
          "pdp",
          "pdp",
          "pdp",
          "pdp",
          "pdp",
          "pdp",
          "pdp",
          "pdp",
          "pdp",
          "pdp",
          "pdp",
          "pdp",
          "pdp",
          "pdp",
          "pdp",
          "pdp",
          "pdp",
          "pdp",
          "pdp",
          "pdp",
          "pdp",
          "pdp",
          "pdp",
          "pdp",
          "pdp",
          "pdp",
          "pdp",
          "pdp",
          "pdp",
          "pdp",
          "pdp",
          "pdp",
          "pdp",
          "pdp",
          "pdp",
          "pdp",
          "pdp",
          "pdp",
          "pdp",
          "pdp",
          "pdp",
          "pdp",
          "pdp",
          "pdp",
          "pdp",
          "pdp",
          "pdp",
          "pdp",
          "pdp",
          "pdp",
          "pdp",
          "pdp",
          "pdp",
          "pdp",
          "pdp",
          "pdp",
          "pdp",
          "pdp",
          "pdp",
          "pdp",
          "pdp",
          "pdp",
          "pdp",
          "pdp",
          "pdp",
          "pdp",
          "pdp",
          "pdp",
          "pdp",
          "pdp",
          "pdp",
          "pdp",
          "pdp",
          "pdp",
          "pdp",
          "pdp",
          "pdp",
          "pdp",
          "pdp",
          "pdp",
          "pdp",
          "pdp",
          "pdp",
          "pdp",
          "pdp",
          "pdp",
          "pdp",
          "pdp",
          "pdp",
          "pdp",
          "pdp",
          "pdp",
          "pdp",
          "pdp",
          "pdp",
          "pdp",
          "pdp",
          "pdp",
          "pdp",
          "pdp",
          "pdp"
         ],
         "legendgroup": "pdp",
         "line": {
          "color": "#46bac2",
          "dash": "solid",
          "width": 2
         },
         "mode": "lines",
         "name": "pdp",
         "opacity": 1,
         "orientation": "v",
         "showlegend": true,
         "type": "scatter",
         "x": [
          19,
          19.7,
          20.4,
          21.1,
          21.8,
          22.5,
          23.2,
          23.9,
          24.6,
          25.3,
          26,
          26.7,
          27.4,
          28.1,
          28.799999999999997,
          29.5,
          30.2,
          30.9,
          31.6,
          32.3,
          33,
          33.7,
          34.4,
          35.099999999999994,
          35.8,
          36.5,
          37.2,
          37.9,
          38.599999999999994,
          39.3,
          40,
          40.7,
          41.4,
          42.099999999999994,
          42.8,
          43.5,
          44.2,
          44.9,
          45.599999999999994,
          46.3,
          47,
          47.7,
          48.4,
          49.099999999999994,
          49.8,
          50.5,
          51.199999999999996,
          51.9,
          52.599999999999994,
          53.3,
          54,
          54.699999999999996,
          55.4,
          56.099999999999994,
          56.8,
          57.5,
          58.199999999999996,
          58.9,
          59.599999999999994,
          60.3,
          61,
          61.699999999999996,
          62.4,
          63.099999999999994,
          63.8,
          64.5,
          65.19999999999999,
          65.9,
          66.6,
          67.3,
          68,
          68.69999999999999,
          69.4,
          70.1,
          70.8,
          71.5,
          72.19999999999999,
          72.9,
          73.6,
          74.3,
          75,
          75.69999999999999,
          76.4,
          77.1,
          77.8,
          78.5,
          79.19999999999999,
          79.9,
          80.6,
          81.3,
          82,
          82.69999999999999,
          83.39999999999999,
          84.1,
          84.8,
          85.5,
          86.19999999999999,
          86.89999999999999,
          87.6,
          88.3,
          89
         ],
         "xaxis": "x3",
         "y": [
          0.029438920319080353,
          0.029438920319080353,
          0.029438920319080353,
          0.029438920319080353,
          0.029438920319080353,
          0.029438920319080353,
          0.029438920319080353,
          0.029438920319080353,
          0.029438920319080353,
          0.029438920319080353,
          0.029438920319080353,
          0.029438920319080353,
          0.029438920319080353,
          0.029438920319080353,
          0.029438920319080353,
          0.029438920319080353,
          0.029438920319080353,
          0.029438920319080353,
          0.029438920319080353,
          0.029438920319080353,
          0.029438920319080353,
          0.029438920319080353,
          0.029438920319080353,
          0.029438920319080353,
          0.029438920319080353,
          0.029438920319080353,
          0.029438920319080353,
          0.029438920319080353,
          0.029438920319080353,
          0.029438920319080353,
          0.029438920319080353,
          0.029438920319080353,
          0.029438920319080353,
          0.029438920319080353,
          0.029438920319080353,
          0.029438920319080353,
          0.029438920319080353,
          0.029438920319080353,
          0.03768381103873253,
          0.03768381103873253,
          0.03768381103873253,
          0.03768381103873253,
          0.03768381103873253,
          0.03768381103873253,
          0.041561879217624664,
          0.041561879217624664,
          0.041561879217624664,
          0.041561879217624664,
          0.041561879217624664,
          0.041561879217624664,
          0.041561879217624664,
          0.041561879217624664,
          0.041561879217624664,
          0.041561879217624664,
          0.041561879217624664,
          0.07459645718336105,
          0.07459645718336105,
          0.07234843075275421,
          0.07234843075275421,
          0.07234843075275421,
          0.07234843075275421,
          0.07234843075275421,
          0.07380195707082748,
          0.21311050653457642,
          0.14186891913414001,
          0.13856156170368195,
          0.1505621373653412,
          0.21683381497859955,
          0.22994451224803925,
          0.22994451224803925,
          0.2568981945514679,
          0.27434244751930237,
          0.27434244751930237,
          0.23351646959781647,
          0.23351646959781647,
          0.2717708945274353,
          0.2717708945274353,
          0.2810461223125458,
          0.28508126735687256,
          0.28297364711761475,
          0.2828163802623749,
          0.31405109167099,
          0.31405109167099,
          0.33147376775741577,
          0.3316008746623993,
          0.3156341314315796,
          0.3156341314315796,
          0.3156341314315796,
          0.2615501284599304,
          0.2615501284599304,
          0.18311022222042084,
          0.18311022222042084,
          0.18311022222042084,
          0.19115419685840607,
          0.19115419685840607,
          0.2020304948091507,
          0.2020304948091507,
          0.4107753336429596,
          0.41865435242652893,
          0.41865435242652893,
          0.41865435242652893
         ],
         "yaxis": "y3"
        },
        {
         "customdata": [
          [
           0.21495769917964935,
           "pdp",
           "LD"
          ],
          [
           0.21495769917964935,
           "pdp",
           "LD"
          ],
          [
           0.21495769917964935,
           "pdp",
           "LD"
          ],
          [
           0.21495769917964935,
           "pdp",
           "LD"
          ],
          [
           0.21495769917964935,
           "pdp",
           "LD"
          ],
          [
           0.21495769917964935,
           "pdp",
           "LD"
          ],
          [
           0.21495769917964935,
           "pdp",
           "LD"
          ],
          [
           0.21495769917964935,
           "pdp",
           "LD"
          ],
          [
           0.21495769917964935,
           "pdp",
           "LD"
          ],
          [
           0.21495769917964935,
           "pdp",
           "LD"
          ],
          [
           0.21495769917964935,
           "pdp",
           "LD"
          ],
          [
           0.21495769917964935,
           "pdp",
           "LD"
          ],
          [
           0.21495769917964935,
           "pdp",
           "LD"
          ],
          [
           0.21495769917964935,
           "pdp",
           "LD"
          ],
          [
           0.21495769917964935,
           "pdp",
           "LD"
          ],
          [
           0.21495769917964935,
           "pdp",
           "LD"
          ],
          [
           0.21495769917964935,
           "pdp",
           "LD"
          ],
          [
           0.21495769917964935,
           "pdp",
           "LD"
          ],
          [
           0.21495769917964935,
           "pdp",
           "LD"
          ],
          [
           0.21495769917964935,
           "pdp",
           "LD"
          ],
          [
           0.21495769917964935,
           "pdp",
           "LD"
          ],
          [
           0.21495769917964935,
           "pdp",
           "LD"
          ],
          [
           0.21495769917964935,
           "pdp",
           "LD"
          ],
          [
           0.21495769917964935,
           "pdp",
           "LD"
          ],
          [
           0.21495769917964935,
           "pdp",
           "LD"
          ],
          [
           0.21495769917964935,
           "pdp",
           "LD"
          ],
          [
           0.21495769917964935,
           "pdp",
           "LD"
          ],
          [
           0.21495769917964935,
           "pdp",
           "LD"
          ],
          [
           0.21495769917964935,
           "pdp",
           "LD"
          ],
          [
           0.21495769917964935,
           "pdp",
           "LD"
          ],
          [
           0.21495769917964935,
           "pdp",
           "LD"
          ],
          [
           0.21495769917964935,
           "pdp",
           "LD"
          ],
          [
           0.21495769917964935,
           "pdp",
           "LD"
          ],
          [
           0.21495769917964935,
           "pdp",
           "LD"
          ],
          [
           0.21495769917964935,
           "pdp",
           "LD"
          ],
          [
           0.21495769917964935,
           "pdp",
           "LD"
          ],
          [
           0.21495769917964935,
           "pdp",
           "LD"
          ],
          [
           0.21495769917964935,
           "pdp",
           "LD"
          ],
          [
           0.21495769917964935,
           "pdp",
           "LD"
          ],
          [
           0.21495769917964935,
           "pdp",
           "LD"
          ],
          [
           0.21495769917964935,
           "pdp",
           "LD"
          ],
          [
           0.21495769917964935,
           "pdp",
           "LD"
          ],
          [
           0.21495769917964935,
           "pdp",
           "LD"
          ],
          [
           0.21495769917964935,
           "pdp",
           "LD"
          ],
          [
           0.21495769917964935,
           "pdp",
           "LD"
          ],
          [
           0.21495769917964935,
           "pdp",
           "LD"
          ],
          [
           0.21495769917964935,
           "pdp",
           "LD"
          ],
          [
           0.21495769917964935,
           "pdp",
           "LD"
          ],
          [
           0.21495769917964935,
           "pdp",
           "LD"
          ],
          [
           0.21495769917964935,
           "pdp",
           "LD"
          ],
          [
           0.21495769917964935,
           "pdp",
           "LD"
          ],
          [
           0.21495769917964935,
           "pdp",
           "LD"
          ],
          [
           0.21495769917964935,
           "pdp",
           "LD"
          ],
          [
           0.21495769917964935,
           "pdp",
           "LD"
          ],
          [
           0.21495769917964935,
           "pdp",
           "LD"
          ],
          [
           0.21495769917964935,
           "pdp",
           "LD"
          ],
          [
           0.21495769917964935,
           "pdp",
           "LD"
          ],
          [
           0.21495769917964935,
           "pdp",
           "LD"
          ],
          [
           0.21495769917964935,
           "pdp",
           "LD"
          ],
          [
           0.21495769917964935,
           "pdp",
           "LD"
          ],
          [
           0.21495769917964935,
           "pdp",
           "LD"
          ],
          [
           0.21495769917964935,
           "pdp",
           "LD"
          ],
          [
           0.21495769917964935,
           "pdp",
           "LD"
          ],
          [
           0.21495769917964935,
           "pdp",
           "LD"
          ],
          [
           0.21495769917964935,
           "pdp",
           "LD"
          ],
          [
           0.21495769917964935,
           "pdp",
           "LD"
          ],
          [
           0.21495769917964935,
           "pdp",
           "LD"
          ],
          [
           0.21495769917964935,
           "pdp",
           "LD"
          ],
          [
           0.21495769917964935,
           "pdp",
           "LD"
          ],
          [
           0.21495769917964935,
           "pdp",
           "LD"
          ],
          [
           0.21495769917964935,
           "pdp",
           "LD"
          ],
          [
           0.21495769917964935,
           "pdp",
           "LD"
          ],
          [
           0.21495769917964935,
           "pdp",
           "LD"
          ],
          [
           0.21495769917964935,
           "pdp",
           "LD"
          ],
          [
           0.21495769917964935,
           "pdp",
           "LD"
          ],
          [
           0.21495769917964935,
           "pdp",
           "LD"
          ],
          [
           0.21495769917964935,
           "pdp",
           "LD"
          ],
          [
           0.21495769917964935,
           "pdp",
           "LD"
          ],
          [
           0.21495769917964935,
           "pdp",
           "LD"
          ],
          [
           0.21495769917964935,
           "pdp",
           "LD"
          ],
          [
           0.21495769917964935,
           "pdp",
           "LD"
          ],
          [
           0.21495769917964935,
           "pdp",
           "LD"
          ],
          [
           0.21495769917964935,
           "pdp",
           "LD"
          ],
          [
           0.21495769917964935,
           "pdp",
           "LD"
          ],
          [
           0.21495769917964935,
           "pdp",
           "LD"
          ],
          [
           0.21495769917964935,
           "pdp",
           "LD"
          ],
          [
           0.21495769917964935,
           "pdp",
           "LD"
          ],
          [
           0.21495769917964935,
           "pdp",
           "LD"
          ],
          [
           0.21495769917964935,
           "pdp",
           "LD"
          ],
          [
           0.21495769917964935,
           "pdp",
           "LD"
          ],
          [
           0.21495769917964935,
           "pdp",
           "LD"
          ],
          [
           0.21495769917964935,
           "pdp",
           "LD"
          ],
          [
           0.21495769917964935,
           "pdp",
           "LD"
          ],
          [
           0.21495769917964935,
           "pdp",
           "LD"
          ],
          [
           0.21495769917964935,
           "pdp",
           "LD"
          ],
          [
           0.21495769917964935,
           "pdp",
           "LD"
          ],
          [
           0.21495769917964935,
           "pdp",
           "LD"
          ],
          [
           0.21495769917964935,
           "pdp",
           "LD"
          ],
          [
           0.21495769917964935,
           "pdp",
           "LD"
          ],
          [
           0.21495769917964935,
           "pdp",
           "LD"
          ],
          [
           0.21495769917964935,
           "pdp",
           "LD"
          ]
         ],
         "hovertemplate": "<b>%{hovertext}</b><br><br>prediction=%{y:.3f}<br>mean_prediction=%{customdata[0]:.3f}<extra></extra>",
         "hovertext": [
          "pdp",
          "pdp",
          "pdp",
          "pdp",
          "pdp",
          "pdp",
          "pdp",
          "pdp",
          "pdp",
          "pdp",
          "pdp",
          "pdp",
          "pdp",
          "pdp",
          "pdp",
          "pdp",
          "pdp",
          "pdp",
          "pdp",
          "pdp",
          "pdp",
          "pdp",
          "pdp",
          "pdp",
          "pdp",
          "pdp",
          "pdp",
          "pdp",
          "pdp",
          "pdp",
          "pdp",
          "pdp",
          "pdp",
          "pdp",
          "pdp",
          "pdp",
          "pdp",
          "pdp",
          "pdp",
          "pdp",
          "pdp",
          "pdp",
          "pdp",
          "pdp",
          "pdp",
          "pdp",
          "pdp",
          "pdp",
          "pdp",
          "pdp",
          "pdp",
          "pdp",
          "pdp",
          "pdp",
          "pdp",
          "pdp",
          "pdp",
          "pdp",
          "pdp",
          "pdp",
          "pdp",
          "pdp",
          "pdp",
          "pdp",
          "pdp",
          "pdp",
          "pdp",
          "pdp",
          "pdp",
          "pdp",
          "pdp",
          "pdp",
          "pdp",
          "pdp",
          "pdp",
          "pdp",
          "pdp",
          "pdp",
          "pdp",
          "pdp",
          "pdp",
          "pdp",
          "pdp",
          "pdp",
          "pdp",
          "pdp",
          "pdp",
          "pdp",
          "pdp",
          "pdp",
          "pdp",
          "pdp",
          "pdp",
          "pdp",
          "pdp",
          "pdp",
          "pdp",
          "pdp",
          "pdp",
          "pdp",
          "pdp"
         ],
         "legendgroup": "pdp",
         "line": {
          "color": "#46bac2",
          "dash": "solid",
          "width": 2
         },
         "mode": "lines",
         "name": "pdp",
         "opacity": 1,
         "orientation": "v",
         "showlegend": false,
         "type": "scatter",
         "x": [
          151,
          163.65,
          176.3,
          188.95,
          201.6,
          214.25,
          226.9,
          239.55,
          252.2,
          264.85,
          277.5,
          290.15,
          302.8,
          315.45000000000005,
          328.1,
          340.75,
          353.4,
          366.05,
          378.70000000000005,
          391.35,
          404,
          416.65000000000003,
          429.3,
          441.95,
          454.6,
          467.25,
          479.90000000000003,
          492.55,
          505.2,
          517.85,
          530.5,
          543.1500000000001,
          555.8,
          568.45,
          581.1,
          593.75,
          606.4000000000001,
          619.05,
          631.7,
          644.35,
          657,
          669.65,
          682.3000000000001,
          694.95,
          707.6,
          720.25,
          732.9,
          745.5500000000001,
          758.2,
          770.85,
          783.5,
          796.15,
          808.8000000000001,
          821.45,
          834.1,
          846.75,
          859.4,
          872.0500000000001,
          884.7,
          897.35,
          910,
          922.65,
          935.3000000000001,
          947.95,
          960.6,
          973.25,
          985.9,
          998.5500000000001,
          1011.2,
          1023.85,
          1036.5,
          1049.15,
          1061.8000000000002,
          1074.45,
          1087.1,
          1099.75,
          1112.4,
          1125.0500000000002,
          1137.7,
          1150.35,
          1163,
          1175.65,
          1188.3,
          1200.95,
          1213.6000000000001,
          1226.25,
          1238.9,
          1251.55,
          1264.2,
          1276.8500000000001,
          1289.5,
          1302.15,
          1314.8,
          1327.45,
          1340.1000000000001,
          1352.75,
          1365.4,
          1378.05,
          1390.7,
          1403.3500000000001,
          1416
         ],
         "xaxis": "x4",
         "y": [
          0.07677603513002396,
          0.07677603513002396,
          0.07677603513002396,
          0.07677603513002396,
          0.07677603513002396,
          0.07677603513002396,
          0.06636621803045273,
          0.06636621803045273,
          0.06636621803045273,
          0.06636621803045273,
          0.07138165086507797,
          0.29290562868118286,
          0.13930575549602509,
          0.1562945544719696,
          0.11395268887281418,
          0.11395268887281418,
          0.130610853433609,
          0.28330233693122864,
          0.28761759400367737,
          0.25635507702827454,
          0.22978579998016357,
          0.27111145853996277,
          0.28323620557785034,
          0.2850676476955414,
          0.28875696659088135,
          0.2995014190673828,
          0.2835044860839844,
          0.27859053015708923,
          0.27859053015708923,
          0.27859053015708923,
          0.28124532103538513,
          0.45732954144477844,
          0.531049907207489,
          0.29030680656433105,
          0.289301335811615,
          0.289301335811615,
          0.24457411468029022,
          0.23497696220874786,
          0.23748281598091125,
          0.22150225937366486,
          0.22366468608379364,
          0.29532375931739807,
          0.29532375931739807,
          0.28523045778274536,
          0.35042399168014526,
          0.36719390749931335,
          0.41107138991355896,
          0.4002145230770111,
          0.4002145230770111,
          0.3593897521495819,
          0.3593897521495819,
          0.3593897521495819,
          0.3593897521495819,
          0.3593897521495819,
          0.3593897521495819,
          0.3593897521495819,
          0.3593897521495819,
          0.3593897521495819,
          0.3593897521495819,
          0.3593897521495819,
          0.3593897521495819,
          0.3593897521495819,
          0.3593897521495819,
          0.3593897521495819,
          0.3593897521495819,
          0.3593897521495819,
          0.3593897521495819,
          0.3593897521495819,
          0.3593897521495819,
          0.3593897521495819,
          0.3593897521495819,
          0.3593897521495819,
          0.3593897521495819,
          0.3593897521495819,
          0.3593897521495819,
          0.3593897521495819,
          0.3593897521495819,
          0.3593897521495819,
          0.3593897521495819,
          0.3593897521495819,
          0.3593897521495819,
          0.3593897521495819,
          0.3593897521495819,
          0.3593897521495819,
          0.3593897521495819,
          0.3593897521495819,
          0.3593897521495819,
          0.3593897521495819,
          0.3593897521495819,
          0.3593897521495819,
          0.3593897521495819,
          0.3593897521495819,
          0.3593897521495819,
          0.3593897521495819,
          0.3593897521495819,
          0.3593897521495819,
          0.3593897521495819,
          0.3593897521495819,
          0.3593897521495819,
          0.3593897521495819,
          0.3593897521495819
         ],
         "yaxis": "y4"
        },
        {
         "customdata": [
          [
           0.21495769917964935,
           "pdp",
           "CRP"
          ],
          [
           0.21495769917964935,
           "pdp",
           "CRP"
          ],
          [
           0.21495769917964935,
           "pdp",
           "CRP"
          ],
          [
           0.21495769917964935,
           "pdp",
           "CRP"
          ],
          [
           0.21495769917964935,
           "pdp",
           "CRP"
          ],
          [
           0.21495769917964935,
           "pdp",
           "CRP"
          ],
          [
           0.21495769917964935,
           "pdp",
           "CRP"
          ],
          [
           0.21495769917964935,
           "pdp",
           "CRP"
          ],
          [
           0.21495769917964935,
           "pdp",
           "CRP"
          ],
          [
           0.21495769917964935,
           "pdp",
           "CRP"
          ],
          [
           0.21495769917964935,
           "pdp",
           "CRP"
          ],
          [
           0.21495769917964935,
           "pdp",
           "CRP"
          ],
          [
           0.21495769917964935,
           "pdp",
           "CRP"
          ],
          [
           0.21495769917964935,
           "pdp",
           "CRP"
          ],
          [
           0.21495769917964935,
           "pdp",
           "CRP"
          ],
          [
           0.21495769917964935,
           "pdp",
           "CRP"
          ],
          [
           0.21495769917964935,
           "pdp",
           "CRP"
          ],
          [
           0.21495769917964935,
           "pdp",
           "CRP"
          ],
          [
           0.21495769917964935,
           "pdp",
           "CRP"
          ],
          [
           0.21495769917964935,
           "pdp",
           "CRP"
          ],
          [
           0.21495769917964935,
           "pdp",
           "CRP"
          ],
          [
           0.21495769917964935,
           "pdp",
           "CRP"
          ],
          [
           0.21495769917964935,
           "pdp",
           "CRP"
          ],
          [
           0.21495769917964935,
           "pdp",
           "CRP"
          ],
          [
           0.21495769917964935,
           "pdp",
           "CRP"
          ],
          [
           0.21495769917964935,
           "pdp",
           "CRP"
          ],
          [
           0.21495769917964935,
           "pdp",
           "CRP"
          ],
          [
           0.21495769917964935,
           "pdp",
           "CRP"
          ],
          [
           0.21495769917964935,
           "pdp",
           "CRP"
          ],
          [
           0.21495769917964935,
           "pdp",
           "CRP"
          ],
          [
           0.21495769917964935,
           "pdp",
           "CRP"
          ],
          [
           0.21495769917964935,
           "pdp",
           "CRP"
          ],
          [
           0.21495769917964935,
           "pdp",
           "CRP"
          ],
          [
           0.21495769917964935,
           "pdp",
           "CRP"
          ],
          [
           0.21495769917964935,
           "pdp",
           "CRP"
          ],
          [
           0.21495769917964935,
           "pdp",
           "CRP"
          ],
          [
           0.21495769917964935,
           "pdp",
           "CRP"
          ],
          [
           0.21495769917964935,
           "pdp",
           "CRP"
          ],
          [
           0.21495769917964935,
           "pdp",
           "CRP"
          ],
          [
           0.21495769917964935,
           "pdp",
           "CRP"
          ],
          [
           0.21495769917964935,
           "pdp",
           "CRP"
          ],
          [
           0.21495769917964935,
           "pdp",
           "CRP"
          ],
          [
           0.21495769917964935,
           "pdp",
           "CRP"
          ],
          [
           0.21495769917964935,
           "pdp",
           "CRP"
          ],
          [
           0.21495769917964935,
           "pdp",
           "CRP"
          ],
          [
           0.21495769917964935,
           "pdp",
           "CRP"
          ],
          [
           0.21495769917964935,
           "pdp",
           "CRP"
          ],
          [
           0.21495769917964935,
           "pdp",
           "CRP"
          ],
          [
           0.21495769917964935,
           "pdp",
           "CRP"
          ],
          [
           0.21495769917964935,
           "pdp",
           "CRP"
          ],
          [
           0.21495769917964935,
           "pdp",
           "CRP"
          ],
          [
           0.21495769917964935,
           "pdp",
           "CRP"
          ],
          [
           0.21495769917964935,
           "pdp",
           "CRP"
          ],
          [
           0.21495769917964935,
           "pdp",
           "CRP"
          ],
          [
           0.21495769917964935,
           "pdp",
           "CRP"
          ],
          [
           0.21495769917964935,
           "pdp",
           "CRP"
          ],
          [
           0.21495769917964935,
           "pdp",
           "CRP"
          ],
          [
           0.21495769917964935,
           "pdp",
           "CRP"
          ],
          [
           0.21495769917964935,
           "pdp",
           "CRP"
          ],
          [
           0.21495769917964935,
           "pdp",
           "CRP"
          ],
          [
           0.21495769917964935,
           "pdp",
           "CRP"
          ],
          [
           0.21495769917964935,
           "pdp",
           "CRP"
          ],
          [
           0.21495769917964935,
           "pdp",
           "CRP"
          ],
          [
           0.21495769917964935,
           "pdp",
           "CRP"
          ],
          [
           0.21495769917964935,
           "pdp",
           "CRP"
          ],
          [
           0.21495769917964935,
           "pdp",
           "CRP"
          ],
          [
           0.21495769917964935,
           "pdp",
           "CRP"
          ],
          [
           0.21495769917964935,
           "pdp",
           "CRP"
          ],
          [
           0.21495769917964935,
           "pdp",
           "CRP"
          ],
          [
           0.21495769917964935,
           "pdp",
           "CRP"
          ],
          [
           0.21495769917964935,
           "pdp",
           "CRP"
          ],
          [
           0.21495769917964935,
           "pdp",
           "CRP"
          ],
          [
           0.21495769917964935,
           "pdp",
           "CRP"
          ],
          [
           0.21495769917964935,
           "pdp",
           "CRP"
          ],
          [
           0.21495769917964935,
           "pdp",
           "CRP"
          ],
          [
           0.21495769917964935,
           "pdp",
           "CRP"
          ],
          [
           0.21495769917964935,
           "pdp",
           "CRP"
          ],
          [
           0.21495769917964935,
           "pdp",
           "CRP"
          ],
          [
           0.21495769917964935,
           "pdp",
           "CRP"
          ],
          [
           0.21495769917964935,
           "pdp",
           "CRP"
          ],
          [
           0.21495769917964935,
           "pdp",
           "CRP"
          ],
          [
           0.21495769917964935,
           "pdp",
           "CRP"
          ],
          [
           0.21495769917964935,
           "pdp",
           "CRP"
          ],
          [
           0.21495769917964935,
           "pdp",
           "CRP"
          ],
          [
           0.21495769917964935,
           "pdp",
           "CRP"
          ],
          [
           0.21495769917964935,
           "pdp",
           "CRP"
          ],
          [
           0.21495769917964935,
           "pdp",
           "CRP"
          ],
          [
           0.21495769917964935,
           "pdp",
           "CRP"
          ],
          [
           0.21495769917964935,
           "pdp",
           "CRP"
          ],
          [
           0.21495769917964935,
           "pdp",
           "CRP"
          ],
          [
           0.21495769917964935,
           "pdp",
           "CRP"
          ],
          [
           0.21495769917964935,
           "pdp",
           "CRP"
          ],
          [
           0.21495769917964935,
           "pdp",
           "CRP"
          ],
          [
           0.21495769917964935,
           "pdp",
           "CRP"
          ],
          [
           0.21495769917964935,
           "pdp",
           "CRP"
          ],
          [
           0.21495769917964935,
           "pdp",
           "CRP"
          ],
          [
           0.21495769917964935,
           "pdp",
           "CRP"
          ],
          [
           0.21495769917964935,
           "pdp",
           "CRP"
          ],
          [
           0.21495769917964935,
           "pdp",
           "CRP"
          ],
          [
           0.21495769917964935,
           "pdp",
           "CRP"
          ],
          [
           0.21495769917964935,
           "pdp",
           "CRP"
          ]
         ],
         "hovertemplate": "<b>%{hovertext}</b><br><br>prediction=%{y:.3f}<br>mean_prediction=%{customdata[0]:.3f}<extra></extra>",
         "hovertext": [
          "pdp",
          "pdp",
          "pdp",
          "pdp",
          "pdp",
          "pdp",
          "pdp",
          "pdp",
          "pdp",
          "pdp",
          "pdp",
          "pdp",
          "pdp",
          "pdp",
          "pdp",
          "pdp",
          "pdp",
          "pdp",
          "pdp",
          "pdp",
          "pdp",
          "pdp",
          "pdp",
          "pdp",
          "pdp",
          "pdp",
          "pdp",
          "pdp",
          "pdp",
          "pdp",
          "pdp",
          "pdp",
          "pdp",
          "pdp",
          "pdp",
          "pdp",
          "pdp",
          "pdp",
          "pdp",
          "pdp",
          "pdp",
          "pdp",
          "pdp",
          "pdp",
          "pdp",
          "pdp",
          "pdp",
          "pdp",
          "pdp",
          "pdp",
          "pdp",
          "pdp",
          "pdp",
          "pdp",
          "pdp",
          "pdp",
          "pdp",
          "pdp",
          "pdp",
          "pdp",
          "pdp",
          "pdp",
          "pdp",
          "pdp",
          "pdp",
          "pdp",
          "pdp",
          "pdp",
          "pdp",
          "pdp",
          "pdp",
          "pdp",
          "pdp",
          "pdp",
          "pdp",
          "pdp",
          "pdp",
          "pdp",
          "pdp",
          "pdp",
          "pdp",
          "pdp",
          "pdp",
          "pdp",
          "pdp",
          "pdp",
          "pdp",
          "pdp",
          "pdp",
          "pdp",
          "pdp",
          "pdp",
          "pdp",
          "pdp",
          "pdp",
          "pdp",
          "pdp",
          "pdp",
          "pdp",
          "pdp",
          "pdp"
         ],
         "legendgroup": "pdp",
         "line": {
          "color": "#46bac2",
          "dash": "solid",
          "width": 2
         },
         "mode": "lines",
         "name": "pdp",
         "opacity": 1,
         "orientation": "v",
         "showlegend": false,
         "type": "scatter",
         "x": [
          2,
          5.42,
          8.84,
          12.26,
          15.68,
          19.1,
          22.52,
          25.939999999999998,
          29.36,
          32.78,
          36.2,
          39.62,
          43.04,
          46.46,
          49.879999999999995,
          53.3,
          56.72,
          60.14,
          63.56,
          66.98,
          70.4,
          73.82,
          77.24,
          80.66,
          84.08,
          87.5,
          90.92,
          94.34,
          97.75999999999999,
          101.17999999999999,
          104.6,
          108.02,
          111.44,
          114.86,
          118.28,
          121.7,
          125.12,
          128.54,
          131.96,
          135.38,
          138.8,
          142.22,
          145.64,
          149.06,
          152.48,
          155.9,
          159.32,
          162.74,
          166.16,
          169.57999999999998,
          173,
          176.42,
          179.84,
          183.26,
          186.68,
          190.1,
          193.51999999999998,
          196.94,
          200.35999999999999,
          203.78,
          207.2,
          210.62,
          214.04,
          217.46,
          220.88,
          224.29999999999998,
          227.72,
          231.14,
          234.56,
          237.98,
          241.4,
          244.82,
          248.24,
          251.66,
          255.07999999999998,
          258.5,
          261.92,
          265.34,
          268.76,
          272.18,
          275.6,
          279.02,
          282.44,
          285.86,
          289.28,
          292.7,
          296.12,
          299.54,
          302.96,
          306.38,
          309.8,
          313.21999999999997,
          316.64,
          320.06,
          323.48,
          326.9,
          330.32,
          333.74,
          337.15999999999997,
          340.58,
          344
         ],
         "xaxis": "x",
         "y": [
          0.2668357193470001,
          0.2668357193470001,
          0.2668357193470001,
          0.2668357193470001,
          0.2646064758300781,
          0.2646064758300781,
          0.2646064758300781,
          0.2646064758300781,
          0.2774507403373718,
          0.20556367933750153,
          0.17558519542217255,
          0.1768503040075302,
          0.1805102378129959,
          0.2387998253107071,
          0.25858259201049805,
          0.24813920259475708,
          0.21077948808670044,
          0.2096097320318222,
          0.2096097320318222,
          0.20769789814949036,
          0.1941649615764618,
          0.1962851732969284,
          0.1962851732969284,
          0.1394951492547989,
          0.1394951492547989,
          0.1394951492547989,
          0.1394951492547989,
          0.14984861016273499,
          0.14541293680667877,
          0.16107924282550812,
          0.2769327759742737,
          0.27422547340393066,
          0.27422547340393066,
          0.165229931473732,
          0.16664226353168488,
          0.16664226353168488,
          0.1796143352985382,
          0.2005908340215683,
          0.2005908340215683,
          0.2005908340215683,
          0.17180731892585754,
          0.16862852871418,
          0.1666020303964615,
          0.1666020303964615,
          0.1666020303964615,
          0.21163825690746307,
          0.21163825690746307,
          0.21163825690746307,
          0.21163825690746307,
          0.21163825690746307,
          0.21163825690746307,
          0.21163825690746307,
          0.21163825690746307,
          0.22788505256175995,
          0.25096285343170166,
          0.25096285343170166,
          0.25096285343170166,
          0.25096285343170166,
          0.25096285343170166,
          0.25474512577056885,
          0.2590968608856201,
          0.24022206664085388,
          0.24022206664085388,
          0.24022206664085388,
          0.24022206664085388,
          0.24022206664085388,
          0.23189817368984222,
          0.23189817368984222,
          0.23189817368984222,
          0.23189817368984222,
          0.23189817368984222,
          0.23189817368984222,
          0.23189817368984222,
          0.23189817368984222,
          0.23189817368984222,
          0.24295322597026825,
          0.2483135610818863,
          0.2483135610818863,
          0.2483135610818863,
          0.2483135610818863,
          0.2483135610818863,
          0.2483135610818863,
          0.3130594789981842,
          0.3130594789981842,
          0.3130594789981842,
          0.30868402123451233,
          0.30868402123451233,
          0.30868402123451233,
          0.30868402123451233,
          0.30868402123451233,
          0.30868402123451233,
          0.30868402123451233,
          0.30868402123451233,
          0.30868402123451233,
          0.30868402123451233,
          0.30868402123451233,
          0.30868402123451233,
          0.30868402123451233,
          0.30868402123451233,
          0.30868402123451233,
          0.30868402123451233
         ],
         "yaxis": "y"
        },
        {
         "customdata": [
          [
           0.21495769917964935,
           "pdp",
           "Percentage lymphocytes"
          ],
          [
           0.21495769917964935,
           "pdp",
           "Percentage lymphocytes"
          ],
          [
           0.21495769917964935,
           "pdp",
           "Percentage lymphocytes"
          ],
          [
           0.21495769917964935,
           "pdp",
           "Percentage lymphocytes"
          ],
          [
           0.21495769917964935,
           "pdp",
           "Percentage lymphocytes"
          ],
          [
           0.21495769917964935,
           "pdp",
           "Percentage lymphocytes"
          ],
          [
           0.21495769917964935,
           "pdp",
           "Percentage lymphocytes"
          ],
          [
           0.21495769917964935,
           "pdp",
           "Percentage lymphocytes"
          ],
          [
           0.21495769917964935,
           "pdp",
           "Percentage lymphocytes"
          ],
          [
           0.21495769917964935,
           "pdp",
           "Percentage lymphocytes"
          ],
          [
           0.21495769917964935,
           "pdp",
           "Percentage lymphocytes"
          ],
          [
           0.21495769917964935,
           "pdp",
           "Percentage lymphocytes"
          ],
          [
           0.21495769917964935,
           "pdp",
           "Percentage lymphocytes"
          ],
          [
           0.21495769917964935,
           "pdp",
           "Percentage lymphocytes"
          ],
          [
           0.21495769917964935,
           "pdp",
           "Percentage lymphocytes"
          ],
          [
           0.21495769917964935,
           "pdp",
           "Percentage lymphocytes"
          ],
          [
           0.21495769917964935,
           "pdp",
           "Percentage lymphocytes"
          ],
          [
           0.21495769917964935,
           "pdp",
           "Percentage lymphocytes"
          ],
          [
           0.21495769917964935,
           "pdp",
           "Percentage lymphocytes"
          ],
          [
           0.21495769917964935,
           "pdp",
           "Percentage lymphocytes"
          ],
          [
           0.21495769917964935,
           "pdp",
           "Percentage lymphocytes"
          ],
          [
           0.21495769917964935,
           "pdp",
           "Percentage lymphocytes"
          ],
          [
           0.21495769917964935,
           "pdp",
           "Percentage lymphocytes"
          ],
          [
           0.21495769917964935,
           "pdp",
           "Percentage lymphocytes"
          ],
          [
           0.21495769917964935,
           "pdp",
           "Percentage lymphocytes"
          ],
          [
           0.21495769917964935,
           "pdp",
           "Percentage lymphocytes"
          ],
          [
           0.21495769917964935,
           "pdp",
           "Percentage lymphocytes"
          ],
          [
           0.21495769917964935,
           "pdp",
           "Percentage lymphocytes"
          ],
          [
           0.21495769917964935,
           "pdp",
           "Percentage lymphocytes"
          ],
          [
           0.21495769917964935,
           "pdp",
           "Percentage lymphocytes"
          ],
          [
           0.21495769917964935,
           "pdp",
           "Percentage lymphocytes"
          ],
          [
           0.21495769917964935,
           "pdp",
           "Percentage lymphocytes"
          ],
          [
           0.21495769917964935,
           "pdp",
           "Percentage lymphocytes"
          ],
          [
           0.21495769917964935,
           "pdp",
           "Percentage lymphocytes"
          ],
          [
           0.21495769917964935,
           "pdp",
           "Percentage lymphocytes"
          ],
          [
           0.21495769917964935,
           "pdp",
           "Percentage lymphocytes"
          ],
          [
           0.21495769917964935,
           "pdp",
           "Percentage lymphocytes"
          ],
          [
           0.21495769917964935,
           "pdp",
           "Percentage lymphocytes"
          ],
          [
           0.21495769917964935,
           "pdp",
           "Percentage lymphocytes"
          ],
          [
           0.21495769917964935,
           "pdp",
           "Percentage lymphocytes"
          ],
          [
           0.21495769917964935,
           "pdp",
           "Percentage lymphocytes"
          ],
          [
           0.21495769917964935,
           "pdp",
           "Percentage lymphocytes"
          ],
          [
           0.21495769917964935,
           "pdp",
           "Percentage lymphocytes"
          ],
          [
           0.21495769917964935,
           "pdp",
           "Percentage lymphocytes"
          ],
          [
           0.21495769917964935,
           "pdp",
           "Percentage lymphocytes"
          ],
          [
           0.21495769917964935,
           "pdp",
           "Percentage lymphocytes"
          ],
          [
           0.21495769917964935,
           "pdp",
           "Percentage lymphocytes"
          ],
          [
           0.21495769917964935,
           "pdp",
           "Percentage lymphocytes"
          ],
          [
           0.21495769917964935,
           "pdp",
           "Percentage lymphocytes"
          ],
          [
           0.21495769917964935,
           "pdp",
           "Percentage lymphocytes"
          ],
          [
           0.21495769917964935,
           "pdp",
           "Percentage lymphocytes"
          ],
          [
           0.21495769917964935,
           "pdp",
           "Percentage lymphocytes"
          ],
          [
           0.21495769917964935,
           "pdp",
           "Percentage lymphocytes"
          ],
          [
           0.21495769917964935,
           "pdp",
           "Percentage lymphocytes"
          ],
          [
           0.21495769917964935,
           "pdp",
           "Percentage lymphocytes"
          ],
          [
           0.21495769917964935,
           "pdp",
           "Percentage lymphocytes"
          ],
          [
           0.21495769917964935,
           "pdp",
           "Percentage lymphocytes"
          ],
          [
           0.21495769917964935,
           "pdp",
           "Percentage lymphocytes"
          ],
          [
           0.21495769917964935,
           "pdp",
           "Percentage lymphocytes"
          ],
          [
           0.21495769917964935,
           "pdp",
           "Percentage lymphocytes"
          ],
          [
           0.21495769917964935,
           "pdp",
           "Percentage lymphocytes"
          ],
          [
           0.21495769917964935,
           "pdp",
           "Percentage lymphocytes"
          ],
          [
           0.21495769917964935,
           "pdp",
           "Percentage lymphocytes"
          ],
          [
           0.21495769917964935,
           "pdp",
           "Percentage lymphocytes"
          ],
          [
           0.21495769917964935,
           "pdp",
           "Percentage lymphocytes"
          ],
          [
           0.21495769917964935,
           "pdp",
           "Percentage lymphocytes"
          ],
          [
           0.21495769917964935,
           "pdp",
           "Percentage lymphocytes"
          ],
          [
           0.21495769917964935,
           "pdp",
           "Percentage lymphocytes"
          ],
          [
           0.21495769917964935,
           "pdp",
           "Percentage lymphocytes"
          ],
          [
           0.21495769917964935,
           "pdp",
           "Percentage lymphocytes"
          ],
          [
           0.21495769917964935,
           "pdp",
           "Percentage lymphocytes"
          ],
          [
           0.21495769917964935,
           "pdp",
           "Percentage lymphocytes"
          ],
          [
           0.21495769917964935,
           "pdp",
           "Percentage lymphocytes"
          ],
          [
           0.21495769917964935,
           "pdp",
           "Percentage lymphocytes"
          ],
          [
           0.21495769917964935,
           "pdp",
           "Percentage lymphocytes"
          ],
          [
           0.21495769917964935,
           "pdp",
           "Percentage lymphocytes"
          ],
          [
           0.21495769917964935,
           "pdp",
           "Percentage lymphocytes"
          ],
          [
           0.21495769917964935,
           "pdp",
           "Percentage lymphocytes"
          ],
          [
           0.21495769917964935,
           "pdp",
           "Percentage lymphocytes"
          ],
          [
           0.21495769917964935,
           "pdp",
           "Percentage lymphocytes"
          ],
          [
           0.21495769917964935,
           "pdp",
           "Percentage lymphocytes"
          ],
          [
           0.21495769917964935,
           "pdp",
           "Percentage lymphocytes"
          ],
          [
           0.21495769917964935,
           "pdp",
           "Percentage lymphocytes"
          ],
          [
           0.21495769917964935,
           "pdp",
           "Percentage lymphocytes"
          ],
          [
           0.21495769917964935,
           "pdp",
           "Percentage lymphocytes"
          ],
          [
           0.21495769917964935,
           "pdp",
           "Percentage lymphocytes"
          ],
          [
           0.21495769917964935,
           "pdp",
           "Percentage lymphocytes"
          ],
          [
           0.21495769917964935,
           "pdp",
           "Percentage lymphocytes"
          ],
          [
           0.21495769917964935,
           "pdp",
           "Percentage lymphocytes"
          ],
          [
           0.21495769917964935,
           "pdp",
           "Percentage lymphocytes"
          ],
          [
           0.21495769917964935,
           "pdp",
           "Percentage lymphocytes"
          ],
          [
           0.21495769917964935,
           "pdp",
           "Percentage lymphocytes"
          ],
          [
           0.21495769917964935,
           "pdp",
           "Percentage lymphocytes"
          ],
          [
           0.21495769917964935,
           "pdp",
           "Percentage lymphocytes"
          ],
          [
           0.21495769917964935,
           "pdp",
           "Percentage lymphocytes"
          ],
          [
           0.21495769917964935,
           "pdp",
           "Percentage lymphocytes"
          ],
          [
           0.21495769917964935,
           "pdp",
           "Percentage lymphocytes"
          ],
          [
           0.21495769917964935,
           "pdp",
           "Percentage lymphocytes"
          ],
          [
           0.21495769917964935,
           "pdp",
           "Percentage lymphocytes"
          ],
          [
           0.21495769917964935,
           "pdp",
           "Percentage lymphocytes"
          ],
          [
           0.21495769917964935,
           "pdp",
           "Percentage lymphocytes"
          ]
         ],
         "hovertemplate": "<b>%{hovertext}</b><br><br>prediction=%{y:.3f}<br>mean_prediction=%{customdata[0]:.3f}<extra></extra>",
         "hovertext": [
          "pdp",
          "pdp",
          "pdp",
          "pdp",
          "pdp",
          "pdp",
          "pdp",
          "pdp",
          "pdp",
          "pdp",
          "pdp",
          "pdp",
          "pdp",
          "pdp",
          "pdp",
          "pdp",
          "pdp",
          "pdp",
          "pdp",
          "pdp",
          "pdp",
          "pdp",
          "pdp",
          "pdp",
          "pdp",
          "pdp",
          "pdp",
          "pdp",
          "pdp",
          "pdp",
          "pdp",
          "pdp",
          "pdp",
          "pdp",
          "pdp",
          "pdp",
          "pdp",
          "pdp",
          "pdp",
          "pdp",
          "pdp",
          "pdp",
          "pdp",
          "pdp",
          "pdp",
          "pdp",
          "pdp",
          "pdp",
          "pdp",
          "pdp",
          "pdp",
          "pdp",
          "pdp",
          "pdp",
          "pdp",
          "pdp",
          "pdp",
          "pdp",
          "pdp",
          "pdp",
          "pdp",
          "pdp",
          "pdp",
          "pdp",
          "pdp",
          "pdp",
          "pdp",
          "pdp",
          "pdp",
          "pdp",
          "pdp",
          "pdp",
          "pdp",
          "pdp",
          "pdp",
          "pdp",
          "pdp",
          "pdp",
          "pdp",
          "pdp",
          "pdp",
          "pdp",
          "pdp",
          "pdp",
          "pdp",
          "pdp",
          "pdp",
          "pdp",
          "pdp",
          "pdp",
          "pdp",
          "pdp",
          "pdp",
          "pdp",
          "pdp",
          "pdp",
          "pdp",
          "pdp",
          "pdp",
          "pdp",
          "pdp"
         ],
         "legendgroup": "pdp",
         "line": {
          "color": "#46bac2",
          "dash": "solid",
          "width": 2
         },
         "mode": "lines",
         "name": "pdp",
         "opacity": 1,
         "orientation": "v",
         "showlegend": false,
         "type": "scatter",
         "x": [
          2.6923076923076925,
          3.6128964016601524,
          4.533485111012612,
          5.454073820365073,
          6.374662529717533,
          7.295251239069993,
          8.215839948422452,
          9.136428657774912,
          10.057017367127372,
          10.977606076479834,
          11.898194785832292,
          12.818783495184753,
          13.739372204537212,
          14.659960913889673,
          15.580549623242131,
          16.501138332594593,
          17.42172704194705,
          18.342315751299513,
          19.262904460651974,
          20.183493170004432,
          21.104081879356894,
          22.024670588709352,
          22.945259298061814,
          23.86584800741427,
          24.786436716766733,
          25.70702542611919,
          26.627614135471653,
          27.54820284482411,
          28.468791554176573,
          29.38938026352903,
          30.309968972881492,
          31.23055768223395,
          32.15114639158641,
          33.071735100938874,
          33.99232381029133,
          34.91291251964379,
          35.833501228996255,
          36.75408993834871,
          37.67467864770117,
          38.59526735705363,
          39.515856066406094,
          40.43644477575855,
          41.35703348511101,
          42.27762219446347,
          43.198210903815934,
          44.11879961316839,
          45.03938832252085,
          45.95997703187331,
          46.88056574122577,
          47.80115445057823,
          48.72174315993069,
          49.642331869283154,
          50.56292057863561,
          51.48350928798807,
          52.40409799734053,
          53.324686706692994,
          54.24527541604545,
          55.16586412539791,
          56.08645283475037,
          57.00704154410283,
          57.92763025345529,
          58.84821896280775,
          59.76880767216021,
          60.68939638151267,
          61.60998509086513,
          62.53057380021759,
          63.451162509570054,
          64.37175121892251,
          65.29233992827497,
          66.21292863762743,
          67.13351734697989,
          68.05410605633234,
          68.97469476568482,
          69.89528347503727,
          70.81587218438973,
          71.73646089374219,
          72.65704960309465,
          73.5776383124471,
          74.49822702179956,
          75.41881573115202,
          76.3394044405045,
          77.25999314985695,
          78.18058185920941,
          79.10117056856187,
          80.02175927791433,
          80.94234798726679,
          81.86293669661924,
          82.78352540597172,
          83.70411411532417,
          84.62470282467663,
          85.54529153402909,
          86.46588024338155,
          87.386468952734,
          88.30705766208646,
          89.22764637143892,
          90.1482350807914,
          91.06882379014385,
          91.98941249949631,
          92.91000120884877,
          93.83058991820123,
          94.75117862755368
         ],
         "xaxis": "x2",
         "y": [
          0.3267904222011566,
          0.16377383470535278,
          0.12261738628149033,
          0.1317506581544876,
          0.03347446396946907,
          0.03277401626110077,
          0.10452992469072342,
          0.2526213228702545,
          0.2862018942832947,
          0.256229966878891,
          0.2876773178577423,
          0.2890619933605194,
          0.29194220900535583,
          0.28941336274147034,
          0.3559079170227051,
          0.34210190176963806,
          0.3297506272792816,
          0.33146414160728455,
          0.37613141536712646,
          0.2540671229362488,
          0.2464110255241394,
          0.2464110255241394,
          0.30706843733787537,
          0.30706843733787537,
          0.3132566213607788,
          0.3132566213607788,
          0.31895968317985535,
          0.31895968317985535,
          0.31895968317985535,
          0.31895968317985535,
          0.31895968317985535,
          0.31895968317985535,
          0.31895968317985535,
          0.31895968317985535,
          0.31895968317985535,
          0.31895968317985535,
          0.31895968317985535,
          0.31895968317985535,
          0.31895968317985535,
          0.31895968317985535,
          0.31895968317985535,
          0.31895968317985535,
          0.31895968317985535,
          0.31895968317985535,
          0.31895968317985535,
          0.31895968317985535,
          0.31895968317985535,
          0.31895968317985535,
          0.31895968317985535,
          0.31895968317985535,
          0.31895968317985535,
          0.31895968317985535,
          0.31895968317985535,
          0.31895968317985535,
          0.31895968317985535,
          0.31895968317985535,
          0.31895968317985535,
          0.31895968317985535,
          0.31895968317985535,
          0.31895968317985535,
          0.31895968317985535,
          0.31895968317985535,
          0.31895968317985535,
          0.31895968317985535,
          0.31895968317985535,
          0.31895968317985535,
          0.31895968317985535,
          0.31895968317985535,
          0.31895968317985535,
          0.31895968317985535,
          0.31895968317985535,
          0.31895968317985535,
          0.31895968317985535,
          0.31895968317985535,
          0.31895968317985535,
          0.31895968317985535,
          0.31895968317985535,
          0.31895968317985535,
          0.31895968317985535,
          0.31895968317985535,
          0.31895968317985535,
          0.31895968317985535,
          0.31895968317985535,
          0.31895968317985535,
          0.31895968317985535,
          0.31895968317985535,
          0.31895968317985535,
          0.31895968317985535,
          0.31895968317985535,
          0.31895968317985535,
          0.31895968317985535,
          0.31895968317985535,
          0.31895968317985535,
          0.31895968317985535,
          0.31895968317985535,
          0.31895968317985535,
          0.31895968317985535,
          0.31895968317985535,
          0.31895968317985535,
          0.31895968317985535,
          0.31895968317985535
         ],
         "yaxis": "y2"
        }
       ],
       "layout": {
        "annotations": [
         {
          "font": {
           "size": 13
          },
          "showarrow": false,
          "text": "CRP",
          "x": 0.2375,
          "xanchor": "center",
          "xref": "paper",
          "y": 0.425,
          "yanchor": "bottom",
          "yref": "paper"
         },
         {
          "font": {
           "size": 13
          },
          "showarrow": false,
          "text": "Percentage lymphocytes",
          "x": 0.7625,
          "xanchor": "center",
          "xref": "paper",
          "y": 0.425,
          "yanchor": "bottom",
          "yref": "paper"
         },
         {
          "font": {
           "size": 13
          },
          "showarrow": false,
          "text": "Age",
          "x": 0.2375,
          "xanchor": "center",
          "xref": "paper",
          "y": 1,
          "yanchor": "bottom",
          "yref": "paper"
         },
         {
          "font": {
           "size": 13
          },
          "showarrow": false,
          "text": "LD",
          "x": 0.7625,
          "xanchor": "center",
          "xref": "paper",
          "y": 1,
          "yanchor": "bottom",
          "yref": "paper"
         },
         {
          "font": {
           "size": 13
          },
          "showarrow": false,
          "text": "prediction",
          "textangle": -90,
          "x": -0.07,
          "xref": "paper",
          "y": 0.5,
          "yref": "paper"
         }
        ],
        "font": {
         "color": "#371ea3"
        },
        "height": 829,
        "hovermode": "x unified",
        "legend": {
         "font": {
          "size": 11
         },
         "itemsizing": "constant",
         "orientation": "h",
         "title": {
          "font": {
           "size": 12
          },
          "text": "label"
         },
         "tracegroupgap": 0,
         "x": 1,
         "xanchor": "right",
         "y": 1.0361881785283473,
         "yanchor": "bottom"
        },
        "margin": {
         "b": 71,
         "r": 30,
         "t": 78
        },
        "template": {
         "data": {
          "scatter": [
           {
            "type": "scatter"
           }
          ]
         }
        },
        "title": {
         "font": {
          "size": 16
         },
         "text": "Aggregated Profiles",
         "x": 0.15
        },
        "xaxis": {
         "anchor": "y",
         "automargin": true,
         "domain": [
          0,
          0.475
         ],
         "fixedrange": true,
         "gridwidth": 2,
         "showticklabels": true,
         "tickcolor": "white",
         "ticklen": 3,
         "ticks": "outside",
         "title": {
          "text": ""
         },
         "type": "linear",
         "zeroline": false
        },
        "xaxis2": {
         "anchor": "y2",
         "automargin": true,
         "domain": [
          0.525,
          1
         ],
         "fixedrange": true,
         "gridwidth": 2,
         "showticklabels": true,
         "tickcolor": "white",
         "ticklen": 3,
         "ticks": "outside",
         "title": {
          "text": ""
         },
         "type": "linear",
         "zeroline": false
        },
        "xaxis3": {
         "anchor": "y3",
         "automargin": true,
         "domain": [
          0,
          0.475
         ],
         "fixedrange": true,
         "gridwidth": 2,
         "showticklabels": true,
         "tickcolor": "white",
         "ticklen": 3,
         "ticks": "outside",
         "title": {
          "text": ""
         },
         "type": "linear",
         "zeroline": false
        },
        "xaxis4": {
         "anchor": "y4",
         "automargin": true,
         "domain": [
          0.525,
          1
         ],
         "fixedrange": true,
         "gridwidth": 2,
         "showticklabels": true,
         "tickcolor": "white",
         "ticklen": 3,
         "ticks": "outside",
         "title": {
          "text": ""
         },
         "type": "linear",
         "zeroline": false
        },
        "yaxis": {
         "anchor": "x",
         "automargin": true,
         "domain": [
          0,
          0.425
         ],
         "fixedrange": true,
         "gridwidth": 2,
         "range": [
          -0.02072217911481858,
          0.5812110066413879
         ],
         "tickcolor": "white",
         "ticklen": 3,
         "ticks": "outside",
         "title": {
          "text": ""
         },
         "type": "linear",
         "zeroline": false
        },
        "yaxis2": {
         "anchor": "x2",
         "automargin": true,
         "domain": [
          0,
          0.425
         ],
         "fixedrange": true,
         "gridwidth": 2,
         "matches": "y",
         "range": [
          -0.02072217911481858,
          0.5812110066413879
         ],
         "showticklabels": false,
         "tickcolor": "white",
         "ticklen": 3,
         "ticks": "outside",
         "title": {
          "text": ""
         },
         "type": "linear",
         "zeroline": false
        },
        "yaxis3": {
         "anchor": "x3",
         "automargin": true,
         "domain": [
          0.575,
          1
         ],
         "fixedrange": true,
         "gridwidth": 2,
         "matches": "y",
         "range": [
          -0.02072217911481858,
          0.5812110066413879
         ],
         "tickcolor": "white",
         "ticklen": 3,
         "ticks": "outside",
         "title": {
          "text": ""
         },
         "type": "linear",
         "zeroline": false
        },
        "yaxis4": {
         "anchor": "x4",
         "automargin": true,
         "domain": [
          0.575,
          1
         ],
         "fixedrange": true,
         "gridwidth": 2,
         "matches": "y",
         "range": [
          -0.02072217911481858,
          0.5812110066413879
         ],
         "showticklabels": false,
         "tickcolor": "white",
         "ticklen": 3,
         "ticks": "outside",
         "title": {
          "text": ""
         },
         "type": "linear",
         "zeroline": false
        }
       }
      },
      "text/html": [
       "<div>                            <div id=\"32c03da7-6a25-48d2-ab3a-2bd425089b3a\" class=\"plotly-graph-div\" style=\"height:829px; width:100%;\"></div>            <script type=\"text/javascript\">                require([\"plotly\"], function(Plotly) {                    window.PLOTLYENV=window.PLOTLYENV || {};                                    if (document.getElementById(\"32c03da7-6a25-48d2-ab3a-2bd425089b3a\")) {                    Plotly.newPlot(                        \"32c03da7-6a25-48d2-ab3a-2bd425089b3a\",                        [{\"customdata\": [[0.21495769917964935, \"pdp\", \"Age\"], [0.21495769917964935, \"pdp\", \"Age\"], [0.21495769917964935, \"pdp\", \"Age\"], [0.21495769917964935, \"pdp\", \"Age\"], [0.21495769917964935, \"pdp\", \"Age\"], [0.21495769917964935, \"pdp\", \"Age\"], [0.21495769917964935, \"pdp\", \"Age\"], [0.21495769917964935, \"pdp\", \"Age\"], [0.21495769917964935, \"pdp\", \"Age\"], [0.21495769917964935, \"pdp\", \"Age\"], [0.21495769917964935, \"pdp\", \"Age\"], [0.21495769917964935, \"pdp\", \"Age\"], [0.21495769917964935, \"pdp\", \"Age\"], [0.21495769917964935, \"pdp\", \"Age\"], [0.21495769917964935, \"pdp\", \"Age\"], [0.21495769917964935, \"pdp\", \"Age\"], [0.21495769917964935, \"pdp\", \"Age\"], [0.21495769917964935, \"pdp\", \"Age\"], [0.21495769917964935, \"pdp\", \"Age\"], [0.21495769917964935, \"pdp\", \"Age\"], [0.21495769917964935, \"pdp\", \"Age\"], [0.21495769917964935, \"pdp\", \"Age\"], [0.21495769917964935, \"pdp\", \"Age\"], [0.21495769917964935, \"pdp\", \"Age\"], [0.21495769917964935, \"pdp\", \"Age\"], [0.21495769917964935, \"pdp\", \"Age\"], [0.21495769917964935, \"pdp\", \"Age\"], [0.21495769917964935, \"pdp\", \"Age\"], [0.21495769917964935, \"pdp\", \"Age\"], [0.21495769917964935, \"pdp\", \"Age\"], [0.21495769917964935, \"pdp\", \"Age\"], [0.21495769917964935, \"pdp\", \"Age\"], [0.21495769917964935, \"pdp\", \"Age\"], [0.21495769917964935, \"pdp\", \"Age\"], [0.21495769917964935, \"pdp\", \"Age\"], [0.21495769917964935, \"pdp\", \"Age\"], [0.21495769917964935, \"pdp\", \"Age\"], [0.21495769917964935, \"pdp\", \"Age\"], [0.21495769917964935, \"pdp\", \"Age\"], [0.21495769917964935, \"pdp\", \"Age\"], [0.21495769917964935, \"pdp\", \"Age\"], [0.21495769917964935, \"pdp\", \"Age\"], [0.21495769917964935, \"pdp\", \"Age\"], [0.21495769917964935, \"pdp\", \"Age\"], [0.21495769917964935, \"pdp\", \"Age\"], [0.21495769917964935, \"pdp\", \"Age\"], [0.21495769917964935, \"pdp\", \"Age\"], [0.21495769917964935, \"pdp\", \"Age\"], [0.21495769917964935, \"pdp\", \"Age\"], [0.21495769917964935, \"pdp\", \"Age\"], [0.21495769917964935, \"pdp\", \"Age\"], [0.21495769917964935, \"pdp\", \"Age\"], [0.21495769917964935, \"pdp\", \"Age\"], [0.21495769917964935, \"pdp\", \"Age\"], [0.21495769917964935, \"pdp\", \"Age\"], [0.21495769917964935, \"pdp\", \"Age\"], [0.21495769917964935, \"pdp\", \"Age\"], [0.21495769917964935, \"pdp\", \"Age\"], [0.21495769917964935, \"pdp\", \"Age\"], [0.21495769917964935, \"pdp\", \"Age\"], [0.21495769917964935, \"pdp\", \"Age\"], [0.21495769917964935, \"pdp\", \"Age\"], [0.21495769917964935, \"pdp\", \"Age\"], [0.21495769917964935, \"pdp\", \"Age\"], [0.21495769917964935, \"pdp\", \"Age\"], [0.21495769917964935, \"pdp\", \"Age\"], [0.21495769917964935, \"pdp\", \"Age\"], [0.21495769917964935, \"pdp\", \"Age\"], [0.21495769917964935, \"pdp\", \"Age\"], [0.21495769917964935, \"pdp\", \"Age\"], [0.21495769917964935, \"pdp\", \"Age\"], [0.21495769917964935, \"pdp\", \"Age\"], [0.21495769917964935, \"pdp\", \"Age\"], [0.21495769917964935, \"pdp\", \"Age\"], [0.21495769917964935, \"pdp\", \"Age\"], [0.21495769917964935, \"pdp\", \"Age\"], [0.21495769917964935, \"pdp\", \"Age\"], [0.21495769917964935, \"pdp\", \"Age\"], [0.21495769917964935, \"pdp\", \"Age\"], [0.21495769917964935, \"pdp\", \"Age\"], [0.21495769917964935, \"pdp\", \"Age\"], [0.21495769917964935, \"pdp\", \"Age\"], [0.21495769917964935, \"pdp\", \"Age\"], [0.21495769917964935, \"pdp\", \"Age\"], [0.21495769917964935, \"pdp\", \"Age\"], [0.21495769917964935, \"pdp\", \"Age\"], [0.21495769917964935, \"pdp\", \"Age\"], [0.21495769917964935, \"pdp\", \"Age\"], [0.21495769917964935, \"pdp\", \"Age\"], [0.21495769917964935, \"pdp\", \"Age\"], [0.21495769917964935, \"pdp\", \"Age\"], [0.21495769917964935, \"pdp\", \"Age\"], [0.21495769917964935, \"pdp\", \"Age\"], [0.21495769917964935, \"pdp\", \"Age\"], [0.21495769917964935, \"pdp\", \"Age\"], [0.21495769917964935, \"pdp\", \"Age\"], [0.21495769917964935, \"pdp\", \"Age\"], [0.21495769917964935, \"pdp\", \"Age\"], [0.21495769917964935, \"pdp\", \"Age\"], [0.21495769917964935, \"pdp\", \"Age\"], [0.21495769917964935, \"pdp\", \"Age\"]], \"hovertemplate\": \"<b>%{hovertext}</b><br><br>prediction=%{y:.3f}<br>mean_prediction=%{customdata[0]:.3f}<extra></extra>\", \"hovertext\": [\"pdp\", \"pdp\", \"pdp\", \"pdp\", \"pdp\", \"pdp\", \"pdp\", \"pdp\", \"pdp\", \"pdp\", \"pdp\", \"pdp\", \"pdp\", \"pdp\", \"pdp\", \"pdp\", \"pdp\", \"pdp\", \"pdp\", \"pdp\", \"pdp\", \"pdp\", \"pdp\", \"pdp\", \"pdp\", \"pdp\", \"pdp\", \"pdp\", \"pdp\", \"pdp\", \"pdp\", \"pdp\", \"pdp\", \"pdp\", \"pdp\", \"pdp\", \"pdp\", \"pdp\", \"pdp\", \"pdp\", \"pdp\", \"pdp\", \"pdp\", \"pdp\", \"pdp\", \"pdp\", \"pdp\", \"pdp\", \"pdp\", \"pdp\", \"pdp\", \"pdp\", \"pdp\", \"pdp\", \"pdp\", \"pdp\", \"pdp\", \"pdp\", \"pdp\", \"pdp\", \"pdp\", \"pdp\", \"pdp\", \"pdp\", \"pdp\", \"pdp\", \"pdp\", \"pdp\", \"pdp\", \"pdp\", \"pdp\", \"pdp\", \"pdp\", \"pdp\", \"pdp\", \"pdp\", \"pdp\", \"pdp\", \"pdp\", \"pdp\", \"pdp\", \"pdp\", \"pdp\", \"pdp\", \"pdp\", \"pdp\", \"pdp\", \"pdp\", \"pdp\", \"pdp\", \"pdp\", \"pdp\", \"pdp\", \"pdp\", \"pdp\", \"pdp\", \"pdp\", \"pdp\", \"pdp\", \"pdp\", \"pdp\"], \"legendgroup\": \"pdp\", \"line\": {\"color\": \"#46bac2\", \"dash\": \"solid\", \"width\": 2}, \"mode\": \"lines\", \"name\": \"pdp\", \"opacity\": 1, \"orientation\": \"v\", \"showlegend\": true, \"type\": \"scatter\", \"x\": [19.0, 19.7, 20.4, 21.1, 21.8, 22.5, 23.2, 23.9, 24.6, 25.3, 26.0, 26.7, 27.4, 28.1, 28.799999999999997, 29.5, 30.2, 30.9, 31.6, 32.3, 33.0, 33.7, 34.4, 35.099999999999994, 35.8, 36.5, 37.2, 37.9, 38.599999999999994, 39.3, 40.0, 40.7, 41.4, 42.099999999999994, 42.8, 43.5, 44.2, 44.9, 45.599999999999994, 46.3, 47.0, 47.7, 48.4, 49.099999999999994, 49.8, 50.5, 51.199999999999996, 51.9, 52.599999999999994, 53.3, 54.0, 54.699999999999996, 55.4, 56.099999999999994, 56.8, 57.5, 58.199999999999996, 58.9, 59.599999999999994, 60.3, 61.0, 61.699999999999996, 62.4, 63.099999999999994, 63.8, 64.5, 65.19999999999999, 65.9, 66.6, 67.3, 68.0, 68.69999999999999, 69.4, 70.1, 70.8, 71.5, 72.19999999999999, 72.9, 73.6, 74.3, 75.0, 75.69999999999999, 76.4, 77.1, 77.8, 78.5, 79.19999999999999, 79.9, 80.6, 81.3, 82.0, 82.69999999999999, 83.39999999999999, 84.1, 84.8, 85.5, 86.19999999999999, 86.89999999999999, 87.6, 88.3, 89.0], \"xaxis\": \"x3\", \"y\": [0.029438920319080353, 0.029438920319080353, 0.029438920319080353, 0.029438920319080353, 0.029438920319080353, 0.029438920319080353, 0.029438920319080353, 0.029438920319080353, 0.029438920319080353, 0.029438920319080353, 0.029438920319080353, 0.029438920319080353, 0.029438920319080353, 0.029438920319080353, 0.029438920319080353, 0.029438920319080353, 0.029438920319080353, 0.029438920319080353, 0.029438920319080353, 0.029438920319080353, 0.029438920319080353, 0.029438920319080353, 0.029438920319080353, 0.029438920319080353, 0.029438920319080353, 0.029438920319080353, 0.029438920319080353, 0.029438920319080353, 0.029438920319080353, 0.029438920319080353, 0.029438920319080353, 0.029438920319080353, 0.029438920319080353, 0.029438920319080353, 0.029438920319080353, 0.029438920319080353, 0.029438920319080353, 0.029438920319080353, 0.03768381103873253, 0.03768381103873253, 0.03768381103873253, 0.03768381103873253, 0.03768381103873253, 0.03768381103873253, 0.041561879217624664, 0.041561879217624664, 0.041561879217624664, 0.041561879217624664, 0.041561879217624664, 0.041561879217624664, 0.041561879217624664, 0.041561879217624664, 0.041561879217624664, 0.041561879217624664, 0.041561879217624664, 0.07459645718336105, 0.07459645718336105, 0.07234843075275421, 0.07234843075275421, 0.07234843075275421, 0.07234843075275421, 0.07234843075275421, 0.07380195707082748, 0.21311050653457642, 0.14186891913414001, 0.13856156170368195, 0.1505621373653412, 0.21683381497859955, 0.22994451224803925, 0.22994451224803925, 0.2568981945514679, 0.27434244751930237, 0.27434244751930237, 0.23351646959781647, 0.23351646959781647, 0.2717708945274353, 0.2717708945274353, 0.2810461223125458, 0.28508126735687256, 0.28297364711761475, 0.2828163802623749, 0.31405109167099, 0.31405109167099, 0.33147376775741577, 0.3316008746623993, 0.3156341314315796, 0.3156341314315796, 0.3156341314315796, 0.2615501284599304, 0.2615501284599304, 0.18311022222042084, 0.18311022222042084, 0.18311022222042084, 0.19115419685840607, 0.19115419685840607, 0.2020304948091507, 0.2020304948091507, 0.4107753336429596, 0.41865435242652893, 0.41865435242652893, 0.41865435242652893], \"yaxis\": \"y3\"}, {\"customdata\": [[0.21495769917964935, \"pdp\", \"LD\"], [0.21495769917964935, \"pdp\", \"LD\"], [0.21495769917964935, \"pdp\", \"LD\"], [0.21495769917964935, \"pdp\", \"LD\"], [0.21495769917964935, \"pdp\", \"LD\"], [0.21495769917964935, \"pdp\", \"LD\"], [0.21495769917964935, \"pdp\", \"LD\"], [0.21495769917964935, \"pdp\", \"LD\"], [0.21495769917964935, \"pdp\", \"LD\"], [0.21495769917964935, \"pdp\", \"LD\"], [0.21495769917964935, \"pdp\", \"LD\"], [0.21495769917964935, \"pdp\", \"LD\"], [0.21495769917964935, \"pdp\", \"LD\"], [0.21495769917964935, \"pdp\", \"LD\"], [0.21495769917964935, \"pdp\", \"LD\"], [0.21495769917964935, \"pdp\", \"LD\"], [0.21495769917964935, \"pdp\", \"LD\"], [0.21495769917964935, \"pdp\", \"LD\"], [0.21495769917964935, \"pdp\", \"LD\"], [0.21495769917964935, \"pdp\", \"LD\"], [0.21495769917964935, \"pdp\", \"LD\"], [0.21495769917964935, \"pdp\", \"LD\"], [0.21495769917964935, \"pdp\", \"LD\"], [0.21495769917964935, \"pdp\", \"LD\"], [0.21495769917964935, \"pdp\", \"LD\"], [0.21495769917964935, \"pdp\", \"LD\"], [0.21495769917964935, \"pdp\", \"LD\"], [0.21495769917964935, \"pdp\", \"LD\"], [0.21495769917964935, \"pdp\", \"LD\"], [0.21495769917964935, \"pdp\", \"LD\"], [0.21495769917964935, \"pdp\", \"LD\"], [0.21495769917964935, \"pdp\", \"LD\"], [0.21495769917964935, \"pdp\", \"LD\"], [0.21495769917964935, \"pdp\", \"LD\"], [0.21495769917964935, \"pdp\", \"LD\"], [0.21495769917964935, \"pdp\", \"LD\"], [0.21495769917964935, \"pdp\", \"LD\"], [0.21495769917964935, \"pdp\", \"LD\"], [0.21495769917964935, \"pdp\", \"LD\"], [0.21495769917964935, \"pdp\", \"LD\"], [0.21495769917964935, \"pdp\", \"LD\"], [0.21495769917964935, \"pdp\", \"LD\"], [0.21495769917964935, \"pdp\", \"LD\"], [0.21495769917964935, \"pdp\", \"LD\"], [0.21495769917964935, \"pdp\", \"LD\"], [0.21495769917964935, \"pdp\", \"LD\"], [0.21495769917964935, \"pdp\", \"LD\"], [0.21495769917964935, \"pdp\", \"LD\"], [0.21495769917964935, \"pdp\", \"LD\"], [0.21495769917964935, \"pdp\", \"LD\"], [0.21495769917964935, \"pdp\", \"LD\"], [0.21495769917964935, \"pdp\", \"LD\"], [0.21495769917964935, \"pdp\", \"LD\"], [0.21495769917964935, \"pdp\", \"LD\"], [0.21495769917964935, \"pdp\", \"LD\"], [0.21495769917964935, \"pdp\", \"LD\"], [0.21495769917964935, \"pdp\", \"LD\"], [0.21495769917964935, \"pdp\", \"LD\"], [0.21495769917964935, \"pdp\", \"LD\"], [0.21495769917964935, \"pdp\", \"LD\"], [0.21495769917964935, \"pdp\", \"LD\"], [0.21495769917964935, \"pdp\", \"LD\"], [0.21495769917964935, \"pdp\", \"LD\"], [0.21495769917964935, \"pdp\", \"LD\"], [0.21495769917964935, \"pdp\", \"LD\"], [0.21495769917964935, \"pdp\", \"LD\"], [0.21495769917964935, \"pdp\", \"LD\"], [0.21495769917964935, \"pdp\", \"LD\"], [0.21495769917964935, \"pdp\", \"LD\"], [0.21495769917964935, \"pdp\", \"LD\"], [0.21495769917964935, \"pdp\", \"LD\"], [0.21495769917964935, \"pdp\", \"LD\"], [0.21495769917964935, \"pdp\", \"LD\"], [0.21495769917964935, \"pdp\", \"LD\"], [0.21495769917964935, \"pdp\", \"LD\"], [0.21495769917964935, \"pdp\", \"LD\"], [0.21495769917964935, \"pdp\", \"LD\"], [0.21495769917964935, \"pdp\", \"LD\"], [0.21495769917964935, \"pdp\", \"LD\"], [0.21495769917964935, \"pdp\", \"LD\"], [0.21495769917964935, \"pdp\", \"LD\"], [0.21495769917964935, \"pdp\", \"LD\"], [0.21495769917964935, \"pdp\", \"LD\"], [0.21495769917964935, \"pdp\", \"LD\"], [0.21495769917964935, \"pdp\", \"LD\"], [0.21495769917964935, \"pdp\", \"LD\"], [0.21495769917964935, \"pdp\", \"LD\"], [0.21495769917964935, \"pdp\", \"LD\"], [0.21495769917964935, \"pdp\", \"LD\"], [0.21495769917964935, \"pdp\", \"LD\"], [0.21495769917964935, \"pdp\", \"LD\"], [0.21495769917964935, \"pdp\", \"LD\"], [0.21495769917964935, \"pdp\", \"LD\"], [0.21495769917964935, \"pdp\", \"LD\"], [0.21495769917964935, \"pdp\", \"LD\"], [0.21495769917964935, \"pdp\", \"LD\"], [0.21495769917964935, \"pdp\", \"LD\"], [0.21495769917964935, \"pdp\", \"LD\"], [0.21495769917964935, \"pdp\", \"LD\"], [0.21495769917964935, \"pdp\", \"LD\"], [0.21495769917964935, \"pdp\", \"LD\"]], \"hovertemplate\": \"<b>%{hovertext}</b><br><br>prediction=%{y:.3f}<br>mean_prediction=%{customdata[0]:.3f}<extra></extra>\", \"hovertext\": [\"pdp\", \"pdp\", \"pdp\", \"pdp\", \"pdp\", \"pdp\", \"pdp\", \"pdp\", \"pdp\", \"pdp\", \"pdp\", \"pdp\", \"pdp\", \"pdp\", \"pdp\", \"pdp\", \"pdp\", \"pdp\", \"pdp\", \"pdp\", \"pdp\", \"pdp\", \"pdp\", \"pdp\", \"pdp\", \"pdp\", \"pdp\", \"pdp\", \"pdp\", \"pdp\", \"pdp\", \"pdp\", \"pdp\", \"pdp\", \"pdp\", \"pdp\", \"pdp\", \"pdp\", \"pdp\", \"pdp\", \"pdp\", \"pdp\", \"pdp\", \"pdp\", \"pdp\", \"pdp\", \"pdp\", \"pdp\", \"pdp\", \"pdp\", \"pdp\", \"pdp\", \"pdp\", \"pdp\", \"pdp\", \"pdp\", \"pdp\", \"pdp\", \"pdp\", \"pdp\", \"pdp\", \"pdp\", \"pdp\", \"pdp\", \"pdp\", \"pdp\", \"pdp\", \"pdp\", \"pdp\", \"pdp\", \"pdp\", \"pdp\", \"pdp\", \"pdp\", \"pdp\", \"pdp\", \"pdp\", \"pdp\", \"pdp\", \"pdp\", \"pdp\", \"pdp\", \"pdp\", \"pdp\", \"pdp\", \"pdp\", \"pdp\", \"pdp\", \"pdp\", \"pdp\", \"pdp\", \"pdp\", \"pdp\", \"pdp\", \"pdp\", \"pdp\", \"pdp\", \"pdp\", \"pdp\", \"pdp\", \"pdp\"], \"legendgroup\": \"pdp\", \"line\": {\"color\": \"#46bac2\", \"dash\": \"solid\", \"width\": 2}, \"mode\": \"lines\", \"name\": \"pdp\", \"opacity\": 1, \"orientation\": \"v\", \"showlegend\": false, \"type\": \"scatter\", \"x\": [151.0, 163.65, 176.3, 188.95, 201.6, 214.25, 226.9, 239.55, 252.2, 264.85, 277.5, 290.15, 302.8, 315.45000000000005, 328.1, 340.75, 353.4, 366.05, 378.70000000000005, 391.35, 404.0, 416.65000000000003, 429.3, 441.95, 454.6, 467.25, 479.90000000000003, 492.55, 505.2, 517.85, 530.5, 543.1500000000001, 555.8, 568.45, 581.1, 593.75, 606.4000000000001, 619.05, 631.7, 644.35, 657.0, 669.65, 682.3000000000001, 694.95, 707.6, 720.25, 732.9, 745.5500000000001, 758.2, 770.85, 783.5, 796.15, 808.8000000000001, 821.45, 834.1, 846.75, 859.4, 872.0500000000001, 884.7, 897.35, 910.0, 922.65, 935.3000000000001, 947.95, 960.6, 973.25, 985.9, 998.5500000000001, 1011.2, 1023.85, 1036.5, 1049.15, 1061.8000000000002, 1074.45, 1087.1, 1099.75, 1112.4, 1125.0500000000002, 1137.7, 1150.35, 1163.0, 1175.65, 1188.3, 1200.95, 1213.6000000000001, 1226.25, 1238.9, 1251.55, 1264.2, 1276.8500000000001, 1289.5, 1302.15, 1314.8, 1327.45, 1340.1000000000001, 1352.75, 1365.4, 1378.05, 1390.7, 1403.3500000000001, 1416.0], \"xaxis\": \"x4\", \"y\": [0.07677603513002396, 0.07677603513002396, 0.07677603513002396, 0.07677603513002396, 0.07677603513002396, 0.07677603513002396, 0.06636621803045273, 0.06636621803045273, 0.06636621803045273, 0.06636621803045273, 0.07138165086507797, 0.29290562868118286, 0.13930575549602509, 0.1562945544719696, 0.11395268887281418, 0.11395268887281418, 0.130610853433609, 0.28330233693122864, 0.28761759400367737, 0.25635507702827454, 0.22978579998016357, 0.27111145853996277, 0.28323620557785034, 0.2850676476955414, 0.28875696659088135, 0.2995014190673828, 0.2835044860839844, 0.27859053015708923, 0.27859053015708923, 0.27859053015708923, 0.28124532103538513, 0.45732954144477844, 0.531049907207489, 0.29030680656433105, 0.289301335811615, 0.289301335811615, 0.24457411468029022, 0.23497696220874786, 0.23748281598091125, 0.22150225937366486, 0.22366468608379364, 0.29532375931739807, 0.29532375931739807, 0.28523045778274536, 0.35042399168014526, 0.36719390749931335, 0.41107138991355896, 0.4002145230770111, 0.4002145230770111, 0.3593897521495819, 0.3593897521495819, 0.3593897521495819, 0.3593897521495819, 0.3593897521495819, 0.3593897521495819, 0.3593897521495819, 0.3593897521495819, 0.3593897521495819, 0.3593897521495819, 0.3593897521495819, 0.3593897521495819, 0.3593897521495819, 0.3593897521495819, 0.3593897521495819, 0.3593897521495819, 0.3593897521495819, 0.3593897521495819, 0.3593897521495819, 0.3593897521495819, 0.3593897521495819, 0.3593897521495819, 0.3593897521495819, 0.3593897521495819, 0.3593897521495819, 0.3593897521495819, 0.3593897521495819, 0.3593897521495819, 0.3593897521495819, 0.3593897521495819, 0.3593897521495819, 0.3593897521495819, 0.3593897521495819, 0.3593897521495819, 0.3593897521495819, 0.3593897521495819, 0.3593897521495819, 0.3593897521495819, 0.3593897521495819, 0.3593897521495819, 0.3593897521495819, 0.3593897521495819, 0.3593897521495819, 0.3593897521495819, 0.3593897521495819, 0.3593897521495819, 0.3593897521495819, 0.3593897521495819, 0.3593897521495819, 0.3593897521495819, 0.3593897521495819, 0.3593897521495819], \"yaxis\": \"y4\"}, {\"customdata\": [[0.21495769917964935, \"pdp\", \"CRP\"], [0.21495769917964935, \"pdp\", \"CRP\"], [0.21495769917964935, \"pdp\", \"CRP\"], [0.21495769917964935, \"pdp\", \"CRP\"], [0.21495769917964935, \"pdp\", \"CRP\"], [0.21495769917964935, \"pdp\", \"CRP\"], [0.21495769917964935, \"pdp\", \"CRP\"], [0.21495769917964935, \"pdp\", \"CRP\"], [0.21495769917964935, \"pdp\", \"CRP\"], [0.21495769917964935, \"pdp\", \"CRP\"], [0.21495769917964935, \"pdp\", \"CRP\"], [0.21495769917964935, \"pdp\", \"CRP\"], [0.21495769917964935, \"pdp\", \"CRP\"], [0.21495769917964935, \"pdp\", \"CRP\"], [0.21495769917964935, \"pdp\", \"CRP\"], [0.21495769917964935, \"pdp\", \"CRP\"], [0.21495769917964935, \"pdp\", \"CRP\"], [0.21495769917964935, \"pdp\", \"CRP\"], [0.21495769917964935, \"pdp\", \"CRP\"], [0.21495769917964935, \"pdp\", \"CRP\"], [0.21495769917964935, \"pdp\", \"CRP\"], [0.21495769917964935, \"pdp\", \"CRP\"], [0.21495769917964935, \"pdp\", \"CRP\"], [0.21495769917964935, \"pdp\", \"CRP\"], [0.21495769917964935, \"pdp\", \"CRP\"], [0.21495769917964935, \"pdp\", \"CRP\"], [0.21495769917964935, \"pdp\", \"CRP\"], [0.21495769917964935, \"pdp\", \"CRP\"], [0.21495769917964935, \"pdp\", \"CRP\"], [0.21495769917964935, \"pdp\", \"CRP\"], [0.21495769917964935, \"pdp\", \"CRP\"], [0.21495769917964935, \"pdp\", \"CRP\"], [0.21495769917964935, \"pdp\", \"CRP\"], [0.21495769917964935, \"pdp\", \"CRP\"], [0.21495769917964935, \"pdp\", \"CRP\"], [0.21495769917964935, \"pdp\", \"CRP\"], [0.21495769917964935, \"pdp\", \"CRP\"], [0.21495769917964935, \"pdp\", \"CRP\"], [0.21495769917964935, \"pdp\", \"CRP\"], [0.21495769917964935, \"pdp\", \"CRP\"], [0.21495769917964935, \"pdp\", \"CRP\"], [0.21495769917964935, \"pdp\", \"CRP\"], [0.21495769917964935, \"pdp\", \"CRP\"], [0.21495769917964935, \"pdp\", \"CRP\"], [0.21495769917964935, \"pdp\", \"CRP\"], [0.21495769917964935, \"pdp\", \"CRP\"], [0.21495769917964935, \"pdp\", \"CRP\"], [0.21495769917964935, \"pdp\", \"CRP\"], [0.21495769917964935, \"pdp\", \"CRP\"], [0.21495769917964935, \"pdp\", \"CRP\"], [0.21495769917964935, \"pdp\", \"CRP\"], [0.21495769917964935, \"pdp\", \"CRP\"], [0.21495769917964935, \"pdp\", \"CRP\"], [0.21495769917964935, \"pdp\", \"CRP\"], [0.21495769917964935, \"pdp\", \"CRP\"], [0.21495769917964935, \"pdp\", \"CRP\"], [0.21495769917964935, \"pdp\", \"CRP\"], [0.21495769917964935, \"pdp\", \"CRP\"], [0.21495769917964935, \"pdp\", \"CRP\"], [0.21495769917964935, \"pdp\", \"CRP\"], [0.21495769917964935, \"pdp\", \"CRP\"], [0.21495769917964935, \"pdp\", \"CRP\"], [0.21495769917964935, \"pdp\", \"CRP\"], [0.21495769917964935, \"pdp\", \"CRP\"], [0.21495769917964935, \"pdp\", \"CRP\"], [0.21495769917964935, \"pdp\", \"CRP\"], [0.21495769917964935, \"pdp\", \"CRP\"], [0.21495769917964935, \"pdp\", \"CRP\"], [0.21495769917964935, \"pdp\", \"CRP\"], [0.21495769917964935, \"pdp\", \"CRP\"], [0.21495769917964935, \"pdp\", \"CRP\"], [0.21495769917964935, \"pdp\", \"CRP\"], [0.21495769917964935, \"pdp\", \"CRP\"], [0.21495769917964935, \"pdp\", \"CRP\"], [0.21495769917964935, \"pdp\", \"CRP\"], [0.21495769917964935, \"pdp\", \"CRP\"], [0.21495769917964935, \"pdp\", \"CRP\"], [0.21495769917964935, \"pdp\", \"CRP\"], [0.21495769917964935, \"pdp\", \"CRP\"], [0.21495769917964935, \"pdp\", \"CRP\"], [0.21495769917964935, \"pdp\", \"CRP\"], [0.21495769917964935, \"pdp\", \"CRP\"], [0.21495769917964935, \"pdp\", \"CRP\"], [0.21495769917964935, \"pdp\", \"CRP\"], [0.21495769917964935, \"pdp\", \"CRP\"], [0.21495769917964935, \"pdp\", \"CRP\"], [0.21495769917964935, \"pdp\", \"CRP\"], [0.21495769917964935, \"pdp\", \"CRP\"], [0.21495769917964935, \"pdp\", \"CRP\"], [0.21495769917964935, \"pdp\", \"CRP\"], [0.21495769917964935, \"pdp\", \"CRP\"], [0.21495769917964935, \"pdp\", \"CRP\"], [0.21495769917964935, \"pdp\", \"CRP\"], [0.21495769917964935, \"pdp\", \"CRP\"], [0.21495769917964935, \"pdp\", \"CRP\"], [0.21495769917964935, \"pdp\", \"CRP\"], [0.21495769917964935, \"pdp\", \"CRP\"], [0.21495769917964935, \"pdp\", \"CRP\"], [0.21495769917964935, \"pdp\", \"CRP\"], [0.21495769917964935, \"pdp\", \"CRP\"], [0.21495769917964935, \"pdp\", \"CRP\"]], \"hovertemplate\": \"<b>%{hovertext}</b><br><br>prediction=%{y:.3f}<br>mean_prediction=%{customdata[0]:.3f}<extra></extra>\", \"hovertext\": [\"pdp\", \"pdp\", \"pdp\", \"pdp\", \"pdp\", \"pdp\", \"pdp\", \"pdp\", \"pdp\", \"pdp\", \"pdp\", \"pdp\", \"pdp\", \"pdp\", \"pdp\", \"pdp\", \"pdp\", \"pdp\", \"pdp\", \"pdp\", \"pdp\", \"pdp\", \"pdp\", \"pdp\", \"pdp\", \"pdp\", \"pdp\", \"pdp\", \"pdp\", \"pdp\", \"pdp\", \"pdp\", \"pdp\", \"pdp\", \"pdp\", \"pdp\", \"pdp\", \"pdp\", \"pdp\", \"pdp\", \"pdp\", \"pdp\", \"pdp\", \"pdp\", \"pdp\", \"pdp\", \"pdp\", \"pdp\", \"pdp\", \"pdp\", \"pdp\", \"pdp\", \"pdp\", \"pdp\", \"pdp\", \"pdp\", \"pdp\", \"pdp\", \"pdp\", \"pdp\", \"pdp\", \"pdp\", \"pdp\", \"pdp\", \"pdp\", \"pdp\", \"pdp\", \"pdp\", \"pdp\", \"pdp\", \"pdp\", \"pdp\", \"pdp\", \"pdp\", \"pdp\", \"pdp\", \"pdp\", \"pdp\", \"pdp\", \"pdp\", \"pdp\", \"pdp\", \"pdp\", \"pdp\", \"pdp\", \"pdp\", \"pdp\", \"pdp\", \"pdp\", \"pdp\", \"pdp\", \"pdp\", \"pdp\", \"pdp\", \"pdp\", \"pdp\", \"pdp\", \"pdp\", \"pdp\", \"pdp\", \"pdp\"], \"legendgroup\": \"pdp\", \"line\": {\"color\": \"#46bac2\", \"dash\": \"solid\", \"width\": 2}, \"mode\": \"lines\", \"name\": \"pdp\", \"opacity\": 1, \"orientation\": \"v\", \"showlegend\": false, \"type\": \"scatter\", \"x\": [2.0, 5.42, 8.84, 12.26, 15.68, 19.1, 22.52, 25.939999999999998, 29.36, 32.78, 36.2, 39.62, 43.04, 46.46, 49.879999999999995, 53.3, 56.72, 60.14, 63.56, 66.98, 70.4, 73.82, 77.24, 80.66, 84.08, 87.5, 90.92, 94.34, 97.75999999999999, 101.17999999999999, 104.6, 108.02, 111.44, 114.86, 118.28, 121.7, 125.12, 128.54, 131.96, 135.38, 138.8, 142.22, 145.64, 149.06, 152.48, 155.9, 159.32, 162.74, 166.16, 169.57999999999998, 173.0, 176.42, 179.84, 183.26, 186.68, 190.1, 193.51999999999998, 196.94, 200.35999999999999, 203.78, 207.2, 210.62, 214.04, 217.46, 220.88, 224.29999999999998, 227.72, 231.14, 234.56, 237.98, 241.4, 244.82, 248.24, 251.66, 255.07999999999998, 258.5, 261.92, 265.34, 268.76, 272.18, 275.6, 279.02, 282.44, 285.86, 289.28, 292.7, 296.12, 299.54, 302.96, 306.38, 309.8, 313.21999999999997, 316.64, 320.06, 323.48, 326.9, 330.32, 333.74, 337.15999999999997, 340.58, 344.0], \"xaxis\": \"x\", \"y\": [0.2668357193470001, 0.2668357193470001, 0.2668357193470001, 0.2668357193470001, 0.2646064758300781, 0.2646064758300781, 0.2646064758300781, 0.2646064758300781, 0.2774507403373718, 0.20556367933750153, 0.17558519542217255, 0.1768503040075302, 0.1805102378129959, 0.2387998253107071, 0.25858259201049805, 0.24813920259475708, 0.21077948808670044, 0.2096097320318222, 0.2096097320318222, 0.20769789814949036, 0.1941649615764618, 0.1962851732969284, 0.1962851732969284, 0.1394951492547989, 0.1394951492547989, 0.1394951492547989, 0.1394951492547989, 0.14984861016273499, 0.14541293680667877, 0.16107924282550812, 0.2769327759742737, 0.27422547340393066, 0.27422547340393066, 0.165229931473732, 0.16664226353168488, 0.16664226353168488, 0.1796143352985382, 0.2005908340215683, 0.2005908340215683, 0.2005908340215683, 0.17180731892585754, 0.16862852871418, 0.1666020303964615, 0.1666020303964615, 0.1666020303964615, 0.21163825690746307, 0.21163825690746307, 0.21163825690746307, 0.21163825690746307, 0.21163825690746307, 0.21163825690746307, 0.21163825690746307, 0.21163825690746307, 0.22788505256175995, 0.25096285343170166, 0.25096285343170166, 0.25096285343170166, 0.25096285343170166, 0.25096285343170166, 0.25474512577056885, 0.2590968608856201, 0.24022206664085388, 0.24022206664085388, 0.24022206664085388, 0.24022206664085388, 0.24022206664085388, 0.23189817368984222, 0.23189817368984222, 0.23189817368984222, 0.23189817368984222, 0.23189817368984222, 0.23189817368984222, 0.23189817368984222, 0.23189817368984222, 0.23189817368984222, 0.24295322597026825, 0.2483135610818863, 0.2483135610818863, 0.2483135610818863, 0.2483135610818863, 0.2483135610818863, 0.2483135610818863, 0.3130594789981842, 0.3130594789981842, 0.3130594789981842, 0.30868402123451233, 0.30868402123451233, 0.30868402123451233, 0.30868402123451233, 0.30868402123451233, 0.30868402123451233, 0.30868402123451233, 0.30868402123451233, 0.30868402123451233, 0.30868402123451233, 0.30868402123451233, 0.30868402123451233, 0.30868402123451233, 0.30868402123451233, 0.30868402123451233, 0.30868402123451233], \"yaxis\": \"y\"}, {\"customdata\": [[0.21495769917964935, \"pdp\", \"Percentage lymphocytes\"], [0.21495769917964935, \"pdp\", \"Percentage lymphocytes\"], [0.21495769917964935, \"pdp\", \"Percentage lymphocytes\"], [0.21495769917964935, \"pdp\", \"Percentage lymphocytes\"], [0.21495769917964935, \"pdp\", \"Percentage lymphocytes\"], [0.21495769917964935, \"pdp\", \"Percentage lymphocytes\"], [0.21495769917964935, \"pdp\", \"Percentage lymphocytes\"], [0.21495769917964935, \"pdp\", \"Percentage lymphocytes\"], [0.21495769917964935, \"pdp\", \"Percentage lymphocytes\"], [0.21495769917964935, \"pdp\", \"Percentage lymphocytes\"], [0.21495769917964935, \"pdp\", \"Percentage lymphocytes\"], [0.21495769917964935, \"pdp\", \"Percentage lymphocytes\"], [0.21495769917964935, \"pdp\", \"Percentage lymphocytes\"], [0.21495769917964935, \"pdp\", \"Percentage lymphocytes\"], [0.21495769917964935, \"pdp\", \"Percentage lymphocytes\"], [0.21495769917964935, \"pdp\", \"Percentage lymphocytes\"], [0.21495769917964935, \"pdp\", \"Percentage lymphocytes\"], [0.21495769917964935, \"pdp\", \"Percentage lymphocytes\"], [0.21495769917964935, \"pdp\", \"Percentage lymphocytes\"], [0.21495769917964935, \"pdp\", \"Percentage lymphocytes\"], [0.21495769917964935, \"pdp\", \"Percentage lymphocytes\"], [0.21495769917964935, \"pdp\", \"Percentage lymphocytes\"], [0.21495769917964935, \"pdp\", \"Percentage lymphocytes\"], [0.21495769917964935, \"pdp\", \"Percentage lymphocytes\"], [0.21495769917964935, \"pdp\", \"Percentage lymphocytes\"], [0.21495769917964935, \"pdp\", \"Percentage lymphocytes\"], [0.21495769917964935, \"pdp\", \"Percentage lymphocytes\"], [0.21495769917964935, \"pdp\", \"Percentage lymphocytes\"], [0.21495769917964935, \"pdp\", \"Percentage lymphocytes\"], [0.21495769917964935, \"pdp\", \"Percentage lymphocytes\"], [0.21495769917964935, \"pdp\", \"Percentage lymphocytes\"], [0.21495769917964935, \"pdp\", \"Percentage lymphocytes\"], [0.21495769917964935, \"pdp\", \"Percentage lymphocytes\"], [0.21495769917964935, \"pdp\", \"Percentage lymphocytes\"], [0.21495769917964935, \"pdp\", \"Percentage lymphocytes\"], [0.21495769917964935, \"pdp\", \"Percentage lymphocytes\"], [0.21495769917964935, \"pdp\", \"Percentage lymphocytes\"], [0.21495769917964935, \"pdp\", \"Percentage lymphocytes\"], [0.21495769917964935, \"pdp\", \"Percentage lymphocytes\"], [0.21495769917964935, \"pdp\", \"Percentage lymphocytes\"], [0.21495769917964935, \"pdp\", \"Percentage lymphocytes\"], [0.21495769917964935, \"pdp\", \"Percentage lymphocytes\"], [0.21495769917964935, \"pdp\", \"Percentage lymphocytes\"], [0.21495769917964935, \"pdp\", \"Percentage lymphocytes\"], [0.21495769917964935, \"pdp\", \"Percentage lymphocytes\"], [0.21495769917964935, \"pdp\", \"Percentage lymphocytes\"], [0.21495769917964935, \"pdp\", \"Percentage lymphocytes\"], [0.21495769917964935, \"pdp\", \"Percentage lymphocytes\"], [0.21495769917964935, \"pdp\", \"Percentage lymphocytes\"], [0.21495769917964935, \"pdp\", \"Percentage lymphocytes\"], [0.21495769917964935, \"pdp\", \"Percentage lymphocytes\"], [0.21495769917964935, \"pdp\", \"Percentage lymphocytes\"], [0.21495769917964935, \"pdp\", \"Percentage lymphocytes\"], [0.21495769917964935, \"pdp\", \"Percentage lymphocytes\"], [0.21495769917964935, \"pdp\", \"Percentage lymphocytes\"], [0.21495769917964935, \"pdp\", \"Percentage lymphocytes\"], [0.21495769917964935, \"pdp\", \"Percentage lymphocytes\"], [0.21495769917964935, \"pdp\", \"Percentage lymphocytes\"], [0.21495769917964935, \"pdp\", \"Percentage lymphocytes\"], [0.21495769917964935, \"pdp\", \"Percentage lymphocytes\"], [0.21495769917964935, \"pdp\", \"Percentage lymphocytes\"], [0.21495769917964935, \"pdp\", \"Percentage lymphocytes\"], [0.21495769917964935, \"pdp\", \"Percentage lymphocytes\"], [0.21495769917964935, \"pdp\", \"Percentage lymphocytes\"], [0.21495769917964935, \"pdp\", \"Percentage lymphocytes\"], [0.21495769917964935, \"pdp\", \"Percentage lymphocytes\"], [0.21495769917964935, \"pdp\", \"Percentage lymphocytes\"], [0.21495769917964935, \"pdp\", \"Percentage lymphocytes\"], [0.21495769917964935, \"pdp\", \"Percentage lymphocytes\"], [0.21495769917964935, \"pdp\", \"Percentage lymphocytes\"], [0.21495769917964935, \"pdp\", \"Percentage lymphocytes\"], [0.21495769917964935, \"pdp\", \"Percentage lymphocytes\"], [0.21495769917964935, \"pdp\", \"Percentage lymphocytes\"], [0.21495769917964935, \"pdp\", \"Percentage lymphocytes\"], [0.21495769917964935, \"pdp\", \"Percentage lymphocytes\"], [0.21495769917964935, \"pdp\", \"Percentage lymphocytes\"], [0.21495769917964935, \"pdp\", \"Percentage lymphocytes\"], [0.21495769917964935, \"pdp\", \"Percentage lymphocytes\"], [0.21495769917964935, \"pdp\", \"Percentage lymphocytes\"], [0.21495769917964935, \"pdp\", \"Percentage lymphocytes\"], [0.21495769917964935, \"pdp\", \"Percentage lymphocytes\"], [0.21495769917964935, \"pdp\", \"Percentage lymphocytes\"], [0.21495769917964935, \"pdp\", \"Percentage lymphocytes\"], [0.21495769917964935, \"pdp\", \"Percentage lymphocytes\"], [0.21495769917964935, \"pdp\", \"Percentage lymphocytes\"], [0.21495769917964935, \"pdp\", \"Percentage lymphocytes\"], [0.21495769917964935, \"pdp\", \"Percentage lymphocytes\"], [0.21495769917964935, \"pdp\", \"Percentage lymphocytes\"], [0.21495769917964935, \"pdp\", \"Percentage lymphocytes\"], [0.21495769917964935, \"pdp\", \"Percentage lymphocytes\"], [0.21495769917964935, \"pdp\", \"Percentage lymphocytes\"], [0.21495769917964935, \"pdp\", \"Percentage lymphocytes\"], [0.21495769917964935, \"pdp\", \"Percentage lymphocytes\"], [0.21495769917964935, \"pdp\", \"Percentage lymphocytes\"], [0.21495769917964935, \"pdp\", \"Percentage lymphocytes\"], [0.21495769917964935, \"pdp\", \"Percentage lymphocytes\"], [0.21495769917964935, \"pdp\", \"Percentage lymphocytes\"], [0.21495769917964935, \"pdp\", \"Percentage lymphocytes\"], [0.21495769917964935, \"pdp\", \"Percentage lymphocytes\"], [0.21495769917964935, \"pdp\", \"Percentage lymphocytes\"], [0.21495769917964935, \"pdp\", \"Percentage lymphocytes\"]], \"hovertemplate\": \"<b>%{hovertext}</b><br><br>prediction=%{y:.3f}<br>mean_prediction=%{customdata[0]:.3f}<extra></extra>\", \"hovertext\": [\"pdp\", \"pdp\", \"pdp\", \"pdp\", \"pdp\", \"pdp\", \"pdp\", \"pdp\", \"pdp\", \"pdp\", \"pdp\", \"pdp\", \"pdp\", \"pdp\", \"pdp\", \"pdp\", \"pdp\", \"pdp\", \"pdp\", \"pdp\", \"pdp\", \"pdp\", \"pdp\", \"pdp\", \"pdp\", \"pdp\", \"pdp\", \"pdp\", \"pdp\", \"pdp\", \"pdp\", \"pdp\", \"pdp\", \"pdp\", \"pdp\", \"pdp\", \"pdp\", \"pdp\", \"pdp\", \"pdp\", \"pdp\", \"pdp\", \"pdp\", \"pdp\", \"pdp\", \"pdp\", \"pdp\", \"pdp\", \"pdp\", \"pdp\", \"pdp\", \"pdp\", \"pdp\", \"pdp\", \"pdp\", \"pdp\", \"pdp\", \"pdp\", \"pdp\", \"pdp\", \"pdp\", \"pdp\", \"pdp\", \"pdp\", \"pdp\", \"pdp\", \"pdp\", \"pdp\", \"pdp\", \"pdp\", \"pdp\", \"pdp\", \"pdp\", \"pdp\", \"pdp\", \"pdp\", \"pdp\", \"pdp\", \"pdp\", \"pdp\", \"pdp\", \"pdp\", \"pdp\", \"pdp\", \"pdp\", \"pdp\", \"pdp\", \"pdp\", \"pdp\", \"pdp\", \"pdp\", \"pdp\", \"pdp\", \"pdp\", \"pdp\", \"pdp\", \"pdp\", \"pdp\", \"pdp\", \"pdp\", \"pdp\"], \"legendgroup\": \"pdp\", \"line\": {\"color\": \"#46bac2\", \"dash\": \"solid\", \"width\": 2}, \"mode\": \"lines\", \"name\": \"pdp\", \"opacity\": 1, \"orientation\": \"v\", \"showlegend\": false, \"type\": \"scatter\", \"x\": [2.6923076923076925, 3.6128964016601524, 4.533485111012612, 5.454073820365073, 6.374662529717533, 7.295251239069993, 8.215839948422452, 9.136428657774912, 10.057017367127372, 10.977606076479834, 11.898194785832292, 12.818783495184753, 13.739372204537212, 14.659960913889673, 15.580549623242131, 16.501138332594593, 17.42172704194705, 18.342315751299513, 19.262904460651974, 20.183493170004432, 21.104081879356894, 22.024670588709352, 22.945259298061814, 23.86584800741427, 24.786436716766733, 25.70702542611919, 26.627614135471653, 27.54820284482411, 28.468791554176573, 29.38938026352903, 30.309968972881492, 31.23055768223395, 32.15114639158641, 33.071735100938874, 33.99232381029133, 34.91291251964379, 35.833501228996255, 36.75408993834871, 37.67467864770117, 38.59526735705363, 39.515856066406094, 40.43644477575855, 41.35703348511101, 42.27762219446347, 43.198210903815934, 44.11879961316839, 45.03938832252085, 45.95997703187331, 46.88056574122577, 47.80115445057823, 48.72174315993069, 49.642331869283154, 50.56292057863561, 51.48350928798807, 52.40409799734053, 53.324686706692994, 54.24527541604545, 55.16586412539791, 56.08645283475037, 57.00704154410283, 57.92763025345529, 58.84821896280775, 59.76880767216021, 60.68939638151267, 61.60998509086513, 62.53057380021759, 63.451162509570054, 64.37175121892251, 65.29233992827497, 66.21292863762743, 67.13351734697989, 68.05410605633234, 68.97469476568482, 69.89528347503727, 70.81587218438973, 71.73646089374219, 72.65704960309465, 73.5776383124471, 74.49822702179956, 75.41881573115202, 76.3394044405045, 77.25999314985695, 78.18058185920941, 79.10117056856187, 80.02175927791433, 80.94234798726679, 81.86293669661924, 82.78352540597172, 83.70411411532417, 84.62470282467663, 85.54529153402909, 86.46588024338155, 87.386468952734, 88.30705766208646, 89.22764637143892, 90.1482350807914, 91.06882379014385, 91.98941249949631, 92.91000120884877, 93.83058991820123, 94.75117862755368], \"xaxis\": \"x2\", \"y\": [0.3267904222011566, 0.16377383470535278, 0.12261738628149033, 0.1317506581544876, 0.03347446396946907, 0.03277401626110077, 0.10452992469072342, 0.2526213228702545, 0.2862018942832947, 0.256229966878891, 0.2876773178577423, 0.2890619933605194, 0.29194220900535583, 0.28941336274147034, 0.3559079170227051, 0.34210190176963806, 0.3297506272792816, 0.33146414160728455, 0.37613141536712646, 0.2540671229362488, 0.2464110255241394, 0.2464110255241394, 0.30706843733787537, 0.30706843733787537, 0.3132566213607788, 0.3132566213607788, 0.31895968317985535, 0.31895968317985535, 0.31895968317985535, 0.31895968317985535, 0.31895968317985535, 0.31895968317985535, 0.31895968317985535, 0.31895968317985535, 0.31895968317985535, 0.31895968317985535, 0.31895968317985535, 0.31895968317985535, 0.31895968317985535, 0.31895968317985535, 0.31895968317985535, 0.31895968317985535, 0.31895968317985535, 0.31895968317985535, 0.31895968317985535, 0.31895968317985535, 0.31895968317985535, 0.31895968317985535, 0.31895968317985535, 0.31895968317985535, 0.31895968317985535, 0.31895968317985535, 0.31895968317985535, 0.31895968317985535, 0.31895968317985535, 0.31895968317985535, 0.31895968317985535, 0.31895968317985535, 0.31895968317985535, 0.31895968317985535, 0.31895968317985535, 0.31895968317985535, 0.31895968317985535, 0.31895968317985535, 0.31895968317985535, 0.31895968317985535, 0.31895968317985535, 0.31895968317985535, 0.31895968317985535, 0.31895968317985535, 0.31895968317985535, 0.31895968317985535, 0.31895968317985535, 0.31895968317985535, 0.31895968317985535, 0.31895968317985535, 0.31895968317985535, 0.31895968317985535, 0.31895968317985535, 0.31895968317985535, 0.31895968317985535, 0.31895968317985535, 0.31895968317985535, 0.31895968317985535, 0.31895968317985535, 0.31895968317985535, 0.31895968317985535, 0.31895968317985535, 0.31895968317985535, 0.31895968317985535, 0.31895968317985535, 0.31895968317985535, 0.31895968317985535, 0.31895968317985535, 0.31895968317985535, 0.31895968317985535, 0.31895968317985535, 0.31895968317985535, 0.31895968317985535, 0.31895968317985535, 0.31895968317985535], \"yaxis\": \"y2\"}],                        {\"annotations\": [{\"font\": {\"size\": 13}, \"showarrow\": false, \"text\": \"CRP\", \"x\": 0.2375, \"xanchor\": \"center\", \"xref\": \"paper\", \"y\": 0.425, \"yanchor\": \"bottom\", \"yref\": \"paper\"}, {\"font\": {\"size\": 13}, \"showarrow\": false, \"text\": \"Percentage lymphocytes\", \"x\": 0.7625, \"xanchor\": \"center\", \"xref\": \"paper\", \"y\": 0.425, \"yanchor\": \"bottom\", \"yref\": \"paper\"}, {\"font\": {\"size\": 13}, \"showarrow\": false, \"text\": \"Age\", \"x\": 0.2375, \"xanchor\": \"center\", \"xref\": \"paper\", \"y\": 1.0, \"yanchor\": \"bottom\", \"yref\": \"paper\"}, {\"font\": {\"size\": 13}, \"showarrow\": false, \"text\": \"LD\", \"x\": 0.7625, \"xanchor\": \"center\", \"xref\": \"paper\", \"y\": 1.0, \"yanchor\": \"bottom\", \"yref\": \"paper\"}, {\"font\": {\"size\": 13}, \"showarrow\": false, \"text\": \"prediction\", \"textangle\": -90, \"x\": -0.07, \"xref\": \"paper\", \"y\": 0.5, \"yref\": \"paper\"}], \"font\": {\"color\": \"#371ea3\"}, \"height\": 829, \"hovermode\": \"x unified\", \"legend\": {\"font\": {\"size\": 11}, \"itemsizing\": \"constant\", \"orientation\": \"h\", \"title\": {\"font\": {\"size\": 12}, \"text\": \"label\"}, \"tracegroupgap\": 0, \"x\": 1, \"xanchor\": \"right\", \"y\": 1.0361881785283473, \"yanchor\": \"bottom\"}, \"margin\": {\"b\": 71, \"r\": 30, \"t\": 78}, \"template\": {\"data\": {\"scatter\": [{\"type\": \"scatter\"}]}}, \"title\": {\"font\": {\"size\": 16}, \"text\": \"Aggregated Profiles\", \"x\": 0.15}, \"xaxis\": {\"anchor\": \"y\", \"automargin\": true, \"domain\": [0.0, 0.475], \"fixedrange\": true, \"gridwidth\": 2, \"showticklabels\": true, \"tickcolor\": \"white\", \"ticklen\": 3, \"ticks\": \"outside\", \"title\": {\"text\": \"\"}, \"type\": \"linear\", \"zeroline\": false}, \"xaxis2\": {\"anchor\": \"y2\", \"automargin\": true, \"domain\": [0.525, 1.0], \"fixedrange\": true, \"gridwidth\": 2, \"showticklabels\": true, \"tickcolor\": \"white\", \"ticklen\": 3, \"ticks\": \"outside\", \"title\": {\"text\": \"\"}, \"type\": \"linear\", \"zeroline\": false}, \"xaxis3\": {\"anchor\": \"y3\", \"automargin\": true, \"domain\": [0.0, 0.475], \"fixedrange\": true, \"gridwidth\": 2, \"showticklabels\": true, \"tickcolor\": \"white\", \"ticklen\": 3, \"ticks\": \"outside\", \"title\": {\"text\": \"\"}, \"type\": \"linear\", \"zeroline\": false}, \"xaxis4\": {\"anchor\": \"y4\", \"automargin\": true, \"domain\": [0.525, 1.0], \"fixedrange\": true, \"gridwidth\": 2, \"showticklabels\": true, \"tickcolor\": \"white\", \"ticklen\": 3, \"ticks\": \"outside\", \"title\": {\"text\": \"\"}, \"type\": \"linear\", \"zeroline\": false}, \"yaxis\": {\"anchor\": \"x\", \"automargin\": true, \"domain\": [0.0, 0.425], \"fixedrange\": true, \"gridwidth\": 2, \"range\": [-0.02072217911481858, 0.5812110066413879], \"tickcolor\": \"white\", \"ticklen\": 3, \"ticks\": \"outside\", \"title\": {\"text\": \"\"}, \"type\": \"linear\", \"zeroline\": false}, \"yaxis2\": {\"anchor\": \"x2\", \"automargin\": true, \"domain\": [0.0, 0.425], \"fixedrange\": true, \"gridwidth\": 2, \"matches\": \"y\", \"range\": [-0.02072217911481858, 0.5812110066413879], \"showticklabels\": false, \"tickcolor\": \"white\", \"ticklen\": 3, \"ticks\": \"outside\", \"title\": {\"text\": \"\"}, \"type\": \"linear\", \"zeroline\": false}, \"yaxis3\": {\"anchor\": \"x3\", \"automargin\": true, \"domain\": [0.575, 1.0], \"fixedrange\": true, \"gridwidth\": 2, \"matches\": \"y\", \"range\": [-0.02072217911481858, 0.5812110066413879], \"tickcolor\": \"white\", \"ticklen\": 3, \"ticks\": \"outside\", \"title\": {\"text\": \"\"}, \"type\": \"linear\", \"zeroline\": false}, \"yaxis4\": {\"anchor\": \"x4\", \"automargin\": true, \"domain\": [0.575, 1.0], \"fixedrange\": true, \"gridwidth\": 2, \"matches\": \"y\", \"range\": [-0.02072217911481858, 0.5812110066413879], \"showticklabels\": false, \"tickcolor\": \"white\", \"ticklen\": 3, \"ticks\": \"outside\", \"title\": {\"text\": \"\"}, \"type\": \"linear\", \"zeroline\": false}},                        {\"displaylogo\": false, \"staticPlot\": false, \"toImageButtonOptions\": {\"height\": null, \"width\": null}, \"modeBarButtonsToRemove\": [\"sendDataToCloud\", \"lasso2d\", \"autoScale2d\", \"select2d\", \"zoom2d\", \"pan2d\", \"zoomIn2d\", \"zoomOut2d\", \"resetScale2d\", \"toggleSpikelines\", \"hoverCompareCartesian\", \"hoverClosestCartesian\"], \"responsive\": true}                    ).then(function(){\n",
       "                            \n",
       "var gd = document.getElementById('32c03da7-6a25-48d2-ab3a-2bd425089b3a');\n",
       "var x = new MutationObserver(function (mutations, observer) {{\n",
       "        var display = window.getComputedStyle(gd).display;\n",
       "        if (!display || display === 'none') {{\n",
       "            console.log([gd, 'removed!']);\n",
       "            Plotly.purge(gd);\n",
       "            observer.disconnect();\n",
       "        }}\n",
       "}});\n",
       "\n",
       "// Listen for the removal of the full notebook cells\n",
       "var notebookContainer = gd.closest('#notebook-container');\n",
       "if (notebookContainer) {{\n",
       "    x.observe(notebookContainer, {childList: true});\n",
       "}}\n",
       "\n",
       "// Listen for the clearing of the current output cell\n",
       "var outputEl = gd.closest('.output');\n",
       "if (outputEl) {{\n",
       "    x.observe(outputEl, {childList: true});\n",
       "}}\n",
       "\n",
       "                        })                };                });            </script>        </div>"
      ]
     },
     "metadata": {},
     "output_type": "display_data"
    }
   ],
   "source": [
    "pdp_num.plot()"
   ]
  },
  {
   "cell_type": "markdown",
   "metadata": {},
   "source": [
    "# Powinniśmy patrzeć na krew czy wygląd ludzi? "
   ]
  },
  {
   "cell_type": "code",
   "execution_count": 139,
   "metadata": {},
   "outputs": [],
   "source": [
    "numerical_features = ['Age']\n",
    "numerical_transformer = Pipeline(\n",
    "    steps=[('scaler', StandardScaler())])\n",
    "\n",
    "categorical_features = ['Gender']\n",
    "categorical_transformer = Pipeline(\n",
    "    steps=[('onehot', OneHotEncoder(handle_unknown='ignore'))])\n",
    "\n",
    "preprocessor = ColumnTransformer(\n",
    "    transformers=[\n",
    "        ('num', numerical_transformer, numerical_features),\n",
    "        ('cat', categorical_transformer, categorical_features)])\n",
    "\n",
    "clf_1 = Pipeline(steps=[('preprocessor', preprocessor),\n",
    "                      ('classifier', model)])\n",
    "\n",
    "numerical_features = ['LD', 'CRP', 'Percentage lymphocytes']\n",
    "numerical_transformer = Pipeline(\n",
    "    steps=[\n",
    "        #('imputer', SimpleImputer(strategy='median')),\n",
    "        ('scaler', StandardScaler())\n",
    "    ]\n",
    ")\n",
    "\n",
    "preprocessor = ColumnTransformer(\n",
    "    transformers=[\n",
    "        ('num', numerical_transformer, numerical_features),]\n",
    ")\n",
    "\n",
    "clf_2 = Pipeline(steps=[('preprocessor', preprocessor),\n",
    "                      ('classifier', model)])\n"
   ]
  },
  {
   "cell_type": "code",
   "execution_count": 140,
   "metadata": {},
   "outputs": [],
   "source": [
    "age_sex = clf_1.fit(X[['Age','Gender']], y)\n",
    "blood = clf_2.fit(X[['LD', 'CRP', 'Percentage lymphocytes']], y)"
   ]
  },
  {
   "cell_type": "code",
   "execution_count": 141,
   "metadata": {
    "scrolled": true
   },
   "outputs": [
    {
     "name": "stdout",
     "output_type": "stream",
     "text": [
      "Preparation of a new explainer is initiated\n",
      "\n",
      "  -> data              : 305 rows 2 cols\n",
      "  -> target variable   : Parameter 'y' was a pandas.Series. Converted to a numpy.ndarray.\n",
      "  -> target variable   : 305 values\n",
      "  -> model_class       : xgboost.sklearn.XGBClassifier (default)\n",
      "  -> label             : Not specified, model's class short name will be used. (default)\n",
      "  -> predict function  : <function yhat_proba_default at 0x7f581209b160> will be used (default)\n",
      "  -> predict function  : Accepts only pandas.DataFrame, numpy.ndarray causes problems.\n",
      "  -> predicted values  : min = 0.00177, mean = 0.148, max = 0.745\n",
      "  -> model type        : classification will be used (default)\n",
      "  -> residual function : difference between y and yhat (default)\n",
      "  -> residuals         : min = -0.745, mean = 0.0521, max = 0.995\n",
      "  -> model_info        : package sklearn\n",
      "\n",
      "A new explainer has been created!\n",
      "Preparation of a new explainer is initiated\n",
      "\n",
      "  -> data              : 305 rows 3 cols\n",
      "  -> target variable   : Parameter 'y' was a pandas.Series. Converted to a numpy.ndarray.\n",
      "  -> target variable   : 305 values\n",
      "  -> model_class       : xgboost.sklearn.XGBClassifier (default)\n",
      "  -> label             : Not specified, model's class short name will be used. (default)\n",
      "  -> predict function  : <function yhat_proba_default at 0x7f581209b160> will be used (default)\n",
      "  -> predict function  : Accepts only pandas.DataFrame, numpy.ndarray causes problems.\n",
      "  -> predicted values  : min = 0.000711, mean = 0.2, max = 0.947\n",
      "  -> model type        : classification will be used (default)\n",
      "  -> residual function : difference between y and yhat (default)\n",
      "  -> residuals         : min = -0.432, mean = 0.000298, max = 0.475\n",
      "  -> model_info        : package sklearn\n",
      "\n",
      "A new explainer has been created!\n"
     ]
    }
   ],
   "source": [
    "age_sex_exp = dx.Explainer(age_sex,X[['Age','Gender']], y)\n",
    "blood_exp = dx.Explainer(blood, X[['LD', 'CRP', 'Percentage lymphocytes']], y)"
   ]
  },
  {
   "cell_type": "code",
   "execution_count": 142,
   "metadata": {
    "scrolled": true
   },
   "outputs": [
    {
     "name": "stdout",
     "output_type": "stream",
     "text": [
      "Preparation of a new explainer is initiated\n",
      "\n",
      "  -> data              : 305 rows 2 cols\n",
      "  -> target variable   : Parameter 'y' was a pandas.Series. Converted to a numpy.ndarray.\n",
      "  -> target variable   : 305 values\n",
      "  -> model_class       : xgboost.sklearn.XGBClassifier (default)\n",
      "  -> label             : Not specified, model's class short name will be used. (default)\n",
      "  -> predict function  : <function yhat_proba_default at 0x7f581209b160> will be used (default)\n",
      "  -> predict function  : Accepts only pandas.DataFrame, numpy.ndarray causes problems.\n",
      "  -> predicted values  : min = 0.00177, mean = 0.148, max = 0.745\n",
      "  -> model type        : classification will be used (default)\n",
      "  -> residual function : difference between y and yhat (default)\n",
      "  -> residuals         : min = -0.745, mean = 0.0521, max = 0.995\n",
      "  -> model_info        : package sklearn\n",
      "\n",
      "A new explainer has been created!\n",
      "Preparation of a new explainer is initiated\n",
      "\n",
      "  -> data              : 305 rows 3 cols\n",
      "  -> target variable   : Parameter 'y' was a pandas.Series. Converted to a numpy.ndarray.\n",
      "  -> target variable   : 305 values\n",
      "  -> model_class       : xgboost.sklearn.XGBClassifier (default)\n",
      "  -> label             : Not specified, model's class short name will be used. (default)\n",
      "  -> predict function  : <function yhat_proba_default at 0x7f581209b160> will be used (default)\n",
      "  -> predict function  : Accepts only pandas.DataFrame, numpy.ndarray causes problems.\n",
      "  -> predicted values  : min = 0.000711, mean = 0.2, max = 0.947\n",
      "  -> model type        : classification will be used (default)\n",
      "  -> residual function : difference between y and yhat (default)\n",
      "  -> residuals         : min = -0.432, mean = 0.000298, max = 0.475\n",
      "  -> model_info        : package sklearn\n",
      "\n",
      "A new explainer has been created!\n",
      "https://arena.drwhy.ai/?data=http://127.0.0.1:9294/\n"
     ]
    },
    {
     "name": "stderr",
     "output_type": "stream",
     "text": [
      "Exception in thread Thread-39:\n",
      "Traceback (most recent call last):\n",
      "  File \"/home/hania/anaconda3/lib/python3.8/threading.py\", line 932, in _bootstrap_inner\n",
      "    self.run()\n",
      "  File \"/home/hania/anaconda3/lib/python3.8/threading.py\", line 870, in run\n",
      "    self._target(*self._args, **self._kwargs)\n",
      "  File \"/home/hania/anaconda3/lib/python3.8/site-packages/dalex/arena/server.py\", line 97, in start_server\n",
      "    app.run(host=host, port=port)\n",
      "  File \"/home/hania/.local/lib/python3.8/site-packages/flask/app.py\", line 990, in run\n",
      "    run_simple(host, port, self, **options)\n",
      "  File \"/home/hania/.local/lib/python3.8/site-packages/werkzeug/serving.py\", line 1052, in run_simple\n",
      "    inner()\n",
      "  File \"/home/hania/.local/lib/python3.8/site-packages/werkzeug/serving.py\", line 996, in inner\n",
      "    srv = make_server(\n",
      "  File \"/home/hania/.local/lib/python3.8/site-packages/werkzeug/serving.py\", line 847, in make_server\n",
      "    return ThreadedWSGIServer(\n",
      "  File \"/home/hania/.local/lib/python3.8/site-packages/werkzeug/serving.py\", line 740, in __init__\n",
      "    HTTPServer.__init__(self, server_address, handler)\n",
      "  File \"/home/hania/anaconda3/lib/python3.8/socketserver.py\", line 452, in __init__\n",
      "    self.server_bind()\n",
      "  File \"/home/hania/anaconda3/lib/python3.8/http/server.py\", line 138, in server_bind\n",
      "    socketserver.TCPServer.server_bind(self)\n",
      "  File \"/home/hania/anaconda3/lib/python3.8/socketserver.py\", line 466, in server_bind\n",
      "    self.socket.bind(self.server_address)\n",
      "OSError: [Errno 98] Address already in use\n"
     ]
    }
   ],
   "source": [
    "arena=dx.Arena()\n",
    "\n",
    "age_sex_exp = dx.Explainer(age_sex,X[['Age','Gender']], y)\n",
    "blood_exp = dx.Explainer(blood, X[['LD', 'CRP', 'Percentage lymphocytes']], y)\n",
    "age_sex_exp.label = \"age_sex\"\n",
    "blood_exp.label = \"blood\"\n",
    "\n",
    "arena.push_model(age_sex_exp)\n",
    "arena.push_model(blood_exp)\n",
    "arena.push_observations(df)\n",
    "arena.run_server(port=9294)"
   ]
  },
  {
   "cell_type": "code",
   "execution_count": 104,
   "metadata": {},
   "outputs": [],
   "source": [
    "arena.stop_server()"
   ]
  },
  {
   "cell_type": "code",
   "execution_count": 105,
   "metadata": {},
   "outputs": [
    {
     "data": {
      "text/plain": [
       "0.40165631469979296"
      ]
     },
     "execution_count": 105,
     "metadata": {},
     "output_type": "execute_result"
    }
   ],
   "source": [
    "cross_val_score(age_sex, X[['Age','Gender']], y, cv=3, scoring='precision').mean()"
   ]
  },
  {
   "cell_type": "code",
   "execution_count": 106,
   "metadata": {},
   "outputs": [
    {
     "data": {
      "text/plain": [
       "0.26666666666666666"
      ]
     },
     "execution_count": 106,
     "metadata": {},
     "output_type": "execute_result"
    }
   ],
   "source": [
    "cross_val_score(blood, X[['LD', 'CRP', 'Percentage lymphocytes']], y, cv = 3, scoring='precision').mean()"
   ]
  },
  {
   "cell_type": "markdown",
   "metadata": {},
   "source": [
    "## Czyli nie trzeba pobierać krwi, wystarczy na kogoś popatrzeć! "
   ]
  },
  {
   "cell_type": "markdown",
   "metadata": {},
   "source": [
    "# A jak wygląda ta sprawa w Chinach? "
   ]
  },
  {
   "cell_type": "code",
   "execution_count": 107,
   "metadata": {},
   "outputs": [
    {
     "data": {
      "text/html": [
       "<div>\n",
       "<style scoped>\n",
       "    .dataframe tbody tr th:only-of-type {\n",
       "        vertical-align: middle;\n",
       "    }\n",
       "\n",
       "    .dataframe tbody tr th {\n",
       "        vertical-align: top;\n",
       "    }\n",
       "\n",
       "    .dataframe thead th {\n",
       "        text-align: right;\n",
       "    }\n",
       "</style>\n",
       "<table border=\"1\" class=\"dataframe\">\n",
       "  <thead>\n",
       "    <tr style=\"text-align: right;\">\n",
       "      <th></th>\n",
       "      <th>PATIENT_ID</th>\n",
       "      <th>RE_DATE</th>\n",
       "      <th>age</th>\n",
       "      <th>gender</th>\n",
       "      <th>Admission time</th>\n",
       "      <th>Discharge time</th>\n",
       "      <th>outcome</th>\n",
       "      <th>Hypersensitive cardiac troponinI</th>\n",
       "      <th>hemoglobin</th>\n",
       "      <th>Serum chloride</th>\n",
       "      <th>...</th>\n",
       "      <th>mean corpuscular hemoglobin</th>\n",
       "      <th>Activation of partial thromboplastin time</th>\n",
       "      <th>High sensitivity C-reactive protein</th>\n",
       "      <th>HIV antibody quantification</th>\n",
       "      <th>serum sodium</th>\n",
       "      <th>thrombocytocrit</th>\n",
       "      <th>ESR</th>\n",
       "      <th>glutamic-pyruvic transaminase</th>\n",
       "      <th>eGFR</th>\n",
       "      <th>creatinine</th>\n",
       "    </tr>\n",
       "  </thead>\n",
       "  <tbody>\n",
       "    <tr>\n",
       "      <th>0</th>\n",
       "      <td>1.0</td>\n",
       "      <td>2020-01-31 01:09:00.000000</td>\n",
       "      <td>73</td>\n",
       "      <td>1</td>\n",
       "      <td>2020-01-30 22:12:47</td>\n",
       "      <td>2020-02-17 12:40:09</td>\n",
       "      <td>0</td>\n",
       "      <td>NaN</td>\n",
       "      <td>NaN</td>\n",
       "      <td>NaN</td>\n",
       "      <td>...</td>\n",
       "      <td>NaN</td>\n",
       "      <td>NaN</td>\n",
       "      <td>NaN</td>\n",
       "      <td>NaN</td>\n",
       "      <td>NaN</td>\n",
       "      <td>NaN</td>\n",
       "      <td>NaN</td>\n",
       "      <td>NaN</td>\n",
       "      <td>NaN</td>\n",
       "      <td>NaN</td>\n",
       "    </tr>\n",
       "    <tr>\n",
       "      <th>1</th>\n",
       "      <td>NaN</td>\n",
       "      <td>2020-01-31 01:25:00.000000</td>\n",
       "      <td>73</td>\n",
       "      <td>1</td>\n",
       "      <td>2020-01-30 22:12:47</td>\n",
       "      <td>2020-02-17 12:40:09</td>\n",
       "      <td>0</td>\n",
       "      <td>NaN</td>\n",
       "      <td>136.0</td>\n",
       "      <td>NaN</td>\n",
       "      <td>...</td>\n",
       "      <td>31.9</td>\n",
       "      <td>NaN</td>\n",
       "      <td>NaN</td>\n",
       "      <td>NaN</td>\n",
       "      <td>NaN</td>\n",
       "      <td>0.12</td>\n",
       "      <td>NaN</td>\n",
       "      <td>NaN</td>\n",
       "      <td>NaN</td>\n",
       "      <td>NaN</td>\n",
       "    </tr>\n",
       "    <tr>\n",
       "      <th>2</th>\n",
       "      <td>NaN</td>\n",
       "      <td>2020-01-31 01:44:00.000000</td>\n",
       "      <td>73</td>\n",
       "      <td>1</td>\n",
       "      <td>2020-01-30 22:12:47</td>\n",
       "      <td>2020-02-17 12:40:09</td>\n",
       "      <td>0</td>\n",
       "      <td>NaN</td>\n",
       "      <td>NaN</td>\n",
       "      <td>103.1</td>\n",
       "      <td>...</td>\n",
       "      <td>NaN</td>\n",
       "      <td>NaN</td>\n",
       "      <td>43.1</td>\n",
       "      <td>NaN</td>\n",
       "      <td>137.7</td>\n",
       "      <td>NaN</td>\n",
       "      <td>NaN</td>\n",
       "      <td>16.0</td>\n",
       "      <td>46.6</td>\n",
       "      <td>130.0</td>\n",
       "    </tr>\n",
       "    <tr>\n",
       "      <th>3</th>\n",
       "      <td>NaN</td>\n",
       "      <td>2020-01-31 01:44:59.999999</td>\n",
       "      <td>73</td>\n",
       "      <td>1</td>\n",
       "      <td>2020-01-30 22:12:47</td>\n",
       "      <td>2020-02-17 12:40:09</td>\n",
       "      <td>0</td>\n",
       "      <td>NaN</td>\n",
       "      <td>NaN</td>\n",
       "      <td>NaN</td>\n",
       "      <td>...</td>\n",
       "      <td>NaN</td>\n",
       "      <td>NaN</td>\n",
       "      <td>NaN</td>\n",
       "      <td>NaN</td>\n",
       "      <td>NaN</td>\n",
       "      <td>NaN</td>\n",
       "      <td>NaN</td>\n",
       "      <td>NaN</td>\n",
       "      <td>NaN</td>\n",
       "      <td>NaN</td>\n",
       "    </tr>\n",
       "    <tr>\n",
       "      <th>4</th>\n",
       "      <td>NaN</td>\n",
       "      <td>2020-01-31 01:56:00.000001</td>\n",
       "      <td>73</td>\n",
       "      <td>1</td>\n",
       "      <td>2020-01-30 22:12:47</td>\n",
       "      <td>2020-02-17 12:40:09</td>\n",
       "      <td>0</td>\n",
       "      <td>19.9</td>\n",
       "      <td>NaN</td>\n",
       "      <td>NaN</td>\n",
       "      <td>...</td>\n",
       "      <td>NaN</td>\n",
       "      <td>NaN</td>\n",
       "      <td>NaN</td>\n",
       "      <td>NaN</td>\n",
       "      <td>NaN</td>\n",
       "      <td>NaN</td>\n",
       "      <td>NaN</td>\n",
       "      <td>NaN</td>\n",
       "      <td>NaN</td>\n",
       "      <td>NaN</td>\n",
       "    </tr>\n",
       "    <tr>\n",
       "      <th>...</th>\n",
       "      <td>...</td>\n",
       "      <td>...</td>\n",
       "      <td>...</td>\n",
       "      <td>...</td>\n",
       "      <td>...</td>\n",
       "      <td>...</td>\n",
       "      <td>...</td>\n",
       "      <td>...</td>\n",
       "      <td>...</td>\n",
       "      <td>...</td>\n",
       "      <td>...</td>\n",
       "      <td>...</td>\n",
       "      <td>...</td>\n",
       "      <td>...</td>\n",
       "      <td>...</td>\n",
       "      <td>...</td>\n",
       "      <td>...</td>\n",
       "      <td>...</td>\n",
       "      <td>...</td>\n",
       "      <td>...</td>\n",
       "      <td>...</td>\n",
       "    </tr>\n",
       "    <tr>\n",
       "      <th>6115</th>\n",
       "      <td>NaN</td>\n",
       "      <td>2020-02-16 11:21:00.000001</td>\n",
       "      <td>68</td>\n",
       "      <td>1</td>\n",
       "      <td>2020-02-08 23:25:01</td>\n",
       "      <td>2020-02-19 01:31:58</td>\n",
       "      <td>1</td>\n",
       "      <td>84.9</td>\n",
       "      <td>NaN</td>\n",
       "      <td>NaN</td>\n",
       "      <td>...</td>\n",
       "      <td>NaN</td>\n",
       "      <td>NaN</td>\n",
       "      <td>NaN</td>\n",
       "      <td>NaN</td>\n",
       "      <td>NaN</td>\n",
       "      <td>NaN</td>\n",
       "      <td>NaN</td>\n",
       "      <td>NaN</td>\n",
       "      <td>NaN</td>\n",
       "      <td>NaN</td>\n",
       "    </tr>\n",
       "    <tr>\n",
       "      <th>6116</th>\n",
       "      <td>NaN</td>\n",
       "      <td>2020-02-16 12:04:00.000000</td>\n",
       "      <td>68</td>\n",
       "      <td>1</td>\n",
       "      <td>2020-02-08 23:25:01</td>\n",
       "      <td>2020-02-19 01:31:58</td>\n",
       "      <td>1</td>\n",
       "      <td>NaN</td>\n",
       "      <td>NaN</td>\n",
       "      <td>NaN</td>\n",
       "      <td>...</td>\n",
       "      <td>NaN</td>\n",
       "      <td>NaN</td>\n",
       "      <td>NaN</td>\n",
       "      <td>NaN</td>\n",
       "      <td>NaN</td>\n",
       "      <td>NaN</td>\n",
       "      <td>NaN</td>\n",
       "      <td>NaN</td>\n",
       "      <td>NaN</td>\n",
       "      <td>NaN</td>\n",
       "    </tr>\n",
       "    <tr>\n",
       "      <th>6117</th>\n",
       "      <td>NaN</td>\n",
       "      <td>2020-02-16 12:14:00.000000</td>\n",
       "      <td>68</td>\n",
       "      <td>1</td>\n",
       "      <td>2020-02-08 23:25:01</td>\n",
       "      <td>2020-02-19 01:31:58</td>\n",
       "      <td>1</td>\n",
       "      <td>NaN</td>\n",
       "      <td>NaN</td>\n",
       "      <td>105.2</td>\n",
       "      <td>...</td>\n",
       "      <td>NaN</td>\n",
       "      <td>NaN</td>\n",
       "      <td>267.0</td>\n",
       "      <td>NaN</td>\n",
       "      <td>139.3</td>\n",
       "      <td>NaN</td>\n",
       "      <td>NaN</td>\n",
       "      <td>17.0</td>\n",
       "      <td>88.6</td>\n",
       "      <td>77.0</td>\n",
       "    </tr>\n",
       "    <tr>\n",
       "      <th>6118</th>\n",
       "      <td>NaN</td>\n",
       "      <td>2020-02-16 14:11:00.000000</td>\n",
       "      <td>68</td>\n",
       "      <td>1</td>\n",
       "      <td>2020-02-08 23:25:01</td>\n",
       "      <td>2020-02-19 01:31:58</td>\n",
       "      <td>1</td>\n",
       "      <td>NaN</td>\n",
       "      <td>155.0</td>\n",
       "      <td>NaN</td>\n",
       "      <td>...</td>\n",
       "      <td>31.6</td>\n",
       "      <td>NaN</td>\n",
       "      <td>NaN</td>\n",
       "      <td>NaN</td>\n",
       "      <td>NaN</td>\n",
       "      <td>NaN</td>\n",
       "      <td>NaN</td>\n",
       "      <td>NaN</td>\n",
       "      <td>NaN</td>\n",
       "      <td>NaN</td>\n",
       "    </tr>\n",
       "    <tr>\n",
       "      <th>6119</th>\n",
       "      <td>NaN</td>\n",
       "      <td>2020-02-16 14:37:00.000000</td>\n",
       "      <td>68</td>\n",
       "      <td>1</td>\n",
       "      <td>2020-02-08 23:25:01</td>\n",
       "      <td>2020-02-19 01:31:58</td>\n",
       "      <td>1</td>\n",
       "      <td>NaN</td>\n",
       "      <td>NaN</td>\n",
       "      <td>NaN</td>\n",
       "      <td>...</td>\n",
       "      <td>NaN</td>\n",
       "      <td>35.8</td>\n",
       "      <td>NaN</td>\n",
       "      <td>NaN</td>\n",
       "      <td>NaN</td>\n",
       "      <td>NaN</td>\n",
       "      <td>NaN</td>\n",
       "      <td>NaN</td>\n",
       "      <td>NaN</td>\n",
       "      <td>NaN</td>\n",
       "    </tr>\n",
       "  </tbody>\n",
       "</table>\n",
       "<p>6120 rows × 81 columns</p>\n",
       "</div>"
      ],
      "text/plain": [
       "      PATIENT_ID                    RE_DATE  age  gender      Admission time  \\\n",
       "0            1.0 2020-01-31 01:09:00.000000   73       1 2020-01-30 22:12:47   \n",
       "1            NaN 2020-01-31 01:25:00.000000   73       1 2020-01-30 22:12:47   \n",
       "2            NaN 2020-01-31 01:44:00.000000   73       1 2020-01-30 22:12:47   \n",
       "3            NaN 2020-01-31 01:44:59.999999   73       1 2020-01-30 22:12:47   \n",
       "4            NaN 2020-01-31 01:56:00.000001   73       1 2020-01-30 22:12:47   \n",
       "...          ...                        ...  ...     ...                 ...   \n",
       "6115         NaN 2020-02-16 11:21:00.000001   68       1 2020-02-08 23:25:01   \n",
       "6116         NaN 2020-02-16 12:04:00.000000   68       1 2020-02-08 23:25:01   \n",
       "6117         NaN 2020-02-16 12:14:00.000000   68       1 2020-02-08 23:25:01   \n",
       "6118         NaN 2020-02-16 14:11:00.000000   68       1 2020-02-08 23:25:01   \n",
       "6119         NaN 2020-02-16 14:37:00.000000   68       1 2020-02-08 23:25:01   \n",
       "\n",
       "          Discharge time  outcome  Hypersensitive cardiac troponinI  \\\n",
       "0    2020-02-17 12:40:09        0                               NaN   \n",
       "1    2020-02-17 12:40:09        0                               NaN   \n",
       "2    2020-02-17 12:40:09        0                               NaN   \n",
       "3    2020-02-17 12:40:09        0                               NaN   \n",
       "4    2020-02-17 12:40:09        0                              19.9   \n",
       "...                  ...      ...                               ...   \n",
       "6115 2020-02-19 01:31:58        1                              84.9   \n",
       "6116 2020-02-19 01:31:58        1                               NaN   \n",
       "6117 2020-02-19 01:31:58        1                               NaN   \n",
       "6118 2020-02-19 01:31:58        1                               NaN   \n",
       "6119 2020-02-19 01:31:58        1                               NaN   \n",
       "\n",
       "      hemoglobin  Serum chloride  ...  mean corpuscular hemoglobin   \\\n",
       "0            NaN             NaN  ...                           NaN   \n",
       "1          136.0             NaN  ...                          31.9   \n",
       "2            NaN           103.1  ...                           NaN   \n",
       "3            NaN             NaN  ...                           NaN   \n",
       "4            NaN             NaN  ...                           NaN   \n",
       "...          ...             ...  ...                           ...   \n",
       "6115         NaN             NaN  ...                           NaN   \n",
       "6116         NaN             NaN  ...                           NaN   \n",
       "6117         NaN           105.2  ...                           NaN   \n",
       "6118       155.0             NaN  ...                          31.6   \n",
       "6119         NaN             NaN  ...                           NaN   \n",
       "\n",
       "      Activation of partial thromboplastin time  \\\n",
       "0                                           NaN   \n",
       "1                                           NaN   \n",
       "2                                           NaN   \n",
       "3                                           NaN   \n",
       "4                                           NaN   \n",
       "...                                         ...   \n",
       "6115                                        NaN   \n",
       "6116                                        NaN   \n",
       "6117                                        NaN   \n",
       "6118                                        NaN   \n",
       "6119                                       35.8   \n",
       "\n",
       "      High sensitivity C-reactive protein  HIV antibody quantification  \\\n",
       "0                                     NaN                          NaN   \n",
       "1                                     NaN                          NaN   \n",
       "2                                    43.1                          NaN   \n",
       "3                                     NaN                          NaN   \n",
       "4                                     NaN                          NaN   \n",
       "...                                   ...                          ...   \n",
       "6115                                  NaN                          NaN   \n",
       "6116                                  NaN                          NaN   \n",
       "6117                                267.0                          NaN   \n",
       "6118                                  NaN                          NaN   \n",
       "6119                                  NaN                          NaN   \n",
       "\n",
       "      serum sodium  thrombocytocrit  ESR  glutamic-pyruvic transaminase  eGFR  \\\n",
       "0              NaN              NaN  NaN                            NaN   NaN   \n",
       "1              NaN             0.12  NaN                            NaN   NaN   \n",
       "2            137.7              NaN  NaN                           16.0  46.6   \n",
       "3              NaN              NaN  NaN                            NaN   NaN   \n",
       "4              NaN              NaN  NaN                            NaN   NaN   \n",
       "...            ...              ...  ...                            ...   ...   \n",
       "6115           NaN              NaN  NaN                            NaN   NaN   \n",
       "6116           NaN              NaN  NaN                            NaN   NaN   \n",
       "6117         139.3              NaN  NaN                           17.0  88.6   \n",
       "6118           NaN              NaN  NaN                            NaN   NaN   \n",
       "6119           NaN              NaN  NaN                            NaN   NaN   \n",
       "\n",
       "      creatinine  \n",
       "0            NaN  \n",
       "1            NaN  \n",
       "2          130.0  \n",
       "3            NaN  \n",
       "4            NaN  \n",
       "...          ...  \n",
       "6115         NaN  \n",
       "6116         NaN  \n",
       "6117        77.0  \n",
       "6118         NaN  \n",
       "6119         NaN  \n",
       "\n",
       "[6120 rows x 81 columns]"
      ]
     },
     "execution_count": 107,
     "metadata": {},
     "output_type": "execute_result"
    }
   ],
   "source": [
    "china = pd.read_excel('data/time_series_375_prerpocess_en.xlsx')\n",
    "china"
   ]
  },
  {
   "cell_type": "code",
   "execution_count": 108,
   "metadata": {},
   "outputs": [],
   "source": [
    "from raport_v1.utils_features_selection import data_read_and_split"
   ]
  },
  {
   "cell_type": "code",
   "execution_count": 109,
   "metadata": {},
   "outputs": [],
   "source": [
    "X_data_all_features, Y_data, x_col = data_read_and_split()"
   ]
  },
  {
   "cell_type": "code",
   "execution_count": 110,
   "metadata": {},
   "outputs": [
    {
     "data": {
      "text/html": [
       "<div>\n",
       "<style scoped>\n",
       "    .dataframe tbody tr th:only-of-type {\n",
       "        vertical-align: middle;\n",
       "    }\n",
       "\n",
       "    .dataframe tbody tr th {\n",
       "        vertical-align: top;\n",
       "    }\n",
       "\n",
       "    .dataframe thead th {\n",
       "        text-align: right;\n",
       "    }\n",
       "</style>\n",
       "<table border=\"1\" class=\"dataframe\">\n",
       "  <thead>\n",
       "    <tr style=\"text-align: right;\">\n",
       "      <th></th>\n",
       "      <th>红细胞计数</th>\n",
       "      <th>白细胞计数</th>\n",
       "      <th>红细胞压积</th>\n",
       "      <th>球蛋白</th>\n",
       "      <th>平均血红蛋白浓度</th>\n",
       "      <th>单核细胞(#)</th>\n",
       "      <th>乳酸脱氢酶</th>\n",
       "      <th>尿素</th>\n",
       "      <th>淋巴细胞(#)</th>\n",
       "      <th>γ-谷氨酰转肽酶</th>\n",
       "      <th>...</th>\n",
       "      <th>凝血酶原活动度</th>\n",
       "      <th>葡萄糖</th>\n",
       "      <th>RBC分布宽度SD</th>\n",
       "      <th>RBC分布宽度CV</th>\n",
       "      <th>平均PLT体积</th>\n",
       "      <th>血小板压积</th>\n",
       "      <th>大血小板比率</th>\n",
       "      <th>PLT分布宽度</th>\n",
       "      <th>D-D二聚体定量</th>\n",
       "      <th>降钙素原</th>\n",
       "    </tr>\n",
       "    <tr>\n",
       "      <th>PATIENT_ID</th>\n",
       "      <th></th>\n",
       "      <th></th>\n",
       "      <th></th>\n",
       "      <th></th>\n",
       "      <th></th>\n",
       "      <th></th>\n",
       "      <th></th>\n",
       "      <th></th>\n",
       "      <th></th>\n",
       "      <th></th>\n",
       "      <th></th>\n",
       "      <th></th>\n",
       "      <th></th>\n",
       "      <th></th>\n",
       "      <th></th>\n",
       "      <th></th>\n",
       "      <th></th>\n",
       "      <th></th>\n",
       "      <th></th>\n",
       "      <th></th>\n",
       "      <th></th>\n",
       "    </tr>\n",
       "  </thead>\n",
       "  <tbody>\n",
       "    <tr>\n",
       "      <th>1</th>\n",
       "      <td>4.05</td>\n",
       "      <td>9.67</td>\n",
       "      <td>38.0</td>\n",
       "      <td>30.1</td>\n",
       "      <td>345.0</td>\n",
       "      <td>0.76</td>\n",
       "      <td>206.0</td>\n",
       "      <td>6.50</td>\n",
       "      <td>2.50</td>\n",
       "      <td>41.0</td>\n",
       "      <td>...</td>\n",
       "      <td>115.0</td>\n",
       "      <td>6.75</td>\n",
       "      <td>41.5</td>\n",
       "      <td>11.9</td>\n",
       "      <td>11.3</td>\n",
       "      <td>0.16</td>\n",
       "      <td>36.9</td>\n",
       "      <td>14.3</td>\n",
       "      <td>0.92</td>\n",
       "      <td>0.09</td>\n",
       "    </tr>\n",
       "    <tr>\n",
       "      <th>2</th>\n",
       "      <td>4.63</td>\n",
       "      <td>10.37</td>\n",
       "      <td>43.6</td>\n",
       "      <td>33.2</td>\n",
       "      <td>342.0</td>\n",
       "      <td>0.59</td>\n",
       "      <td>282.0</td>\n",
       "      <td>3.50</td>\n",
       "      <td>0.95</td>\n",
       "      <td>50.0</td>\n",
       "      <td>...</td>\n",
       "      <td>117.0</td>\n",
       "      <td>11.32</td>\n",
       "      <td>44.1</td>\n",
       "      <td>13.1</td>\n",
       "      <td>9.4</td>\n",
       "      <td>0.27</td>\n",
       "      <td>19.8</td>\n",
       "      <td>10.1</td>\n",
       "      <td>0.44</td>\n",
       "      <td>0.09</td>\n",
       "    </tr>\n",
       "    <tr>\n",
       "      <th>3</th>\n",
       "      <td>3.78</td>\n",
       "      <td>7.68</td>\n",
       "      <td>35.7</td>\n",
       "      <td>29.8</td>\n",
       "      <td>353.0</td>\n",
       "      <td>0.47</td>\n",
       "      <td>226.0</td>\n",
       "      <td>4.22</td>\n",
       "      <td>2.10</td>\n",
       "      <td>53.0</td>\n",
       "      <td>...</td>\n",
       "      <td>94.0</td>\n",
       "      <td>9.42</td>\n",
       "      <td>42.7</td>\n",
       "      <td>12.6</td>\n",
       "      <td>9.7</td>\n",
       "      <td>0.23</td>\n",
       "      <td>21.4</td>\n",
       "      <td>10.1</td>\n",
       "      <td>0.98</td>\n",
       "      <td>0.06</td>\n",
       "    </tr>\n",
       "    <tr>\n",
       "      <th>4</th>\n",
       "      <td>2.63</td>\n",
       "      <td>6.78</td>\n",
       "      <td>29.8</td>\n",
       "      <td>31.9</td>\n",
       "      <td>346.0</td>\n",
       "      <td>0.58</td>\n",
       "      <td>249.0</td>\n",
       "      <td>3.60</td>\n",
       "      <td>1.12</td>\n",
       "      <td>14.0</td>\n",
       "      <td>...</td>\n",
       "      <td>68.0</td>\n",
       "      <td>5.78</td>\n",
       "      <td>59.3</td>\n",
       "      <td>14.3</td>\n",
       "      <td>9.0</td>\n",
       "      <td>0.27</td>\n",
       "      <td>16.3</td>\n",
       "      <td>8.1</td>\n",
       "      <td>1.26</td>\n",
       "      <td>0.38</td>\n",
       "    </tr>\n",
       "    <tr>\n",
       "      <th>5</th>\n",
       "      <td>4.34</td>\n",
       "      <td>7.95</td>\n",
       "      <td>37.9</td>\n",
       "      <td>30.8</td>\n",
       "      <td>343.0</td>\n",
       "      <td>0.59</td>\n",
       "      <td>179.0</td>\n",
       "      <td>3.00</td>\n",
       "      <td>1.88</td>\n",
       "      <td>21.0</td>\n",
       "      <td>...</td>\n",
       "      <td>83.0</td>\n",
       "      <td>4.84</td>\n",
       "      <td>39.4</td>\n",
       "      <td>12.4</td>\n",
       "      <td>10.0</td>\n",
       "      <td>0.36</td>\n",
       "      <td>24.3</td>\n",
       "      <td>11.1</td>\n",
       "      <td>0.42</td>\n",
       "      <td>0.02</td>\n",
       "    </tr>\n",
       "  </tbody>\n",
       "</table>\n",
       "<p>5 rows × 53 columns</p>\n",
       "</div>"
      ],
      "text/plain": [
       "            红细胞计数  白细胞计数  红细胞压积   球蛋白  平均血红蛋白浓度  单核细胞(#)  乳酸脱氢酶    尿素  \\\n",
       "PATIENT_ID                                                              \n",
       "1            4.05   9.67   38.0  30.1     345.0     0.76  206.0  6.50   \n",
       "2            4.63  10.37   43.6  33.2     342.0     0.59  282.0  3.50   \n",
       "3            3.78   7.68   35.7  29.8     353.0     0.47  226.0  4.22   \n",
       "4            2.63   6.78   29.8  31.9     346.0     0.58  249.0  3.60   \n",
       "5            4.34   7.95   37.9  30.8     343.0     0.59  179.0  3.00   \n",
       "\n",
       "            淋巴细胞(#)  γ-谷氨酰转肽酶  ...  凝血酶原活动度    葡萄糖  RBC分布宽度SD  RBC分布宽度CV  \\\n",
       "PATIENT_ID                     ...                                         \n",
       "1              2.50      41.0  ...    115.0   6.75       41.5       11.9   \n",
       "2              0.95      50.0  ...    117.0  11.32       44.1       13.1   \n",
       "3              2.10      53.0  ...     94.0   9.42       42.7       12.6   \n",
       "4              1.12      14.0  ...     68.0   5.78       59.3       14.3   \n",
       "5              1.88      21.0  ...     83.0   4.84       39.4       12.4   \n",
       "\n",
       "            平均PLT体积  血小板压积  大血小板比率  PLT分布宽度  D-D二聚体定量  降钙素原  \n",
       "PATIENT_ID                                                   \n",
       "1              11.3   0.16    36.9     14.3      0.92  0.09  \n",
       "2               9.4   0.27    19.8     10.1      0.44  0.09  \n",
       "3               9.7   0.23    21.4     10.1      0.98  0.06  \n",
       "4               9.0   0.27    16.3      8.1      1.26  0.38  \n",
       "5              10.0   0.36    24.3     11.1      0.42  0.02  \n",
       "\n",
       "[5 rows x 53 columns]"
      ]
     },
     "execution_count": 110,
     "metadata": {},
     "output_type": "execute_result"
    }
   ],
   "source": [
    "blood_df = X_data_all_features\n",
    "blood_df.head()"
   ]
  },
  {
   "cell_type": "code",
   "execution_count": 111,
   "metadata": {},
   "outputs": [],
   "source": [
    "age_sex_df = china.loc[china.PATIENT_ID.isin(X_data_all_features.index)][['age','gender','outcome']]\n",
    "y = age_sex_df.outcome\n",
    "age_sex_df = age_sex_df.drop('outcome', axis =1)"
   ]
  },
  {
   "cell_type": "code",
   "execution_count": 112,
   "metadata": {},
   "outputs": [
    {
     "data": {
      "text/html": [
       "<div>\n",
       "<style scoped>\n",
       "    .dataframe tbody tr th:only-of-type {\n",
       "        vertical-align: middle;\n",
       "    }\n",
       "\n",
       "    .dataframe tbody tr th {\n",
       "        vertical-align: top;\n",
       "    }\n",
       "\n",
       "    .dataframe thead th {\n",
       "        text-align: right;\n",
       "    }\n",
       "</style>\n",
       "<table border=\"1\" class=\"dataframe\">\n",
       "  <thead>\n",
       "    <tr style=\"text-align: right;\">\n",
       "      <th></th>\n",
       "      <th>age</th>\n",
       "      <th>gender</th>\n",
       "    </tr>\n",
       "  </thead>\n",
       "  <tbody>\n",
       "    <tr>\n",
       "      <th>0</th>\n",
       "      <td>73</td>\n",
       "      <td>1</td>\n",
       "    </tr>\n",
       "    <tr>\n",
       "      <th>24</th>\n",
       "      <td>61</td>\n",
       "      <td>1</td>\n",
       "    </tr>\n",
       "    <tr>\n",
       "      <th>53</th>\n",
       "      <td>70</td>\n",
       "      <td>2</td>\n",
       "    </tr>\n",
       "    <tr>\n",
       "      <th>71</th>\n",
       "      <td>74</td>\n",
       "      <td>1</td>\n",
       "    </tr>\n",
       "    <tr>\n",
       "      <th>85</th>\n",
       "      <td>29</td>\n",
       "      <td>2</td>\n",
       "    </tr>\n",
       "  </tbody>\n",
       "</table>\n",
       "</div>"
      ],
      "text/plain": [
       "    age  gender\n",
       "0    73       1\n",
       "24   61       1\n",
       "53   70       2\n",
       "71   74       1\n",
       "85   29       2"
      ]
     },
     "execution_count": 112,
     "metadata": {},
     "output_type": "execute_result"
    }
   ],
   "source": [
    "age_sex_df.head()"
   ]
  },
  {
   "cell_type": "code",
   "execution_count": 113,
   "metadata": {},
   "outputs": [
    {
     "data": {
      "text/html": [
       "<div>\n",
       "<style scoped>\n",
       "    .dataframe tbody tr th:only-of-type {\n",
       "        vertical-align: middle;\n",
       "    }\n",
       "\n",
       "    .dataframe tbody tr th {\n",
       "        vertical-align: top;\n",
       "    }\n",
       "\n",
       "    .dataframe thead th {\n",
       "        text-align: right;\n",
       "    }\n",
       "</style>\n",
       "<table border=\"1\" class=\"dataframe\">\n",
       "  <thead>\n",
       "    <tr style=\"text-align: right;\">\n",
       "      <th></th>\n",
       "      <th>红细胞计数</th>\n",
       "      <th>白细胞计数</th>\n",
       "      <th>红细胞压积</th>\n",
       "      <th>球蛋白</th>\n",
       "      <th>平均血红蛋白浓度</th>\n",
       "      <th>单核细胞(#)</th>\n",
       "      <th>乳酸脱氢酶</th>\n",
       "      <th>尿素</th>\n",
       "      <th>淋巴细胞(#)</th>\n",
       "      <th>γ-谷氨酰转肽酶</th>\n",
       "      <th>...</th>\n",
       "      <th>凝血酶原活动度</th>\n",
       "      <th>葡萄糖</th>\n",
       "      <th>RBC分布宽度SD</th>\n",
       "      <th>RBC分布宽度CV</th>\n",
       "      <th>平均PLT体积</th>\n",
       "      <th>血小板压积</th>\n",
       "      <th>大血小板比率</th>\n",
       "      <th>PLT分布宽度</th>\n",
       "      <th>D-D二聚体定量</th>\n",
       "      <th>降钙素原</th>\n",
       "    </tr>\n",
       "    <tr>\n",
       "      <th>PATIENT_ID</th>\n",
       "      <th></th>\n",
       "      <th></th>\n",
       "      <th></th>\n",
       "      <th></th>\n",
       "      <th></th>\n",
       "      <th></th>\n",
       "      <th></th>\n",
       "      <th></th>\n",
       "      <th></th>\n",
       "      <th></th>\n",
       "      <th></th>\n",
       "      <th></th>\n",
       "      <th></th>\n",
       "      <th></th>\n",
       "      <th></th>\n",
       "      <th></th>\n",
       "      <th></th>\n",
       "      <th></th>\n",
       "      <th></th>\n",
       "      <th></th>\n",
       "      <th></th>\n",
       "    </tr>\n",
       "  </thead>\n",
       "  <tbody>\n",
       "    <tr>\n",
       "      <th>1</th>\n",
       "      <td>4.05</td>\n",
       "      <td>9.67</td>\n",
       "      <td>38.0</td>\n",
       "      <td>30.1</td>\n",
       "      <td>345.0</td>\n",
       "      <td>0.76</td>\n",
       "      <td>206.0</td>\n",
       "      <td>6.50</td>\n",
       "      <td>2.50</td>\n",
       "      <td>41.0</td>\n",
       "      <td>...</td>\n",
       "      <td>115.0</td>\n",
       "      <td>6.75</td>\n",
       "      <td>41.5</td>\n",
       "      <td>11.9</td>\n",
       "      <td>11.3</td>\n",
       "      <td>0.16</td>\n",
       "      <td>36.9</td>\n",
       "      <td>14.3</td>\n",
       "      <td>0.92</td>\n",
       "      <td>0.09</td>\n",
       "    </tr>\n",
       "    <tr>\n",
       "      <th>2</th>\n",
       "      <td>4.63</td>\n",
       "      <td>10.37</td>\n",
       "      <td>43.6</td>\n",
       "      <td>33.2</td>\n",
       "      <td>342.0</td>\n",
       "      <td>0.59</td>\n",
       "      <td>282.0</td>\n",
       "      <td>3.50</td>\n",
       "      <td>0.95</td>\n",
       "      <td>50.0</td>\n",
       "      <td>...</td>\n",
       "      <td>117.0</td>\n",
       "      <td>11.32</td>\n",
       "      <td>44.1</td>\n",
       "      <td>13.1</td>\n",
       "      <td>9.4</td>\n",
       "      <td>0.27</td>\n",
       "      <td>19.8</td>\n",
       "      <td>10.1</td>\n",
       "      <td>0.44</td>\n",
       "      <td>0.09</td>\n",
       "    </tr>\n",
       "    <tr>\n",
       "      <th>3</th>\n",
       "      <td>3.78</td>\n",
       "      <td>7.68</td>\n",
       "      <td>35.7</td>\n",
       "      <td>29.8</td>\n",
       "      <td>353.0</td>\n",
       "      <td>0.47</td>\n",
       "      <td>226.0</td>\n",
       "      <td>4.22</td>\n",
       "      <td>2.10</td>\n",
       "      <td>53.0</td>\n",
       "      <td>...</td>\n",
       "      <td>94.0</td>\n",
       "      <td>9.42</td>\n",
       "      <td>42.7</td>\n",
       "      <td>12.6</td>\n",
       "      <td>9.7</td>\n",
       "      <td>0.23</td>\n",
       "      <td>21.4</td>\n",
       "      <td>10.1</td>\n",
       "      <td>0.98</td>\n",
       "      <td>0.06</td>\n",
       "    </tr>\n",
       "    <tr>\n",
       "      <th>4</th>\n",
       "      <td>2.63</td>\n",
       "      <td>6.78</td>\n",
       "      <td>29.8</td>\n",
       "      <td>31.9</td>\n",
       "      <td>346.0</td>\n",
       "      <td>0.58</td>\n",
       "      <td>249.0</td>\n",
       "      <td>3.60</td>\n",
       "      <td>1.12</td>\n",
       "      <td>14.0</td>\n",
       "      <td>...</td>\n",
       "      <td>68.0</td>\n",
       "      <td>5.78</td>\n",
       "      <td>59.3</td>\n",
       "      <td>14.3</td>\n",
       "      <td>9.0</td>\n",
       "      <td>0.27</td>\n",
       "      <td>16.3</td>\n",
       "      <td>8.1</td>\n",
       "      <td>1.26</td>\n",
       "      <td>0.38</td>\n",
       "    </tr>\n",
       "    <tr>\n",
       "      <th>5</th>\n",
       "      <td>4.34</td>\n",
       "      <td>7.95</td>\n",
       "      <td>37.9</td>\n",
       "      <td>30.8</td>\n",
       "      <td>343.0</td>\n",
       "      <td>0.59</td>\n",
       "      <td>179.0</td>\n",
       "      <td>3.00</td>\n",
       "      <td>1.88</td>\n",
       "      <td>21.0</td>\n",
       "      <td>...</td>\n",
       "      <td>83.0</td>\n",
       "      <td>4.84</td>\n",
       "      <td>39.4</td>\n",
       "      <td>12.4</td>\n",
       "      <td>10.0</td>\n",
       "      <td>0.36</td>\n",
       "      <td>24.3</td>\n",
       "      <td>11.1</td>\n",
       "      <td>0.42</td>\n",
       "      <td>0.02</td>\n",
       "    </tr>\n",
       "    <tr>\n",
       "      <th>...</th>\n",
       "      <td>...</td>\n",
       "      <td>...</td>\n",
       "      <td>...</td>\n",
       "      <td>...</td>\n",
       "      <td>...</td>\n",
       "      <td>...</td>\n",
       "      <td>...</td>\n",
       "      <td>...</td>\n",
       "      <td>...</td>\n",
       "      <td>...</td>\n",
       "      <td>...</td>\n",
       "      <td>...</td>\n",
       "      <td>...</td>\n",
       "      <td>...</td>\n",
       "      <td>...</td>\n",
       "      <td>...</td>\n",
       "      <td>...</td>\n",
       "      <td>...</td>\n",
       "      <td>...</td>\n",
       "      <td>...</td>\n",
       "      <td>...</td>\n",
       "    </tr>\n",
       "    <tr>\n",
       "      <th>371</th>\n",
       "      <td>4.70</td>\n",
       "      <td>5.12</td>\n",
       "      <td>41.3</td>\n",
       "      <td>33.3</td>\n",
       "      <td>346.0</td>\n",
       "      <td>0.28</td>\n",
       "      <td>573.0</td>\n",
       "      <td>5.30</td>\n",
       "      <td>0.77</td>\n",
       "      <td>27.0</td>\n",
       "      <td>...</td>\n",
       "      <td>86.0</td>\n",
       "      <td>7.07</td>\n",
       "      <td>38.8</td>\n",
       "      <td>11.9</td>\n",
       "      <td>10.9</td>\n",
       "      <td>0.16</td>\n",
       "      <td>33.0</td>\n",
       "      <td>13.1</td>\n",
       "      <td>2.57</td>\n",
       "      <td>1.51</td>\n",
       "    </tr>\n",
       "    <tr>\n",
       "      <th>372</th>\n",
       "      <td>3.35</td>\n",
       "      <td>28.04</td>\n",
       "      <td>29.1</td>\n",
       "      <td>29.6</td>\n",
       "      <td>351.0</td>\n",
       "      <td>0.26</td>\n",
       "      <td>607.0</td>\n",
       "      <td>31.30</td>\n",
       "      <td>0.17</td>\n",
       "      <td>135.0</td>\n",
       "      <td>...</td>\n",
       "      <td>27.0</td>\n",
       "      <td>5.78</td>\n",
       "      <td>48.8</td>\n",
       "      <td>15.5</td>\n",
       "      <td>14.0</td>\n",
       "      <td>0.07</td>\n",
       "      <td>54.1</td>\n",
       "      <td>25.3</td>\n",
       "      <td>11.11</td>\n",
       "      <td>1.14</td>\n",
       "    </tr>\n",
       "    <tr>\n",
       "      <th>373</th>\n",
       "      <td>3.62</td>\n",
       "      <td>12.13</td>\n",
       "      <td>29.3</td>\n",
       "      <td>36.9</td>\n",
       "      <td>341.0</td>\n",
       "      <td>0.55</td>\n",
       "      <td>702.0</td>\n",
       "      <td>5.20</td>\n",
       "      <td>0.76</td>\n",
       "      <td>39.0</td>\n",
       "      <td>...</td>\n",
       "      <td>77.0</td>\n",
       "      <td>8.53</td>\n",
       "      <td>38.7</td>\n",
       "      <td>13.9</td>\n",
       "      <td>12.9</td>\n",
       "      <td>0.18</td>\n",
       "      <td>46.1</td>\n",
       "      <td>19.7</td>\n",
       "      <td>-1.00</td>\n",
       "      <td>0.56</td>\n",
       "    </tr>\n",
       "    <tr>\n",
       "      <th>374</th>\n",
       "      <td>3.94</td>\n",
       "      <td>14.49</td>\n",
       "      <td>34.7</td>\n",
       "      <td>30.1</td>\n",
       "      <td>349.0</td>\n",
       "      <td>0.42</td>\n",
       "      <td>1867.0</td>\n",
       "      <td>18.40</td>\n",
       "      <td>0.33</td>\n",
       "      <td>176.0</td>\n",
       "      <td>...</td>\n",
       "      <td>26.0</td>\n",
       "      <td>10.28</td>\n",
       "      <td>-1.0</td>\n",
       "      <td>-1.0</td>\n",
       "      <td>10.8</td>\n",
       "      <td>0.13</td>\n",
       "      <td>30.1</td>\n",
       "      <td>12.4</td>\n",
       "      <td>21.00</td>\n",
       "      <td>-1.00</td>\n",
       "    </tr>\n",
       "    <tr>\n",
       "      <th>375</th>\n",
       "      <td>4.91</td>\n",
       "      <td>8.25</td>\n",
       "      <td>47.7</td>\n",
       "      <td>27.7</td>\n",
       "      <td>325.0</td>\n",
       "      <td>0.08</td>\n",
       "      <td>783.0</td>\n",
       "      <td>9.80</td>\n",
       "      <td>0.55</td>\n",
       "      <td>33.0</td>\n",
       "      <td>...</td>\n",
       "      <td>56.0</td>\n",
       "      <td>11.27</td>\n",
       "      <td>46.9</td>\n",
       "      <td>13.1</td>\n",
       "      <td>10.7</td>\n",
       "      <td>0.24</td>\n",
       "      <td>29.5</td>\n",
       "      <td>12.4</td>\n",
       "      <td>21.00</td>\n",
       "      <td>2.69</td>\n",
       "    </tr>\n",
       "  </tbody>\n",
       "</table>\n",
       "<p>375 rows × 53 columns</p>\n",
       "</div>"
      ],
      "text/plain": [
       "            红细胞计数  白细胞计数  红细胞压积   球蛋白  平均血红蛋白浓度  单核细胞(#)   乳酸脱氢酶     尿素  \\\n",
       "PATIENT_ID                                                                \n",
       "1            4.05   9.67   38.0  30.1     345.0     0.76   206.0   6.50   \n",
       "2            4.63  10.37   43.6  33.2     342.0     0.59   282.0   3.50   \n",
       "3            3.78   7.68   35.7  29.8     353.0     0.47   226.0   4.22   \n",
       "4            2.63   6.78   29.8  31.9     346.0     0.58   249.0   3.60   \n",
       "5            4.34   7.95   37.9  30.8     343.0     0.59   179.0   3.00   \n",
       "...           ...    ...    ...   ...       ...      ...     ...    ...   \n",
       "371          4.70   5.12   41.3  33.3     346.0     0.28   573.0   5.30   \n",
       "372          3.35  28.04   29.1  29.6     351.0     0.26   607.0  31.30   \n",
       "373          3.62  12.13   29.3  36.9     341.0     0.55   702.0   5.20   \n",
       "374          3.94  14.49   34.7  30.1     349.0     0.42  1867.0  18.40   \n",
       "375          4.91   8.25   47.7  27.7     325.0     0.08   783.0   9.80   \n",
       "\n",
       "            淋巴细胞(#)  γ-谷氨酰转肽酶  ...  凝血酶原活动度    葡萄糖  RBC分布宽度SD  RBC分布宽度CV  \\\n",
       "PATIENT_ID                     ...                                         \n",
       "1              2.50      41.0  ...    115.0   6.75       41.5       11.9   \n",
       "2              0.95      50.0  ...    117.0  11.32       44.1       13.1   \n",
       "3              2.10      53.0  ...     94.0   9.42       42.7       12.6   \n",
       "4              1.12      14.0  ...     68.0   5.78       59.3       14.3   \n",
       "5              1.88      21.0  ...     83.0   4.84       39.4       12.4   \n",
       "...             ...       ...  ...      ...    ...        ...        ...   \n",
       "371            0.77      27.0  ...     86.0   7.07       38.8       11.9   \n",
       "372            0.17     135.0  ...     27.0   5.78       48.8       15.5   \n",
       "373            0.76      39.0  ...     77.0   8.53       38.7       13.9   \n",
       "374            0.33     176.0  ...     26.0  10.28       -1.0       -1.0   \n",
       "375            0.55      33.0  ...     56.0  11.27       46.9       13.1   \n",
       "\n",
       "            平均PLT体积  血小板压积  大血小板比率  PLT分布宽度  D-D二聚体定量  降钙素原  \n",
       "PATIENT_ID                                                   \n",
       "1              11.3   0.16    36.9     14.3      0.92  0.09  \n",
       "2               9.4   0.27    19.8     10.1      0.44  0.09  \n",
       "3               9.7   0.23    21.4     10.1      0.98  0.06  \n",
       "4               9.0   0.27    16.3      8.1      1.26  0.38  \n",
       "5              10.0   0.36    24.3     11.1      0.42  0.02  \n",
       "...             ...    ...     ...      ...       ...   ...  \n",
       "371            10.9   0.16    33.0     13.1      2.57  1.51  \n",
       "372            14.0   0.07    54.1     25.3     11.11  1.14  \n",
       "373            12.9   0.18    46.1     19.7     -1.00  0.56  \n",
       "374            10.8   0.13    30.1     12.4     21.00 -1.00  \n",
       "375            10.7   0.24    29.5     12.4     21.00  2.69  \n",
       "\n",
       "[375 rows x 53 columns]"
      ]
     },
     "execution_count": 113,
     "metadata": {},
     "output_type": "execute_result"
    }
   ],
   "source": [
    "blood_df"
   ]
  },
  {
   "cell_type": "code",
   "execution_count": 114,
   "metadata": {},
   "outputs": [],
   "source": [
    "age_sex_df_model = model.fit(age_sex_df, y)\n",
    "blood_model = model.fit(blood_df, y)"
   ]
  },
  {
   "cell_type": "code",
   "execution_count": 115,
   "metadata": {},
   "outputs": [
    {
     "data": {
      "text/plain": [
       "0.7271326079052155"
      ]
     },
     "execution_count": 115,
     "metadata": {},
     "output_type": "execute_result"
    }
   ],
   "source": [
    "cross_val_score(age_sex_df_model, age_sex_df, y, cv = 3, scoring='precision').mean()"
   ]
  },
  {
   "cell_type": "code",
   "execution_count": 116,
   "metadata": {},
   "outputs": [
    {
     "data": {
      "text/plain": [
       "0.948798328108673"
      ]
     },
     "execution_count": 116,
     "metadata": {},
     "output_type": "execute_result"
    }
   ],
   "source": [
    "cross_val_score(blood_model, blood_df, y, cv = 3, scoring='precision').mean()"
   ]
  }
 ],
 "metadata": {
  "kernelspec": {
   "display_name": "Python 3",
   "language": "python",
   "name": "python3"
  },
  "language_info": {
   "codemirror_mode": {
    "name": "ipython",
    "version": 3
   },
   "file_extension": ".py",
   "mimetype": "text/x-python",
   "name": "python",
   "nbconvert_exporter": "python",
   "pygments_lexer": "ipython3",
   "version": "3.8.5"
  }
 },
 "nbformat": 4,
 "nbformat_minor": 1
}
