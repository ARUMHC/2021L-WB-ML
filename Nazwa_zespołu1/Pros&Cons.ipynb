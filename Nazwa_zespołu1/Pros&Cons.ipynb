{
 "cells": [
  {
   "cell_type": "markdown",
   "metadata": {},
   "source": [
    "# Pros & Cons"
   ]
  },
  {
   "cell_type": "markdown",
   "metadata": {},
   "source": [
    "The article written by Chinese scientists presents an innovative perspective on the COVID-19 pandemic. Therefore many aspects that are included in their work are definitely worth appreciation. However, there are also a few limitations that were not fully coped with by the authors. Examples of both of these groups will be discussed in the following paragraphs."
   ]
  },
  {
   "cell_type": "markdown",
   "metadata": {},
   "source": [
    "<img src=\"Decision_tree.png\" width=\"400\">"
   ]
  },
  {
   "cell_type": "markdown",
   "metadata": {},
   "source": [
    "## Advantages "
   ]
  },
  {
   "cell_type": "markdown",
   "metadata": {},
   "source": [
    "The first and probably biggest advantage of the article is that it describes the whole machine learning process with great simplicity. Although it may seem that simplification in this area could lead to great damage to the scientific message of the article, the authors have done quite the opposite. Usage of straightforward explanations and foremostly guidance of the reader throughout gathering of the data, preparation of the model and finally careful explanations and conclusions enable many groups of people to read and understand the article. The scientists clearly stated reasons for their choice of the final variables and presented figures to support their arguments. On the other hand they included some information about their model that is typical for people familiar with data analysis and they also provided code that they produced. Hence, this article can be perceived as a great reading both for people with and without domain knowledge."
   ]
  },
  {
   "cell_type": "markdown",
   "metadata": {},
   "source": [
    "The second aspect that should be mentioned when discussing positive sides of the aforementioned article is clarity and interpretability of the final model. This is connected to the fact that the writers aimed to enable broader audience understanding of their findings. But what is more they proposed a solution that should be fully gathered and therefore eagerly used by the medics. This is especially important when this group of specialists need to fast classify a patient in order to appropriately treat him. Moreover such a simple decision tree seems trustworthy what is crucial when it comes to a group of specialists who are not eager to believe any black box model and doctors are definitely such a group."
   ]
  },
  {
   "cell_type": "markdown",
   "metadata": {},
   "source": [
    "## Disadvantages"
   ]
  },
  {
   "cell_type": "markdown",
   "metadata": {},
   "source": [
    "When it comes to disadvantages of the article the biggest one is mentioned by the authors in the  discussion part. They stated that there still is room for improvement since their research was based on the data from Wuhan were the coronavirus was born. And indeed the virus has mutated a few times since then and the same model can no longer be used to predict the severity of the disease. A proof that it has changed can be found in the article ‘Limited applicability of a COVID-19 specific mortality prediction rule to the intensive care setting’ by C. Dupuis, E. De Montmollin, M. Neuville, B. Mourvillier, S. Ruckly & J. F. Timsit where the authors claim that ‘the precision and accuracy of the decision rule were extremely low for the prediction of death’. Therefore it can be stated that the model proposed by the authors of the considered article was a great starting point for further research but should not be perceived a final solution to all machine learning projects concerning the COVID-19 issue."
   ]
  },
  {
   "cell_type": "markdown",
   "metadata": {},
   "source": [
    "The other minus of the article refers not to the work itself but rather to the methodology of the model preparation. The authors claim that the only difference between the train and test sets was the date of release of the patients. However closer examination of the data shows that the differences were much more significant. For example among critical patients from the train set the mortality rate was over 98%, while among critical patients in the test set it was below 41%. Apart from that the mortality rate in the whole train set was 46.4% while in the test set it was below 12%. Even though the model managed to cope with this disparity, the question for the reason of such trend in the data arises. The theoretical notion in such a baseline case would be not to use an imbalanced sets."
   ]
  },
  {
   "cell_type": "markdown",
   "metadata": {},
   "source": [
    "<img src=\"Sets.png\" width=\"900\">"
   ]
  },
  {
   "cell_type": "markdown",
   "metadata": {},
   "source": [
    "## Conclusion"
   ]
  },
  {
   "cell_type": "markdown",
   "metadata": {},
   "source": [
    "To sum up the pros and cons, the article is definitely a cornerstone in the usage of machine learning models in the coronavirus patients’ cases and shows how so mysterious, at least at that time, disease can be described with a very simple decision tree. On the other hand it has a few disadvantages but the most important of them are a normal consequence of being the first article of that kind. "
   ]
  },
  {
   "cell_type": "code",
   "execution_count": null,
   "metadata": {},
   "outputs": [],
   "source": []
  }
 ],
 "metadata": {
  "kernelspec": {
   "display_name": "Python 3",
   "language": "python",
   "name": "python3"
  },
  "language_info": {
   "codemirror_mode": {
    "name": "ipython",
    "version": 3
   },
   "file_extension": ".py",
   "mimetype": "text/x-python",
   "name": "python",
   "nbconvert_exporter": "python",
   "pygments_lexer": "ipython3",
   "version": "3.7.6"
  }
 },
 "nbformat": 4,
 "nbformat_minor": 4
}
